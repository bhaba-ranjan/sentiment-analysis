{
 "cells": [
  {
   "cell_type": "code",
   "execution_count": 121,
   "id": "173cbde0",
   "metadata": {},
   "outputs": [],
   "source": [
    "import pandas as pd"
   ]
  },
  {
   "cell_type": "code",
   "execution_count": 122,
   "id": "9e49396b",
   "metadata": {},
   "outputs": [],
   "source": [
    "import matplotlib.pyplot as plt"
   ]
  },
  {
   "cell_type": "code",
   "execution_count": 123,
   "id": "e7a9fdcc",
   "metadata": {},
   "outputs": [],
   "source": [
    "import numpy as np\n",
    "import string\n",
    "import re"
   ]
  },
  {
   "cell_type": "code",
   "execution_count": 124,
   "id": "3880692a",
   "metadata": {},
   "outputs": [],
   "source": [
    "train_data = pd.read_csv(\"train_data.csv\",names=[\"sentiments\", \"reviews\"])"
   ]
  },
  {
   "cell_type": "code",
   "execution_count": 125,
   "id": "5c00c589",
   "metadata": {},
   "outputs": [],
   "source": [
    "def basic_cleaning(data_frame):\n",
    "    data_frame['reviews'] = data_frame.reviews.apply(lambda review: review.lower())\n",
    "    data_frame['reviews'] = data_frame.reviews.apply(lambda review: review.translate(str.maketrans('', '', string.punctuation)))\n",
    "    data_frame['reviews'] = data_frame.reviews.apply(lambda review: review.translate(str.maketrans('', '', string.digits)))\n",
    "    data_frame['reviews'] = data_frame.reviews.apply(lambda review: re.sub(\"r[^a-z]\",'',review))"
   ]
  },
  {
   "cell_type": "code",
   "execution_count": 126,
   "id": "c7e046e0",
   "metadata": {},
   "outputs": [],
   "source": [
    "basic_cleaning(train_data)"
   ]
  },
  {
   "cell_type": "code",
   "execution_count": 127,
   "id": "68be92b0",
   "metadata": {},
   "outputs": [],
   "source": [
    "import nltk\n",
    "from nltk.tokenize import word_tokenize, sent_tokenize\n",
    "\n",
    "def tokenize_data(data_frame):\n",
    "    data_frame['words'] = data_frame.reviews.apply(lambda review: nltk.word_tokenize(review))"
   ]
  },
  {
   "cell_type": "code",
   "execution_count": 128,
   "id": "cc46b1d4",
   "metadata": {},
   "outputs": [],
   "source": [
    "tokenize_data(train_data)"
   ]
  },
  {
   "cell_type": "code",
   "execution_count": 129,
   "id": "666a90cd",
   "metadata": {},
   "outputs": [],
   "source": [
    "from nltk.corpus import stopwords\n",
    "stopwords = set(stopwords.words('english'))\n",
    "\n",
    "def remove_stopwords(list):\n",
    "    stop_words_removed = []\n",
    "    for i in list:\n",
    "        if i not in stopwords:\n",
    "            stop_words_removed.append(i)\n",
    "    return stop_words_removed\n",
    "\n"
   ]
  },
  {
   "cell_type": "code",
   "execution_count": 130,
   "id": "5074d375",
   "metadata": {},
   "outputs": [],
   "source": [
    "train_data['stop_words_cleaned'] = train_data.words.apply(lambda word_list: remove_stopwords(word_list))"
   ]
  },
  {
   "cell_type": "code",
   "execution_count": 131,
   "id": "8fc2ce2b",
   "metadata": {},
   "outputs": [],
   "source": [
    "# nltk.download('all')\n",
    "def tag_pos(list_of_words):\n",
    "    return nltk.pos_tag(list_of_words)"
   ]
  },
  {
   "cell_type": "code",
   "execution_count": 132,
   "id": "5c0dd626",
   "metadata": {},
   "outputs": [],
   "source": [
    "#extraction of lemma words after taggin with pos\n",
    "from nltk.stem import WordNetLemmatizer\n",
    "lemmatizer= WordNetLemmatizer()\n",
    "def find_lemma_word(word):\n",
    "    lemma_words=[]\n",
    "    words_with_pos = tag_pos(word)\n",
    "    for word in words_with_pos:\n",
    "        if word[1].startswith('NN'):\n",
    "            lemma_words.append(lemmatizer.lemmatize(word[0],pos='n'))\n",
    "        elif word[1].startswith('VB'):\n",
    "            lemma_words.append(lemmatizer.lemmatize(word[0],pos='v'))\n",
    "        elif word[1].startswith('JJ'):\n",
    "            lemma_words.append(lemmatizer.lemmatize(word[0],pos='a'))\n",
    "        elif word[1].startswith('RB'):\n",
    "            lemma_words.append(lemmatizer.lemmatize(word[0],pos='r'))\n",
    "        else:\n",
    "            lemma_words.append(word[0])\n",
    "            \n",
    "    return lemma_words"
   ]
  },
  {
   "cell_type": "code",
   "execution_count": 133,
   "id": "fc8a3f85",
   "metadata": {},
   "outputs": [],
   "source": [
    "train_data['lemma_word'] = train_data.stop_words_cleaned.apply(lambda word_list: find_lemma_word(word_list))"
   ]
  },
  {
   "cell_type": "code",
   "execution_count": 134,
   "id": "57f99f14",
   "metadata": {},
   "outputs": [],
   "source": [
    "train_data['cleaned_review'] = train_data.lemma_word.apply(lambda review_list: \" \".join(review_list))"
   ]
  },
  {
   "cell_type": "code",
   "execution_count": 178,
   "id": "058b1f41",
   "metadata": {},
   "outputs": [],
   "source": [
    "from sklearn.model_selection import train_test_split\n",
    "train_review, test_review, train_sentiment, test_sentiment =train_test_split(train_data.cleaned_review,train_data.sentiments,shuffle=True,random_state=0,stratify=train_data.sentiments,train_size=.90)"
   ]
  },
  {
   "cell_type": "code",
   "execution_count": 179,
   "id": "76a12ab7",
   "metadata": {},
   "outputs": [],
   "source": [
    "from sklearn.feature_extraction.text import CountVectorizer\n",
    "count_vectorizer = CountVectorizer()"
   ]
  },
  {
   "cell_type": "code",
   "execution_count": 180,
   "id": "c1eac9bd",
   "metadata": {},
   "outputs": [],
   "source": [
    "initial_features = count_vectorizer.fit_transform(train_review)"
   ]
  },
  {
   "cell_type": "code",
   "execution_count": 181,
   "id": "a837b962",
   "metadata": {},
   "outputs": [],
   "source": [
    "inital_feat_array = initial_features.toarray()"
   ]
  },
  {
   "cell_type": "code",
   "execution_count": 138,
   "id": "cd7912f0",
   "metadata": {},
   "outputs": [],
   "source": [
    "count_vectorizer_top_features = CountVectorizer(max_features=int(len(count_vectorizer.vocabulary_)*.25))"
   ]
  },
  {
   "cell_type": "code",
   "execution_count": 182,
   "id": "23616914",
   "metadata": {},
   "outputs": [],
   "source": [
    "selected_feature_matrix = count_vectorizer_top_features.fit_transform(train_review)"
   ]
  },
  {
   "cell_type": "code",
   "execution_count": 183,
   "id": "a95ea829",
   "metadata": {},
   "outputs": [],
   "source": [
    "selected_feature_array = selected_feature_matrix.toarray()"
   ]
  },
  {
   "cell_type": "code",
   "execution_count": 184,
   "id": "c9121bbf",
   "metadata": {},
   "outputs": [],
   "source": [
    "df = pd.DataFrame(selected_feature_array,columns=count_vectorizer_top_features.get_feature_names_out())"
   ]
  },
  {
   "cell_type": "code",
   "execution_count": 185,
   "id": "abd821da",
   "metadata": {},
   "outputs": [],
   "source": [
    "df['sentiments'] = np.array(train_sentiment)"
   ]
  },
  {
   "cell_type": "code",
   "execution_count": 190,
   "id": "e937f37b",
   "metadata": {},
   "outputs": [
    {
     "data": {
      "text/plain": [
       "'sentiments'"
      ]
     },
     "execution_count": 190,
     "metadata": {},
     "output_type": "execute_result"
    }
   ],
   "source": [
    "arr = []\n",
    "for i in df.columns.values:\n",
    "    arr.append(i)\n",
    "arr[13810]"
   ]
  },
  {
   "cell_type": "code",
   "execution_count": 191,
   "id": "e6b0d842",
   "metadata": {},
   "outputs": [
    {
     "name": "stdout",
     "output_type": "stream",
     "text": [
      "13811\n"
     ]
    },
    {
     "data": {
      "text/plain": [
       "13810"
      ]
     },
     "execution_count": 191,
     "metadata": {},
     "output_type": "execute_result"
    }
   ],
   "source": [
    "print(len(arr))\n",
    "arr.remove('sentiments')\n",
    "len(arr)"
   ]
  },
  {
   "cell_type": "code",
   "execution_count": 193,
   "id": "64c848c9",
   "metadata": {},
   "outputs": [
    {
     "data": {
      "text/html": [
       "<div>\n",
       "<style scoped>\n",
       "    .dataframe tbody tr th:only-of-type {\n",
       "        vertical-align: middle;\n",
       "    }\n",
       "\n",
       "    .dataframe tbody tr th {\n",
       "        vertical-align: top;\n",
       "    }\n",
       "\n",
       "    .dataframe thead th {\n",
       "        text-align: right;\n",
       "    }\n",
       "</style>\n",
       "<table border=\"1\" class=\"dataframe\">\n",
       "  <thead>\n",
       "    <tr style=\"text-align: right;\">\n",
       "      <th></th>\n",
       "      <th>feature_variable</th>\n",
       "    </tr>\n",
       "  </thead>\n",
       "  <tbody>\n",
       "    <tr>\n",
       "      <th>0</th>\n",
       "      <td>aa</td>\n",
       "    </tr>\n",
       "    <tr>\n",
       "      <th>1</th>\n",
       "      <td>aaa</td>\n",
       "    </tr>\n",
       "    <tr>\n",
       "      <th>2</th>\n",
       "      <td>aaron</td>\n",
       "    </tr>\n",
       "    <tr>\n",
       "      <th>3</th>\n",
       "      <td>ab</td>\n",
       "    </tr>\n",
       "    <tr>\n",
       "      <th>4</th>\n",
       "      <td>aback</td>\n",
       "    </tr>\n",
       "    <tr>\n",
       "      <th>...</th>\n",
       "      <td>...</td>\n",
       "    </tr>\n",
       "    <tr>\n",
       "      <th>13805</th>\n",
       "      <td>zombie</td>\n",
       "    </tr>\n",
       "    <tr>\n",
       "      <th>13806</th>\n",
       "      <td>zone</td>\n",
       "    </tr>\n",
       "    <tr>\n",
       "      <th>13807</th>\n",
       "      <td>zoo</td>\n",
       "    </tr>\n",
       "    <tr>\n",
       "      <th>13808</th>\n",
       "      <td>zucchini</td>\n",
       "    </tr>\n",
       "    <tr>\n",
       "      <th>13809</th>\n",
       "      <td>zumba</td>\n",
       "    </tr>\n",
       "  </tbody>\n",
       "</table>\n",
       "<p>13810 rows × 1 columns</p>\n",
       "</div>"
      ],
      "text/plain": [
       "      feature_variable\n",
       "0                   aa\n",
       "1                  aaa\n",
       "2                aaron\n",
       "3                   ab\n",
       "4                aback\n",
       "...                ...\n",
       "13805           zombie\n",
       "13806             zone\n",
       "13807              zoo\n",
       "13808         zucchini\n",
       "13809            zumba\n",
       "\n",
       "[13810 rows x 1 columns]"
      ]
     },
     "execution_count": 193,
     "metadata": {},
     "output_type": "execute_result"
    }
   ],
   "source": [
    "df_prep_chi_table = pd.DataFrame(arr, columns=['feature_variable'])\n",
    "df_prep_chi_table"
   ]
  },
  {
   "cell_type": "code",
   "execution_count": 194,
   "id": "6e3f15d8",
   "metadata": {},
   "outputs": [],
   "source": [
    "df_prep_chi_table['-1'] = df_prep_chi_table.feature_variable.apply(lambda feat: df.loc[df['sentiments']== -1, feat].sum())\n"
   ]
  },
  {
   "cell_type": "code",
   "execution_count": 195,
   "id": "f5f4b648",
   "metadata": {},
   "outputs": [],
   "source": [
    "df_prep_chi_table['+1'] = df_prep_chi_table.feature_variable.apply(lambda feat: df.loc[df['sentiments']== 1, feat].sum())\n",
    "\n"
   ]
  },
  {
   "cell_type": "code",
   "execution_count": 196,
   "id": "67f8fd58",
   "metadata": {},
   "outputs": [],
   "source": [
    "total_sum = df_prep_chi_table['+1'].sum()+df_prep_chi_table['-1'].sum()"
   ]
  },
  {
   "cell_type": "code",
   "execution_count": 197,
   "id": "227ac6cc",
   "metadata": {},
   "outputs": [],
   "source": [
    "df_prep_chi_table['sum_total'] = df_prep_chi_table['+1']+df_prep_chi_table['-1']"
   ]
  },
  {
   "cell_type": "code",
   "execution_count": 198,
   "id": "5fef82af",
   "metadata": {},
   "outputs": [
    {
     "data": {
      "text/html": [
       "<div>\n",
       "<style scoped>\n",
       "    .dataframe tbody tr th:only-of-type {\n",
       "        vertical-align: middle;\n",
       "    }\n",
       "\n",
       "    .dataframe tbody tr th {\n",
       "        vertical-align: top;\n",
       "    }\n",
       "\n",
       "    .dataframe thead th {\n",
       "        text-align: right;\n",
       "    }\n",
       "</style>\n",
       "<table border=\"1\" class=\"dataframe\">\n",
       "  <thead>\n",
       "    <tr style=\"text-align: right;\">\n",
       "      <th></th>\n",
       "      <th>feature_variable</th>\n",
       "      <th>-1</th>\n",
       "      <th>+1</th>\n",
       "      <th>sum_total</th>\n",
       "    </tr>\n",
       "  </thead>\n",
       "  <tbody>\n",
       "    <tr>\n",
       "      <th>0</th>\n",
       "      <td>aa</td>\n",
       "      <td>2</td>\n",
       "      <td>2</td>\n",
       "      <td>4</td>\n",
       "    </tr>\n",
       "    <tr>\n",
       "      <th>1</th>\n",
       "      <td>aaa</td>\n",
       "      <td>7</td>\n",
       "      <td>12</td>\n",
       "      <td>19</td>\n",
       "    </tr>\n",
       "    <tr>\n",
       "      <th>2</th>\n",
       "      <td>aaron</td>\n",
       "      <td>3</td>\n",
       "      <td>5</td>\n",
       "      <td>8</td>\n",
       "    </tr>\n",
       "    <tr>\n",
       "      <th>3</th>\n",
       "      <td>ab</td>\n",
       "      <td>3</td>\n",
       "      <td>2</td>\n",
       "      <td>5</td>\n",
       "    </tr>\n",
       "    <tr>\n",
       "      <th>4</th>\n",
       "      <td>aback</td>\n",
       "      <td>8</td>\n",
       "      <td>3</td>\n",
       "      <td>11</td>\n",
       "    </tr>\n",
       "    <tr>\n",
       "      <th>...</th>\n",
       "      <td>...</td>\n",
       "      <td>...</td>\n",
       "      <td>...</td>\n",
       "      <td>...</td>\n",
       "    </tr>\n",
       "    <tr>\n",
       "      <th>13805</th>\n",
       "      <td>zombie</td>\n",
       "      <td>9</td>\n",
       "      <td>8</td>\n",
       "      <td>17</td>\n",
       "    </tr>\n",
       "    <tr>\n",
       "      <th>13806</th>\n",
       "      <td>zone</td>\n",
       "      <td>13</td>\n",
       "      <td>11</td>\n",
       "      <td>24</td>\n",
       "    </tr>\n",
       "    <tr>\n",
       "      <th>13807</th>\n",
       "      <td>zoo</td>\n",
       "      <td>70</td>\n",
       "      <td>150</td>\n",
       "      <td>220</td>\n",
       "    </tr>\n",
       "    <tr>\n",
       "      <th>13808</th>\n",
       "      <td>zucchini</td>\n",
       "      <td>27</td>\n",
       "      <td>17</td>\n",
       "      <td>44</td>\n",
       "    </tr>\n",
       "    <tr>\n",
       "      <th>13809</th>\n",
       "      <td>zumba</td>\n",
       "      <td>2</td>\n",
       "      <td>3</td>\n",
       "      <td>5</td>\n",
       "    </tr>\n",
       "  </tbody>\n",
       "</table>\n",
       "<p>13810 rows × 4 columns</p>\n",
       "</div>"
      ],
      "text/plain": [
       "      feature_variable  -1   +1  sum_total\n",
       "0                   aa   2    2          4\n",
       "1                  aaa   7   12         19\n",
       "2                aaron   3    5          8\n",
       "3                   ab   3    2          5\n",
       "4                aback   8    3         11\n",
       "...                ...  ..  ...        ...\n",
       "13805           zombie   9    8         17\n",
       "13806             zone  13   11         24\n",
       "13807              zoo  70  150        220\n",
       "13808         zucchini  27   17         44\n",
       "13809            zumba   2    3          5\n",
       "\n",
       "[13810 rows x 4 columns]"
      ]
     },
     "execution_count": 198,
     "metadata": {},
     "output_type": "execute_result"
    }
   ],
   "source": [
    "df_prep_chi_table"
   ]
  },
  {
   "cell_type": "code",
   "execution_count": null,
   "id": "9e8d97de",
   "metadata": {},
   "outputs": [],
   "source": []
  },
  {
   "cell_type": "code",
   "execution_count": null,
   "id": "3cd0d2c7",
   "metadata": {},
   "outputs": [],
   "source": []
  },
  {
   "cell_type": "code",
   "execution_count": null,
   "id": "765788e6",
   "metadata": {},
   "outputs": [],
   "source": []
  },
  {
   "cell_type": "code",
   "execution_count": null,
   "id": "865ece56",
   "metadata": {},
   "outputs": [],
   "source": []
  },
  {
   "cell_type": "code",
   "execution_count": null,
   "id": "77004b1e",
   "metadata": {},
   "outputs": [],
   "source": []
  },
  {
   "cell_type": "code",
   "execution_count": null,
   "id": "0fb86e39",
   "metadata": {},
   "outputs": [],
   "source": []
  },
  {
   "cell_type": "code",
   "execution_count": null,
   "id": "b16774d2",
   "metadata": {},
   "outputs": [],
   "source": []
  },
  {
   "cell_type": "code",
   "execution_count": null,
   "id": "5987bd63",
   "metadata": {},
   "outputs": [],
   "source": []
  },
  {
   "cell_type": "code",
   "execution_count": null,
   "id": "2ced4378",
   "metadata": {},
   "outputs": [],
   "source": []
  },
  {
   "cell_type": "code",
   "execution_count": 199,
   "id": "b1259585",
   "metadata": {},
   "outputs": [],
   "source": [
    "array_neg_sentiment = np.array(df_prep_chi_table['-1'])"
   ]
  },
  {
   "cell_type": "code",
   "execution_count": 200,
   "id": "2e626056",
   "metadata": {},
   "outputs": [],
   "source": [
    "array_pos_sentiment = np.array(df_prep_chi_table['+1'])"
   ]
  },
  {
   "cell_type": "code",
   "execution_count": 201,
   "id": "3c86f7e1",
   "metadata": {},
   "outputs": [],
   "source": [
    "array_row_sum = np.array(df_prep_chi_table['sum_total'])"
   ]
  },
  {
   "cell_type": "code",
   "execution_count": 202,
   "id": "cb2ebb6c",
   "metadata": {},
   "outputs": [],
   "source": [
    "def calculate_expected_val(x ,y ,row_total, x_total, y_total, sum_total):\n",
    "    exp_x=[]\n",
    "    exp_y=[]\n",
    "    for i in range(0,len(x)):\n",
    "        exp_x.append(row_total[i]*x_total/sum_total)\n",
    "        exp_y.append(row_total[i]*y_total/sum_total)\n",
    "    return exp_x,exp_y"
   ]
  },
  {
   "cell_type": "code",
   "execution_count": 203,
   "id": "db802fe9",
   "metadata": {},
   "outputs": [],
   "source": [
    "neg_col_sum = df_prep_chi_table['-1'].sum()\n",
    "pos_col_sum = df_prep_chi_table['+1'].sum()\n",
    "e_neg,e_pos = calculate_expected_val(array_neg_sentiment, array_pos_sentiment, array_row_sum,neg_col_sum ,pos_col_sum, total_sum)\n"
   ]
  },
  {
   "cell_type": "code",
   "execution_count": 204,
   "id": "21829577",
   "metadata": {},
   "outputs": [],
   "source": [
    "df_exp = pd.DataFrame()"
   ]
  },
  {
   "cell_type": "code",
   "execution_count": 205,
   "id": "a2f83fdc",
   "metadata": {},
   "outputs": [],
   "source": [
    "df_exp['+1'] = e_pos\n",
    "df_exp['-1'] = e_neg\n",
    "df_chi_value = pd.DataFrame()"
   ]
  },
  {
   "cell_type": "code",
   "execution_count": 206,
   "id": "4c4c1a6e",
   "metadata": {},
   "outputs": [],
   "source": [
    "df_chi_value['-1'] = ((df_prep_chi_table['-1']- df_exp['-1'])**2)/total_sum"
   ]
  },
  {
   "cell_type": "code",
   "execution_count": 207,
   "id": "d966ea74",
   "metadata": {},
   "outputs": [],
   "source": [
    "df_chi_value['+1'] = ((df_prep_chi_table['+1']- df_exp['+1'])**2)/total_sum"
   ]
  },
  {
   "cell_type": "code",
   "execution_count": 208,
   "id": "7727387e",
   "metadata": {},
   "outputs": [
    {
     "data": {
      "text/html": [
       "<div>\n",
       "<style scoped>\n",
       "    .dataframe tbody tr th:only-of-type {\n",
       "        vertical-align: middle;\n",
       "    }\n",
       "\n",
       "    .dataframe tbody tr th {\n",
       "        vertical-align: top;\n",
       "    }\n",
       "\n",
       "    .dataframe thead th {\n",
       "        text-align: right;\n",
       "    }\n",
       "</style>\n",
       "<table border=\"1\" class=\"dataframe\">\n",
       "  <thead>\n",
       "    <tr style=\"text-align: right;\">\n",
       "      <th></th>\n",
       "      <th>-1</th>\n",
       "      <th>+1</th>\n",
       "    </tr>\n",
       "  </thead>\n",
       "  <tbody>\n",
       "    <tr>\n",
       "      <th>0</th>\n",
       "      <td>8.735133e-08</td>\n",
       "      <td>8.735133e-08</td>\n",
       "    </tr>\n",
       "    <tr>\n",
       "      <th>1</th>\n",
       "      <td>1.591158e-05</td>\n",
       "      <td>1.591158e-05</td>\n",
       "    </tr>\n",
       "    <tr>\n",
       "      <th>2</th>\n",
       "      <td>2.641041e-06</td>\n",
       "      <td>2.641041e-06</td>\n",
       "    </tr>\n",
       "    <tr>\n",
       "      <th>3</th>\n",
       "      <td>2.177710e-08</td>\n",
       "      <td>2.177710e-08</td>\n",
       "    </tr>\n",
       "    <tr>\n",
       "      <th>4</th>\n",
       "      <td>3.141002e-06</td>\n",
       "      <td>3.141002e-06</td>\n",
       "    </tr>\n",
       "    <tr>\n",
       "      <th>...</th>\n",
       "      <td>...</td>\n",
       "      <td>...</td>\n",
       "    </tr>\n",
       "    <tr>\n",
       "      <th>13805</th>\n",
       "      <td>5.462497e-07</td>\n",
       "      <td>5.462497e-07</td>\n",
       "    </tr>\n",
       "    <tr>\n",
       "      <th>13806</th>\n",
       "      <td>5.465538e-07</td>\n",
       "      <td>5.465538e-07</td>\n",
       "    </tr>\n",
       "    <tr>\n",
       "      <th>13807</th>\n",
       "      <td>3.319638e-03</td>\n",
       "      <td>3.319638e-03</td>\n",
       "    </tr>\n",
       "    <tr>\n",
       "      <th>13808</th>\n",
       "      <td>3.682697e-06</td>\n",
       "      <td>3.682697e-06</td>\n",
       "    </tr>\n",
       "    <tr>\n",
       "      <th>13809</th>\n",
       "      <td>7.857974e-07</td>\n",
       "      <td>7.857974e-07</td>\n",
       "    </tr>\n",
       "  </tbody>\n",
       "</table>\n",
       "<p>13810 rows × 2 columns</p>\n",
       "</div>"
      ],
      "text/plain": [
       "                 -1            +1\n",
       "0      8.735133e-08  8.735133e-08\n",
       "1      1.591158e-05  1.591158e-05\n",
       "2      2.641041e-06  2.641041e-06\n",
       "3      2.177710e-08  2.177710e-08\n",
       "4      3.141002e-06  3.141002e-06\n",
       "...             ...           ...\n",
       "13805  5.462497e-07  5.462497e-07\n",
       "13806  5.465538e-07  5.465538e-07\n",
       "13807  3.319638e-03  3.319638e-03\n",
       "13808  3.682697e-06  3.682697e-06\n",
       "13809  7.857974e-07  7.857974e-07\n",
       "\n",
       "[13810 rows x 2 columns]"
      ]
     },
     "execution_count": 208,
     "metadata": {},
     "output_type": "execute_result"
    }
   ],
   "source": [
    "df_chi_value"
   ]
  },
  {
   "cell_type": "code",
   "execution_count": 220,
   "id": "97d3cbd1",
   "metadata": {},
   "outputs": [],
   "source": [
    "max_chi_val = []\n",
    "for row in df_chi_value.itertuples():\n",
    "    max_chi_val.append(max(row[1],row[2]))"
   ]
  },
  {
   "cell_type": "code",
   "execution_count": 221,
   "id": "e634a1b7",
   "metadata": {},
   "outputs": [],
   "source": [
    "df_chi_value['max_chi'] = max_chi_val"
   ]
  },
  {
   "cell_type": "code",
   "execution_count": 225,
   "id": "ec5b0665",
   "metadata": {},
   "outputs": [
    {
     "data": {
      "text/plain": [
       "(16200, 13810)"
      ]
     },
     "execution_count": 225,
     "metadata": {},
     "output_type": "execute_result"
    }
   ],
   "source": [
    "selected_feature_array.shape"
   ]
  },
  {
   "cell_type": "code",
   "execution_count": 234,
   "id": "e8dc5a80",
   "metadata": {},
   "outputs": [
    {
     "data": {
      "text/plain": [
       "array([ 1,  1, -1, ..., -1, -1, -1])"
      ]
     },
     "execution_count": 234,
     "metadata": {},
     "output_type": "execute_result"
    }
   ],
   "source": [
    "ts = np.array(train_sentiment)\n",
    "ts"
   ]
  },
  {
   "cell_type": "code",
   "execution_count": 235,
   "id": "a2901925",
   "metadata": {},
   "outputs": [],
   "source": [
    "pos_weight = np.array(df_chi_value['+1'])\n",
    "neg_weight = np.array(df_chi_value['-1'])\n",
    "mx_weight = np.array(df_chi_value['max_chi'])\n",
    "weighted_feat_array = []\n",
    "for i in range(0, len(train_sentiment)):\n",
    "    if ts[i] == 1:\n",
    "        weighted_feat_array.append(np.multiply(selected_feature_array[i],pos_weight))\n",
    "    else:\n",
    "        weighted_feat_array.append(np.multiply(selected_feature_array[i],neg_weight))"
   ]
  },
  {
   "cell_type": "code",
   "execution_count": null,
   "id": "20ee8786",
   "metadata": {},
   "outputs": [],
   "source": []
  },
  {
   "cell_type": "code",
   "execution_count": null,
   "id": "7de94766",
   "metadata": {},
   "outputs": [],
   "source": []
  }
 ],
 "metadata": {
  "kernelspec": {
   "display_name": "Python 3 (ipykernel)",
   "language": "python",
   "name": "python3"
  },
  "language_info": {
   "codemirror_mode": {
    "name": "ipython",
    "version": 3
   },
   "file_extension": ".py",
   "mimetype": "text/x-python",
   "name": "python",
   "nbconvert_exporter": "python",
   "pygments_lexer": "ipython3",
   "version": "3.7.8"
  }
 },
 "nbformat": 4,
 "nbformat_minor": 5
}
