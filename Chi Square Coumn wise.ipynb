{
 "cells": [
  {
   "cell_type": "code",
   "execution_count": 121,
   "id": "173cbde0",
   "metadata": {},
   "outputs": [],
   "source": [
    "import pandas as pd"
   ]
  },
  {
   "cell_type": "code",
   "execution_count": 122,
   "id": "9e49396b",
   "metadata": {},
   "outputs": [],
   "source": [
    "import matplotlib.pyplot as plt"
   ]
  },
  {
   "cell_type": "code",
   "execution_count": 123,
   "id": "e7a9fdcc",
   "metadata": {},
   "outputs": [],
   "source": [
    "import numpy as np\n",
    "import string\n",
    "import re"
   ]
  },
  {
   "cell_type": "code",
   "execution_count": 124,
   "id": "3880692a",
   "metadata": {},
   "outputs": [],
   "source": [
    "train_data = pd.read_csv(\"train_data.csv\",names=[\"sentiments\", \"reviews\"])"
   ]
  },
  {
   "cell_type": "code",
   "execution_count": 125,
   "id": "5c00c589",
   "metadata": {},
   "outputs": [],
   "source": [
    "def basic_cleaning(data_frame):\n",
    "    data_frame['reviews'] = data_frame.reviews.apply(lambda review: review.lower())\n",
    "    data_frame['reviews'] = data_frame.reviews.apply(lambda review: review.translate(str.maketrans('', '', string.punctuation)))\n",
    "    data_frame['reviews'] = data_frame.reviews.apply(lambda review: review.translate(str.maketrans('', '', string.digits)))\n",
    "    data_frame['reviews'] = data_frame.reviews.apply(lambda review: re.sub(\"r[^a-z]\",'',review))"
   ]
  },
  {
   "cell_type": "code",
   "execution_count": 126,
   "id": "c7e046e0",
   "metadata": {},
   "outputs": [],
   "source": [
    "basic_cleaning(train_data)"
   ]
  },
  {
   "cell_type": "code",
   "execution_count": 127,
   "id": "68be92b0",
   "metadata": {},
   "outputs": [],
   "source": [
    "import nltk\n",
    "from nltk.tokenize import word_tokenize, sent_tokenize\n",
    "\n",
    "def tokenize_data(data_frame):\n",
    "    data_frame['words'] = data_frame.reviews.apply(lambda review: nltk.word_tokenize(review))"
   ]
  },
  {
   "cell_type": "code",
   "execution_count": 128,
   "id": "cc46b1d4",
   "metadata": {},
   "outputs": [],
   "source": [
    "tokenize_data(train_data)"
   ]
  },
  {
   "cell_type": "code",
   "execution_count": 129,
   "id": "666a90cd",
   "metadata": {},
   "outputs": [],
   "source": [
    "from nltk.corpus import stopwords\n",
    "stopwords = set(stopwords.words('english'))\n",
    "\n",
    "def remove_stopwords(list):\n",
    "    stop_words_removed = []\n",
    "    for i in list:\n",
    "        if i not in stopwords:\n",
    "            stop_words_removed.append(i)\n",
    "    return stop_words_removed\n",
    "\n"
   ]
  },
  {
   "cell_type": "code",
   "execution_count": 130,
   "id": "5074d375",
   "metadata": {},
   "outputs": [],
   "source": [
    "train_data['stop_words_cleaned'] = train_data.words.apply(lambda word_list: remove_stopwords(word_list))"
   ]
  },
  {
   "cell_type": "code",
   "execution_count": 131,
   "id": "8fc2ce2b",
   "metadata": {},
   "outputs": [],
   "source": [
    "# nltk.download('all')\n",
    "def tag_pos(list_of_words):\n",
    "    return nltk.pos_tag(list_of_words)"
   ]
  },
  {
   "cell_type": "code",
   "execution_count": 132,
   "id": "5c0dd626",
   "metadata": {},
   "outputs": [],
   "source": [
    "#extraction of lemma words after taggin with pos\n",
    "from nltk.stem import WordNetLemmatizer\n",
    "lemmatizer= WordNetLemmatizer()\n",
    "def find_lemma_word(word):\n",
    "    lemma_words=[]\n",
    "    words_with_pos = tag_pos(word)\n",
    "    for word in words_with_pos:\n",
    "        if word[1].startswith('NN'):\n",
    "            lemma_words.append(lemmatizer.lemmatize(word[0],pos='n'))\n",
    "        elif word[1].startswith('VB'):\n",
    "            lemma_words.append(lemmatizer.lemmatize(word[0],pos='v'))\n",
    "        elif word[1].startswith('JJ'):\n",
    "            lemma_words.append(lemmatizer.lemmatize(word[0],pos='a'))\n",
    "        elif word[1].startswith('RB'):\n",
    "            lemma_words.append(lemmatizer.lemmatize(word[0],pos='r'))\n",
    "        else:\n",
    "            lemma_words.append(word[0])\n",
    "            \n",
    "    return lemma_words"
   ]
  },
  {
   "cell_type": "code",
   "execution_count": 133,
   "id": "fc8a3f85",
   "metadata": {},
   "outputs": [],
   "source": [
    "train_data['lemma_word'] = train_data.stop_words_cleaned.apply(lambda word_list: find_lemma_word(word_list))"
   ]
  },
  {
   "cell_type": "code",
   "execution_count": 134,
   "id": "57f99f14",
   "metadata": {},
   "outputs": [],
   "source": [
    "train_data['cleaned_review'] = train_data.lemma_word.apply(lambda review_list: \" \".join(review_list))"
   ]
  },
  {
   "cell_type": "code",
   "execution_count": 288,
   "id": "f14d99d3",
   "metadata": {},
   "outputs": [],
   "source": [
    "from sklearn.model_selection import train_test_split\n",
    "train_review, test_review, train_sentiment, test_sentiment =train_test_split(train_data.cleaned_review,train_data.sentiments,shuffle=True,random_state=0,stratify=train_data.sentiments,train_size=.90)"
   ]
  },
  {
   "cell_type": "code",
   "execution_count": 338,
   "id": "76a12ab7",
   "metadata": {},
   "outputs": [],
   "source": [
    "from sklearn.feature_extraction.text import TfidfVectorizer\n",
    "count_vectorizer = TfidfVectorizer(use_idf=False)"
   ]
  },
  {
   "cell_type": "code",
   "execution_count": 339,
   "id": "c1eac9bd",
   "metadata": {},
   "outputs": [],
   "source": [
    "initial_features = count_vectorizer.fit_transform(train_review)"
   ]
  },
  {
   "cell_type": "code",
   "execution_count": 340,
   "id": "a837b962",
   "metadata": {},
   "outputs": [],
   "source": [
    "inital_feat_array = initial_features.toarray()"
   ]
  },
  {
   "cell_type": "code",
   "execution_count": 447,
   "id": "cd7912f0",
   "metadata": {},
   "outputs": [],
   "source": [
    "count_vectorizer_top_features = TfidfVectorizer(max_features=int(len(count_vectorizer.vocabulary_)*.20))"
   ]
  },
  {
   "cell_type": "code",
   "execution_count": 448,
   "id": "23616914",
   "metadata": {},
   "outputs": [],
   "source": [
    "selected_feature_matrix = count_vectorizer_top_features.fit_transform(train_review)"
   ]
  },
  {
   "cell_type": "code",
   "execution_count": 449,
   "id": "a95ea829",
   "metadata": {},
   "outputs": [],
   "source": [
    "selected_feature_array = selected_feature_matrix.toarray()\n",
    "selected_test = count_vectorizer_top_features.transform(test_review)\n",
    "selected_test_features = selected_test.toarray()"
   ]
  },
  {
   "cell_type": "code",
   "execution_count": 450,
   "id": "c9121bbf",
   "metadata": {},
   "outputs": [],
   "source": [
    "df = pd.DataFrame(selected_feature_array,columns=count_vectorizer_top_features.get_feature_names_out())"
   ]
  },
  {
   "cell_type": "code",
   "execution_count": 451,
   "id": "abd821da",
   "metadata": {},
   "outputs": [],
   "source": [
    "df['sentiments'] = np.array(train_sentiment)"
   ]
  },
  {
   "cell_type": "code",
   "execution_count": 452,
   "id": "e937f37b",
   "metadata": {},
   "outputs": [],
   "source": [
    "arr = []\n",
    "for i in df.columns.values:\n",
    "    arr.append(i)\n"
   ]
  },
  {
   "cell_type": "code",
   "execution_count": 453,
   "id": "e6b0d842",
   "metadata": {},
   "outputs": [
    {
     "name": "stdout",
     "output_type": "stream",
     "text": [
      "17170\n"
     ]
    },
    {
     "data": {
      "text/plain": [
       "17169"
      ]
     },
     "execution_count": 453,
     "metadata": {},
     "output_type": "execute_result"
    }
   ],
   "source": [
    "print(len(arr))\n",
    "arr.remove('sentiments')\n",
    "len(arr)"
   ]
  },
  {
   "cell_type": "code",
   "execution_count": 454,
   "id": "64c848c9",
   "metadata": {},
   "outputs": [
    {
     "data": {
      "text/html": [
       "<div>\n",
       "<style scoped>\n",
       "    .dataframe tbody tr th:only-of-type {\n",
       "        vertical-align: middle;\n",
       "    }\n",
       "\n",
       "    .dataframe tbody tr th {\n",
       "        vertical-align: top;\n",
       "    }\n",
       "\n",
       "    .dataframe thead th {\n",
       "        text-align: right;\n",
       "    }\n",
       "</style>\n",
       "<table border=\"1\" class=\"dataframe\">\n",
       "  <thead>\n",
       "    <tr style=\"text-align: right;\">\n",
       "      <th></th>\n",
       "      <th>feature_variable</th>\n",
       "    </tr>\n",
       "  </thead>\n",
       "  <tbody>\n",
       "    <tr>\n",
       "      <th>0</th>\n",
       "      <td>aa</td>\n",
       "    </tr>\n",
       "    <tr>\n",
       "      <th>1</th>\n",
       "      <td>aaa</td>\n",
       "    </tr>\n",
       "    <tr>\n",
       "      <th>2</th>\n",
       "      <td>aabc</td>\n",
       "    </tr>\n",
       "    <tr>\n",
       "      <th>3</th>\n",
       "      <td>aaron</td>\n",
       "    </tr>\n",
       "    <tr>\n",
       "      <th>4</th>\n",
       "      <td>ab</td>\n",
       "    </tr>\n",
       "    <tr>\n",
       "      <th>...</th>\n",
       "      <td>...</td>\n",
       "    </tr>\n",
       "    <tr>\n",
       "      <th>17164</th>\n",
       "      <td>zone</td>\n",
       "    </tr>\n",
       "    <tr>\n",
       "      <th>17165</th>\n",
       "      <td>zoo</td>\n",
       "    </tr>\n",
       "    <tr>\n",
       "      <th>17166</th>\n",
       "      <td>zoolights</td>\n",
       "    </tr>\n",
       "    <tr>\n",
       "      <th>17167</th>\n",
       "      <td>zucchini</td>\n",
       "    </tr>\n",
       "    <tr>\n",
       "      <th>17168</th>\n",
       "      <td>zumba</td>\n",
       "    </tr>\n",
       "  </tbody>\n",
       "</table>\n",
       "<p>17169 rows × 1 columns</p>\n",
       "</div>"
      ],
      "text/plain": [
       "      feature_variable\n",
       "0                   aa\n",
       "1                  aaa\n",
       "2                 aabc\n",
       "3                aaron\n",
       "4                   ab\n",
       "...                ...\n",
       "17164             zone\n",
       "17165              zoo\n",
       "17166        zoolights\n",
       "17167         zucchini\n",
       "17168            zumba\n",
       "\n",
       "[17169 rows x 1 columns]"
      ]
     },
     "execution_count": 454,
     "metadata": {},
     "output_type": "execute_result"
    }
   ],
   "source": [
    "df_prep_chi_table = pd.DataFrame(arr, columns=['feature_variable'])\n",
    "df_prep_chi_table"
   ]
  },
  {
   "cell_type": "code",
   "execution_count": 455,
   "id": "6e3f15d8",
   "metadata": {},
   "outputs": [],
   "source": [
    "df_prep_chi_table['-1'] = df_prep_chi_table.feature_variable.apply(lambda feat: df.loc[df['sentiments']== -1, feat].sum())\n"
   ]
  },
  {
   "cell_type": "code",
   "execution_count": 456,
   "id": "f5f4b648",
   "metadata": {},
   "outputs": [],
   "source": [
    "df_prep_chi_table['+1'] = df_prep_chi_table.feature_variable.apply(lambda feat: df.loc[df['sentiments']== 1, feat].sum())\n",
    "\n"
   ]
  },
  {
   "cell_type": "code",
   "execution_count": 457,
   "id": "67f8fd58",
   "metadata": {},
   "outputs": [],
   "source": [
    "total_sum = df_prep_chi_table['+1'].sum()+df_prep_chi_table['-1'].sum()"
   ]
  },
  {
   "cell_type": "code",
   "execution_count": 458,
   "id": "227ac6cc",
   "metadata": {},
   "outputs": [],
   "source": [
    "df_prep_chi_table['sum_total'] = df_prep_chi_table['+1']+df_prep_chi_table['-1']"
   ]
  },
  {
   "cell_type": "code",
   "execution_count": 459,
   "id": "5fef82af",
   "metadata": {},
   "outputs": [
    {
     "data": {
      "text/html": [
       "<div>\n",
       "<style scoped>\n",
       "    .dataframe tbody tr th:only-of-type {\n",
       "        vertical-align: middle;\n",
       "    }\n",
       "\n",
       "    .dataframe tbody tr th {\n",
       "        vertical-align: top;\n",
       "    }\n",
       "\n",
       "    .dataframe thead th {\n",
       "        text-align: right;\n",
       "    }\n",
       "</style>\n",
       "<table border=\"1\" class=\"dataframe\">\n",
       "  <thead>\n",
       "    <tr style=\"text-align: right;\">\n",
       "      <th></th>\n",
       "      <th>feature_variable</th>\n",
       "      <th>-1</th>\n",
       "      <th>+1</th>\n",
       "      <th>sum_total</th>\n",
       "    </tr>\n",
       "  </thead>\n",
       "  <tbody>\n",
       "    <tr>\n",
       "      <th>0</th>\n",
       "      <td>aa</td>\n",
       "      <td>0.246167</td>\n",
       "      <td>0.350606</td>\n",
       "      <td>0.596773</td>\n",
       "    </tr>\n",
       "    <tr>\n",
       "      <th>1</th>\n",
       "      <td>aaa</td>\n",
       "      <td>1.075951</td>\n",
       "      <td>1.820034</td>\n",
       "      <td>2.895985</td>\n",
       "    </tr>\n",
       "    <tr>\n",
       "      <th>2</th>\n",
       "      <td>aabc</td>\n",
       "      <td>0.000000</td>\n",
       "      <td>0.690025</td>\n",
       "      <td>0.690025</td>\n",
       "    </tr>\n",
       "    <tr>\n",
       "      <th>3</th>\n",
       "      <td>aaron</td>\n",
       "      <td>0.560970</td>\n",
       "      <td>0.791112</td>\n",
       "      <td>1.352082</td>\n",
       "    </tr>\n",
       "    <tr>\n",
       "      <th>4</th>\n",
       "      <td>ab</td>\n",
       "      <td>0.457404</td>\n",
       "      <td>0.262222</td>\n",
       "      <td>0.719626</td>\n",
       "    </tr>\n",
       "    <tr>\n",
       "      <th>...</th>\n",
       "      <td>...</td>\n",
       "      <td>...</td>\n",
       "      <td>...</td>\n",
       "      <td>...</td>\n",
       "    </tr>\n",
       "    <tr>\n",
       "      <th>17164</th>\n",
       "      <td>zone</td>\n",
       "      <td>1.871241</td>\n",
       "      <td>1.406961</td>\n",
       "      <td>3.278202</td>\n",
       "    </tr>\n",
       "    <tr>\n",
       "      <th>17165</th>\n",
       "      <td>zoo</td>\n",
       "      <td>7.991906</td>\n",
       "      <td>18.400839</td>\n",
       "      <td>26.392746</td>\n",
       "    </tr>\n",
       "    <tr>\n",
       "      <th>17166</th>\n",
       "      <td>zoolights</td>\n",
       "      <td>0.090298</td>\n",
       "      <td>1.026537</td>\n",
       "      <td>1.116835</td>\n",
       "    </tr>\n",
       "    <tr>\n",
       "      <th>17167</th>\n",
       "      <td>zucchini</td>\n",
       "      <td>3.389400</td>\n",
       "      <td>2.782847</td>\n",
       "      <td>6.172247</td>\n",
       "    </tr>\n",
       "    <tr>\n",
       "      <th>17168</th>\n",
       "      <td>zumba</td>\n",
       "      <td>0.253359</td>\n",
       "      <td>0.744174</td>\n",
       "      <td>0.997533</td>\n",
       "    </tr>\n",
       "  </tbody>\n",
       "</table>\n",
       "<p>17169 rows × 4 columns</p>\n",
       "</div>"
      ],
      "text/plain": [
       "      feature_variable        -1         +1  sum_total\n",
       "0                   aa  0.246167   0.350606   0.596773\n",
       "1                  aaa  1.075951   1.820034   2.895985\n",
       "2                 aabc  0.000000   0.690025   0.690025\n",
       "3                aaron  0.560970   0.791112   1.352082\n",
       "4                   ab  0.457404   0.262222   0.719626\n",
       "...                ...       ...        ...        ...\n",
       "17164             zone  1.871241   1.406961   3.278202\n",
       "17165              zoo  7.991906  18.400839  26.392746\n",
       "17166        zoolights  0.090298   1.026537   1.116835\n",
       "17167         zucchini  3.389400   2.782847   6.172247\n",
       "17168            zumba  0.253359   0.744174   0.997533\n",
       "\n",
       "[17169 rows x 4 columns]"
      ]
     },
     "execution_count": 459,
     "metadata": {},
     "output_type": "execute_result"
    }
   ],
   "source": [
    "df_prep_chi_table"
   ]
  },
  {
   "cell_type": "code",
   "execution_count": null,
   "id": "9e8d97de",
   "metadata": {},
   "outputs": [],
   "source": []
  },
  {
   "cell_type": "code",
   "execution_count": null,
   "id": "3cd0d2c7",
   "metadata": {},
   "outputs": [],
   "source": []
  },
  {
   "cell_type": "code",
   "execution_count": null,
   "id": "765788e6",
   "metadata": {},
   "outputs": [],
   "source": []
  },
  {
   "cell_type": "code",
   "execution_count": null,
   "id": "865ece56",
   "metadata": {},
   "outputs": [],
   "source": []
  },
  {
   "cell_type": "code",
   "execution_count": null,
   "id": "77004b1e",
   "metadata": {},
   "outputs": [],
   "source": []
  },
  {
   "cell_type": "code",
   "execution_count": null,
   "id": "0fb86e39",
   "metadata": {},
   "outputs": [],
   "source": []
  },
  {
   "cell_type": "code",
   "execution_count": null,
   "id": "b16774d2",
   "metadata": {},
   "outputs": [],
   "source": []
  },
  {
   "cell_type": "code",
   "execution_count": null,
   "id": "5987bd63",
   "metadata": {},
   "outputs": [],
   "source": []
  },
  {
   "cell_type": "code",
   "execution_count": null,
   "id": "2ced4378",
   "metadata": {},
   "outputs": [],
   "source": []
  },
  {
   "cell_type": "code",
   "execution_count": 460,
   "id": "b1259585",
   "metadata": {},
   "outputs": [],
   "source": [
    "array_neg_sentiment = np.array(df_prep_chi_table['-1'])"
   ]
  },
  {
   "cell_type": "code",
   "execution_count": 461,
   "id": "2e626056",
   "metadata": {},
   "outputs": [],
   "source": [
    "array_pos_sentiment = np.array(df_prep_chi_table['+1'])"
   ]
  },
  {
   "cell_type": "code",
   "execution_count": 462,
   "id": "3c86f7e1",
   "metadata": {},
   "outputs": [],
   "source": [
    "array_row_sum = np.array(df_prep_chi_table['sum_total'])"
   ]
  },
  {
   "cell_type": "code",
   "execution_count": 463,
   "id": "cb2ebb6c",
   "metadata": {},
   "outputs": [],
   "source": [
    "def calculate_expected_val(x ,y ,row_total, x_total, y_total, sum_total):\n",
    "    exp_x=[]\n",
    "    exp_y=[]\n",
    "    for i in range(0,len(x)):\n",
    "        exp_x.append(row_total[i]*x_total/sum_total)\n",
    "        exp_y.append(row_total[i]*y_total/sum_total)\n",
    "    return exp_x,exp_y"
   ]
  },
  {
   "cell_type": "code",
   "execution_count": 464,
   "id": "db802fe9",
   "metadata": {},
   "outputs": [],
   "source": [
    "neg_col_sum = df_prep_chi_table['-1'].sum()\n",
    "pos_col_sum = df_prep_chi_table['+1'].sum()\n",
    "e_neg,e_pos = calculate_expected_val(array_neg_sentiment, array_pos_sentiment, array_row_sum,neg_col_sum ,pos_col_sum, total_sum)\n"
   ]
  },
  {
   "cell_type": "code",
   "execution_count": 465,
   "id": "21829577",
   "metadata": {},
   "outputs": [],
   "source": [
    "df_exp = pd.DataFrame()"
   ]
  },
  {
   "cell_type": "code",
   "execution_count": 466,
   "id": "a2f83fdc",
   "metadata": {},
   "outputs": [],
   "source": [
    "df_exp['+1'] = e_pos\n",
    "df_exp['-1'] = e_neg\n",
    "df_chi_value = pd.DataFrame()"
   ]
  },
  {
   "cell_type": "code",
   "execution_count": 467,
   "id": "4c4c1a6e",
   "metadata": {},
   "outputs": [],
   "source": [
    "df_chi_value['-1'] = ((df_prep_chi_table['-1']- df_exp['-1'])**2)/df_exp['-1']"
   ]
  },
  {
   "cell_type": "code",
   "execution_count": 468,
   "id": "59d9da64",
   "metadata": {},
   "outputs": [],
   "source": [
    "df_chi_value['+1'] = ((df_prep_chi_table['+1']- df_exp['+1'])**2)/df_exp['+1']"
   ]
  },
  {
   "cell_type": "code",
   "execution_count": 469,
   "id": "e5d668b1",
   "metadata": {},
   "outputs": [
    {
     "data": {
      "text/html": [
       "<div>\n",
       "<style scoped>\n",
       "    .dataframe tbody tr th:only-of-type {\n",
       "        vertical-align: middle;\n",
       "    }\n",
       "\n",
       "    .dataframe tbody tr th {\n",
       "        vertical-align: top;\n",
       "    }\n",
       "\n",
       "    .dataframe thead th {\n",
       "        text-align: right;\n",
       "    }\n",
       "</style>\n",
       "<table border=\"1\" class=\"dataframe\">\n",
       "  <thead>\n",
       "    <tr style=\"text-align: right;\">\n",
       "      <th></th>\n",
       "      <th>-1</th>\n",
       "      <th>+1</th>\n",
       "    </tr>\n",
       "  </thead>\n",
       "  <tbody>\n",
       "    <tr>\n",
       "      <th>0</th>\n",
       "      <td>0.015262</td>\n",
       "      <td>0.017127</td>\n",
       "    </tr>\n",
       "    <tr>\n",
       "      <th>1</th>\n",
       "      <td>0.135431</td>\n",
       "      <td>0.151978</td>\n",
       "    </tr>\n",
       "    <tr>\n",
       "      <th>2</th>\n",
       "      <td>0.364876</td>\n",
       "      <td>0.409455</td>\n",
       "    </tr>\n",
       "    <tr>\n",
       "      <th>3</th>\n",
       "      <td>0.033167</td>\n",
       "      <td>0.037220</td>\n",
       "    </tr>\n",
       "    <tr>\n",
       "      <th>4</th>\n",
       "      <td>0.015531</td>\n",
       "      <td>0.017429</td>\n",
       "    </tr>\n",
       "    <tr>\n",
       "      <th>...</th>\n",
       "      <td>...</td>\n",
       "      <td>...</td>\n",
       "    </tr>\n",
       "    <tr>\n",
       "      <th>17164</th>\n",
       "      <td>0.010950</td>\n",
       "      <td>0.012288</td>\n",
       "    </tr>\n",
       "    <tr>\n",
       "      <th>17165</th>\n",
       "      <td>2.548827</td>\n",
       "      <td>2.860236</td>\n",
       "    </tr>\n",
       "    <tr>\n",
       "      <th>17166</th>\n",
       "      <td>0.423777</td>\n",
       "      <td>0.475553</td>\n",
       "    </tr>\n",
       "    <tr>\n",
       "      <th>17167</th>\n",
       "      <td>0.004834</td>\n",
       "      <td>0.005424</td>\n",
       "    </tr>\n",
       "    <tr>\n",
       "      <th>17168</th>\n",
       "      <td>0.142456</td>\n",
       "      <td>0.159861</td>\n",
       "    </tr>\n",
       "  </tbody>\n",
       "</table>\n",
       "<p>17169 rows × 2 columns</p>\n",
       "</div>"
      ],
      "text/plain": [
       "             -1        +1\n",
       "0      0.015262  0.017127\n",
       "1      0.135431  0.151978\n",
       "2      0.364876  0.409455\n",
       "3      0.033167  0.037220\n",
       "4      0.015531  0.017429\n",
       "...         ...       ...\n",
       "17164  0.010950  0.012288\n",
       "17165  2.548827  2.860236\n",
       "17166  0.423777  0.475553\n",
       "17167  0.004834  0.005424\n",
       "17168  0.142456  0.159861\n",
       "\n",
       "[17169 rows x 2 columns]"
      ]
     },
     "execution_count": 469,
     "metadata": {},
     "output_type": "execute_result"
    }
   ],
   "source": [
    "df_chi_value"
   ]
  },
  {
   "cell_type": "code",
   "execution_count": 470,
   "id": "33b881c4",
   "metadata": {},
   "outputs": [],
   "source": [
    "max_chi_val = []\n",
    "for row in df_chi_value.itertuples():\n",
    "    max_chi_val.append(max(row[1],row[2]))"
   ]
  },
  {
   "cell_type": "code",
   "execution_count": 471,
   "id": "b19aeec1",
   "metadata": {},
   "outputs": [],
   "source": [
    "df_chi_value['max_chi'] = max_chi_val"
   ]
  },
  {
   "cell_type": "code",
   "execution_count": 472,
   "id": "2b3063f5",
   "metadata": {},
   "outputs": [
    {
     "data": {
      "text/plain": [
       "(16200, 17169)"
      ]
     },
     "execution_count": 472,
     "metadata": {},
     "output_type": "execute_result"
    }
   ],
   "source": [
    "selected_feature_array.shape"
   ]
  },
  {
   "cell_type": "code",
   "execution_count": 473,
   "id": "d752bf60",
   "metadata": {},
   "outputs": [
    {
     "data": {
      "text/plain": [
       "array([ 1,  1, -1, ..., -1, -1, -1])"
      ]
     },
     "execution_count": 473,
     "metadata": {},
     "output_type": "execute_result"
    }
   ],
   "source": [
    "ts = np.array(train_sentiment)\n",
    "ts"
   ]
  },
  {
   "cell_type": "code",
   "execution_count": 474,
   "id": "190128cd",
   "metadata": {},
   "outputs": [],
   "source": [
    "pos_weight = np.array(df_chi_value['+1'])\n",
    "neg_weight = np.array(df_chi_value['-1'])\n",
    "mx_weight = np.array(df_chi_value['max_chi'])\n",
    "\n",
    "def weighted_feature(selected_feature_array, sentiment):\n",
    "    weighted_feat_array = []\n",
    "    ts = np.array(sentiment)\n",
    "    for i in range(0, len(sentiment)):        \n",
    "        if ts[i] == 1:\n",
    "            weighted_feat_array.append(np.multiply(selected_feature_array[i],pos_weight))\n",
    "        else:\n",
    "            weighted_feat_array.append(np.multiply(selected_feature_array[i],neg_weight))\n",
    "    return weighted_feat_array"
   ]
  },
  {
   "cell_type": "code",
   "execution_count": 475,
   "id": "c10db5a9",
   "metadata": {},
   "outputs": [],
   "source": [
    "weighted_feature_train = weighted_feature(selected_feature_array, train_sentiment)\n"
   ]
  },
  {
   "cell_type": "code",
   "execution_count": 476,
   "id": "51d8020b",
   "metadata": {},
   "outputs": [],
   "source": [
    "weighted_feature_test = weighted_feature(selected_test_features, test_sentiment)"
   ]
  },
  {
   "cell_type": "code",
   "execution_count": 477,
   "id": "92380dcf",
   "metadata": {},
   "outputs": [
    {
     "data": {
      "text/plain": [
       "(17169,)"
      ]
     },
     "execution_count": 477,
     "metadata": {},
     "output_type": "execute_result"
    }
   ],
   "source": [
    "weighted_feature_train[0].shape"
   ]
  },
  {
   "cell_type": "code",
   "execution_count": 478,
   "id": "c450a273",
   "metadata": {
    "scrolled": true
   },
   "outputs": [
    {
     "name": "stdout",
     "output_type": "stream",
     "text": [
      "3\n",
      "0.7761111111111111\n",
      "4\n",
      "0.7766666666666666\n",
      "5\n",
      "0.7877777777777778\n",
      "6\n",
      "0.7883333333333333\n",
      "7\n",
      "0.7783333333333333\n",
      "8\n",
      "0.7911111111111111\n",
      "9\n",
      "0.7877777777777778\n",
      "10\n",
      "0.79\n",
      "11\n",
      "0.7894444444444444\n",
      "12\n",
      "0.7955555555555556\n",
      "13\n",
      "0.8\n",
      "14\n",
      "0.8033333333333333\n",
      "15\n",
      "0.8022222222222222\n",
      "16\n",
      "0.8061111111111111\n"
     ]
    }
   ],
   "source": [
    "from sklearn.neighbors import KNeighborsClassifier\n",
    "from sklearn import metrics\n",
    "track_precision=[]\n",
    "for i in range(3,17):\n",
    "    print(i)\n",
    "    classifer = KNeighborsClassifier(n_neighbors=i,n_jobs=3,weights='distance')\n",
    "    classifer.fit(weighted_feature_train, train_sentiment)\n",
    "    sentiments_predict = classifer.predict(weighted_feature_test)\n",
    "    score = metrics.accuracy_score(test_sentiment,sentiments_predict)\n",
    "    print(score)\n",
    "    track_precision.append(score)"
   ]
  },
  {
   "cell_type": "code",
   "execution_count": 479,
   "id": "56da029b",
   "metadata": {},
   "outputs": [
    {
     "data": {
      "text/plain": [
       "[<matplotlib.lines.Line2D at 0x7f7a172fc690>]"
      ]
     },
     "execution_count": 479,
     "metadata": {},
     "output_type": "execute_result"
    },
    {
     "data": {
      "image/png": "[encoded data removed]",
      "text/plain": [
       "<Figure size 432x288 with 1 Axes>"
      ]
     },
     "metadata": {
      "needs_background": "light"
     },
     "output_type": "display_data"
    }
   ],
   "source": [
    "plt.plot(range(3,17), track_precision)"
   ]
  },
  {
   "cell_type": "code",
   "execution_count": null,
   "id": "1e8f5f16",
   "metadata": {},
   "outputs": [],
   "source": []
  }
 ],
 "metadata": {
  "kernelspec": {
   "display_name": "Python 3 (ipykernel)",
   "language": "python",
   "name": "python3"
  },
  "language_info": {
   "codemirror_mode": {
    "name": "ipython",
    "version": 3
   },
   "file_extension": ".py",
   "mimetype": "text/x-python",
   "name": "python",
   "nbconvert_exporter": "python",
   "pygments_lexer": "ipython3",
   "version": "3.7.8"
  }
 },
 "nbformat": 4,
 "nbformat_minor": 5
}
