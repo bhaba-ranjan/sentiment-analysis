{
 "cells": [
  {
   "cell_type": "code",
   "execution_count": 1,
   "id": "bc7c4cc8",
   "metadata": {},
   "outputs": [],
   "source": [
    "import pandas as pd"
   ]
  },
  {
   "cell_type": "code",
   "execution_count": 2,
   "id": "4c29f43d",
   "metadata": {},
   "outputs": [],
   "source": [
    "import matplotlib.pyplot as plt"
   ]
  },
  {
   "cell_type": "code",
   "execution_count": 3,
   "id": "d76e3ff0",
   "metadata": {},
   "outputs": [],
   "source": [
    "import numpy as np"
   ]
  },
  {
   "cell_type": "code",
   "execution_count": 4,
   "id": "968a425b",
   "metadata": {},
   "outputs": [],
   "source": [
    "train_data = pd.read_csv(\"train_data.csv\",names=[\"sentiments\", \"reviews\"])"
   ]
  },
  {
   "cell_type": "code",
   "execution_count": 5,
   "id": "0b3c1985",
   "metadata": {},
   "outputs": [
    {
     "data": {
      "text/html": [
       "<div>\n",
       "<style scoped>\n",
       "    .dataframe tbody tr th:only-of-type {\n",
       "        vertical-align: middle;\n",
       "    }\n",
       "\n",
       "    .dataframe tbody tr th {\n",
       "        vertical-align: top;\n",
       "    }\n",
       "\n",
       "    .dataframe thead th {\n",
       "        text-align: right;\n",
       "    }\n",
       "</style>\n",
       "<table border=\"1\" class=\"dataframe\">\n",
       "  <thead>\n",
       "    <tr style=\"text-align: right;\">\n",
       "      <th></th>\n",
       "      <th>sentiments</th>\n",
       "      <th>reviews</th>\n",
       "    </tr>\n",
       "  </thead>\n",
       "  <tbody>\n",
       "    <tr>\n",
       "      <th>0</th>\n",
       "      <td>-1</td>\n",
       "      <td>Eat at Fioris, they said.  Youll like it, they...</td>\n",
       "    </tr>\n",
       "    <tr>\n",
       "      <th>1</th>\n",
       "      <td>-1</td>\n",
       "      <td>I just don't understand the appeal.  I've trie...</td>\n",
       "    </tr>\n",
       "    <tr>\n",
       "      <th>2</th>\n",
       "      <td>1</td>\n",
       "      <td>This is my go to place for a really good beef ...</td>\n",
       "    </tr>\n",
       "    <tr>\n",
       "      <th>3</th>\n",
       "      <td>-1</td>\n",
       "      <td>Not impressed. When I ordered the Oyako bowl, ...</td>\n",
       "    </tr>\n",
       "    <tr>\n",
       "      <th>4</th>\n",
       "      <td>-1</td>\n",
       "      <td>This is the first time ever I wrote a bad revi...</td>\n",
       "    </tr>\n",
       "    <tr>\n",
       "      <th>5</th>\n",
       "      <td>-1</td>\n",
       "      <td>I don't really mind dive places because there ...</td>\n",
       "    </tr>\n",
       "  </tbody>\n",
       "</table>\n",
       "</div>"
      ],
      "text/plain": [
       "   sentiments                                            reviews\n",
       "0          -1  Eat at Fioris, they said.  Youll like it, they...\n",
       "1          -1  I just don't understand the appeal.  I've trie...\n",
       "2           1  This is my go to place for a really good beef ...\n",
       "3          -1  Not impressed. When I ordered the Oyako bowl, ...\n",
       "4          -1  This is the first time ever I wrote a bad revi...\n",
       "5          -1  I don't really mind dive places because there ..."
      ]
     },
     "execution_count": 5,
     "metadata": {},
     "output_type": "execute_result"
    }
   ],
   "source": [
    "train_data.loc[0:5]"
   ]
  },
  {
   "cell_type": "code",
   "execution_count": 6,
   "id": "6f6a7a0a",
   "metadata": {},
   "outputs": [],
   "source": [
    "# To not differentiate between same word with different upper and lower case\n",
    "# This would aso help in reducing dimension\n",
    "train_data['reviews'] = train_data.reviews.apply(lambda review: review.lower())\n",
    "import string\n",
    "train_data['reviews'] = train_data.reviews.apply(lambda review: review.translate(str.maketrans('', '', string.punctuation)))\n",
    "train_data['reviews'] = train_data.reviews.apply(lambda review: review.translate(str.maketrans('', '', string.digits)))\n",
    "import re\n",
    "train_data['reviews'] = train_data.reviews.apply(lambda review: re.sub(\"r[^a-z]\",'',review))\n"
   ]
  },
  {
   "cell_type": "code",
   "execution_count": 7,
   "id": "8b3a5b78",
   "metadata": {},
   "outputs": [],
   "source": [
    "import nltk\n",
    "from nltk.tokenize import word_tokenize, sent_tokenize\n"
   ]
  },
  {
   "cell_type": "code",
   "execution_count": 8,
   "id": "a45e38ce",
   "metadata": {},
   "outputs": [],
   "source": [
    "train_data['words'] = train_data.reviews.apply(lambda review: nltk.word_tokenize(review))"
   ]
  },
  {
   "cell_type": "code",
   "execution_count": 9,
   "id": "26f3a7f8",
   "metadata": {},
   "outputs": [
    {
     "data": {
      "text/html": [
       "<div>\n",
       "<style scoped>\n",
       "    .dataframe tbody tr th:only-of-type {\n",
       "        vertical-align: middle;\n",
       "    }\n",
       "\n",
       "    .dataframe tbody tr th {\n",
       "        vertical-align: top;\n",
       "    }\n",
       "\n",
       "    .dataframe thead th {\n",
       "        text-align: right;\n",
       "    }\n",
       "</style>\n",
       "<table border=\"1\" class=\"dataframe\">\n",
       "  <thead>\n",
       "    <tr style=\"text-align: right;\">\n",
       "      <th></th>\n",
       "      <th>sentiments</th>\n",
       "      <th>reviews</th>\n",
       "      <th>words</th>\n",
       "    </tr>\n",
       "  </thead>\n",
       "  <tbody>\n",
       "    <tr>\n",
       "      <th>0</th>\n",
       "      <td>-1</td>\n",
       "      <td>eat at fioris they said  youll like it they sa...</td>\n",
       "      <td>[eat, at, fioris, they, said, youll, like, it,...</td>\n",
       "    </tr>\n",
       "    <tr>\n",
       "      <th>1</th>\n",
       "      <td>-1</td>\n",
       "      <td>i just dont understand the appeal  ive tried t...</td>\n",
       "      <td>[i, just, dont, understand, the, appeal, ive, ...</td>\n",
       "    </tr>\n",
       "    <tr>\n",
       "      <th>2</th>\n",
       "      <td>1</td>\n",
       "      <td>this is my go to place foa really good beef en...</td>\n",
       "      <td>[this, is, my, go, to, place, foa, really, goo...</td>\n",
       "    </tr>\n",
       "    <tr>\n",
       "      <th>3</th>\n",
       "      <td>-1</td>\n",
       "      <td>not impressed when i ordered the oyako bowl th...</td>\n",
       "      <td>[not, impressed, when, i, ordered, the, oyako,...</td>\n",
       "    </tr>\n",
       "    <tr>\n",
       "      <th>4</th>\n",
       "      <td>-1</td>\n",
       "      <td>this is the first time evei wrote a bad review...</td>\n",
       "      <td>[this, is, the, first, time, evei, wrote, a, b...</td>\n",
       "    </tr>\n",
       "    <tr>\n",
       "      <th>5</th>\n",
       "      <td>-1</td>\n",
       "      <td>i dont really mind dive places because there a...</td>\n",
       "      <td>[i, dont, really, mind, dive, places, because,...</td>\n",
       "    </tr>\n",
       "    <tr>\n",
       "      <th>6</th>\n",
       "      <td>1</td>\n",
       "      <td>this is a frequent dining spot fome there are ...</td>\n",
       "      <td>[this, is, a, frequent, dining, spot, fome, th...</td>\n",
       "    </tr>\n",
       "    <tr>\n",
       "      <th>7</th>\n",
       "      <td>1</td>\n",
       "      <td>im pretty happy with my purchase today i found...</td>\n",
       "      <td>[im, pretty, happy, with, my, purchase, today,...</td>\n",
       "    </tr>\n",
       "    <tr>\n",
       "      <th>8</th>\n",
       "      <td>1</td>\n",
       "      <td>this is by faone of my favorite spots nnits ki...</td>\n",
       "      <td>[this, is, by, faone, of, my, favorite, spots,...</td>\n",
       "    </tr>\n",
       "    <tr>\n",
       "      <th>9</th>\n",
       "      <td>-1</td>\n",
       "      <td>do not use this dry cleanethe staffownesmokes ...</td>\n",
       "      <td>[do, not, use, this, dry, cleanethe, staffowne...</td>\n",
       "    </tr>\n",
       "    <tr>\n",
       "      <th>10</th>\n",
       "      <td>-1</td>\n",
       "      <td>what has happened to the east liberty home dep...</td>\n",
       "      <td>[what, has, happened, to, the, east, liberty, ...</td>\n",
       "    </tr>\n",
       "    <tr>\n",
       "      <th>11</th>\n",
       "      <td>-1</td>\n",
       "      <td>i have heard a good amount of positive reviews...</td>\n",
       "      <td>[i, have, heard, a, good, amount, of, positive...</td>\n",
       "    </tr>\n",
       "    <tr>\n",
       "      <th>12</th>\n",
       "      <td>1</td>\n",
       "      <td>this is just a standard tgi fridays rebranded ...</td>\n",
       "      <td>[this, is, just, a, standard, tgi, fridays, re...</td>\n",
       "    </tr>\n",
       "    <tr>\n",
       "      <th>13</th>\n",
       "      <td>-1</td>\n",
       "      <td>beware nni had my caserviced here before leavi...</td>\n",
       "      <td>[beware, nni, had, my, caserviced, here, befor...</td>\n",
       "    </tr>\n",
       "    <tr>\n",
       "      <th>14</th>\n",
       "      <td>1</td>\n",
       "      <td>i have been using this clinic foove years   be...</td>\n",
       "      <td>[i, have, been, using, this, clinic, foove, ye...</td>\n",
       "    </tr>\n",
       "    <tr>\n",
       "      <th>15</th>\n",
       "      <td>-1</td>\n",
       "      <td>update received an email from the ownewhich wa...</td>\n",
       "      <td>[update, received, an, email, from, the, ownew...</td>\n",
       "    </tr>\n",
       "    <tr>\n",
       "      <th>16</th>\n",
       "      <td>-1</td>\n",
       "      <td>always make sure to scrutinize a resturant rev...</td>\n",
       "      <td>[always, make, sure, to, scrutinize, a, restur...</td>\n",
       "    </tr>\n",
       "    <tr>\n",
       "      <th>17</th>\n",
       "      <td>1</td>\n",
       "      <td>i was unfortunate enough to be stranded in pho...</td>\n",
       "      <td>[i, was, unfortunate, enough, to, be, stranded...</td>\n",
       "    </tr>\n",
       "    <tr>\n",
       "      <th>18</th>\n",
       "      <td>-1</td>\n",
       "      <td>wow where to begin  we just moved to anthem fr...</td>\n",
       "      <td>[wow, where, to, begin, we, just, moved, to, a...</td>\n",
       "    </tr>\n",
       "    <tr>\n",
       "      <th>19</th>\n",
       "      <td>1</td>\n",
       "      <td>my go to place fomexican food chimichangas enc...</td>\n",
       "      <td>[my, go, to, place, fomexican, food, chimichan...</td>\n",
       "    </tr>\n",
       "    <tr>\n",
       "      <th>20</th>\n",
       "      <td>1</td>\n",
       "      <td>i love the food selection at this place  as so...</td>\n",
       "      <td>[i, love, the, food, selection, at, this, plac...</td>\n",
       "    </tr>\n",
       "    <tr>\n",
       "      <th>21</th>\n",
       "      <td>-1</td>\n",
       "      <td>skip the enchiladas are like a bad day at a se...</td>\n",
       "      <td>[skip, the, enchiladas, are, like, a, bad, day...</td>\n",
       "    </tr>\n",
       "    <tr>\n",
       "      <th>22</th>\n",
       "      <td>-1</td>\n",
       "      <td>it was great the last few timesn till i found ...</td>\n",
       "      <td>[it, was, great, the, last, few, timesn, till,...</td>\n",
       "    </tr>\n",
       "    <tr>\n",
       "      <th>23</th>\n",
       "      <td>-1</td>\n",
       "      <td>we checked out  rooms just to see what it was ...</td>\n",
       "      <td>[we, checked, out, rooms, just, to, see, what,...</td>\n",
       "    </tr>\n",
       "    <tr>\n",
       "      <th>24</th>\n",
       "      <td>-1</td>\n",
       "      <td>awful the sweat panted  hey put a little effor...</td>\n",
       "      <td>[awful, the, sweat, panted, hey, put, a, littl...</td>\n",
       "    </tr>\n",
       "    <tr>\n",
       "      <th>25</th>\n",
       "      <td>1</td>\n",
       "      <td>im here fohappy houprices can not be beat the ...</td>\n",
       "      <td>[im, here, fohappy, houprices, can, not, be, b...</td>\n",
       "    </tr>\n",
       "    <tr>\n",
       "      <th>26</th>\n",
       "      <td>1</td>\n",
       "      <td>excellent railroad shop i use them foterrain s...</td>\n",
       "      <td>[excellent, railroad, shop, i, use, them, fote...</td>\n",
       "    </tr>\n",
       "    <tr>\n",
       "      <th>27</th>\n",
       "      <td>1</td>\n",
       "      <td>i like this palce since its so accessible you ...</td>\n",
       "      <td>[i, like, this, palce, since, its, so, accessi...</td>\n",
       "    </tr>\n",
       "    <tr>\n",
       "      <th>28</th>\n",
       "      <td>-1</td>\n",
       "      <td>i ordeit fomy employees occasionally  the pizz...</td>\n",
       "      <td>[i, ordeit, fomy, employees, occasionally, the...</td>\n",
       "    </tr>\n",
       "    <tr>\n",
       "      <th>29</th>\n",
       "      <td>1</td>\n",
       "      <td>spectacularngreat comfortable environment and ...</td>\n",
       "      <td>[spectacularngreat, comfortable, environment, ...</td>\n",
       "    </tr>\n",
       "  </tbody>\n",
       "</table>\n",
       "</div>"
      ],
      "text/plain": [
       "    sentiments                                            reviews  \\\n",
       "0           -1  eat at fioris they said  youll like it they sa...   \n",
       "1           -1  i just dont understand the appeal  ive tried t...   \n",
       "2            1  this is my go to place foa really good beef en...   \n",
       "3           -1  not impressed when i ordered the oyako bowl th...   \n",
       "4           -1  this is the first time evei wrote a bad review...   \n",
       "5           -1  i dont really mind dive places because there a...   \n",
       "6            1  this is a frequent dining spot fome there are ...   \n",
       "7            1  im pretty happy with my purchase today i found...   \n",
       "8            1  this is by faone of my favorite spots nnits ki...   \n",
       "9           -1  do not use this dry cleanethe staffownesmokes ...   \n",
       "10          -1  what has happened to the east liberty home dep...   \n",
       "11          -1  i have heard a good amount of positive reviews...   \n",
       "12           1  this is just a standard tgi fridays rebranded ...   \n",
       "13          -1  beware nni had my caserviced here before leavi...   \n",
       "14           1  i have been using this clinic foove years   be...   \n",
       "15          -1  update received an email from the ownewhich wa...   \n",
       "16          -1  always make sure to scrutinize a resturant rev...   \n",
       "17           1  i was unfortunate enough to be stranded in pho...   \n",
       "18          -1  wow where to begin  we just moved to anthem fr...   \n",
       "19           1  my go to place fomexican food chimichangas enc...   \n",
       "20           1  i love the food selection at this place  as so...   \n",
       "21          -1  skip the enchiladas are like a bad day at a se...   \n",
       "22          -1  it was great the last few timesn till i found ...   \n",
       "23          -1  we checked out  rooms just to see what it was ...   \n",
       "24          -1  awful the sweat panted  hey put a little effor...   \n",
       "25           1  im here fohappy houprices can not be beat the ...   \n",
       "26           1  excellent railroad shop i use them foterrain s...   \n",
       "27           1  i like this palce since its so accessible you ...   \n",
       "28          -1  i ordeit fomy employees occasionally  the pizz...   \n",
       "29           1  spectacularngreat comfortable environment and ...   \n",
       "\n",
       "                                                words  \n",
       "0   [eat, at, fioris, they, said, youll, like, it,...  \n",
       "1   [i, just, dont, understand, the, appeal, ive, ...  \n",
       "2   [this, is, my, go, to, place, foa, really, goo...  \n",
       "3   [not, impressed, when, i, ordered, the, oyako,...  \n",
       "4   [this, is, the, first, time, evei, wrote, a, b...  \n",
       "5   [i, dont, really, mind, dive, places, because,...  \n",
       "6   [this, is, a, frequent, dining, spot, fome, th...  \n",
       "7   [im, pretty, happy, with, my, purchase, today,...  \n",
       "8   [this, is, by, faone, of, my, favorite, spots,...  \n",
       "9   [do, not, use, this, dry, cleanethe, staffowne...  \n",
       "10  [what, has, happened, to, the, east, liberty, ...  \n",
       "11  [i, have, heard, a, good, amount, of, positive...  \n",
       "12  [this, is, just, a, standard, tgi, fridays, re...  \n",
       "13  [beware, nni, had, my, caserviced, here, befor...  \n",
       "14  [i, have, been, using, this, clinic, foove, ye...  \n",
       "15  [update, received, an, email, from, the, ownew...  \n",
       "16  [always, make, sure, to, scrutinize, a, restur...  \n",
       "17  [i, was, unfortunate, enough, to, be, stranded...  \n",
       "18  [wow, where, to, begin, we, just, moved, to, a...  \n",
       "19  [my, go, to, place, fomexican, food, chimichan...  \n",
       "20  [i, love, the, food, selection, at, this, plac...  \n",
       "21  [skip, the, enchiladas, are, like, a, bad, day...  \n",
       "22  [it, was, great, the, last, few, timesn, till,...  \n",
       "23  [we, checked, out, rooms, just, to, see, what,...  \n",
       "24  [awful, the, sweat, panted, hey, put, a, littl...  \n",
       "25  [im, here, fohappy, houprices, can, not, be, b...  \n",
       "26  [excellent, railroad, shop, i, use, them, fote...  \n",
       "27  [i, like, this, palce, since, its, so, accessi...  \n",
       "28  [i, ordeit, fomy, employees, occasionally, the...  \n",
       "29  [spectacularngreat, comfortable, environment, ...  "
      ]
     },
     "execution_count": 9,
     "metadata": {},
     "output_type": "execute_result"
    }
   ],
   "source": [
    "train_data.head(30)"
   ]
  },
  {
   "cell_type": "code",
   "execution_count": 10,
   "id": "9c154164",
   "metadata": {},
   "outputs": [
    {
     "data": {
      "text/plain": [
       "<matplotlib.collections.PathCollection at 0x7fc85db5fd50>"
      ]
     },
     "execution_count": 10,
     "metadata": {},
     "output_type": "execute_result"
    },
    {
     "data": {
      "image/png": "[encoded data removed]",
      "text/plain": [
       "<Figure size 432x288 with 1 Axes>"
      ]
     },
     "metadata": {
      "needs_background": "light"
     },
     "output_type": "display_data"
    }
   ],
   "source": [
    "plt.scatter(train_data.index, train_data.words.apply(lambda data: len(data)))"
   ]
  },
  {
   "cell_type": "code",
   "execution_count": 11,
   "id": "af1f2147",
   "metadata": {},
   "outputs": [],
   "source": [
    "from nltk.corpus import stopwords\n",
    "stopwords = set(stopwords.words('english'))"
   ]
  },
  {
   "cell_type": "code",
   "execution_count": 12,
   "id": "cc69559d",
   "metadata": {},
   "outputs": [],
   "source": [
    "def remove_stopwords(list):\n",
    "    stop_words_removed = []\n",
    "    for i in list:\n",
    "        if i not in stopwords:\n",
    "            stop_words_removed.append(i)\n",
    "    return stop_words_removed"
   ]
  },
  {
   "cell_type": "code",
   "execution_count": 13,
   "id": "a42f89a5",
   "metadata": {},
   "outputs": [],
   "source": [
    "train_data['stop_words_cleaned'] = train_data.words.apply(lambda word_list: remove_stopwords(word_list))"
   ]
  },
  {
   "cell_type": "code",
   "execution_count": 14,
   "id": "a6d968aa",
   "metadata": {},
   "outputs": [
    {
     "data": {
      "text/plain": [
       "<matplotlib.collections.PathCollection at 0x7fc88ae78b10>"
      ]
     },
     "execution_count": 14,
     "metadata": {},
     "output_type": "execute_result"
    },
    {
     "data": {
      "image/png": "[encoded data removed]",
      "text/plain": [
       "<Figure size 432x288 with 1 Axes>"
      ]
     },
     "metadata": {
      "needs_background": "light"
     },
     "output_type": "display_data"
    }
   ],
   "source": [
    "plt.scatter(train_data.index, train_data.stop_words_cleaned.apply(lambda data: len(data)))"
   ]
  },
  {
   "cell_type": "code",
   "execution_count": 15,
   "id": "8c9d512e",
   "metadata": {},
   "outputs": [],
   "source": [
    "#lemmatization with POS tagging\n",
    "def tag_pos(list_of_words):\n",
    "    return nltk.pos_tag(list_of_words)"
   ]
  },
  {
   "cell_type": "code",
   "execution_count": 16,
   "id": "0a1efd6b",
   "metadata": {},
   "outputs": [],
   "source": [
    "#extraction of lemma words after taggin with pos\n",
    "from nltk.stem import WordNetLemmatizer\n",
    "lemmatizer= WordNetLemmatizer()\n",
    "def find_lemma_word(word):\n",
    "    lemma_words=[]\n",
    "    words_with_pos = tag_pos(word)\n",
    "    for word in words_with_pos:\n",
    "        if word[1].startswith('NN'):\n",
    "            lemma_words.append(lemmatizer.lemmatize(word[0],pos='n'))\n",
    "        elif word[1].startswith('VB'):\n",
    "            lemma_words.append(lemmatizer.lemmatize(word[0],pos='v'))\n",
    "        elif word[1].startswith('JJ'):\n",
    "            lemma_words.append(lemmatizer.lemmatize(word[0],pos='a'))\n",
    "        elif word[1].startswith('RB'):\n",
    "            lemma_words.append(lemmatizer.lemmatize(word[0],pos='r'))\n",
    "        else:\n",
    "            lemma_words.append(word[0])\n",
    "            \n",
    "    return lemma_words"
   ]
  },
  {
   "cell_type": "code",
   "execution_count": 17,
   "id": "8d418870",
   "metadata": {},
   "outputs": [],
   "source": [
    "train_data['lemma_word'] = train_data.stop_words_cleaned.apply(lambda word_list: find_lemma_word(word_list))"
   ]
  },
  {
   "cell_type": "code",
   "execution_count": 18,
   "id": "f48bce06",
   "metadata": {},
   "outputs": [
    {
     "data": {
      "text/html": [
       "<div>\n",
       "<style scoped>\n",
       "    .dataframe tbody tr th:only-of-type {\n",
       "        vertical-align: middle;\n",
       "    }\n",
       "\n",
       "    .dataframe tbody tr th {\n",
       "        vertical-align: top;\n",
       "    }\n",
       "\n",
       "    .dataframe thead th {\n",
       "        text-align: right;\n",
       "    }\n",
       "</style>\n",
       "<table border=\"1\" class=\"dataframe\">\n",
       "  <thead>\n",
       "    <tr style=\"text-align: right;\">\n",
       "      <th></th>\n",
       "      <th>sentiments</th>\n",
       "      <th>reviews</th>\n",
       "      <th>words</th>\n",
       "      <th>stop_words_cleaned</th>\n",
       "      <th>lemma_word</th>\n",
       "    </tr>\n",
       "  </thead>\n",
       "  <tbody>\n",
       "    <tr>\n",
       "      <th>0</th>\n",
       "      <td>-1</td>\n",
       "      <td>eat at fioris they said  youll like it they sa...</td>\n",
       "      <td>[eat, at, fioris, they, said, youll, like, it,...</td>\n",
       "      <td>[eat, fioris, said, youll, like, saidnnis, con...</td>\n",
       "      <td>[eat, fioris, say, youll, like, saidnnis, conv...</td>\n",
       "    </tr>\n",
       "    <tr>\n",
       "      <th>1</th>\n",
       "      <td>-1</td>\n",
       "      <td>i just dont understand the appeal  ive tried t...</td>\n",
       "      <td>[i, just, dont, understand, the, appeal, ive, ...</td>\n",
       "      <td>[dont, understand, appeal, ive, tried, place, ...</td>\n",
       "      <td>[dont, understand, appeal, ive, tried, place, ...</td>\n",
       "    </tr>\n",
       "    <tr>\n",
       "      <th>2</th>\n",
       "      <td>1</td>\n",
       "      <td>this is my go to place foa really good beef en...</td>\n",
       "      <td>[this, is, my, go, to, place, foa, really, goo...</td>\n",
       "      <td>[go, place, foa, really, good, beef, enchilada...</td>\n",
       "      <td>[go, place, foa, really, good, beef, enchilada...</td>\n",
       "    </tr>\n",
       "    <tr>\n",
       "      <th>3</th>\n",
       "      <td>-1</td>\n",
       "      <td>not impressed when i ordered the oyako bowl th...</td>\n",
       "      <td>[not, impressed, when, i, ordered, the, oyako,...</td>\n",
       "      <td>[impressed, ordered, oyako, bowl, conversation...</td>\n",
       "      <td>[impressed, order, oyako, bowl, conversation, ...</td>\n",
       "    </tr>\n",
       "    <tr>\n",
       "      <th>4</th>\n",
       "      <td>-1</td>\n",
       "      <td>this is the first time evei wrote a bad review...</td>\n",
       "      <td>[this, is, the, first, time, evei, wrote, a, b...</td>\n",
       "      <td>[first, time, evei, wrote, bad, review, frustr...</td>\n",
       "      <td>[first, time, evei, write, bad, review, frustr...</td>\n",
       "    </tr>\n",
       "  </tbody>\n",
       "</table>\n",
       "</div>"
      ],
      "text/plain": [
       "   sentiments                                            reviews  \\\n",
       "0          -1  eat at fioris they said  youll like it they sa...   \n",
       "1          -1  i just dont understand the appeal  ive tried t...   \n",
       "2           1  this is my go to place foa really good beef en...   \n",
       "3          -1  not impressed when i ordered the oyako bowl th...   \n",
       "4          -1  this is the first time evei wrote a bad review...   \n",
       "\n",
       "                                               words  \\\n",
       "0  [eat, at, fioris, they, said, youll, like, it,...   \n",
       "1  [i, just, dont, understand, the, appeal, ive, ...   \n",
       "2  [this, is, my, go, to, place, foa, really, goo...   \n",
       "3  [not, impressed, when, i, ordered, the, oyako,...   \n",
       "4  [this, is, the, first, time, evei, wrote, a, b...   \n",
       "\n",
       "                                  stop_words_cleaned  \\\n",
       "0  [eat, fioris, said, youll, like, saidnnis, con...   \n",
       "1  [dont, understand, appeal, ive, tried, place, ...   \n",
       "2  [go, place, foa, really, good, beef, enchilada...   \n",
       "3  [impressed, ordered, oyako, bowl, conversation...   \n",
       "4  [first, time, evei, wrote, bad, review, frustr...   \n",
       "\n",
       "                                          lemma_word  \n",
       "0  [eat, fioris, say, youll, like, saidnnis, conv...  \n",
       "1  [dont, understand, appeal, ive, tried, place, ...  \n",
       "2  [go, place, foa, really, good, beef, enchilada...  \n",
       "3  [impressed, order, oyako, bowl, conversation, ...  \n",
       "4  [first, time, evei, write, bad, review, frustr...  "
      ]
     },
     "execution_count": 18,
     "metadata": {},
     "output_type": "execute_result"
    }
   ],
   "source": [
    "train_data.head()"
   ]
  },
  {
   "cell_type": "code",
   "execution_count": 19,
   "id": "e8c3e7fe",
   "metadata": {},
   "outputs": [],
   "source": [
    "train_data['cleaned_review'] = train_data.lemma_word.apply(lambda review_list: \" \".join(review_list))"
   ]
  },
  {
   "cell_type": "code",
   "execution_count": 20,
   "id": "525ea71f",
   "metadata": {},
   "outputs": [
    {
     "data": {
      "text/html": [
       "<div>\n",
       "<style scoped>\n",
       "    .dataframe tbody tr th:only-of-type {\n",
       "        vertical-align: middle;\n",
       "    }\n",
       "\n",
       "    .dataframe tbody tr th {\n",
       "        vertical-align: top;\n",
       "    }\n",
       "\n",
       "    .dataframe thead th {\n",
       "        text-align: right;\n",
       "    }\n",
       "</style>\n",
       "<table border=\"1\" class=\"dataframe\">\n",
       "  <thead>\n",
       "    <tr style=\"text-align: right;\">\n",
       "      <th></th>\n",
       "      <th>sentiments</th>\n",
       "      <th>reviews</th>\n",
       "      <th>words</th>\n",
       "      <th>stop_words_cleaned</th>\n",
       "      <th>lemma_word</th>\n",
       "      <th>cleaned_review</th>\n",
       "    </tr>\n",
       "  </thead>\n",
       "  <tbody>\n",
       "    <tr>\n",
       "      <th>0</th>\n",
       "      <td>-1</td>\n",
       "      <td>eat at fioris they said  youll like it they sa...</td>\n",
       "      <td>[eat, at, fioris, they, said, youll, like, it,...</td>\n",
       "      <td>[eat, fioris, said, youll, like, saidnnis, con...</td>\n",
       "      <td>[eat, fioris, say, youll, like, saidnnis, conv...</td>\n",
       "      <td>eat fioris say youll like saidnnis convenientl...</td>\n",
       "    </tr>\n",
       "    <tr>\n",
       "      <th>1</th>\n",
       "      <td>-1</td>\n",
       "      <td>i just dont understand the appeal  ive tried t...</td>\n",
       "      <td>[i, just, dont, understand, the, appeal, ive, ...</td>\n",
       "      <td>[dont, understand, appeal, ive, tried, place, ...</td>\n",
       "      <td>[dont, understand, appeal, ive, tried, place, ...</td>\n",
       "      <td>dont understand appeal ive tried place twice t...</td>\n",
       "    </tr>\n",
       "    <tr>\n",
       "      <th>2</th>\n",
       "      <td>1</td>\n",
       "      <td>this is my go to place foa really good beef en...</td>\n",
       "      <td>[this, is, my, go, to, place, foa, really, goo...</td>\n",
       "      <td>[go, place, foa, really, good, beef, enchilada...</td>\n",
       "      <td>[go, place, foa, really, good, beef, enchilada...</td>\n",
       "      <td>go place foa really good beef enchilada red sa...</td>\n",
       "    </tr>\n",
       "    <tr>\n",
       "      <th>3</th>\n",
       "      <td>-1</td>\n",
       "      <td>not impressed when i ordered the oyako bowl th...</td>\n",
       "      <td>[not, impressed, when, i, ordered, the, oyako,...</td>\n",
       "      <td>[impressed, ordered, oyako, bowl, conversation...</td>\n",
       "      <td>[impressed, order, oyako, bowl, conversation, ...</td>\n",
       "      <td>impressed order oyako bowl conversation go som...</td>\n",
       "    </tr>\n",
       "    <tr>\n",
       "      <th>4</th>\n",
       "      <td>-1</td>\n",
       "      <td>this is the first time evei wrote a bad review...</td>\n",
       "      <td>[this, is, the, first, time, evei, wrote, a, b...</td>\n",
       "      <td>[first, time, evei, wrote, bad, review, frustr...</td>\n",
       "      <td>[first, time, evei, write, bad, review, frustr...</td>\n",
       "      <td>first time evei write bad review frustrate her...</td>\n",
       "    </tr>\n",
       "  </tbody>\n",
       "</table>\n",
       "</div>"
      ],
      "text/plain": [
       "   sentiments                                            reviews  \\\n",
       "0          -1  eat at fioris they said  youll like it they sa...   \n",
       "1          -1  i just dont understand the appeal  ive tried t...   \n",
       "2           1  this is my go to place foa really good beef en...   \n",
       "3          -1  not impressed when i ordered the oyako bowl th...   \n",
       "4          -1  this is the first time evei wrote a bad review...   \n",
       "\n",
       "                                               words  \\\n",
       "0  [eat, at, fioris, they, said, youll, like, it,...   \n",
       "1  [i, just, dont, understand, the, appeal, ive, ...   \n",
       "2  [this, is, my, go, to, place, foa, really, goo...   \n",
       "3  [not, impressed, when, i, ordered, the, oyako,...   \n",
       "4  [this, is, the, first, time, evei, wrote, a, b...   \n",
       "\n",
       "                                  stop_words_cleaned  \\\n",
       "0  [eat, fioris, said, youll, like, saidnnis, con...   \n",
       "1  [dont, understand, appeal, ive, tried, place, ...   \n",
       "2  [go, place, foa, really, good, beef, enchilada...   \n",
       "3  [impressed, ordered, oyako, bowl, conversation...   \n",
       "4  [first, time, evei, wrote, bad, review, frustr...   \n",
       "\n",
       "                                          lemma_word  \\\n",
       "0  [eat, fioris, say, youll, like, saidnnis, conv...   \n",
       "1  [dont, understand, appeal, ive, tried, place, ...   \n",
       "2  [go, place, foa, really, good, beef, enchilada...   \n",
       "3  [impressed, order, oyako, bowl, conversation, ...   \n",
       "4  [first, time, evei, write, bad, review, frustr...   \n",
       "\n",
       "                                      cleaned_review  \n",
       "0  eat fioris say youll like saidnnis convenientl...  \n",
       "1  dont understand appeal ive tried place twice t...  \n",
       "2  go place foa really good beef enchilada red sa...  \n",
       "3  impressed order oyako bowl conversation go som...  \n",
       "4  first time evei write bad review frustrate her...  "
      ]
     },
     "execution_count": 20,
     "metadata": {},
     "output_type": "execute_result"
    }
   ],
   "source": [
    "train_data.head()"
   ]
  },
  {
   "cell_type": "code",
   "execution_count": null,
   "id": "c493b01a",
   "metadata": {},
   "outputs": [],
   "source": []
  },
  {
   "cell_type": "code",
   "execution_count": 21,
   "id": "a2205643",
   "metadata": {},
   "outputs": [],
   "source": [
    "import sklearn"
   ]
  },
  {
   "cell_type": "code",
   "execution_count": 22,
   "id": "be9db2ea",
   "metadata": {},
   "outputs": [],
   "source": [
    "from sklearn.model_selection import train_test_split"
   ]
  },
  {
   "cell_type": "code",
   "execution_count": 23,
   "id": "3338fa54",
   "metadata": {},
   "outputs": [
    {
     "data": {
      "text/html": [
       "<div>\n",
       "<style scoped>\n",
       "    .dataframe tbody tr th:only-of-type {\n",
       "        vertical-align: middle;\n",
       "    }\n",
       "\n",
       "    .dataframe tbody tr th {\n",
       "        vertical-align: top;\n",
       "    }\n",
       "\n",
       "    .dataframe thead th {\n",
       "        text-align: right;\n",
       "    }\n",
       "</style>\n",
       "<table border=\"1\" class=\"dataframe\">\n",
       "  <thead>\n",
       "    <tr style=\"text-align: right;\">\n",
       "      <th></th>\n",
       "      <th>sentiments</th>\n",
       "      <th>reviews</th>\n",
       "      <th>words</th>\n",
       "      <th>stop_words_cleaned</th>\n",
       "      <th>lemma_word</th>\n",
       "      <th>cleaned_review</th>\n",
       "    </tr>\n",
       "  </thead>\n",
       "  <tbody>\n",
       "    <tr>\n",
       "      <th>0</th>\n",
       "      <td>-1</td>\n",
       "      <td>eat at fioris they said  youll like it they sa...</td>\n",
       "      <td>[eat, at, fioris, they, said, youll, like, it,...</td>\n",
       "      <td>[eat, fioris, said, youll, like, saidnnis, con...</td>\n",
       "      <td>[eat, fioris, say, youll, like, saidnnis, conv...</td>\n",
       "      <td>eat fioris say youll like saidnnis convenientl...</td>\n",
       "    </tr>\n",
       "    <tr>\n",
       "      <th>1</th>\n",
       "      <td>-1</td>\n",
       "      <td>i just dont understand the appeal  ive tried t...</td>\n",
       "      <td>[i, just, dont, understand, the, appeal, ive, ...</td>\n",
       "      <td>[dont, understand, appeal, ive, tried, place, ...</td>\n",
       "      <td>[dont, understand, appeal, ive, tried, place, ...</td>\n",
       "      <td>dont understand appeal ive tried place twice t...</td>\n",
       "    </tr>\n",
       "    <tr>\n",
       "      <th>2</th>\n",
       "      <td>1</td>\n",
       "      <td>this is my go to place foa really good beef en...</td>\n",
       "      <td>[this, is, my, go, to, place, foa, really, goo...</td>\n",
       "      <td>[go, place, foa, really, good, beef, enchilada...</td>\n",
       "      <td>[go, place, foa, really, good, beef, enchilada...</td>\n",
       "      <td>go place foa really good beef enchilada red sa...</td>\n",
       "    </tr>\n",
       "    <tr>\n",
       "      <th>3</th>\n",
       "      <td>-1</td>\n",
       "      <td>not impressed when i ordered the oyako bowl th...</td>\n",
       "      <td>[not, impressed, when, i, ordered, the, oyako,...</td>\n",
       "      <td>[impressed, ordered, oyako, bowl, conversation...</td>\n",
       "      <td>[impressed, order, oyako, bowl, conversation, ...</td>\n",
       "      <td>impressed order oyako bowl conversation go som...</td>\n",
       "    </tr>\n",
       "    <tr>\n",
       "      <th>4</th>\n",
       "      <td>-1</td>\n",
       "      <td>this is the first time evei wrote a bad review...</td>\n",
       "      <td>[this, is, the, first, time, evei, wrote, a, b...</td>\n",
       "      <td>[first, time, evei, wrote, bad, review, frustr...</td>\n",
       "      <td>[first, time, evei, write, bad, review, frustr...</td>\n",
       "      <td>first time evei write bad review frustrate her...</td>\n",
       "    </tr>\n",
       "  </tbody>\n",
       "</table>\n",
       "</div>"
      ],
      "text/plain": [
       "   sentiments                                            reviews  \\\n",
       "0          -1  eat at fioris they said  youll like it they sa...   \n",
       "1          -1  i just dont understand the appeal  ive tried t...   \n",
       "2           1  this is my go to place foa really good beef en...   \n",
       "3          -1  not impressed when i ordered the oyako bowl th...   \n",
       "4          -1  this is the first time evei wrote a bad review...   \n",
       "\n",
       "                                               words  \\\n",
       "0  [eat, at, fioris, they, said, youll, like, it,...   \n",
       "1  [i, just, dont, understand, the, appeal, ive, ...   \n",
       "2  [this, is, my, go, to, place, foa, really, goo...   \n",
       "3  [not, impressed, when, i, ordered, the, oyako,...   \n",
       "4  [this, is, the, first, time, evei, wrote, a, b...   \n",
       "\n",
       "                                  stop_words_cleaned  \\\n",
       "0  [eat, fioris, said, youll, like, saidnnis, con...   \n",
       "1  [dont, understand, appeal, ive, tried, place, ...   \n",
       "2  [go, place, foa, really, good, beef, enchilada...   \n",
       "3  [impressed, ordered, oyako, bowl, conversation...   \n",
       "4  [first, time, evei, wrote, bad, review, frustr...   \n",
       "\n",
       "                                          lemma_word  \\\n",
       "0  [eat, fioris, say, youll, like, saidnnis, conv...   \n",
       "1  [dont, understand, appeal, ive, tried, place, ...   \n",
       "2  [go, place, foa, really, good, beef, enchilada...   \n",
       "3  [impressed, order, oyako, bowl, conversation, ...   \n",
       "4  [first, time, evei, write, bad, review, frustr...   \n",
       "\n",
       "                                      cleaned_review  \n",
       "0  eat fioris say youll like saidnnis convenientl...  \n",
       "1  dont understand appeal ive tried place twice t...  \n",
       "2  go place foa really good beef enchilada red sa...  \n",
       "3  impressed order oyako bowl conversation go som...  \n",
       "4  first time evei write bad review frustrate her...  "
      ]
     },
     "execution_count": 23,
     "metadata": {},
     "output_type": "execute_result"
    }
   ],
   "source": [
    "train_data.head()"
   ]
  },
  {
   "cell_type": "code",
   "execution_count": 24,
   "id": "ccaaf472",
   "metadata": {},
   "outputs": [],
   "source": [
    "reviews_train, review_test, sentiments_train, sentiments_test = train_test_split(train_data.cleaned_review, train_data.sentiments, stratify=train_data.sentiments,shuffle=True, random_state=0,train_size=.75)\n"
   ]
  },
  {
   "cell_type": "code",
   "execution_count": 25,
   "id": "c8ab3e7b",
   "metadata": {},
   "outputs": [
    {
     "data": {
      "text/plain": [
       "-1    6750\n",
       " 1    6750\n",
       "Name: sentiments, dtype: int64"
      ]
     },
     "execution_count": 25,
     "metadata": {},
     "output_type": "execute_result"
    }
   ],
   "source": [
    "sentiments_train.value_counts()"
   ]
  },
  {
   "cell_type": "code",
   "execution_count": 26,
   "id": "5ab48cc9",
   "metadata": {},
   "outputs": [],
   "source": [
    "from sklearn.feature_extraction.text import TfidfVectorizer\n",
    "tf_idf_vectorizer = TfidfVectorizer(use_idf=True, ngram_range=(1,1))\n",
    "fit_train_matrix = tf_idf_vectorizer.fit_transform(reviews_train)\n",
    "train_matrix = fit_train_matrix.toarray()\n",
    "tf_df= pd.DataFrame(data=train_matrix, columns=tf_idf_vectorizer.get_feature_names_out())"
   ]
  },
  {
   "cell_type": "code",
   "execution_count": 27,
   "id": "503873be",
   "metadata": {},
   "outputs": [
    {
     "data": {
      "text/html": [
       "<div>\n",
       "<style scoped>\n",
       "    .dataframe tbody tr th:only-of-type {\n",
       "        vertical-align: middle;\n",
       "    }\n",
       "\n",
       "    .dataframe tbody tr th {\n",
       "        vertical-align: top;\n",
       "    }\n",
       "\n",
       "    .dataframe thead th {\n",
       "        text-align: right;\n",
       "    }\n",
       "</style>\n",
       "<table border=\"1\" class=\"dataframe\">\n",
       "  <thead>\n",
       "    <tr style=\"text-align: right;\">\n",
       "      <th></th>\n",
       "      <th>aa</th>\n",
       "      <th>aaa</th>\n",
       "      <th>aaaa</th>\n",
       "      <th>aaaaaaaaaaaaaaandyou</th>\n",
       "      <th>aaaaaaaaaaaaahhhhhhhhhhh</th>\n",
       "      <th>aaaaaahnnthey</th>\n",
       "      <th>aaaaaahole</th>\n",
       "      <th>aaaaah</th>\n",
       "      <th>aaaaand</th>\n",
       "      <th>aaaaannnd</th>\n",
       "      <th>...</th>\n",
       "      <th>zoospace</th>\n",
       "      <th>zoowe</th>\n",
       "      <th>zorbas</th>\n",
       "      <th>zs</th>\n",
       "      <th>zucchini</th>\n",
       "      <th>zucchinis</th>\n",
       "      <th>zuchinni</th>\n",
       "      <th>zuma</th>\n",
       "      <th>zumba</th>\n",
       "      <th>zz</th>\n",
       "    </tr>\n",
       "  </thead>\n",
       "  <tbody>\n",
       "    <tr>\n",
       "      <th>0</th>\n",
       "      <td>0.0</td>\n",
       "      <td>0.0</td>\n",
       "      <td>0.0</td>\n",
       "      <td>0.0</td>\n",
       "      <td>0.0</td>\n",
       "      <td>0.0</td>\n",
       "      <td>0.0</td>\n",
       "      <td>0.0</td>\n",
       "      <td>0.0</td>\n",
       "      <td>0.0</td>\n",
       "      <td>...</td>\n",
       "      <td>0.0</td>\n",
       "      <td>0.0</td>\n",
       "      <td>0.0</td>\n",
       "      <td>0.0</td>\n",
       "      <td>0.0</td>\n",
       "      <td>0.0</td>\n",
       "      <td>0.0</td>\n",
       "      <td>0.0</td>\n",
       "      <td>0.0</td>\n",
       "      <td>0.0</td>\n",
       "    </tr>\n",
       "    <tr>\n",
       "      <th>1</th>\n",
       "      <td>0.0</td>\n",
       "      <td>0.0</td>\n",
       "      <td>0.0</td>\n",
       "      <td>0.0</td>\n",
       "      <td>0.0</td>\n",
       "      <td>0.0</td>\n",
       "      <td>0.0</td>\n",
       "      <td>0.0</td>\n",
       "      <td>0.0</td>\n",
       "      <td>0.0</td>\n",
       "      <td>...</td>\n",
       "      <td>0.0</td>\n",
       "      <td>0.0</td>\n",
       "      <td>0.0</td>\n",
       "      <td>0.0</td>\n",
       "      <td>0.0</td>\n",
       "      <td>0.0</td>\n",
       "      <td>0.0</td>\n",
       "      <td>0.0</td>\n",
       "      <td>0.0</td>\n",
       "      <td>0.0</td>\n",
       "    </tr>\n",
       "    <tr>\n",
       "      <th>2</th>\n",
       "      <td>0.0</td>\n",
       "      <td>0.0</td>\n",
       "      <td>0.0</td>\n",
       "      <td>0.0</td>\n",
       "      <td>0.0</td>\n",
       "      <td>0.0</td>\n",
       "      <td>0.0</td>\n",
       "      <td>0.0</td>\n",
       "      <td>0.0</td>\n",
       "      <td>0.0</td>\n",
       "      <td>...</td>\n",
       "      <td>0.0</td>\n",
       "      <td>0.0</td>\n",
       "      <td>0.0</td>\n",
       "      <td>0.0</td>\n",
       "      <td>0.0</td>\n",
       "      <td>0.0</td>\n",
       "      <td>0.0</td>\n",
       "      <td>0.0</td>\n",
       "      <td>0.0</td>\n",
       "      <td>0.0</td>\n",
       "    </tr>\n",
       "    <tr>\n",
       "      <th>3</th>\n",
       "      <td>0.0</td>\n",
       "      <td>0.0</td>\n",
       "      <td>0.0</td>\n",
       "      <td>0.0</td>\n",
       "      <td>0.0</td>\n",
       "      <td>0.0</td>\n",
       "      <td>0.0</td>\n",
       "      <td>0.0</td>\n",
       "      <td>0.0</td>\n",
       "      <td>0.0</td>\n",
       "      <td>...</td>\n",
       "      <td>0.0</td>\n",
       "      <td>0.0</td>\n",
       "      <td>0.0</td>\n",
       "      <td>0.0</td>\n",
       "      <td>0.0</td>\n",
       "      <td>0.0</td>\n",
       "      <td>0.0</td>\n",
       "      <td>0.0</td>\n",
       "      <td>0.0</td>\n",
       "      <td>0.0</td>\n",
       "    </tr>\n",
       "    <tr>\n",
       "      <th>4</th>\n",
       "      <td>0.0</td>\n",
       "      <td>0.0</td>\n",
       "      <td>0.0</td>\n",
       "      <td>0.0</td>\n",
       "      <td>0.0</td>\n",
       "      <td>0.0</td>\n",
       "      <td>0.0</td>\n",
       "      <td>0.0</td>\n",
       "      <td>0.0</td>\n",
       "      <td>0.0</td>\n",
       "      <td>...</td>\n",
       "      <td>0.0</td>\n",
       "      <td>0.0</td>\n",
       "      <td>0.0</td>\n",
       "      <td>0.0</td>\n",
       "      <td>0.0</td>\n",
       "      <td>0.0</td>\n",
       "      <td>0.0</td>\n",
       "      <td>0.0</td>\n",
       "      <td>0.0</td>\n",
       "      <td>0.0</td>\n",
       "    </tr>\n",
       "    <tr>\n",
       "      <th>5</th>\n",
       "      <td>0.0</td>\n",
       "      <td>0.0</td>\n",
       "      <td>0.0</td>\n",
       "      <td>0.0</td>\n",
       "      <td>0.0</td>\n",
       "      <td>0.0</td>\n",
       "      <td>0.0</td>\n",
       "      <td>0.0</td>\n",
       "      <td>0.0</td>\n",
       "      <td>0.0</td>\n",
       "      <td>...</td>\n",
       "      <td>0.0</td>\n",
       "      <td>0.0</td>\n",
       "      <td>0.0</td>\n",
       "      <td>0.0</td>\n",
       "      <td>0.0</td>\n",
       "      <td>0.0</td>\n",
       "      <td>0.0</td>\n",
       "      <td>0.0</td>\n",
       "      <td>0.0</td>\n",
       "      <td>0.0</td>\n",
       "    </tr>\n",
       "    <tr>\n",
       "      <th>6</th>\n",
       "      <td>0.0</td>\n",
       "      <td>0.0</td>\n",
       "      <td>0.0</td>\n",
       "      <td>0.0</td>\n",
       "      <td>0.0</td>\n",
       "      <td>0.0</td>\n",
       "      <td>0.0</td>\n",
       "      <td>0.0</td>\n",
       "      <td>0.0</td>\n",
       "      <td>0.0</td>\n",
       "      <td>...</td>\n",
       "      <td>0.0</td>\n",
       "      <td>0.0</td>\n",
       "      <td>0.0</td>\n",
       "      <td>0.0</td>\n",
       "      <td>0.0</td>\n",
       "      <td>0.0</td>\n",
       "      <td>0.0</td>\n",
       "      <td>0.0</td>\n",
       "      <td>0.0</td>\n",
       "      <td>0.0</td>\n",
       "    </tr>\n",
       "    <tr>\n",
       "      <th>7</th>\n",
       "      <td>0.0</td>\n",
       "      <td>0.0</td>\n",
       "      <td>0.0</td>\n",
       "      <td>0.0</td>\n",
       "      <td>0.0</td>\n",
       "      <td>0.0</td>\n",
       "      <td>0.0</td>\n",
       "      <td>0.0</td>\n",
       "      <td>0.0</td>\n",
       "      <td>0.0</td>\n",
       "      <td>...</td>\n",
       "      <td>0.0</td>\n",
       "      <td>0.0</td>\n",
       "      <td>0.0</td>\n",
       "      <td>0.0</td>\n",
       "      <td>0.0</td>\n",
       "      <td>0.0</td>\n",
       "      <td>0.0</td>\n",
       "      <td>0.0</td>\n",
       "      <td>0.0</td>\n",
       "      <td>0.0</td>\n",
       "    </tr>\n",
       "    <tr>\n",
       "      <th>8</th>\n",
       "      <td>0.0</td>\n",
       "      <td>0.0</td>\n",
       "      <td>0.0</td>\n",
       "      <td>0.0</td>\n",
       "      <td>0.0</td>\n",
       "      <td>0.0</td>\n",
       "      <td>0.0</td>\n",
       "      <td>0.0</td>\n",
       "      <td>0.0</td>\n",
       "      <td>0.0</td>\n",
       "      <td>...</td>\n",
       "      <td>0.0</td>\n",
       "      <td>0.0</td>\n",
       "      <td>0.0</td>\n",
       "      <td>0.0</td>\n",
       "      <td>0.0</td>\n",
       "      <td>0.0</td>\n",
       "      <td>0.0</td>\n",
       "      <td>0.0</td>\n",
       "      <td>0.0</td>\n",
       "      <td>0.0</td>\n",
       "    </tr>\n",
       "    <tr>\n",
       "      <th>9</th>\n",
       "      <td>0.0</td>\n",
       "      <td>0.0</td>\n",
       "      <td>0.0</td>\n",
       "      <td>0.0</td>\n",
       "      <td>0.0</td>\n",
       "      <td>0.0</td>\n",
       "      <td>0.0</td>\n",
       "      <td>0.0</td>\n",
       "      <td>0.0</td>\n",
       "      <td>0.0</td>\n",
       "      <td>...</td>\n",
       "      <td>0.0</td>\n",
       "      <td>0.0</td>\n",
       "      <td>0.0</td>\n",
       "      <td>0.0</td>\n",
       "      <td>0.0</td>\n",
       "      <td>0.0</td>\n",
       "      <td>0.0</td>\n",
       "      <td>0.0</td>\n",
       "      <td>0.0</td>\n",
       "      <td>0.0</td>\n",
       "    </tr>\n",
       "    <tr>\n",
       "      <th>10</th>\n",
       "      <td>0.0</td>\n",
       "      <td>0.0</td>\n",
       "      <td>0.0</td>\n",
       "      <td>0.0</td>\n",
       "      <td>0.0</td>\n",
       "      <td>0.0</td>\n",
       "      <td>0.0</td>\n",
       "      <td>0.0</td>\n",
       "      <td>0.0</td>\n",
       "      <td>0.0</td>\n",
       "      <td>...</td>\n",
       "      <td>0.0</td>\n",
       "      <td>0.0</td>\n",
       "      <td>0.0</td>\n",
       "      <td>0.0</td>\n",
       "      <td>0.0</td>\n",
       "      <td>0.0</td>\n",
       "      <td>0.0</td>\n",
       "      <td>0.0</td>\n",
       "      <td>0.0</td>\n",
       "      <td>0.0</td>\n",
       "    </tr>\n",
       "    <tr>\n",
       "      <th>11</th>\n",
       "      <td>0.0</td>\n",
       "      <td>0.0</td>\n",
       "      <td>0.0</td>\n",
       "      <td>0.0</td>\n",
       "      <td>0.0</td>\n",
       "      <td>0.0</td>\n",
       "      <td>0.0</td>\n",
       "      <td>0.0</td>\n",
       "      <td>0.0</td>\n",
       "      <td>0.0</td>\n",
       "      <td>...</td>\n",
       "      <td>0.0</td>\n",
       "      <td>0.0</td>\n",
       "      <td>0.0</td>\n",
       "      <td>0.0</td>\n",
       "      <td>0.0</td>\n",
       "      <td>0.0</td>\n",
       "      <td>0.0</td>\n",
       "      <td>0.0</td>\n",
       "      <td>0.0</td>\n",
       "      <td>0.0</td>\n",
       "    </tr>\n",
       "    <tr>\n",
       "      <th>12</th>\n",
       "      <td>0.0</td>\n",
       "      <td>0.0</td>\n",
       "      <td>0.0</td>\n",
       "      <td>0.0</td>\n",
       "      <td>0.0</td>\n",
       "      <td>0.0</td>\n",
       "      <td>0.0</td>\n",
       "      <td>0.0</td>\n",
       "      <td>0.0</td>\n",
       "      <td>0.0</td>\n",
       "      <td>...</td>\n",
       "      <td>0.0</td>\n",
       "      <td>0.0</td>\n",
       "      <td>0.0</td>\n",
       "      <td>0.0</td>\n",
       "      <td>0.0</td>\n",
       "      <td>0.0</td>\n",
       "      <td>0.0</td>\n",
       "      <td>0.0</td>\n",
       "      <td>0.0</td>\n",
       "      <td>0.0</td>\n",
       "    </tr>\n",
       "    <tr>\n",
       "      <th>13</th>\n",
       "      <td>0.0</td>\n",
       "      <td>0.0</td>\n",
       "      <td>0.0</td>\n",
       "      <td>0.0</td>\n",
       "      <td>0.0</td>\n",
       "      <td>0.0</td>\n",
       "      <td>0.0</td>\n",
       "      <td>0.0</td>\n",
       "      <td>0.0</td>\n",
       "      <td>0.0</td>\n",
       "      <td>...</td>\n",
       "      <td>0.0</td>\n",
       "      <td>0.0</td>\n",
       "      <td>0.0</td>\n",
       "      <td>0.0</td>\n",
       "      <td>0.0</td>\n",
       "      <td>0.0</td>\n",
       "      <td>0.0</td>\n",
       "      <td>0.0</td>\n",
       "      <td>0.0</td>\n",
       "      <td>0.0</td>\n",
       "    </tr>\n",
       "    <tr>\n",
       "      <th>14</th>\n",
       "      <td>0.0</td>\n",
       "      <td>0.0</td>\n",
       "      <td>0.0</td>\n",
       "      <td>0.0</td>\n",
       "      <td>0.0</td>\n",
       "      <td>0.0</td>\n",
       "      <td>0.0</td>\n",
       "      <td>0.0</td>\n",
       "      <td>0.0</td>\n",
       "      <td>0.0</td>\n",
       "      <td>...</td>\n",
       "      <td>0.0</td>\n",
       "      <td>0.0</td>\n",
       "      <td>0.0</td>\n",
       "      <td>0.0</td>\n",
       "      <td>0.0</td>\n",
       "      <td>0.0</td>\n",
       "      <td>0.0</td>\n",
       "      <td>0.0</td>\n",
       "      <td>0.0</td>\n",
       "      <td>0.0</td>\n",
       "    </tr>\n",
       "    <tr>\n",
       "      <th>15</th>\n",
       "      <td>0.0</td>\n",
       "      <td>0.0</td>\n",
       "      <td>0.0</td>\n",
       "      <td>0.0</td>\n",
       "      <td>0.0</td>\n",
       "      <td>0.0</td>\n",
       "      <td>0.0</td>\n",
       "      <td>0.0</td>\n",
       "      <td>0.0</td>\n",
       "      <td>0.0</td>\n",
       "      <td>...</td>\n",
       "      <td>0.0</td>\n",
       "      <td>0.0</td>\n",
       "      <td>0.0</td>\n",
       "      <td>0.0</td>\n",
       "      <td>0.0</td>\n",
       "      <td>0.0</td>\n",
       "      <td>0.0</td>\n",
       "      <td>0.0</td>\n",
       "      <td>0.0</td>\n",
       "      <td>0.0</td>\n",
       "    </tr>\n",
       "    <tr>\n",
       "      <th>16</th>\n",
       "      <td>0.0</td>\n",
       "      <td>0.0</td>\n",
       "      <td>0.0</td>\n",
       "      <td>0.0</td>\n",
       "      <td>0.0</td>\n",
       "      <td>0.0</td>\n",
       "      <td>0.0</td>\n",
       "      <td>0.0</td>\n",
       "      <td>0.0</td>\n",
       "      <td>0.0</td>\n",
       "      <td>...</td>\n",
       "      <td>0.0</td>\n",
       "      <td>0.0</td>\n",
       "      <td>0.0</td>\n",
       "      <td>0.0</td>\n",
       "      <td>0.0</td>\n",
       "      <td>0.0</td>\n",
       "      <td>0.0</td>\n",
       "      <td>0.0</td>\n",
       "      <td>0.0</td>\n",
       "      <td>0.0</td>\n",
       "    </tr>\n",
       "    <tr>\n",
       "      <th>17</th>\n",
       "      <td>0.0</td>\n",
       "      <td>0.0</td>\n",
       "      <td>0.0</td>\n",
       "      <td>0.0</td>\n",
       "      <td>0.0</td>\n",
       "      <td>0.0</td>\n",
       "      <td>0.0</td>\n",
       "      <td>0.0</td>\n",
       "      <td>0.0</td>\n",
       "      <td>0.0</td>\n",
       "      <td>...</td>\n",
       "      <td>0.0</td>\n",
       "      <td>0.0</td>\n",
       "      <td>0.0</td>\n",
       "      <td>0.0</td>\n",
       "      <td>0.0</td>\n",
       "      <td>0.0</td>\n",
       "      <td>0.0</td>\n",
       "      <td>0.0</td>\n",
       "      <td>0.0</td>\n",
       "      <td>0.0</td>\n",
       "    </tr>\n",
       "    <tr>\n",
       "      <th>18</th>\n",
       "      <td>0.0</td>\n",
       "      <td>0.0</td>\n",
       "      <td>0.0</td>\n",
       "      <td>0.0</td>\n",
       "      <td>0.0</td>\n",
       "      <td>0.0</td>\n",
       "      <td>0.0</td>\n",
       "      <td>0.0</td>\n",
       "      <td>0.0</td>\n",
       "      <td>0.0</td>\n",
       "      <td>...</td>\n",
       "      <td>0.0</td>\n",
       "      <td>0.0</td>\n",
       "      <td>0.0</td>\n",
       "      <td>0.0</td>\n",
       "      <td>0.0</td>\n",
       "      <td>0.0</td>\n",
       "      <td>0.0</td>\n",
       "      <td>0.0</td>\n",
       "      <td>0.0</td>\n",
       "      <td>0.0</td>\n",
       "    </tr>\n",
       "    <tr>\n",
       "      <th>19</th>\n",
       "      <td>0.0</td>\n",
       "      <td>0.0</td>\n",
       "      <td>0.0</td>\n",
       "      <td>0.0</td>\n",
       "      <td>0.0</td>\n",
       "      <td>0.0</td>\n",
       "      <td>0.0</td>\n",
       "      <td>0.0</td>\n",
       "      <td>0.0</td>\n",
       "      <td>0.0</td>\n",
       "      <td>...</td>\n",
       "      <td>0.0</td>\n",
       "      <td>0.0</td>\n",
       "      <td>0.0</td>\n",
       "      <td>0.0</td>\n",
       "      <td>0.0</td>\n",
       "      <td>0.0</td>\n",
       "      <td>0.0</td>\n",
       "      <td>0.0</td>\n",
       "      <td>0.0</td>\n",
       "      <td>0.0</td>\n",
       "    </tr>\n",
       "  </tbody>\n",
       "</table>\n",
       "<p>20 rows × 75439 columns</p>\n",
       "</div>"
      ],
      "text/plain": [
       "     aa  aaa  aaaa  aaaaaaaaaaaaaaandyou  aaaaaaaaaaaaahhhhhhhhhhh  \\\n",
       "0   0.0  0.0   0.0                   0.0                       0.0   \n",
       "1   0.0  0.0   0.0                   0.0                       0.0   \n",
       "2   0.0  0.0   0.0                   0.0                       0.0   \n",
       "3   0.0  0.0   0.0                   0.0                       0.0   \n",
       "4   0.0  0.0   0.0                   0.0                       0.0   \n",
       "5   0.0  0.0   0.0                   0.0                       0.0   \n",
       "6   0.0  0.0   0.0                   0.0                       0.0   \n",
       "7   0.0  0.0   0.0                   0.0                       0.0   \n",
       "8   0.0  0.0   0.0                   0.0                       0.0   \n",
       "9   0.0  0.0   0.0                   0.0                       0.0   \n",
       "10  0.0  0.0   0.0                   0.0                       0.0   \n",
       "11  0.0  0.0   0.0                   0.0                       0.0   \n",
       "12  0.0  0.0   0.0                   0.0                       0.0   \n",
       "13  0.0  0.0   0.0                   0.0                       0.0   \n",
       "14  0.0  0.0   0.0                   0.0                       0.0   \n",
       "15  0.0  0.0   0.0                   0.0                       0.0   \n",
       "16  0.0  0.0   0.0                   0.0                       0.0   \n",
       "17  0.0  0.0   0.0                   0.0                       0.0   \n",
       "18  0.0  0.0   0.0                   0.0                       0.0   \n",
       "19  0.0  0.0   0.0                   0.0                       0.0   \n",
       "\n",
       "    aaaaaahnnthey  aaaaaahole  aaaaah  aaaaand  aaaaannnd  ...  zoospace  \\\n",
       "0             0.0         0.0     0.0      0.0        0.0  ...       0.0   \n",
       "1             0.0         0.0     0.0      0.0        0.0  ...       0.0   \n",
       "2             0.0         0.0     0.0      0.0        0.0  ...       0.0   \n",
       "3             0.0         0.0     0.0      0.0        0.0  ...       0.0   \n",
       "4             0.0         0.0     0.0      0.0        0.0  ...       0.0   \n",
       "5             0.0         0.0     0.0      0.0        0.0  ...       0.0   \n",
       "6             0.0         0.0     0.0      0.0        0.0  ...       0.0   \n",
       "7             0.0         0.0     0.0      0.0        0.0  ...       0.0   \n",
       "8             0.0         0.0     0.0      0.0        0.0  ...       0.0   \n",
       "9             0.0         0.0     0.0      0.0        0.0  ...       0.0   \n",
       "10            0.0         0.0     0.0      0.0        0.0  ...       0.0   \n",
       "11            0.0         0.0     0.0      0.0        0.0  ...       0.0   \n",
       "12            0.0         0.0     0.0      0.0        0.0  ...       0.0   \n",
       "13            0.0         0.0     0.0      0.0        0.0  ...       0.0   \n",
       "14            0.0         0.0     0.0      0.0        0.0  ...       0.0   \n",
       "15            0.0         0.0     0.0      0.0        0.0  ...       0.0   \n",
       "16            0.0         0.0     0.0      0.0        0.0  ...       0.0   \n",
       "17            0.0         0.0     0.0      0.0        0.0  ...       0.0   \n",
       "18            0.0         0.0     0.0      0.0        0.0  ...       0.0   \n",
       "19            0.0         0.0     0.0      0.0        0.0  ...       0.0   \n",
       "\n",
       "    zoowe  zorbas   zs  zucchini  zucchinis  zuchinni  zuma  zumba   zz  \n",
       "0     0.0     0.0  0.0       0.0        0.0       0.0   0.0    0.0  0.0  \n",
       "1     0.0     0.0  0.0       0.0        0.0       0.0   0.0    0.0  0.0  \n",
       "2     0.0     0.0  0.0       0.0        0.0       0.0   0.0    0.0  0.0  \n",
       "3     0.0     0.0  0.0       0.0        0.0       0.0   0.0    0.0  0.0  \n",
       "4     0.0     0.0  0.0       0.0        0.0       0.0   0.0    0.0  0.0  \n",
       "5     0.0     0.0  0.0       0.0        0.0       0.0   0.0    0.0  0.0  \n",
       "6     0.0     0.0  0.0       0.0        0.0       0.0   0.0    0.0  0.0  \n",
       "7     0.0     0.0  0.0       0.0        0.0       0.0   0.0    0.0  0.0  \n",
       "8     0.0     0.0  0.0       0.0        0.0       0.0   0.0    0.0  0.0  \n",
       "9     0.0     0.0  0.0       0.0        0.0       0.0   0.0    0.0  0.0  \n",
       "10    0.0     0.0  0.0       0.0        0.0       0.0   0.0    0.0  0.0  \n",
       "11    0.0     0.0  0.0       0.0        0.0       0.0   0.0    0.0  0.0  \n",
       "12    0.0     0.0  0.0       0.0        0.0       0.0   0.0    0.0  0.0  \n",
       "13    0.0     0.0  0.0       0.0        0.0       0.0   0.0    0.0  0.0  \n",
       "14    0.0     0.0  0.0       0.0        0.0       0.0   0.0    0.0  0.0  \n",
       "15    0.0     0.0  0.0       0.0        0.0       0.0   0.0    0.0  0.0  \n",
       "16    0.0     0.0  0.0       0.0        0.0       0.0   0.0    0.0  0.0  \n",
       "17    0.0     0.0  0.0       0.0        0.0       0.0   0.0    0.0  0.0  \n",
       "18    0.0     0.0  0.0       0.0        0.0       0.0   0.0    0.0  0.0  \n",
       "19    0.0     0.0  0.0       0.0        0.0       0.0   0.0    0.0  0.0  \n",
       "\n",
       "[20 rows x 75439 columns]"
      ]
     },
     "execution_count": 27,
     "metadata": {},
     "output_type": "execute_result"
    }
   ],
   "source": [
    "tf_df.head(20)"
   ]
  },
  {
   "cell_type": "code",
   "execution_count": 28,
   "id": "342fab34",
   "metadata": {},
   "outputs": [],
   "source": [
    "neighbor_range = range(1,11)\n",
    "track_precision =[]"
   ]
  },
  {
   "cell_type": "code",
   "execution_count": 29,
   "id": "89b50c5f",
   "metadata": {},
   "outputs": [
    {
     "data": {
      "text/plain": [
       "(4500, 75439)"
      ]
     },
     "execution_count": 29,
     "metadata": {},
     "output_type": "execute_result"
    }
   ],
   "source": [
    "from sklearn.neighbors import KNeighborsClassifier\n",
    "from sklearn import metrics\n",
    "fit_test_matrix = tf_idf_vectorizer.transform(review_test)\n",
    "test_matrix = fit_test_matrix.toarray()\n",
    "test_matrix.shape\n",
    "    "
   ]
  },
  {
   "cell_type": "code",
   "execution_count": 30,
   "id": "1e6e00ef",
   "metadata": {},
   "outputs": [],
   "source": [
    "classifer = KNeighborsClassifier(n_neighbors=29,n_jobs=3,weights='distance')\n",
    "# classifer.fit(train_matrix, sentiments_train)\n",
    "# sentiments_predict = classifer.predict(test_matrix)\n",
    "# score = metrics.accuracy_score(sentiments_test,sentiments_predict)\n",
    "# print(score)\n",
    "# track_precision.append(score)"
   ]
  },
  {
   "cell_type": "code",
   "execution_count": 31,
   "id": "d55706db",
   "metadata": {},
   "outputs": [],
   "source": [
    "set_test = pd.read_csv('1661892619_9579706_test_file.csv',names=[\"reviews\"])"
   ]
  },
  {
   "cell_type": "code",
   "execution_count": 32,
   "id": "88acb8cd",
   "metadata": {},
   "outputs": [
    {
     "data": {
      "text/html": [
       "<div>\n",
       "<style scoped>\n",
       "    .dataframe tbody tr th:only-of-type {\n",
       "        vertical-align: middle;\n",
       "    }\n",
       "\n",
       "    .dataframe tbody tr th {\n",
       "        vertical-align: top;\n",
       "    }\n",
       "\n",
       "    .dataframe thead th {\n",
       "        text-align: right;\n",
       "    }\n",
       "</style>\n",
       "<table border=\"1\" class=\"dataframe\">\n",
       "  <thead>\n",
       "    <tr style=\"text-align: right;\">\n",
       "      <th></th>\n",
       "      <th>reviews</th>\n",
       "    </tr>\n",
       "  </thead>\n",
       "  <tbody>\n",
       "    <tr>\n",
       "      <th>0</th>\n",
       "      <td>Got take-out from here last night and it was H...</td>\n",
       "    </tr>\n",
       "    <tr>\n",
       "      <th>1</th>\n",
       "      <td>Girls are sweet and prices are reasonable. The...</td>\n",
       "    </tr>\n",
       "    <tr>\n",
       "      <th>2</th>\n",
       "      <td>Rudest people I have ever encountered.  Husban...</td>\n",
       "    </tr>\n",
       "    <tr>\n",
       "      <th>3</th>\n",
       "      <td>This airport is only coveted for the destinati...</td>\n",
       "    </tr>\n",
       "    <tr>\n",
       "      <th>4</th>\n",
       "      <td>The last 4 months have shown a steady decline ...</td>\n",
       "    </tr>\n",
       "  </tbody>\n",
       "</table>\n",
       "</div>"
      ],
      "text/plain": [
       "                                             reviews\n",
       "0  Got take-out from here last night and it was H...\n",
       "1  Girls are sweet and prices are reasonable. The...\n",
       "2  Rudest people I have ever encountered.  Husban...\n",
       "3  This airport is only coveted for the destinati...\n",
       "4  The last 4 months have shown a steady decline ..."
      ]
     },
     "execution_count": 32,
     "metadata": {},
     "output_type": "execute_result"
    }
   ],
   "source": [
    "set_test.head()"
   ]
  },
  {
   "cell_type": "code",
   "execution_count": 33,
   "id": "2d6f1abf",
   "metadata": {},
   "outputs": [],
   "source": [
    "set_test['reviews'] = set_test.reviews.apply(lambda review: review.lower())\n",
    "import string\n",
    "set_test['reviews'] = set_test.reviews.apply(lambda review: review.translate(str.maketrans('', '', string.punctuation)))\n",
    "set_test['reviews'] = set_test.reviews.apply(lambda review: review.translate(str.maketrans('', '', string.digits)))\n",
    "import re\n",
    "set_test['reviews'] = set_test.reviews.apply(lambda review: re.sub(\"r[^a-z]\",'',review))"
   ]
  },
  {
   "cell_type": "code",
   "execution_count": 34,
   "id": "873b3acf",
   "metadata": {},
   "outputs": [],
   "source": [
    "set_test['words'] = set_test.reviews.apply(lambda review: nltk.word_tokenize(review))"
   ]
  },
  {
   "cell_type": "code",
   "execution_count": 35,
   "id": "161e51f4",
   "metadata": {},
   "outputs": [
    {
     "data": {
      "text/html": [
       "<div>\n",
       "<style scoped>\n",
       "    .dataframe tbody tr th:only-of-type {\n",
       "        vertical-align: middle;\n",
       "    }\n",
       "\n",
       "    .dataframe tbody tr th {\n",
       "        vertical-align: top;\n",
       "    }\n",
       "\n",
       "    .dataframe thead th {\n",
       "        text-align: right;\n",
       "    }\n",
       "</style>\n",
       "<table border=\"1\" class=\"dataframe\">\n",
       "  <thead>\n",
       "    <tr style=\"text-align: right;\">\n",
       "      <th></th>\n",
       "      <th>reviews</th>\n",
       "      <th>words</th>\n",
       "    </tr>\n",
       "  </thead>\n",
       "  <tbody>\n",
       "    <tr>\n",
       "      <th>0</th>\n",
       "      <td>got takeout from here last night and it was ho...</td>\n",
       "      <td>[got, takeout, from, here, last, night, and, i...</td>\n",
       "    </tr>\n",
       "    <tr>\n",
       "      <th>1</th>\n",
       "      <td>girls are sweet and prices are reasonable the ...</td>\n",
       "      <td>[girls, are, sweet, and, prices, are, reasonab...</td>\n",
       "    </tr>\n",
       "    <tr>\n",
       "      <th>2</th>\n",
       "      <td>rudest people i have eveencountered  husband a...</td>\n",
       "      <td>[rudest, people, i, have, eveencountered, husb...</td>\n",
       "    </tr>\n",
       "    <tr>\n",
       "      <th>3</th>\n",
       "      <td>this airport is only coveted fothe destination...</td>\n",
       "      <td>[this, airport, is, only, coveted, fothe, dest...</td>\n",
       "    </tr>\n",
       "    <tr>\n",
       "      <th>4</th>\n",
       "      <td>the last  months have shown a steady decline i...</td>\n",
       "      <td>[the, last, months, have, shown, a, steady, de...</td>\n",
       "    </tr>\n",
       "  </tbody>\n",
       "</table>\n",
       "</div>"
      ],
      "text/plain": [
       "                                             reviews  \\\n",
       "0  got takeout from here last night and it was ho...   \n",
       "1  girls are sweet and prices are reasonable the ...   \n",
       "2  rudest people i have eveencountered  husband a...   \n",
       "3  this airport is only coveted fothe destination...   \n",
       "4  the last  months have shown a steady decline i...   \n",
       "\n",
       "                                               words  \n",
       "0  [got, takeout, from, here, last, night, and, i...  \n",
       "1  [girls, are, sweet, and, prices, are, reasonab...  \n",
       "2  [rudest, people, i, have, eveencountered, husb...  \n",
       "3  [this, airport, is, only, coveted, fothe, dest...  \n",
       "4  [the, last, months, have, shown, a, steady, de...  "
      ]
     },
     "execution_count": 35,
     "metadata": {},
     "output_type": "execute_result"
    }
   ],
   "source": [
    "set_test.head()"
   ]
  },
  {
   "cell_type": "code",
   "execution_count": 36,
   "id": "204eec71",
   "metadata": {},
   "outputs": [
    {
     "data": {
      "text/plain": [
       "<matplotlib.collections.PathCollection at 0x7fc85f59b610>"
      ]
     },
     "execution_count": 36,
     "metadata": {},
     "output_type": "execute_result"
    },
    {
     "data": {
      "image/png": "[encoded data removed]",
      "text/plain": [
       "<Figure size 432x288 with 1 Axes>"
      ]
     },
     "metadata": {
      "needs_background": "light"
     },
     "output_type": "display_data"
    }
   ],
   "source": [
    "plt.scatter(set_test.index, set_test.words.apply(lambda data: len(data)))"
   ]
  },
  {
   "cell_type": "code",
   "execution_count": 37,
   "id": "dcfc1581",
   "metadata": {},
   "outputs": [],
   "source": [
    "set_test['stop_words_cleaned'] = set_test.words.apply(lambda word_list: remove_stopwords(word_list))"
   ]
  },
  {
   "cell_type": "code",
   "execution_count": 38,
   "id": "3c2b8bbc",
   "metadata": {},
   "outputs": [
    {
     "data": {
      "text/html": [
       "<div>\n",
       "<style scoped>\n",
       "    .dataframe tbody tr th:only-of-type {\n",
       "        vertical-align: middle;\n",
       "    }\n",
       "\n",
       "    .dataframe tbody tr th {\n",
       "        vertical-align: top;\n",
       "    }\n",
       "\n",
       "    .dataframe thead th {\n",
       "        text-align: right;\n",
       "    }\n",
       "</style>\n",
       "<table border=\"1\" class=\"dataframe\">\n",
       "  <thead>\n",
       "    <tr style=\"text-align: right;\">\n",
       "      <th></th>\n",
       "      <th>reviews</th>\n",
       "      <th>words</th>\n",
       "      <th>stop_words_cleaned</th>\n",
       "    </tr>\n",
       "  </thead>\n",
       "  <tbody>\n",
       "    <tr>\n",
       "      <th>0</th>\n",
       "      <td>got takeout from here last night and it was ho...</td>\n",
       "      <td>[got, takeout, from, here, last, night, and, i...</td>\n",
       "      <td>[got, takeout, last, night, horrible, somethin...</td>\n",
       "    </tr>\n",
       "    <tr>\n",
       "      <th>1</th>\n",
       "      <td>girls are sweet and prices are reasonable the ...</td>\n",
       "      <td>[girls, are, sweet, and, prices, are, reasonab...</td>\n",
       "      <td>[girls, sweet, prices, reasonable, stand, bed,...</td>\n",
       "    </tr>\n",
       "    <tr>\n",
       "      <th>2</th>\n",
       "      <td>rudest people i have eveencountered  husband a...</td>\n",
       "      <td>[rudest, people, i, have, eveencountered, husb...</td>\n",
       "      <td>[rudest, people, eveencountered, husband, wife...</td>\n",
       "    </tr>\n",
       "    <tr>\n",
       "      <th>3</th>\n",
       "      <td>this airport is only coveted fothe destination...</td>\n",
       "      <td>[this, airport, is, only, coveted, fothe, dest...</td>\n",
       "      <td>[airport, coveted, fothe, destination, leads, ...</td>\n",
       "    </tr>\n",
       "    <tr>\n",
       "      <th>4</th>\n",
       "      <td>the last  months have shown a steady decline i...</td>\n",
       "      <td>[the, last, months, have, shown, a, steady, de...</td>\n",
       "      <td>[last, months, shown, steady, decline, pisspoo...</td>\n",
       "    </tr>\n",
       "  </tbody>\n",
       "</table>\n",
       "</div>"
      ],
      "text/plain": [
       "                                             reviews  \\\n",
       "0  got takeout from here last night and it was ho...   \n",
       "1  girls are sweet and prices are reasonable the ...   \n",
       "2  rudest people i have eveencountered  husband a...   \n",
       "3  this airport is only coveted fothe destination...   \n",
       "4  the last  months have shown a steady decline i...   \n",
       "\n",
       "                                               words  \\\n",
       "0  [got, takeout, from, here, last, night, and, i...   \n",
       "1  [girls, are, sweet, and, prices, are, reasonab...   \n",
       "2  [rudest, people, i, have, eveencountered, husb...   \n",
       "3  [this, airport, is, only, coveted, fothe, dest...   \n",
       "4  [the, last, months, have, shown, a, steady, de...   \n",
       "\n",
       "                                  stop_words_cleaned  \n",
       "0  [got, takeout, last, night, horrible, somethin...  \n",
       "1  [girls, sweet, prices, reasonable, stand, bed,...  \n",
       "2  [rudest, people, eveencountered, husband, wife...  \n",
       "3  [airport, coveted, fothe, destination, leads, ...  \n",
       "4  [last, months, shown, steady, decline, pisspoo...  "
      ]
     },
     "execution_count": 38,
     "metadata": {},
     "output_type": "execute_result"
    }
   ],
   "source": [
    "set_test.head()"
   ]
  },
  {
   "cell_type": "code",
   "execution_count": 39,
   "id": "e5cd81b5",
   "metadata": {},
   "outputs": [
    {
     "data": {
      "text/plain": [
       "<matplotlib.collections.PathCollection at 0x7fc88abf5f10>"
      ]
     },
     "execution_count": 39,
     "metadata": {},
     "output_type": "execute_result"
    },
    {
     "data": {
      "image/png": "[encoded data removed]",
      "text/plain": [
       "<Figure size 432x288 with 1 Axes>"
      ]
     },
     "metadata": {
      "needs_background": "light"
     },
     "output_type": "display_data"
    }
   ],
   "source": [
    "plt.scatter(set_test.index, set_test.stop_words_cleaned.apply(lambda data: len(data)))"
   ]
  },
  {
   "cell_type": "code",
   "execution_count": 40,
   "id": "de0ad267",
   "metadata": {},
   "outputs": [],
   "source": [
    "set_test['lemma_word'] = set_test.stop_words_cleaned.apply(lambda word_list: find_lemma_word(word_list))"
   ]
  },
  {
   "cell_type": "code",
   "execution_count": 41,
   "id": "b4c4feac",
   "metadata": {},
   "outputs": [
    {
     "data": {
      "text/html": [
       "<div>\n",
       "<style scoped>\n",
       "    .dataframe tbody tr th:only-of-type {\n",
       "        vertical-align: middle;\n",
       "    }\n",
       "\n",
       "    .dataframe tbody tr th {\n",
       "        vertical-align: top;\n",
       "    }\n",
       "\n",
       "    .dataframe thead th {\n",
       "        text-align: right;\n",
       "    }\n",
       "</style>\n",
       "<table border=\"1\" class=\"dataframe\">\n",
       "  <thead>\n",
       "    <tr style=\"text-align: right;\">\n",
       "      <th></th>\n",
       "      <th>reviews</th>\n",
       "      <th>words</th>\n",
       "      <th>stop_words_cleaned</th>\n",
       "      <th>lemma_word</th>\n",
       "    </tr>\n",
       "  </thead>\n",
       "  <tbody>\n",
       "    <tr>\n",
       "      <th>0</th>\n",
       "      <td>got takeout from here last night and it was ho...</td>\n",
       "      <td>[got, takeout, from, here, last, night, and, i...</td>\n",
       "      <td>[got, takeout, last, night, horrible, somethin...</td>\n",
       "      <td>[get, takeout, last, night, horrible, somethin...</td>\n",
       "    </tr>\n",
       "    <tr>\n",
       "      <th>1</th>\n",
       "      <td>girls are sweet and prices are reasonable the ...</td>\n",
       "      <td>[girls, are, sweet, and, prices, are, reasonab...</td>\n",
       "      <td>[girls, sweet, prices, reasonable, stand, bed,...</td>\n",
       "      <td>[girl, sweet, price, reasonable, stand, bed, h...</td>\n",
       "    </tr>\n",
       "    <tr>\n",
       "      <th>2</th>\n",
       "      <td>rudest people i have eveencountered  husband a...</td>\n",
       "      <td>[rudest, people, i, have, eveencountered, husb...</td>\n",
       "      <td>[rudest, people, eveencountered, husband, wife...</td>\n",
       "      <td>[rudest, people, eveencountered, husband, wife...</td>\n",
       "    </tr>\n",
       "    <tr>\n",
       "      <th>3</th>\n",
       "      <td>this airport is only coveted fothe destination...</td>\n",
       "      <td>[this, airport, is, only, coveted, fothe, dest...</td>\n",
       "      <td>[airport, coveted, fothe, destination, leads, ...</td>\n",
       "      <td>[airport, covet, fothe, destination, lead, fli...</td>\n",
       "    </tr>\n",
       "    <tr>\n",
       "      <th>4</th>\n",
       "      <td>the last  months have shown a steady decline i...</td>\n",
       "      <td>[the, last, months, have, shown, a, steady, de...</td>\n",
       "      <td>[last, months, shown, steady, decline, pisspoo...</td>\n",
       "      <td>[last, month, show, steady, decline, pisspoose...</td>\n",
       "    </tr>\n",
       "  </tbody>\n",
       "</table>\n",
       "</div>"
      ],
      "text/plain": [
       "                                             reviews  \\\n",
       "0  got takeout from here last night and it was ho...   \n",
       "1  girls are sweet and prices are reasonable the ...   \n",
       "2  rudest people i have eveencountered  husband a...   \n",
       "3  this airport is only coveted fothe destination...   \n",
       "4  the last  months have shown a steady decline i...   \n",
       "\n",
       "                                               words  \\\n",
       "0  [got, takeout, from, here, last, night, and, i...   \n",
       "1  [girls, are, sweet, and, prices, are, reasonab...   \n",
       "2  [rudest, people, i, have, eveencountered, husb...   \n",
       "3  [this, airport, is, only, coveted, fothe, dest...   \n",
       "4  [the, last, months, have, shown, a, steady, de...   \n",
       "\n",
       "                                  stop_words_cleaned  \\\n",
       "0  [got, takeout, last, night, horrible, somethin...   \n",
       "1  [girls, sweet, prices, reasonable, stand, bed,...   \n",
       "2  [rudest, people, eveencountered, husband, wife...   \n",
       "3  [airport, coveted, fothe, destination, leads, ...   \n",
       "4  [last, months, shown, steady, decline, pisspoo...   \n",
       "\n",
       "                                          lemma_word  \n",
       "0  [get, takeout, last, night, horrible, somethin...  \n",
       "1  [girl, sweet, price, reasonable, stand, bed, h...  \n",
       "2  [rudest, people, eveencountered, husband, wife...  \n",
       "3  [airport, covet, fothe, destination, lead, fli...  \n",
       "4  [last, month, show, steady, decline, pisspoose...  "
      ]
     },
     "execution_count": 41,
     "metadata": {},
     "output_type": "execute_result"
    }
   ],
   "source": [
    "set_test.head()"
   ]
  },
  {
   "cell_type": "code",
   "execution_count": 42,
   "id": "38bbd0d3",
   "metadata": {},
   "outputs": [],
   "source": [
    "set_test['cleaned_review'] = set_test.lemma_word.apply(lambda review_list: \" \".join(review_list))"
   ]
  },
  {
   "cell_type": "code",
   "execution_count": 43,
   "id": "48d1bfae",
   "metadata": {},
   "outputs": [
    {
     "data": {
      "text/plain": [
       "11732    really good food give price youre look focheap...\n",
       "13819    first time challa buttecookies todiefornngreat...\n",
       "16143    third time ive eaten im sorry say really flubb...\n",
       "14106    place great ive often ovethe past year always ...\n",
       "4582     like neighborhood manuels place cold service s...\n",
       "                               ...                        \n",
       "15651    get experience macayos local italian restauran...\n",
       "10813    judge review believe anything fouofive star do...\n",
       "5398     travel several time month convenience importan...\n",
       "15139    im give place one stabecause yelp doesnt half ...\n",
       "3211     really good lentil soup great rice lamb combo ...\n",
       "Name: cleaned_review, Length: 4500, dtype: object"
      ]
     },
     "execution_count": 43,
     "metadata": {},
     "output_type": "execute_result"
    }
   ],
   "source": [
    "review_test"
   ]
  },
  {
   "cell_type": "code",
   "execution_count": 44,
   "id": "6bcaf551",
   "metadata": {},
   "outputs": [],
   "source": [
    "fit_testing_matrix = tf_idf_vectorizer.transform(set_test['cleaned_review'])\n",
    "testing_matrix = fit_testing_matrix.toarray()"
   ]
  },
  {
   "cell_type": "code",
   "execution_count": 45,
   "id": "3d3d8d75",
   "metadata": {},
   "outputs": [
    {
     "data": {
      "text/plain": [
       "(18000, 75439)"
      ]
     },
     "execution_count": 45,
     "metadata": {},
     "output_type": "execute_result"
    }
   ],
   "source": [
    "testing_matrix.shape"
   ]
  },
  {
   "cell_type": "code",
   "execution_count": 46,
   "id": "5b2dd780",
   "metadata": {},
   "outputs": [
    {
     "ename": "NotFittedError",
     "evalue": "This KNeighborsClassifier instance is not fitted yet. Call 'fit' with appropriate arguments before using this estimator.",
     "output_type": "error",
     "traceback": [
      "\u001b[0;31m---------------------------------------------------------------------------\u001b[0m",
      "\u001b[0;31mNotFittedError\u001b[0m                            Traceback (most recent call last)",
      "\u001b[0;32m/var/folders/w9/17dx1py559xc12bhjgp9w4_80000gn/T/ipykernel_95153/1186784895.py\u001b[0m in \u001b[0;36m<module>\u001b[0;34m\u001b[0m\n\u001b[0;32m----> 1\u001b[0;31m \u001b[0mtest_sentiments_predict\u001b[0m \u001b[0;34m=\u001b[0m \u001b[0mclassifer\u001b[0m\u001b[0;34m.\u001b[0m\u001b[0mpredict\u001b[0m\u001b[0;34m(\u001b[0m\u001b[0mtesting_matrix\u001b[0m\u001b[0;34m)\u001b[0m\u001b[0;34m\u001b[0m\u001b[0;34m\u001b[0m\u001b[0m\n\u001b[0m",
      "\u001b[0;32m~/aenv/lib/python3.7/site-packages/sklearn/neighbors/_classification.py\u001b[0m in \u001b[0;36mpredict\u001b[0;34m(self, X)\u001b[0m\n\u001b[1;32m    212\u001b[0m             \u001b[0mClass\u001b[0m \u001b[0mlabels\u001b[0m \u001b[0;32mfor\u001b[0m \u001b[0meach\u001b[0m \u001b[0mdata\u001b[0m \u001b[0msample\u001b[0m\u001b[0;34m.\u001b[0m\u001b[0;34m\u001b[0m\u001b[0;34m\u001b[0m\u001b[0m\n\u001b[1;32m    213\u001b[0m         \"\"\"\n\u001b[0;32m--> 214\u001b[0;31m         \u001b[0mneigh_dist\u001b[0m\u001b[0;34m,\u001b[0m \u001b[0mneigh_ind\u001b[0m \u001b[0;34m=\u001b[0m \u001b[0mself\u001b[0m\u001b[0;34m.\u001b[0m\u001b[0mkneighbors\u001b[0m\u001b[0;34m(\u001b[0m\u001b[0mX\u001b[0m\u001b[0;34m)\u001b[0m\u001b[0;34m\u001b[0m\u001b[0;34m\u001b[0m\u001b[0m\n\u001b[0m\u001b[1;32m    215\u001b[0m         \u001b[0mclasses_\u001b[0m \u001b[0;34m=\u001b[0m \u001b[0mself\u001b[0m\u001b[0;34m.\u001b[0m\u001b[0mclasses_\u001b[0m\u001b[0;34m\u001b[0m\u001b[0;34m\u001b[0m\u001b[0m\n\u001b[1;32m    216\u001b[0m         \u001b[0m_y\u001b[0m \u001b[0;34m=\u001b[0m \u001b[0mself\u001b[0m\u001b[0;34m.\u001b[0m\u001b[0m_y\u001b[0m\u001b[0;34m\u001b[0m\u001b[0;34m\u001b[0m\u001b[0m\n",
      "\u001b[0;32m~/aenv/lib/python3.7/site-packages/sklearn/neighbors/_base.py\u001b[0m in \u001b[0;36mkneighbors\u001b[0;34m(self, X, n_neighbors, return_distance)\u001b[0m\n\u001b[1;32m    698\u001b[0m                [2]]...)\n\u001b[1;32m    699\u001b[0m         \"\"\"\n\u001b[0;32m--> 700\u001b[0;31m         \u001b[0mcheck_is_fitted\u001b[0m\u001b[0;34m(\u001b[0m\u001b[0mself\u001b[0m\u001b[0;34m)\u001b[0m\u001b[0;34m\u001b[0m\u001b[0;34m\u001b[0m\u001b[0m\n\u001b[0m\u001b[1;32m    701\u001b[0m \u001b[0;34m\u001b[0m\u001b[0m\n\u001b[1;32m    702\u001b[0m         \u001b[0;32mif\u001b[0m \u001b[0mn_neighbors\u001b[0m \u001b[0;32mis\u001b[0m \u001b[0;32mNone\u001b[0m\u001b[0;34m:\u001b[0m\u001b[0;34m\u001b[0m\u001b[0;34m\u001b[0m\u001b[0m\n",
      "\u001b[0;32m~/aenv/lib/python3.7/site-packages/sklearn/utils/validation.py\u001b[0m in \u001b[0;36mcheck_is_fitted\u001b[0;34m(estimator, attributes, msg, all_or_any)\u001b[0m\n\u001b[1;32m   1220\u001b[0m \u001b[0;34m\u001b[0m\u001b[0m\n\u001b[1;32m   1221\u001b[0m     \u001b[0;32mif\u001b[0m \u001b[0;32mnot\u001b[0m \u001b[0mfitted\u001b[0m\u001b[0;34m:\u001b[0m\u001b[0;34m\u001b[0m\u001b[0;34m\u001b[0m\u001b[0m\n\u001b[0;32m-> 1222\u001b[0;31m         \u001b[0;32mraise\u001b[0m \u001b[0mNotFittedError\u001b[0m\u001b[0;34m(\u001b[0m\u001b[0mmsg\u001b[0m \u001b[0;34m%\u001b[0m \u001b[0;34m{\u001b[0m\u001b[0;34m\"name\"\u001b[0m\u001b[0;34m:\u001b[0m \u001b[0mtype\u001b[0m\u001b[0;34m(\u001b[0m\u001b[0mestimator\u001b[0m\u001b[0;34m)\u001b[0m\u001b[0;34m.\u001b[0m\u001b[0m__name__\u001b[0m\u001b[0;34m}\u001b[0m\u001b[0;34m)\u001b[0m\u001b[0;34m\u001b[0m\u001b[0;34m\u001b[0m\u001b[0m\n\u001b[0m\u001b[1;32m   1223\u001b[0m \u001b[0;34m\u001b[0m\u001b[0m\n\u001b[1;32m   1224\u001b[0m \u001b[0;34m\u001b[0m\u001b[0m\n",
      "\u001b[0;31mNotFittedError\u001b[0m: This KNeighborsClassifier instance is not fitted yet. Call 'fit' with appropriate arguments before using this estimator."
     ]
    }
   ],
   "source": [
    "# test_sentiments_predict = classifer.predict(testing_matrix)"
   ]
  },
  {
   "cell_type": "code",
   "execution_count": null,
   "id": "39de2dd3",
   "metadata": {},
   "outputs": [],
   "source": [
    "# import csv\n",
    "# outfile = open('results.csv','w')\n",
    "# out = csv.writer(outfile)\n",
    "# out.writerows(map(lambda x: [x], test_sentiments_predict))\n",
    "# outfile.close()"
   ]
  },
  {
   "cell_type": "code",
   "execution_count": null,
   "id": "5aea6c05",
   "metadata": {},
   "outputs": [],
   "source": [
    "# len(test_sentiments_predict)"
   ]
  },
  {
   "cell_type": "code",
   "execution_count": null,
   "id": "20063af9",
   "metadata": {},
   "outputs": [],
   "source": [
    "# res = pd.read_csv('results.csv',names=['result'])"
   ]
  },
  {
   "cell_type": "code",
   "execution_count": null,
   "id": "86d4569d",
   "metadata": {},
   "outputs": [],
   "source": [
    "# res.shape"
   ]
  },
  {
   "cell_type": "code",
   "execution_count": 47,
   "id": "ba56c4e2",
   "metadata": {},
   "outputs": [
    {
     "data": {
      "text/plain": [
       "15943    pro good location melwood dakota building util...\n",
       "16192    store like peruse supeawesome record collectio...\n",
       "3042     k big supeoregulais place retail dream go dien...\n",
       "11636    best intimate resort phoenix stay fomy wed nig...\n",
       "5721     honestly dont understand love original pancake...\n",
       "Name: cleaned_review, dtype: object"
      ]
     },
     "execution_count": 47,
     "metadata": {},
     "output_type": "execute_result"
    }
   ],
   "source": []
  },
  {
   "cell_type": "code",
   "execution_count": 48,
   "id": "9f2d2184",
   "metadata": {},
   "outputs": [],
   "source": [
    "from sklearn.feature_extraction.text import CountVectorizer"
   ]
  },
  {
   "cell_type": "code",
   "execution_count": 49,
   "id": "d971b0ec",
   "metadata": {},
   "outputs": [],
   "source": [
    "count_vectorizer = CountVectorizer()\n",
    "feature_matrix = count_vectorizer.fit_transform(reviews_train)"
   ]
  },
  {
   "cell_type": "code",
   "execution_count": 50,
   "id": "9cfe2e1e",
   "metadata": {},
   "outputs": [],
   "source": [
    "feature_array = feature_matrix.toarray()"
   ]
  },
  {
   "cell_type": "code",
   "execution_count": 51,
   "id": "5d4dbbb0",
   "metadata": {},
   "outputs": [
    {
     "data": {
      "text/plain": [
       "(13500, 75439)"
      ]
     },
     "execution_count": 51,
     "metadata": {},
     "output_type": "execute_result"
    }
   ],
   "source": [
    "feature_array.shape"
   ]
  },
  {
   "cell_type": "code",
   "execution_count": 53,
   "id": "b6af8146",
   "metadata": {},
   "outputs": [
    {
     "data": {
      "text/plain": [
       "<bound method NDFrame.head of 15943   -1\n",
       "16192    1\n",
       "3042    -1\n",
       "11636    1\n",
       "5721    -1\n",
       "        ..\n",
       "11677    1\n",
       "9474     1\n",
       "11968   -1\n",
       "6137    -1\n",
       "8760    -1\n",
       "Name: sentiments, Length: 13500, dtype: int64>"
      ]
     },
     "execution_count": 53,
     "metadata": {},
     "output_type": "execute_result"
    }
   ],
   "source": [
    "sentiments_train.head"
   ]
  },
  {
   "cell_type": "code",
   "execution_count": 54,
   "id": "588dbf37",
   "metadata": {},
   "outputs": [],
   "source": [
    "from sklearn.feature_selection import chi2"
   ]
  },
  {
   "cell_type": "code",
   "execution_count": 55,
   "id": "66cd4099",
   "metadata": {},
   "outputs": [],
   "source": [
    "weights = chi2(feature_array, sentiments_train)"
   ]
  },
  {
   "cell_type": "code",
   "execution_count": 56,
   "id": "773e1970",
   "metadata": {},
   "outputs": [
    {
     "ename": "AttributeError",
     "evalue": "'tuple' object has no attribute 'shape'",
     "output_type": "error",
     "traceback": [
      "\u001b[0;31m---------------------------------------------------------------------------\u001b[0m",
      "\u001b[0;31mAttributeError\u001b[0m                            Traceback (most recent call last)",
      "\u001b[0;32m/var/folders/w9/17dx1py559xc12bhjgp9w4_80000gn/T/ipykernel_95153/1837806548.py\u001b[0m in \u001b[0;36m<module>\u001b[0;34m\u001b[0m\n\u001b[0;32m----> 1\u001b[0;31m \u001b[0mweights\u001b[0m\u001b[0;34m.\u001b[0m\u001b[0mshape\u001b[0m\u001b[0;34m\u001b[0m\u001b[0;34m\u001b[0m\u001b[0m\n\u001b[0m",
      "\u001b[0;31mAttributeError\u001b[0m: 'tuple' object has no attribute 'shape'"
     ]
    }
   ],
   "source": [
    "weights.shape"
   ]
  },
  {
   "cell_type": "code",
   "execution_count": 57,
   "id": "11803bd8",
   "metadata": {},
   "outputs": [
    {
     "data": {
      "text/plain": [
       "(array([0.33333333, 0.25      , 1.        , ..., 1.        , 0.2       ,\n",
       "        1.        ]),\n",
       " array([0.56370286, 0.61707508, 0.31731051, ..., 0.31731051, 0.65472085,\n",
       "        0.31731051]))"
      ]
     },
     "execution_count": 57,
     "metadata": {},
     "output_type": "execute_result"
    }
   ],
   "source": [
    "weights"
   ]
  },
  {
   "cell_type": "code",
   "execution_count": 58,
   "id": "b7059231",
   "metadata": {},
   "outputs": [],
   "source": [
    "chi = weights[0]"
   ]
  },
  {
   "cell_type": "code",
   "execution_count": 60,
   "id": "f0e189e0",
   "metadata": {},
   "outputs": [
    {
     "data": {
      "text/plain": [
       "(75439,)"
      ]
     },
     "execution_count": 60,
     "metadata": {},
     "output_type": "execute_result"
    }
   ],
   "source": [
    "chi.shape"
   ]
  },
  {
   "cell_type": "code",
   "execution_count": 62,
   "id": "ee8ca759",
   "metadata": {},
   "outputs": [],
   "source": [
    "feature_df = pd.DataFrame(feature_array, columns=count_vectorizer.get_feature_names_out())"
   ]
  },
  {
   "cell_type": "code",
   "execution_count": 63,
   "id": "3df7add6",
   "metadata": {},
   "outputs": [
    {
     "data": {
      "text/html": [
       "<div>\n",
       "<style scoped>\n",
       "    .dataframe tbody tr th:only-of-type {\n",
       "        vertical-align: middle;\n",
       "    }\n",
       "\n",
       "    .dataframe tbody tr th {\n",
       "        vertical-align: top;\n",
       "    }\n",
       "\n",
       "    .dataframe thead th {\n",
       "        text-align: right;\n",
       "    }\n",
       "</style>\n",
       "<table border=\"1\" class=\"dataframe\">\n",
       "  <thead>\n",
       "    <tr style=\"text-align: right;\">\n",
       "      <th></th>\n",
       "      <th>aa</th>\n",
       "      <th>aaa</th>\n",
       "      <th>aaaa</th>\n",
       "      <th>aaaaaaaaaaaaaaandyou</th>\n",
       "      <th>aaaaaaaaaaaaahhhhhhhhhhh</th>\n",
       "      <th>aaaaaahnnthey</th>\n",
       "      <th>aaaaaahole</th>\n",
       "      <th>aaaaah</th>\n",
       "      <th>aaaaand</th>\n",
       "      <th>aaaaannnd</th>\n",
       "      <th>...</th>\n",
       "      <th>zoospace</th>\n",
       "      <th>zoowe</th>\n",
       "      <th>zorbas</th>\n",
       "      <th>zs</th>\n",
       "      <th>zucchini</th>\n",
       "      <th>zucchinis</th>\n",
       "      <th>zuchinni</th>\n",
       "      <th>zuma</th>\n",
       "      <th>zumba</th>\n",
       "      <th>zz</th>\n",
       "    </tr>\n",
       "  </thead>\n",
       "  <tbody>\n",
       "    <tr>\n",
       "      <th>0</th>\n",
       "      <td>0</td>\n",
       "      <td>0</td>\n",
       "      <td>0</td>\n",
       "      <td>0</td>\n",
       "      <td>0</td>\n",
       "      <td>0</td>\n",
       "      <td>0</td>\n",
       "      <td>0</td>\n",
       "      <td>0</td>\n",
       "      <td>0</td>\n",
       "      <td>...</td>\n",
       "      <td>0</td>\n",
       "      <td>0</td>\n",
       "      <td>0</td>\n",
       "      <td>0</td>\n",
       "      <td>0</td>\n",
       "      <td>0</td>\n",
       "      <td>0</td>\n",
       "      <td>0</td>\n",
       "      <td>0</td>\n",
       "      <td>0</td>\n",
       "    </tr>\n",
       "    <tr>\n",
       "      <th>1</th>\n",
       "      <td>0</td>\n",
       "      <td>0</td>\n",
       "      <td>0</td>\n",
       "      <td>0</td>\n",
       "      <td>0</td>\n",
       "      <td>0</td>\n",
       "      <td>0</td>\n",
       "      <td>0</td>\n",
       "      <td>0</td>\n",
       "      <td>0</td>\n",
       "      <td>...</td>\n",
       "      <td>0</td>\n",
       "      <td>0</td>\n",
       "      <td>0</td>\n",
       "      <td>0</td>\n",
       "      <td>0</td>\n",
       "      <td>0</td>\n",
       "      <td>0</td>\n",
       "      <td>0</td>\n",
       "      <td>0</td>\n",
       "      <td>0</td>\n",
       "    </tr>\n",
       "    <tr>\n",
       "      <th>2</th>\n",
       "      <td>0</td>\n",
       "      <td>0</td>\n",
       "      <td>0</td>\n",
       "      <td>0</td>\n",
       "      <td>0</td>\n",
       "      <td>0</td>\n",
       "      <td>0</td>\n",
       "      <td>0</td>\n",
       "      <td>0</td>\n",
       "      <td>0</td>\n",
       "      <td>...</td>\n",
       "      <td>0</td>\n",
       "      <td>0</td>\n",
       "      <td>0</td>\n",
       "      <td>0</td>\n",
       "      <td>0</td>\n",
       "      <td>0</td>\n",
       "      <td>0</td>\n",
       "      <td>0</td>\n",
       "      <td>0</td>\n",
       "      <td>0</td>\n",
       "    </tr>\n",
       "    <tr>\n",
       "      <th>3</th>\n",
       "      <td>0</td>\n",
       "      <td>0</td>\n",
       "      <td>0</td>\n",
       "      <td>0</td>\n",
       "      <td>0</td>\n",
       "      <td>0</td>\n",
       "      <td>0</td>\n",
       "      <td>0</td>\n",
       "      <td>0</td>\n",
       "      <td>0</td>\n",
       "      <td>...</td>\n",
       "      <td>0</td>\n",
       "      <td>0</td>\n",
       "      <td>0</td>\n",
       "      <td>0</td>\n",
       "      <td>0</td>\n",
       "      <td>0</td>\n",
       "      <td>0</td>\n",
       "      <td>0</td>\n",
       "      <td>0</td>\n",
       "      <td>0</td>\n",
       "    </tr>\n",
       "    <tr>\n",
       "      <th>4</th>\n",
       "      <td>0</td>\n",
       "      <td>0</td>\n",
       "      <td>0</td>\n",
       "      <td>0</td>\n",
       "      <td>0</td>\n",
       "      <td>0</td>\n",
       "      <td>0</td>\n",
       "      <td>0</td>\n",
       "      <td>0</td>\n",
       "      <td>0</td>\n",
       "      <td>...</td>\n",
       "      <td>0</td>\n",
       "      <td>0</td>\n",
       "      <td>0</td>\n",
       "      <td>0</td>\n",
       "      <td>0</td>\n",
       "      <td>0</td>\n",
       "      <td>0</td>\n",
       "      <td>0</td>\n",
       "      <td>0</td>\n",
       "      <td>0</td>\n",
       "    </tr>\n",
       "  </tbody>\n",
       "</table>\n",
       "<p>5 rows × 75439 columns</p>\n",
       "</div>"
      ],
      "text/plain": [
       "   aa  aaa  aaaa  aaaaaaaaaaaaaaandyou  aaaaaaaaaaaaahhhhhhhhhhh  \\\n",
       "0   0    0     0                     0                         0   \n",
       "1   0    0     0                     0                         0   \n",
       "2   0    0     0                     0                         0   \n",
       "3   0    0     0                     0                         0   \n",
       "4   0    0     0                     0                         0   \n",
       "\n",
       "   aaaaaahnnthey  aaaaaahole  aaaaah  aaaaand  aaaaannnd  ...  zoospace  \\\n",
       "0              0           0       0        0          0  ...         0   \n",
       "1              0           0       0        0          0  ...         0   \n",
       "2              0           0       0        0          0  ...         0   \n",
       "3              0           0       0        0          0  ...         0   \n",
       "4              0           0       0        0          0  ...         0   \n",
       "\n",
       "   zoowe  zorbas  zs  zucchini  zucchinis  zuchinni  zuma  zumba  zz  \n",
       "0      0       0   0         0          0         0     0      0   0  \n",
       "1      0       0   0         0          0         0     0      0   0  \n",
       "2      0       0   0         0          0         0     0      0   0  \n",
       "3      0       0   0         0          0         0     0      0   0  \n",
       "4      0       0   0         0          0         0     0      0   0  \n",
       "\n",
       "[5 rows x 75439 columns]"
      ]
     },
     "execution_count": 63,
     "metadata": {},
     "output_type": "execute_result"
    }
   ],
   "source": [
    "feature_df.head()"
   ]
  },
  {
   "cell_type": "code",
   "execution_count": 86,
   "id": "d636e73c",
   "metadata": {},
   "outputs": [],
   "source": [
    "new_weighted_matrix = []\n",
    "\n",
    "def assign_new_weight(records):\n",
    "    k=1;\n",
    "    for record in records:\n",
    "        new_weighted_matrix.append(np.multiply(record,chi))        \n",
    "        "
   ]
  },
  {
   "cell_type": "code",
   "execution_count": 87,
   "id": "5b0b52b2",
   "metadata": {},
   "outputs": [],
   "source": [
    "assign_new_weight(feature_array)"
   ]
  },
  {
   "cell_type": "code",
   "execution_count": 91,
   "id": "b3d03a12",
   "metadata": {},
   "outputs": [
    {
     "ename": "AttributeError",
     "evalue": "'list' object has no attribute 'shape'",
     "output_type": "error",
     "traceback": [
      "\u001b[0;31m---------------------------------------------------------------------------\u001b[0m",
      "\u001b[0;31mAttributeError\u001b[0m                            Traceback (most recent call last)",
      "\u001b[0;32m/var/folders/w9/17dx1py559xc12bhjgp9w4_80000gn/T/ipykernel_95153/761570017.py\u001b[0m in \u001b[0;36m<module>\u001b[0;34m\u001b[0m\n\u001b[0;32m----> 1\u001b[0;31m \u001b[0mnew_weighted_matrix\u001b[0m\u001b[0;34m.\u001b[0m\u001b[0mshape\u001b[0m\u001b[0;34m\u001b[0m\u001b[0;34m\u001b[0m\u001b[0m\n\u001b[0m",
      "\u001b[0;31mAttributeError\u001b[0m: 'list' object has no attribute 'shape'"
     ]
    }
   ],
   "source": [
    "convert list"
   ]
  },
  {
   "cell_type": "code",
   "execution_count": 98,
   "id": "1b0f0746",
   "metadata": {},
   "outputs": [],
   "source": [
    "x = np.array(new_weighted_matrix)"
   ]
  },
  {
   "cell_type": "code",
   "execution_count": 99,
   "id": "55a50e89",
   "metadata": {},
   "outputs": [
    {
     "data": {
      "text/plain": [
       "(13500, 75439)"
      ]
     },
     "execution_count": 99,
     "metadata": {},
     "output_type": "execute_result"
    }
   ],
   "source": [
    "x.shape"
   ]
  },
  {
   "cell_type": "code",
   "execution_count": 100,
   "id": "84faee1c",
   "metadata": {},
   "outputs": [
    {
     "data": {
      "text/plain": [
       "array([[0., 0., 0., ..., 0., 0., 0.],\n",
       "       [0., 0., 0., ..., 0., 0., 0.],\n",
       "       [0., 0., 0., ..., 0., 0., 0.],\n",
       "       ...,\n",
       "       [0., 0., 0., ..., 0., 0., 0.],\n",
       "       [0., 0., 0., ..., 0., 0., 0.],\n",
       "       [0., 0., 0., ..., 0., 0., 0.]])"
      ]
     },
     "execution_count": 100,
     "metadata": {},
     "output_type": "execute_result"
    }
   ],
   "source": [
    "x"
   ]
  },
  {
   "cell_type": "code",
   "execution_count": 101,
   "id": "69cc5512",
   "metadata": {},
   "outputs": [
    {
     "data": {
      "text/plain": [
       "array([0., 0., 0., ..., 0., 0., 0.])"
      ]
     },
     "execution_count": 101,
     "metadata": {},
     "output_type": "execute_result"
    }
   ],
   "source": [
    "x[200]"
   ]
  },
  {
   "cell_type": "code",
   "execution_count": 104,
   "id": "7df930cb",
   "metadata": {},
   "outputs": [],
   "source": [
    "feature_df = pd.DataFrame(x, columns=count_vectorizer.get_feature_names_out())"
   ]
  },
  {
   "cell_type": "code",
   "execution_count": 107,
   "id": "c5f49eb0",
   "metadata": {},
   "outputs": [
    {
     "data": {
      "text/html": [
       "<div>\n",
       "<style scoped>\n",
       "    .dataframe tbody tr th:only-of-type {\n",
       "        vertical-align: middle;\n",
       "    }\n",
       "\n",
       "    .dataframe tbody tr th {\n",
       "        vertical-align: top;\n",
       "    }\n",
       "\n",
       "    .dataframe thead th {\n",
       "        text-align: right;\n",
       "    }\n",
       "</style>\n",
       "<table border=\"1\" class=\"dataframe\">\n",
       "  <thead>\n",
       "    <tr style=\"text-align: right;\">\n",
       "      <th></th>\n",
       "      <th>aa</th>\n",
       "      <th>aaa</th>\n",
       "      <th>aaaa</th>\n",
       "      <th>aaaaaaaaaaaaaaandyou</th>\n",
       "      <th>aaaaaaaaaaaaahhhhhhhhhhh</th>\n",
       "      <th>aaaaaahnnthey</th>\n",
       "      <th>aaaaaahole</th>\n",
       "      <th>aaaaah</th>\n",
       "      <th>aaaaand</th>\n",
       "      <th>aaaaannnd</th>\n",
       "      <th>...</th>\n",
       "      <th>zoospace</th>\n",
       "      <th>zoowe</th>\n",
       "      <th>zorbas</th>\n",
       "      <th>zs</th>\n",
       "      <th>zucchini</th>\n",
       "      <th>zucchinis</th>\n",
       "      <th>zuchinni</th>\n",
       "      <th>zuma</th>\n",
       "      <th>zumba</th>\n",
       "      <th>zz</th>\n",
       "    </tr>\n",
       "  </thead>\n",
       "  <tbody>\n",
       "    <tr>\n",
       "      <th>0</th>\n",
       "      <td>0.0</td>\n",
       "      <td>0.0</td>\n",
       "      <td>0.0</td>\n",
       "      <td>0.0</td>\n",
       "      <td>0.0</td>\n",
       "      <td>0.0</td>\n",
       "      <td>0.0</td>\n",
       "      <td>0.0</td>\n",
       "      <td>0.0</td>\n",
       "      <td>0.0</td>\n",
       "      <td>...</td>\n",
       "      <td>0.0</td>\n",
       "      <td>0.0</td>\n",
       "      <td>0.0</td>\n",
       "      <td>0.0</td>\n",
       "      <td>0.0</td>\n",
       "      <td>0.0</td>\n",
       "      <td>0.0</td>\n",
       "      <td>0.0</td>\n",
       "      <td>0.0</td>\n",
       "      <td>0.0</td>\n",
       "    </tr>\n",
       "    <tr>\n",
       "      <th>1</th>\n",
       "      <td>0.0</td>\n",
       "      <td>0.0</td>\n",
       "      <td>0.0</td>\n",
       "      <td>0.0</td>\n",
       "      <td>0.0</td>\n",
       "      <td>0.0</td>\n",
       "      <td>0.0</td>\n",
       "      <td>0.0</td>\n",
       "      <td>0.0</td>\n",
       "      <td>0.0</td>\n",
       "      <td>...</td>\n",
       "      <td>0.0</td>\n",
       "      <td>0.0</td>\n",
       "      <td>0.0</td>\n",
       "      <td>0.0</td>\n",
       "      <td>0.0</td>\n",
       "      <td>0.0</td>\n",
       "      <td>0.0</td>\n",
       "      <td>0.0</td>\n",
       "      <td>0.0</td>\n",
       "      <td>0.0</td>\n",
       "    </tr>\n",
       "    <tr>\n",
       "      <th>2</th>\n",
       "      <td>0.0</td>\n",
       "      <td>0.0</td>\n",
       "      <td>0.0</td>\n",
       "      <td>0.0</td>\n",
       "      <td>0.0</td>\n",
       "      <td>0.0</td>\n",
       "      <td>0.0</td>\n",
       "      <td>0.0</td>\n",
       "      <td>0.0</td>\n",
       "      <td>0.0</td>\n",
       "      <td>...</td>\n",
       "      <td>0.0</td>\n",
       "      <td>0.0</td>\n",
       "      <td>0.0</td>\n",
       "      <td>0.0</td>\n",
       "      <td>0.0</td>\n",
       "      <td>0.0</td>\n",
       "      <td>0.0</td>\n",
       "      <td>0.0</td>\n",
       "      <td>0.0</td>\n",
       "      <td>0.0</td>\n",
       "    </tr>\n",
       "    <tr>\n",
       "      <th>3</th>\n",
       "      <td>0.0</td>\n",
       "      <td>0.0</td>\n",
       "      <td>0.0</td>\n",
       "      <td>0.0</td>\n",
       "      <td>0.0</td>\n",
       "      <td>0.0</td>\n",
       "      <td>0.0</td>\n",
       "      <td>0.0</td>\n",
       "      <td>0.0</td>\n",
       "      <td>0.0</td>\n",
       "      <td>...</td>\n",
       "      <td>0.0</td>\n",
       "      <td>0.0</td>\n",
       "      <td>0.0</td>\n",
       "      <td>0.0</td>\n",
       "      <td>0.0</td>\n",
       "      <td>0.0</td>\n",
       "      <td>0.0</td>\n",
       "      <td>0.0</td>\n",
       "      <td>0.0</td>\n",
       "      <td>0.0</td>\n",
       "    </tr>\n",
       "    <tr>\n",
       "      <th>4</th>\n",
       "      <td>0.0</td>\n",
       "      <td>0.0</td>\n",
       "      <td>0.0</td>\n",
       "      <td>0.0</td>\n",
       "      <td>0.0</td>\n",
       "      <td>0.0</td>\n",
       "      <td>0.0</td>\n",
       "      <td>0.0</td>\n",
       "      <td>0.0</td>\n",
       "      <td>0.0</td>\n",
       "      <td>...</td>\n",
       "      <td>0.0</td>\n",
       "      <td>0.0</td>\n",
       "      <td>0.0</td>\n",
       "      <td>0.0</td>\n",
       "      <td>0.0</td>\n",
       "      <td>0.0</td>\n",
       "      <td>0.0</td>\n",
       "      <td>0.0</td>\n",
       "      <td>0.0</td>\n",
       "      <td>0.0</td>\n",
       "    </tr>\n",
       "  </tbody>\n",
       "</table>\n",
       "<p>5 rows × 75439 columns</p>\n",
       "</div>"
      ],
      "text/plain": [
       "    aa  aaa  aaaa  aaaaaaaaaaaaaaandyou  aaaaaaaaaaaaahhhhhhhhhhh  \\\n",
       "0  0.0  0.0   0.0                   0.0                       0.0   \n",
       "1  0.0  0.0   0.0                   0.0                       0.0   \n",
       "2  0.0  0.0   0.0                   0.0                       0.0   \n",
       "3  0.0  0.0   0.0                   0.0                       0.0   \n",
       "4  0.0  0.0   0.0                   0.0                       0.0   \n",
       "\n",
       "   aaaaaahnnthey  aaaaaahole  aaaaah  aaaaand  aaaaannnd  ...  zoospace  \\\n",
       "0            0.0         0.0     0.0      0.0        0.0  ...       0.0   \n",
       "1            0.0         0.0     0.0      0.0        0.0  ...       0.0   \n",
       "2            0.0         0.0     0.0      0.0        0.0  ...       0.0   \n",
       "3            0.0         0.0     0.0      0.0        0.0  ...       0.0   \n",
       "4            0.0         0.0     0.0      0.0        0.0  ...       0.0   \n",
       "\n",
       "   zoowe  zorbas   zs  zucchini  zucchinis  zuchinni  zuma  zumba   zz  \n",
       "0    0.0     0.0  0.0       0.0        0.0       0.0   0.0    0.0  0.0  \n",
       "1    0.0     0.0  0.0       0.0        0.0       0.0   0.0    0.0  0.0  \n",
       "2    0.0     0.0  0.0       0.0        0.0       0.0   0.0    0.0  0.0  \n",
       "3    0.0     0.0  0.0       0.0        0.0       0.0   0.0    0.0  0.0  \n",
       "4    0.0     0.0  0.0       0.0        0.0       0.0   0.0    0.0  0.0  \n",
       "\n",
       "[5 rows x 75439 columns]"
      ]
     },
     "execution_count": 107,
     "metadata": {},
     "output_type": "execute_result"
    }
   ],
   "source": [
    "feature_df.head()"
   ]
  },
  {
   "cell_type": "code",
   "execution_count": 108,
   "id": "b8e92659",
   "metadata": {},
   "outputs": [
    {
     "data": {
      "text/plain": [
       "array([0.33333333, 0.25      , 1.        , ..., 1.        , 0.2       ,\n",
       "       1.        ])"
      ]
     },
     "execution_count": 108,
     "metadata": {},
     "output_type": "execute_result"
    }
   ],
   "source": [
    "chi"
   ]
  },
  {
   "cell_type": "code",
   "execution_count": 109,
   "id": "c78537eb",
   "metadata": {},
   "outputs": [
    {
     "data": {
      "text/plain": [
       "KNeighborsClassifier(n_jobs=3, n_neighbors=29, weights='distance')"
      ]
     },
     "execution_count": 109,
     "metadata": {},
     "output_type": "execute_result"
    }
   ],
   "source": [
    "classifer.fit(x,sentiments_train)"
   ]
  },
  {
   "cell_type": "code",
   "execution_count": 111,
   "id": "d4aa2c20",
   "metadata": {},
   "outputs": [
    {
     "data": {
      "text/plain": [
       "(13500, 75439)"
      ]
     },
     "execution_count": 111,
     "metadata": {},
     "output_type": "execute_result"
    }
   ],
   "source": [
    "x.shape"
   ]
  },
  {
   "cell_type": "code",
   "execution_count": 113,
   "id": "f612708d",
   "metadata": {},
   "outputs": [
    {
     "data": {
      "text/plain": [
       "11732    really good food give price youre look focheap...\n",
       "13819    first time challa buttecookies todiefornngreat...\n",
       "16143    third time ive eaten im sorry say really flubb...\n",
       "14106    place great ive often ovethe past year always ...\n",
       "4582     like neighborhood manuels place cold service s...\n",
       "                               ...                        \n",
       "15651    get experience macayos local italian restauran...\n",
       "10813    judge review believe anything fouofive star do...\n",
       "5398     travel several time month convenience importan...\n",
       "15139    im give place one stabecause yelp doesnt half ...\n",
       "3211     really good lentil soup great rice lamb combo ...\n",
       "Name: cleaned_review, Length: 4500, dtype: object"
      ]
     },
     "execution_count": 113,
     "metadata": {},
     "output_type": "execute_result"
    }
   ],
   "source": [
    "review_test"
   ]
  },
  {
   "cell_type": "code",
   "execution_count": 114,
   "id": "08987ca6",
   "metadata": {},
   "outputs": [],
   "source": [
    "c_v_test = count_vectorizer.transform(review_test)"
   ]
  },
  {
   "cell_type": "code",
   "execution_count": 115,
   "id": "22a77d5f",
   "metadata": {},
   "outputs": [],
   "source": [
    "c_v_matrix = c_v_test.toarray()"
   ]
  },
  {
   "cell_type": "code",
   "execution_count": 116,
   "id": "e1799dba",
   "metadata": {},
   "outputs": [
    {
     "data": {
      "text/plain": [
       "(4500, 75439)"
      ]
     },
     "execution_count": 116,
     "metadata": {},
     "output_type": "execute_result"
    }
   ],
   "source": [
    "c_v_matrix.shape"
   ]
  },
  {
   "cell_type": "code",
   "execution_count": 121,
   "id": "67668008",
   "metadata": {},
   "outputs": [],
   "source": [
    "new_weighted_matrix = []"
   ]
  },
  {
   "cell_type": "code",
   "execution_count": 122,
   "id": "2e0d5cd8",
   "metadata": {},
   "outputs": [],
   "source": [
    "assign_new_weight(c_v_matrix)"
   ]
  },
  {
   "cell_type": "code",
   "execution_count": 124,
   "id": "192612fe",
   "metadata": {},
   "outputs": [
    {
     "data": {
      "text/plain": [
       "4500"
      ]
     },
     "execution_count": 124,
     "metadata": {},
     "output_type": "execute_result"
    }
   ],
   "source": [
    "len(new_weighted_matrix)"
   ]
  },
  {
   "cell_type": "code",
   "execution_count": 125,
   "id": "a60803fb",
   "metadata": {},
   "outputs": [],
   "source": [
    "x_test = np.array(new_weighted_matrix)"
   ]
  },
  {
   "cell_type": "code",
   "execution_count": 127,
   "id": "ac783f9d",
   "metadata": {},
   "outputs": [],
   "source": [
    "x_test.shape\n",
    "c_predict = classifer.predict(x_test)"
   ]
  },
  {
   "cell_type": "code",
   "execution_count": 132,
   "id": "76199494",
   "metadata": {},
   "outputs": [
    {
     "name": "stdout",
     "output_type": "stream",
     "text": [
      "0.748\n"
     ]
    }
   ],
   "source": [
    "print(metrics.accuracy_score(sentiments_test,c_predict))"
   ]
  },
  {
   "cell_type": "code",
   "execution_count": 133,
   "id": "39a72221",
   "metadata": {},
   "outputs": [],
   "source": [
    "accu =[]"
   ]
  },
  {
   "cell_type": "code",
   "execution_count": 149,
   "id": "7ff5dd71",
   "metadata": {},
   "outputs": [
    {
     "name": "stdout",
     "output_type": "stream",
     "text": [
      "0.7524444444444445\n"
     ]
    }
   ],
   "source": [
    "\n",
    "# for i in range(2,8):\n",
    "# print(i)\n",
    "classifer2 = KNeighborsClassifier(n_neighbors=107,n_jobs=4,weights='distance')\n",
    "classifer2.fit(x,sentiments_train)\n",
    "c_predict = classifer2.predict(x_test)\n",
    "k = metrics.accuracy_score(sentiments_test,c_predict)\n",
    "accu.append(k)\n",
    "print(k)"
   ]
  },
  {
   "cell_type": "code",
   "execution_count": 150,
   "id": "7e9c453c",
   "metadata": {},
   "outputs": [
    {
     "data": {
      "text/plain": [
       "0        get takeout last night horrible something must...\n",
       "1        girl sweet price reasonable stand bed hot make...\n",
       "2        rudest people eveencountered husband wife own ...\n",
       "3        airport covet fothe destination lead flier vie...\n",
       "4        last month show steady decline pisspooservice ...\n",
       "                               ...                        \n",
       "17995    come fodimsum friend lunch quality food medioc...\n",
       "17996    ive time oufamily usually consist husband year...\n",
       "17997    go friend split dish get try good amount stuff...\n",
       "17998    great meal tom yum soup hit spot cool day nlas...\n",
       "17999    hand best mexican restaurant find charlotte fo...\n",
       "Name: cleaned_review, Length: 18000, dtype: object"
      ]
     },
     "execution_count": 150,
     "metadata": {},
     "output_type": "execute_result"
    }
   ],
   "source": [
    "set_test['cleaned_review']"
   ]
  },
  {
   "cell_type": "code",
   "execution_count": 151,
   "id": "07dbe6c9",
   "metadata": {},
   "outputs": [
    {
     "ename": "KeyboardInterrupt",
     "evalue": "",
     "output_type": "error",
     "traceback": [
      "\u001b[0;31m---------------------------------------------------------------------------\u001b[0m",
      "\u001b[0;31mKeyboardInterrupt\u001b[0m                         Traceback (most recent call last)",
      "\u001b[0;32m/var/folders/w9/17dx1py559xc12bhjgp9w4_80000gn/T/ipykernel_95153/2722174124.py\u001b[0m in \u001b[0;36m<module>\u001b[0;34m\u001b[0m\n\u001b[1;32m      2\u001b[0m \u001b[0mgrading_test_array\u001b[0m \u001b[0;34m=\u001b[0m \u001b[0mgrading_test\u001b[0m\u001b[0;34m.\u001b[0m\u001b[0mtoarray\u001b[0m\u001b[0;34m(\u001b[0m\u001b[0;34m)\u001b[0m\u001b[0;34m\u001b[0m\u001b[0;34m\u001b[0m\u001b[0m\n\u001b[1;32m      3\u001b[0m \u001b[0mnew_weighted_matrix\u001b[0m \u001b[0;34m=\u001b[0m \u001b[0;34m[\u001b[0m\u001b[0;34m]\u001b[0m\u001b[0;34m\u001b[0m\u001b[0;34m\u001b[0m\u001b[0m\n\u001b[0;32m----> 4\u001b[0;31m \u001b[0massign_new_weight\u001b[0m\u001b[0;34m(\u001b[0m\u001b[0mgrading_test_array\u001b[0m\u001b[0;34m)\u001b[0m\u001b[0;34m\u001b[0m\u001b[0;34m\u001b[0m\u001b[0m\n\u001b[0m\u001b[1;32m      5\u001b[0m \u001b[0mx_test\u001b[0m \u001b[0;34m=\u001b[0m \u001b[0mnp\u001b[0m\u001b[0;34m.\u001b[0m\u001b[0marray\u001b[0m\u001b[0;34m(\u001b[0m\u001b[0mnew_weighted_matrix\u001b[0m\u001b[0;34m)\u001b[0m\u001b[0;34m\u001b[0m\u001b[0;34m\u001b[0m\u001b[0m\n\u001b[1;32m      6\u001b[0m \u001b[0mc_predict\u001b[0m \u001b[0;34m=\u001b[0m \u001b[0mclassifer\u001b[0m\u001b[0;34m.\u001b[0m\u001b[0mpredict\u001b[0m\u001b[0;34m(\u001b[0m\u001b[0mx_test\u001b[0m\u001b[0;34m)\u001b[0m\u001b[0;34m\u001b[0m\u001b[0;34m\u001b[0m\u001b[0m\n",
      "\u001b[0;32m/var/folders/w9/17dx1py559xc12bhjgp9w4_80000gn/T/ipykernel_95153/3575066151.py\u001b[0m in \u001b[0;36massign_new_weight\u001b[0;34m(records)\u001b[0m\n\u001b[1;32m      4\u001b[0m     \u001b[0mk\u001b[0m\u001b[0;34m=\u001b[0m\u001b[0;36m1\u001b[0m\u001b[0;34m;\u001b[0m\u001b[0;34m\u001b[0m\u001b[0;34m\u001b[0m\u001b[0m\n\u001b[1;32m      5\u001b[0m     \u001b[0;32mfor\u001b[0m \u001b[0mrecord\u001b[0m \u001b[0;32min\u001b[0m \u001b[0mrecords\u001b[0m\u001b[0;34m:\u001b[0m\u001b[0;34m\u001b[0m\u001b[0;34m\u001b[0m\u001b[0m\n\u001b[0;32m----> 6\u001b[0;31m         \u001b[0mnew_weighted_matrix\u001b[0m\u001b[0;34m.\u001b[0m\u001b[0mappend\u001b[0m\u001b[0;34m(\u001b[0m\u001b[0mnp\u001b[0m\u001b[0;34m.\u001b[0m\u001b[0mmultiply\u001b[0m\u001b[0;34m(\u001b[0m\u001b[0mrecord\u001b[0m\u001b[0;34m,\u001b[0m\u001b[0mchi\u001b[0m\u001b[0;34m)\u001b[0m\u001b[0;34m)\u001b[0m\u001b[0;34m\u001b[0m\u001b[0;34m\u001b[0m\u001b[0m\n\u001b[0m\u001b[1;32m      7\u001b[0m \u001b[0;34m\u001b[0m\u001b[0m\n",
      "\u001b[0;31mKeyboardInterrupt\u001b[0m: "
     ]
    }
   ],
   "source": [
    "grading_test = count_vectorizer.transform(set_test['cleaned_review'])\n",
    "grading_test_array = grading_test.toarray()\n",
    "new_weighted_matrix = []\n",
    "assign_new_weight(grading_test_array)\n",
    "x_test = np.array(new_weighted_matrix)\n",
    "c_predict = classifer2.predict(x_test)\n",
    "import csv\n",
    "outfile = open('results.csv','w')\n",
    "out = csv.writer(outfile)\n",
    "out.writerows(map(lambda x: [x], test_sentiments_predict))\n",
    "outfile.close()\n"
   ]
  },
  {
   "cell_type": "code",
   "execution_count": null,
   "id": "fb2b33a1",
   "metadata": {},
   "outputs": [],
   "source": []
  }
 ],
 "metadata": {
  "kernelspec": {
   "display_name": "Python 3 (ipykernel)",
   "language": "python",
   "name": "python3"
  },
  "language_info": {
   "codemirror_mode": {
    "name": "ipython",
    "version": 3
   },
   "file_extension": ".py",
   "mimetype": "text/x-python",
   "name": "python",
   "nbconvert_exporter": "python",
   "pygments_lexer": "ipython3",
   "version": "3.7.8"
  }
 },
 "nbformat": 4,
 "nbformat_minor": 5
}
