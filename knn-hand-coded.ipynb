{
 "cells": [
  {
   "cell_type": "code",
   "execution_count": 263,
   "metadata": {
    "execution": {
     "iopub.execute_input": "2022-09-07T20:29:26.345757Z",
     "iopub.status.busy": "2022-09-07T20:29:26.345342Z",
     "iopub.status.idle": "2022-09-07T20:29:26.351331Z",
     "shell.execute_reply": "2022-09-07T20:29:26.349975Z",
     "shell.execute_reply.started": "2022-09-07T20:29:26.345722Z"
    }
   },
   "outputs": [],
   "source": [
    "import pandas as pd\n",
    "import matplotlib.pyplot as plt\n",
    "import numpy as np\n",
    "import string\n",
    "import re"
   ]
  },
  {
   "cell_type": "code",
   "execution_count": 264,
   "metadata": {
    "execution": {
     "iopub.execute_input": "2022-09-07T20:29:28.319045Z",
     "iopub.status.busy": "2022-09-07T20:29:28.318572Z",
     "iopub.status.idle": "2022-09-07T20:29:28.603267Z",
     "shell.execute_reply": "2022-09-07T20:29:28.602081Z",
     "shell.execute_reply.started": "2022-09-07T20:29:28.319011Z"
    }
   },
   "outputs": [],
   "source": [
    "train_data = pd.read_csv(\"train_data.csv\",names=[\"sentiments\", \"reviews\"])"
   ]
  },
  {
   "cell_type": "code",
   "execution_count": 265,
   "metadata": {
    "execution": {
     "iopub.execute_input": "2022-09-07T20:29:29.703652Z",
     "iopub.status.busy": "2022-09-07T20:29:29.703190Z",
     "iopub.status.idle": "2022-09-07T20:29:30.930710Z",
     "shell.execute_reply": "2022-09-07T20:29:30.929762Z",
     "shell.execute_reply.started": "2022-09-07T20:29:29.703595Z"
    }
   },
   "outputs": [],
   "source": [
    "def basic_cleaning(data_frame):\n",
    "    data_frame['reviews'] = data_frame.reviews.apply(lambda review: review.lower())\n",
    "    data_frame['reviews'] = data_frame.reviews.apply(lambda review: review.translate(str.maketrans('', '', string.punctuation)))\n",
    "    data_frame['reviews'] = data_frame.reviews.apply(lambda review: review.translate(str.maketrans('', '', string.digits)))\n",
    "    data_frame['reviews'] = data_frame.reviews.apply(lambda review: re.sub(\"r[^a-z]\",'',review))\n",
    "\n",
    "    \n",
    "import nltk\n",
    "from nltk.tokenize import word_tokenize, sent_tokenize\n",
    "\n",
    "def tokenize_data(data_frame):\n",
    "    data_frame['words'] = data_frame.reviews.apply(lambda review: nltk.word_tokenize(review))\n",
    "\n",
    "from nltk.corpus import stopwords\n",
    "stopwords = set(stopwords.words('english'))\n",
    "\n",
    "def remove_stopwords(list):\n",
    "    stop_words_removed = []\n",
    "    for i in list:\n",
    "        if i not in stopwords:\n",
    "            stop_words_removed.append(i)\n",
    "    return stop_words_removed"
   ]
  },
  {
   "cell_type": "code",
   "execution_count": 266,
   "metadata": {
    "execution": {
     "iopub.execute_input": "2022-09-07T20:29:39.969816Z",
     "iopub.status.busy": "2022-09-07T20:29:39.969420Z",
     "iopub.status.idle": "2022-09-07T20:30:27.157526Z",
     "shell.execute_reply": "2022-09-07T20:30:27.155569Z",
     "shell.execute_reply.started": "2022-09-07T20:29:39.969778Z"
    }
   },
   "outputs": [],
   "source": [
    "# nltk.download('all')\n",
    "#tag part of speech to get more accurate word during lemmatizaton\n",
    "def tag_pos(list_of_words):\n",
    "    return nltk.pos_tag(list_of_words)\n",
    "\n",
    "#extraction of lemma words after pos taggin \n",
    "from nltk.stem import WordNetLemmatizer\n",
    "lemmatizer= WordNetLemmatizer()\n",
    "\n",
    "def find_lemma_word(word):\n",
    "    lemma_words=[]\n",
    "    words_with_pos = tag_pos(word)\n",
    "    for word in words_with_pos:\n",
    "        if word[1].startswith('NN'):\n",
    "            lemma_words.append(lemmatizer.lemmatize(word[0],pos='n'))\n",
    "        elif word[1].startswith('VB'):\n",
    "            lemma_words.append(lemmatizer.lemmatize(word[0],pos='v'))\n",
    "        elif word[1].startswith('JJ'):\n",
    "            lemma_words.append(lemmatizer.lemmatize(word[0],pos='a'))\n",
    "        elif word[1].startswith('RB'):\n",
    "            lemma_words.append(lemmatizer.lemmatize(word[0],pos='r'))\n",
    "        else:\n",
    "            lemma_words.append(word[0])\n",
    "            \n",
    "    return lemma_words"
   ]
  },
  {
   "cell_type": "code",
   "execution_count": 270,
   "metadata": {
    "execution": {
     "iopub.execute_input": "2022-09-07T20:30:27.161877Z",
     "iopub.status.busy": "2022-09-07T20:30:27.161403Z",
     "iopub.status.idle": "2022-09-07T20:32:05.436075Z",
     "shell.execute_reply": "2022-09-07T20:32:05.434776Z",
     "shell.execute_reply.started": "2022-09-07T20:30:27.161838Z"
    }
   },
   "outputs": [],
   "source": [
    "basic_cleaning(train_data)\n",
    "tokenize_data(train_data)\n",
    "train_data['stop_words_cleaned'] = train_data.words.apply(lambda word_list: remove_stopwords(word_list))\n",
    "train_data['lemma_word'] = train_data.stop_words_cleaned.apply(lambda word_list: find_lemma_word(word_list))\n",
    "train_data['cleaned_review'] = train_data.lemma_word.apply(lambda review_list: \" \".join(review_list))"
   ]
  },
  {
   "cell_type": "code",
   "execution_count": 271,
   "metadata": {
    "execution": {
     "iopub.execute_input": "2022-09-07T20:32:05.439219Z",
     "iopub.status.busy": "2022-09-07T20:32:05.438473Z",
     "iopub.status.idle": "2022-09-07T20:32:05.495295Z",
     "shell.execute_reply": "2022-09-07T20:32:05.494068Z",
     "shell.execute_reply.started": "2022-09-07T20:32:05.439178Z"
    }
   },
   "outputs": [
    {
     "data": {
      "text/html": [
       "<div>\n",
       "<style scoped>\n",
       "    .dataframe tbody tr th:only-of-type {\n",
       "        vertical-align: middle;\n",
       "    }\n",
       "\n",
       "    .dataframe tbody tr th {\n",
       "        vertical-align: top;\n",
       "    }\n",
       "\n",
       "    .dataframe thead th {\n",
       "        text-align: right;\n",
       "    }\n",
       "</style>\n",
       "<table border=\"1\" class=\"dataframe\">\n",
       "  <thead>\n",
       "    <tr style=\"text-align: right;\">\n",
       "      <th></th>\n",
       "      <th>sentiments</th>\n",
       "      <th>reviews</th>\n",
       "      <th>words</th>\n",
       "      <th>stop_words_cleaned</th>\n",
       "      <th>lemma_word</th>\n",
       "      <th>cleaned_review</th>\n",
       "    </tr>\n",
       "  </thead>\n",
       "  <tbody>\n",
       "    <tr>\n",
       "      <th>0</th>\n",
       "      <td>-1</td>\n",
       "      <td>eat at fioris they said  youll like it they sa...</td>\n",
       "      <td>[eat, at, fioris, they, said, youll, like, it,...</td>\n",
       "      <td>[eat, fioris, said, youll, like, saidnnis, con...</td>\n",
       "      <td>[eat, fioris, say, youll, like, saidnnis, conv...</td>\n",
       "      <td>eat fioris say youll like saidnnis convenientl...</td>\n",
       "    </tr>\n",
       "    <tr>\n",
       "      <th>1</th>\n",
       "      <td>-1</td>\n",
       "      <td>i just dont understand the appeal  ive tried t...</td>\n",
       "      <td>[i, just, dont, understand, the, appeal, ive, ...</td>\n",
       "      <td>[dont, understand, appeal, ive, tried, place, ...</td>\n",
       "      <td>[dont, understand, appeal, ive, tried, place, ...</td>\n",
       "      <td>dont understand appeal ive tried place twice t...</td>\n",
       "    </tr>\n",
       "    <tr>\n",
       "      <th>2</th>\n",
       "      <td>1</td>\n",
       "      <td>this is my go to place foa really good beef en...</td>\n",
       "      <td>[this, is, my, go, to, place, foa, really, goo...</td>\n",
       "      <td>[go, place, foa, really, good, beef, enchilada...</td>\n",
       "      <td>[go, place, foa, really, good, beef, enchilada...</td>\n",
       "      <td>go place foa really good beef enchilada red sa...</td>\n",
       "    </tr>\n",
       "    <tr>\n",
       "      <th>3</th>\n",
       "      <td>-1</td>\n",
       "      <td>not impressed when i ordered the oyako bowl th...</td>\n",
       "      <td>[not, impressed, when, i, ordered, the, oyako,...</td>\n",
       "      <td>[impressed, ordered, oyako, bowl, conversation...</td>\n",
       "      <td>[impressed, order, oyako, bowl, conversation, ...</td>\n",
       "      <td>impressed order oyako bowl conversation go som...</td>\n",
       "    </tr>\n",
       "    <tr>\n",
       "      <th>4</th>\n",
       "      <td>-1</td>\n",
       "      <td>this is the first time evei wrote a bad review...</td>\n",
       "      <td>[this, is, the, first, time, evei, wrote, a, b...</td>\n",
       "      <td>[first, time, evei, wrote, bad, review, frustr...</td>\n",
       "      <td>[first, time, evei, write, bad, review, frustr...</td>\n",
       "      <td>first time evei write bad review frustrate her...</td>\n",
       "    </tr>\n",
       "    <tr>\n",
       "      <th>...</th>\n",
       "      <td>...</td>\n",
       "      <td>...</td>\n",
       "      <td>...</td>\n",
       "      <td>...</td>\n",
       "      <td>...</td>\n",
       "      <td>...</td>\n",
       "    </tr>\n",
       "    <tr>\n",
       "      <th>17995</th>\n",
       "      <td>-1</td>\n",
       "      <td>i was referred to go to this place by a buddy ...</td>\n",
       "      <td>[i, was, referred, to, go, to, this, place, by...</td>\n",
       "      <td>[referred, go, place, buddy, aftea, conversati...</td>\n",
       "      <td>[refer, go, place, buddy, aftea, conversation,...</td>\n",
       "      <td>refer go place buddy aftea conversation get sh...</td>\n",
       "    </tr>\n",
       "    <tr>\n",
       "      <th>17996</th>\n",
       "      <td>1</td>\n",
       "      <td>the food here was really good  we started off ...</td>\n",
       "      <td>[the, food, here, was, really, good, we, start...</td>\n",
       "      <td>[food, really, good, started, garlic, bread, c...</td>\n",
       "      <td>[food, really, good, start, garlic, bread, cov...</td>\n",
       "      <td>food really good start garlic bread cover toma...</td>\n",
       "    </tr>\n",
       "    <tr>\n",
       "      <th>17997</th>\n",
       "      <td>1</td>\n",
       "      <td>i eat at this place maybe  a week i am die har...</td>\n",
       "      <td>[i, eat, at, this, place, maybe, a, week, i, a...</td>\n",
       "      <td>[eat, place, maybe, week, die, hard, wing, fan...</td>\n",
       "      <td>[eat, place, maybe, week, die, hard, wing, fan...</td>\n",
       "      <td>eat place maybe week die hard wing fan best ev...</td>\n",
       "    </tr>\n",
       "    <tr>\n",
       "      <th>17998</th>\n",
       "      <td>1</td>\n",
       "      <td>phoenix airport is getting betteday by day  i ...</td>\n",
       "      <td>[phoenix, airport, is, getting, betteday, by, ...</td>\n",
       "      <td>[phoenix, airport, getting, betteday, day, pri...</td>\n",
       "      <td>[phoenix, airport, get, betteday, day, primari...</td>\n",
       "      <td>phoenix airport get betteday day primarily use...</td>\n",
       "    </tr>\n",
       "    <tr>\n",
       "      <th>17999</th>\n",
       "      <td>-1</td>\n",
       "      <td>so when i was much youngei went to christos an...</td>\n",
       "      <td>[so, when, i, was, much, youngei, went, to, ch...</td>\n",
       "      <td>[much, youngei, went, christos, first, place, ...</td>\n",
       "      <td>[much, youngei, go, christos, first, place, es...</td>\n",
       "      <td>much youngei go christos first place escargot ...</td>\n",
       "    </tr>\n",
       "  </tbody>\n",
       "</table>\n",
       "<p>18000 rows × 6 columns</p>\n",
       "</div>"
      ],
      "text/plain": [
       "       sentiments                                            reviews  \\\n",
       "0              -1  eat at fioris they said  youll like it they sa...   \n",
       "1              -1  i just dont understand the appeal  ive tried t...   \n",
       "2               1  this is my go to place foa really good beef en...   \n",
       "3              -1  not impressed when i ordered the oyako bowl th...   \n",
       "4              -1  this is the first time evei wrote a bad review...   \n",
       "...           ...                                                ...   \n",
       "17995          -1  i was referred to go to this place by a buddy ...   \n",
       "17996           1  the food here was really good  we started off ...   \n",
       "17997           1  i eat at this place maybe  a week i am die har...   \n",
       "17998           1  phoenix airport is getting betteday by day  i ...   \n",
       "17999          -1  so when i was much youngei went to christos an...   \n",
       "\n",
       "                                                   words  \\\n",
       "0      [eat, at, fioris, they, said, youll, like, it,...   \n",
       "1      [i, just, dont, understand, the, appeal, ive, ...   \n",
       "2      [this, is, my, go, to, place, foa, really, goo...   \n",
       "3      [not, impressed, when, i, ordered, the, oyako,...   \n",
       "4      [this, is, the, first, time, evei, wrote, a, b...   \n",
       "...                                                  ...   \n",
       "17995  [i, was, referred, to, go, to, this, place, by...   \n",
       "17996  [the, food, here, was, really, good, we, start...   \n",
       "17997  [i, eat, at, this, place, maybe, a, week, i, a...   \n",
       "17998  [phoenix, airport, is, getting, betteday, by, ...   \n",
       "17999  [so, when, i, was, much, youngei, went, to, ch...   \n",
       "\n",
       "                                      stop_words_cleaned  \\\n",
       "0      [eat, fioris, said, youll, like, saidnnis, con...   \n",
       "1      [dont, understand, appeal, ive, tried, place, ...   \n",
       "2      [go, place, foa, really, good, beef, enchilada...   \n",
       "3      [impressed, ordered, oyako, bowl, conversation...   \n",
       "4      [first, time, evei, wrote, bad, review, frustr...   \n",
       "...                                                  ...   \n",
       "17995  [referred, go, place, buddy, aftea, conversati...   \n",
       "17996  [food, really, good, started, garlic, bread, c...   \n",
       "17997  [eat, place, maybe, week, die, hard, wing, fan...   \n",
       "17998  [phoenix, airport, getting, betteday, day, pri...   \n",
       "17999  [much, youngei, went, christos, first, place, ...   \n",
       "\n",
       "                                              lemma_word  \\\n",
       "0      [eat, fioris, say, youll, like, saidnnis, conv...   \n",
       "1      [dont, understand, appeal, ive, tried, place, ...   \n",
       "2      [go, place, foa, really, good, beef, enchilada...   \n",
       "3      [impressed, order, oyako, bowl, conversation, ...   \n",
       "4      [first, time, evei, write, bad, review, frustr...   \n",
       "...                                                  ...   \n",
       "17995  [refer, go, place, buddy, aftea, conversation,...   \n",
       "17996  [food, really, good, start, garlic, bread, cov...   \n",
       "17997  [eat, place, maybe, week, die, hard, wing, fan...   \n",
       "17998  [phoenix, airport, get, betteday, day, primari...   \n",
       "17999  [much, youngei, go, christos, first, place, es...   \n",
       "\n",
       "                                          cleaned_review  \n",
       "0      eat fioris say youll like saidnnis convenientl...  \n",
       "1      dont understand appeal ive tried place twice t...  \n",
       "2      go place foa really good beef enchilada red sa...  \n",
       "3      impressed order oyako bowl conversation go som...  \n",
       "4      first time evei write bad review frustrate her...  \n",
       "...                                                  ...  \n",
       "17995  refer go place buddy aftea conversation get sh...  \n",
       "17996  food really good start garlic bread cover toma...  \n",
       "17997  eat place maybe week die hard wing fan best ev...  \n",
       "17998  phoenix airport get betteday day primarily use...  \n",
       "17999  much youngei go christos first place escargot ...  \n",
       "\n",
       "[18000 rows x 6 columns]"
      ]
     },
     "execution_count": 271,
     "metadata": {},
     "output_type": "execute_result"
    }
   ],
   "source": [
    "train_data"
   ]
  },
  {
   "cell_type": "code",
   "execution_count": 1528,
   "metadata": {
    "execution": {
     "iopub.execute_input": "2022-09-07T20:32:11.159062Z",
     "iopub.status.busy": "2022-09-07T20:32:11.158649Z",
     "iopub.status.idle": "2022-09-07T20:32:11.178064Z",
     "shell.execute_reply": "2022-09-07T20:32:11.176957Z",
     "shell.execute_reply.started": "2022-09-07T20:32:11.159019Z"
    }
   },
   "outputs": [],
   "source": [
    "from sklearn.model_selection import train_test_split\n",
    "train_review, test_review, train_sentiment, test_sentiment =train_test_split(train_data.cleaned_review,train_data.sentiments,shuffle=True,random_state=0,stratify=train_data.sentiments,train_size=.85)"
   ]
  },
  {
   "cell_type": "code",
   "execution_count": 1560,
   "metadata": {
    "execution": {
     "iopub.execute_input": "2022-09-07T20:32:11.924779Z",
     "iopub.status.busy": "2022-09-07T20:32:11.924343Z",
     "iopub.status.idle": "2022-09-07T20:32:17.315920Z",
     "shell.execute_reply": "2022-09-07T20:32:17.314576Z",
     "shell.execute_reply.started": "2022-09-07T20:32:11.924743Z"
    }
   },
   "outputs": [],
   "source": [
    "from sklearn.feature_extraction.text import TfidfVectorizer\n",
    "tf_vectorizer = TfidfVectorizer(min_df=.0099,use_idf=False,ngram_range=(1,2))\n",
    "feature_matrix = tf_vectorizer.fit_transform(train_review)\n",
    "feature_array = feature_matrix.toarray()"
   ]
  },
  {
   "cell_type": "code",
   "execution_count": 1561,
   "metadata": {
    "execution": {
     "iopub.execute_input": "2022-09-07T20:32:17.319084Z",
     "iopub.status.busy": "2022-09-07T20:32:17.318121Z",
     "iopub.status.idle": "2022-09-07T20:32:17.418220Z",
     "shell.execute_reply": "2022-09-07T20:32:17.416994Z",
     "shell.execute_reply.started": "2022-09-07T20:32:17.319042Z"
    }
   },
   "outputs": [
    {
     "data": {
      "text/plain": [
       "(926,)"
      ]
     },
     "execution_count": 1561,
     "metadata": {},
     "output_type": "execute_result"
    }
   ],
   "source": [
    "vocab_list = tf_vectorizer.get_feature_names_out()\n",
    "vocab_list.shape"
   ]
  },
  {
   "cell_type": "markdown",
   "metadata": {},
   "source": [
    "### Select K-best features"
   ]
  },
  {
   "cell_type": "code",
   "execution_count": 1562,
   "metadata": {
    "execution": {
     "iopub.execute_input": "2022-09-07T20:32:19.111355Z",
     "iopub.status.busy": "2022-09-07T20:32:19.110932Z",
     "iopub.status.idle": "2022-09-07T20:32:27.029442Z",
     "shell.execute_reply": "2022-09-07T20:32:27.028516Z",
     "shell.execute_reply.started": "2022-09-07T20:32:19.111319Z"
    }
   },
   "outputs": [
    {
     "data": {
      "text/plain": [
       "array(['always', 'amaze', 'amazing', 'ask', 'awesome', 'awful', 'az',\n",
       "       'bad', 'beautiful', 'best', 'bland', 'call', 'charge', 'charlotte',\n",
       "       'cold', 'could', 'definitely', 'delicious', 'didnt', 'dirty',\n",
       "       'disappointed', 'disgust', 'dont', 'dry', 'easy', 'enjoy',\n",
       "       'excellent', 'family', 'fantastic', 'favorite', 'food great',\n",
       "       'fresh', 'friendly', 'fun', 'give', 'good', 'great', 'great food',\n",
       "       'great place', 'great service', 'gross', 'happy', 'helpful',\n",
       "       'highly', 'highly recommend', 'horrible', 'hotel', 'lack', 'leave',\n",
       "       'little', 'love', 'love place', 'maybe', 'mediocre', 'mexican',\n",
       "       'minute', 'money', 'nothing', 'ok', 'okay', 'one best', 'order',\n",
       "       'overprice', 'pay', 'perfect', 'phoenix', 'pittsburgh',\n",
       "       'recommend', 'rude', 'say', 'seem', 'selection', 'slow', 'sorry',\n",
       "       'spot', 'staff', 'table', 'taste', 'taste like', 'tell',\n",
       "       'terrible', 'think', 'two', 'unfortunately', 'us', 'valley',\n",
       "       'wait', 'waitress', 'wasnt', 'waste', 'wine', 'wonderful', 'wont',\n",
       "       'would', 'wouldnt', 'yummy'], dtype=object)"
      ]
     },
     "execution_count": 1562,
     "metadata": {},
     "output_type": "execute_result"
    }
   ],
   "source": [
    "from sklearn.feature_selection import SelectKBest, chi2\n",
    "\n",
    "vocab_list = tf_vectorizer.get_feature_names_out()\n",
    "\n",
    "select_k_best = SelectKBest(score_func=chi2, k= int(len(vocab_list)*.104))\n",
    "train_sentiment_np_array = np.array(train_sentiment)\n",
    "select_k_best.fit(feature_array, train_sentiment_np_array)\n",
    "mask = select_k_best.get_support()\n",
    "k_best_feature = vocab_list[mask]\n",
    "k_best_feature"
   ]
  },
  {
   "cell_type": "code",
   "execution_count": 1532,
   "metadata": {
    "execution": {
     "iopub.execute_input": "2022-09-07T20:32:28.769965Z",
     "iopub.status.busy": "2022-09-07T20:32:28.769531Z",
     "iopub.status.idle": "2022-09-07T20:32:28.776801Z",
     "shell.execute_reply": "2022-09-07T20:32:28.775579Z",
     "shell.execute_reply.started": "2022-09-07T20:32:28.769928Z"
    }
   },
   "outputs": [
    {
     "data": {
      "text/plain": [
       "(96,)"
      ]
     },
     "execution_count": 1532,
     "metadata": {},
     "output_type": "execute_result"
    }
   ],
   "source": [
    "k_best_feature.shape"
   ]
  },
  {
   "cell_type": "markdown",
   "metadata": {},
   "source": [
    "### Supervised Chi-Square weight for k-best term by utilising target value"
   ]
  },
  {
   "cell_type": "code",
   "execution_count": 1533,
   "metadata": {
    "execution": {
     "iopub.execute_input": "2022-09-07T20:32:32.347348Z",
     "iopub.status.busy": "2022-09-07T20:32:32.346912Z",
     "iopub.status.idle": "2022-09-07T20:32:35.727454Z",
     "shell.execute_reply": "2022-09-07T20:32:35.726405Z",
     "shell.execute_reply.started": "2022-09-07T20:32:32.347313Z"
    }
   },
   "outputs": [],
   "source": [
    "from sklearn.feature_extraction.text import TfidfVectorizer\n",
    "selected_tf_vectorizer = TfidfVectorizer(use_idf=True, vocabulary=k_best_feature, ngram_range=(1,3))\n",
    "selected_feat_array = selected_tf_vectorizer.fit_transform(train_review).toarray()\n",
    "selected_test_array = selected_tf_vectorizer.transform(test_review).toarray()\n",
    "observed_value_table = pd.DataFrame(selected_tf_vectorizer.get_feature_names_out(), columns=['features'])"
   ]
  },
  {
   "cell_type": "code",
   "execution_count": 1534,
   "metadata": {},
   "outputs": [
    {
     "data": {
      "text/plain": [
       "array(['always', 'amaze', 'amazing', 'ask', 'awesome', 'awful', 'az',\n",
       "       'bad', 'beautiful', 'best', 'bland', 'call', 'charge', 'charlotte',\n",
       "       'cold', 'could', 'definitely', 'delicious', 'didnt', 'dirty',\n",
       "       'disappointed', 'disgust', 'dont', 'dry', 'easy', 'enjoy',\n",
       "       'excellent', 'family', 'fantastic', 'favorite', 'food great',\n",
       "       'fresh', 'friendly', 'fun', 'give', 'good', 'great', 'great food',\n",
       "       'great place', 'great service', 'gross', 'happy', 'helpful',\n",
       "       'highly', 'highly recommend', 'horrible', 'hotel', 'lack', 'leave',\n",
       "       'little', 'love', 'love place', 'maybe', 'mediocre', 'mexican',\n",
       "       'minute', 'money', 'nothing', 'ok', 'okay', 'one best', 'order',\n",
       "       'overprice', 'pay', 'perfect', 'phoenix', 'pittsburgh',\n",
       "       'recommend', 'rude', 'say', 'seem', 'selection', 'slow', 'sorry',\n",
       "       'spot', 'staff', 'table', 'taste', 'taste like', 'tell',\n",
       "       'terrible', 'think', 'two', 'unfortunately', 'us', 'valley',\n",
       "       'wait', 'waitress', 'wasnt', 'waste', 'wine', 'wonderful', 'wont',\n",
       "       'would', 'wouldnt', 'yummy'], dtype=object)"
      ]
     },
     "execution_count": 1534,
     "metadata": {},
     "output_type": "execute_result"
    }
   ],
   "source": [
    "selected_tf_vectorizer.get_feature_names_out()"
   ]
  },
  {
   "cell_type": "code",
   "execution_count": 1535,
   "metadata": {
    "execution": {
     "iopub.execute_input": "2022-09-07T20:34:11.670458Z",
     "iopub.status.busy": "2022-09-07T20:34:11.668121Z",
     "iopub.status.idle": "2022-09-07T20:34:11.706597Z",
     "shell.execute_reply": "2022-09-07T20:34:11.705566Z",
     "shell.execute_reply.started": "2022-09-07T20:34:11.670380Z"
    }
   },
   "outputs": [],
   "source": [
    "tf_data_frame = pd.DataFrame(selected_feat_array,columns = selected_tf_vectorizer.get_feature_names_out())\n",
    "tf_data_frame['sentiments'] = np.array(train_sentiment)"
   ]
  },
  {
   "cell_type": "code",
   "execution_count": 1536,
   "metadata": {
    "execution": {
     "iopub.execute_input": "2022-09-07T20:34:14.696840Z",
     "iopub.status.busy": "2022-09-07T20:34:14.696415Z",
     "iopub.status.idle": "2022-09-07T20:34:40.132403Z",
     "shell.execute_reply": "2022-09-07T20:34:40.131197Z",
     "shell.execute_reply.started": "2022-09-07T20:34:14.696802Z"
    }
   },
   "outputs": [],
   "source": [
    "observed_value_table['positive_sentiment'] = observed_value_table.features.apply(lambda feature: tf_data_frame.loc[tf_data_frame['sentiments']==1,feature].sum())"
   ]
  },
  {
   "cell_type": "code",
   "execution_count": 1537,
   "metadata": {
    "execution": {
     "iopub.execute_input": "2022-09-07T20:34:40.135006Z",
     "iopub.status.busy": "2022-09-07T20:34:40.134518Z",
     "iopub.status.idle": "2022-09-07T20:35:02.960677Z",
     "shell.execute_reply": "2022-09-07T20:35:02.959429Z",
     "shell.execute_reply.started": "2022-09-07T20:34:40.134957Z"
    }
   },
   "outputs": [],
   "source": [
    "observed_value_table['negative_sentiment'] = observed_value_table.features.apply(lambda feature: tf_data_frame.loc[tf_data_frame['sentiments']==-1,feature].sum())"
   ]
  },
  {
   "cell_type": "code",
   "execution_count": 1538,
   "metadata": {
    "execution": {
     "iopub.execute_input": "2022-09-07T20:35:02.962451Z",
     "iopub.status.busy": "2022-09-07T20:35:02.962084Z",
     "iopub.status.idle": "2022-09-07T20:35:02.970071Z",
     "shell.execute_reply": "2022-09-07T20:35:02.968834Z",
     "shell.execute_reply.started": "2022-09-07T20:35:02.962418Z"
    }
   },
   "outputs": [],
   "source": [
    "observed_value_table['total_row_count'] = observed_value_table['positive_sentiment'] + observed_value_table['negative_sentiment']"
   ]
  },
  {
   "cell_type": "code",
   "execution_count": 1539,
   "metadata": {
    "execution": {
     "iopub.execute_input": "2022-09-07T20:35:02.973552Z",
     "iopub.status.busy": "2022-09-07T20:35:02.973134Z",
     "iopub.status.idle": "2022-09-07T20:35:03.035423Z",
     "shell.execute_reply": "2022-09-07T20:35:03.034183Z",
     "shell.execute_reply.started": "2022-09-07T20:35:02.973513Z"
    }
   },
   "outputs": [
    {
     "data": {
      "text/html": [
       "<div>\n",
       "<style scoped>\n",
       "    .dataframe tbody tr th:only-of-type {\n",
       "        vertical-align: middle;\n",
       "    }\n",
       "\n",
       "    .dataframe tbody tr th {\n",
       "        vertical-align: top;\n",
       "    }\n",
       "\n",
       "    .dataframe thead th {\n",
       "        text-align: right;\n",
       "    }\n",
       "</style>\n",
       "<table border=\"1\" class=\"dataframe\">\n",
       "  <thead>\n",
       "    <tr style=\"text-align: right;\">\n",
       "      <th></th>\n",
       "      <th>always</th>\n",
       "      <th>amaze</th>\n",
       "      <th>amazing</th>\n",
       "      <th>ask</th>\n",
       "      <th>awesome</th>\n",
       "      <th>awful</th>\n",
       "      <th>az</th>\n",
       "      <th>bad</th>\n",
       "      <th>beautiful</th>\n",
       "      <th>best</th>\n",
       "      <th>...</th>\n",
       "      <th>waitress</th>\n",
       "      <th>wasnt</th>\n",
       "      <th>waste</th>\n",
       "      <th>wine</th>\n",
       "      <th>wonderful</th>\n",
       "      <th>wont</th>\n",
       "      <th>would</th>\n",
       "      <th>wouldnt</th>\n",
       "      <th>yummy</th>\n",
       "      <th>sentiments</th>\n",
       "    </tr>\n",
       "  </thead>\n",
       "  <tbody>\n",
       "    <tr>\n",
       "      <th>0</th>\n",
       "      <td>0.000000</td>\n",
       "      <td>0.0</td>\n",
       "      <td>0.000000</td>\n",
       "      <td>0.2565</td>\n",
       "      <td>0.00000</td>\n",
       "      <td>0.0</td>\n",
       "      <td>0.000000</td>\n",
       "      <td>0.00000</td>\n",
       "      <td>0.0</td>\n",
       "      <td>0.000000</td>\n",
       "      <td>...</td>\n",
       "      <td>0.0</td>\n",
       "      <td>0.147920</td>\n",
       "      <td>0.0</td>\n",
       "      <td>0.0</td>\n",
       "      <td>0.0</td>\n",
       "      <td>0.0</td>\n",
       "      <td>0.206475</td>\n",
       "      <td>0.0</td>\n",
       "      <td>0.0</td>\n",
       "      <td>-1</td>\n",
       "    </tr>\n",
       "    <tr>\n",
       "      <th>1</th>\n",
       "      <td>0.000000</td>\n",
       "      <td>0.0</td>\n",
       "      <td>0.000000</td>\n",
       "      <td>0.0000</td>\n",
       "      <td>0.00000</td>\n",
       "      <td>0.0</td>\n",
       "      <td>0.000000</td>\n",
       "      <td>0.00000</td>\n",
       "      <td>0.0</td>\n",
       "      <td>0.000000</td>\n",
       "      <td>...</td>\n",
       "      <td>0.0</td>\n",
       "      <td>0.000000</td>\n",
       "      <td>0.0</td>\n",
       "      <td>0.0</td>\n",
       "      <td>0.0</td>\n",
       "      <td>0.0</td>\n",
       "      <td>0.000000</td>\n",
       "      <td>0.0</td>\n",
       "      <td>0.0</td>\n",
       "      <td>-1</td>\n",
       "    </tr>\n",
       "    <tr>\n",
       "      <th>2</th>\n",
       "      <td>0.691753</td>\n",
       "      <td>0.0</td>\n",
       "      <td>0.000000</td>\n",
       "      <td>0.0000</td>\n",
       "      <td>0.45985</td>\n",
       "      <td>0.0</td>\n",
       "      <td>0.000000</td>\n",
       "      <td>0.00000</td>\n",
       "      <td>0.0</td>\n",
       "      <td>0.000000</td>\n",
       "      <td>...</td>\n",
       "      <td>0.0</td>\n",
       "      <td>0.000000</td>\n",
       "      <td>0.0</td>\n",
       "      <td>0.0</td>\n",
       "      <td>0.0</td>\n",
       "      <td>0.0</td>\n",
       "      <td>0.000000</td>\n",
       "      <td>0.0</td>\n",
       "      <td>0.0</td>\n",
       "      <td>1</td>\n",
       "    </tr>\n",
       "    <tr>\n",
       "      <th>3</th>\n",
       "      <td>0.000000</td>\n",
       "      <td>0.0</td>\n",
       "      <td>0.000000</td>\n",
       "      <td>0.0000</td>\n",
       "      <td>0.00000</td>\n",
       "      <td>0.0</td>\n",
       "      <td>0.000000</td>\n",
       "      <td>0.00000</td>\n",
       "      <td>0.0</td>\n",
       "      <td>0.000000</td>\n",
       "      <td>...</td>\n",
       "      <td>0.0</td>\n",
       "      <td>0.000000</td>\n",
       "      <td>0.0</td>\n",
       "      <td>0.0</td>\n",
       "      <td>0.0</td>\n",
       "      <td>0.0</td>\n",
       "      <td>0.000000</td>\n",
       "      <td>0.0</td>\n",
       "      <td>0.0</td>\n",
       "      <td>-1</td>\n",
       "    </tr>\n",
       "    <tr>\n",
       "      <th>4</th>\n",
       "      <td>0.000000</td>\n",
       "      <td>0.0</td>\n",
       "      <td>0.000000</td>\n",
       "      <td>0.0000</td>\n",
       "      <td>0.00000</td>\n",
       "      <td>0.0</td>\n",
       "      <td>0.000000</td>\n",
       "      <td>0.00000</td>\n",
       "      <td>0.0</td>\n",
       "      <td>0.000000</td>\n",
       "      <td>...</td>\n",
       "      <td>0.0</td>\n",
       "      <td>0.000000</td>\n",
       "      <td>0.0</td>\n",
       "      <td>0.0</td>\n",
       "      <td>0.0</td>\n",
       "      <td>0.0</td>\n",
       "      <td>0.000000</td>\n",
       "      <td>0.0</td>\n",
       "      <td>0.0</td>\n",
       "      <td>-1</td>\n",
       "    </tr>\n",
       "    <tr>\n",
       "      <th>...</th>\n",
       "      <td>...</td>\n",
       "      <td>...</td>\n",
       "      <td>...</td>\n",
       "      <td>...</td>\n",
       "      <td>...</td>\n",
       "      <td>...</td>\n",
       "      <td>...</td>\n",
       "      <td>...</td>\n",
       "      <td>...</td>\n",
       "      <td>...</td>\n",
       "      <td>...</td>\n",
       "      <td>...</td>\n",
       "      <td>...</td>\n",
       "      <td>...</td>\n",
       "      <td>...</td>\n",
       "      <td>...</td>\n",
       "      <td>...</td>\n",
       "      <td>...</td>\n",
       "      <td>...</td>\n",
       "      <td>...</td>\n",
       "      <td>...</td>\n",
       "    </tr>\n",
       "    <tr>\n",
       "      <th>15295</th>\n",
       "      <td>0.218450</td>\n",
       "      <td>0.0</td>\n",
       "      <td>0.000000</td>\n",
       "      <td>0.0000</td>\n",
       "      <td>0.00000</td>\n",
       "      <td>0.0</td>\n",
       "      <td>0.000000</td>\n",
       "      <td>0.00000</td>\n",
       "      <td>0.0</td>\n",
       "      <td>0.000000</td>\n",
       "      <td>...</td>\n",
       "      <td>0.0</td>\n",
       "      <td>0.000000</td>\n",
       "      <td>0.0</td>\n",
       "      <td>0.0</td>\n",
       "      <td>0.0</td>\n",
       "      <td>0.0</td>\n",
       "      <td>0.000000</td>\n",
       "      <td>0.0</td>\n",
       "      <td>0.0</td>\n",
       "      <td>1</td>\n",
       "    </tr>\n",
       "    <tr>\n",
       "      <th>15296</th>\n",
       "      <td>0.000000</td>\n",
       "      <td>0.0</td>\n",
       "      <td>0.194003</td>\n",
       "      <td>0.0000</td>\n",
       "      <td>0.00000</td>\n",
       "      <td>0.0</td>\n",
       "      <td>0.214765</td>\n",
       "      <td>0.48234</td>\n",
       "      <td>0.0</td>\n",
       "      <td>0.119564</td>\n",
       "      <td>...</td>\n",
       "      <td>0.0</td>\n",
       "      <td>0.141010</td>\n",
       "      <td>0.0</td>\n",
       "      <td>0.0</td>\n",
       "      <td>0.0</td>\n",
       "      <td>0.0</td>\n",
       "      <td>0.000000</td>\n",
       "      <td>0.0</td>\n",
       "      <td>0.0</td>\n",
       "      <td>1</td>\n",
       "    </tr>\n",
       "    <tr>\n",
       "      <th>15297</th>\n",
       "      <td>0.000000</td>\n",
       "      <td>0.0</td>\n",
       "      <td>0.000000</td>\n",
       "      <td>0.0000</td>\n",
       "      <td>0.00000</td>\n",
       "      <td>0.0</td>\n",
       "      <td>0.000000</td>\n",
       "      <td>0.00000</td>\n",
       "      <td>0.0</td>\n",
       "      <td>0.412954</td>\n",
       "      <td>...</td>\n",
       "      <td>0.0</td>\n",
       "      <td>0.000000</td>\n",
       "      <td>0.0</td>\n",
       "      <td>0.0</td>\n",
       "      <td>0.0</td>\n",
       "      <td>0.0</td>\n",
       "      <td>0.000000</td>\n",
       "      <td>0.0</td>\n",
       "      <td>0.0</td>\n",
       "      <td>-1</td>\n",
       "    </tr>\n",
       "    <tr>\n",
       "      <th>15298</th>\n",
       "      <td>0.000000</td>\n",
       "      <td>0.0</td>\n",
       "      <td>0.000000</td>\n",
       "      <td>0.0000</td>\n",
       "      <td>0.00000</td>\n",
       "      <td>0.0</td>\n",
       "      <td>0.000000</td>\n",
       "      <td>0.00000</td>\n",
       "      <td>0.0</td>\n",
       "      <td>0.000000</td>\n",
       "      <td>...</td>\n",
       "      <td>0.0</td>\n",
       "      <td>0.188643</td>\n",
       "      <td>0.0</td>\n",
       "      <td>0.0</td>\n",
       "      <td>0.0</td>\n",
       "      <td>0.0</td>\n",
       "      <td>0.000000</td>\n",
       "      <td>0.0</td>\n",
       "      <td>0.0</td>\n",
       "      <td>-1</td>\n",
       "    </tr>\n",
       "    <tr>\n",
       "      <th>15299</th>\n",
       "      <td>0.000000</td>\n",
       "      <td>0.0</td>\n",
       "      <td>0.000000</td>\n",
       "      <td>0.0000</td>\n",
       "      <td>0.00000</td>\n",
       "      <td>0.0</td>\n",
       "      <td>0.000000</td>\n",
       "      <td>0.00000</td>\n",
       "      <td>0.0</td>\n",
       "      <td>0.000000</td>\n",
       "      <td>...</td>\n",
       "      <td>0.0</td>\n",
       "      <td>0.000000</td>\n",
       "      <td>0.0</td>\n",
       "      <td>0.0</td>\n",
       "      <td>0.0</td>\n",
       "      <td>0.0</td>\n",
       "      <td>0.438973</td>\n",
       "      <td>0.0</td>\n",
       "      <td>0.0</td>\n",
       "      <td>-1</td>\n",
       "    </tr>\n",
       "  </tbody>\n",
       "</table>\n",
       "<p>15300 rows × 97 columns</p>\n",
       "</div>"
      ],
      "text/plain": [
       "         always  amaze   amazing     ask  awesome  awful        az      bad  \\\n",
       "0      0.000000    0.0  0.000000  0.2565  0.00000    0.0  0.000000  0.00000   \n",
       "1      0.000000    0.0  0.000000  0.0000  0.00000    0.0  0.000000  0.00000   \n",
       "2      0.691753    0.0  0.000000  0.0000  0.45985    0.0  0.000000  0.00000   \n",
       "3      0.000000    0.0  0.000000  0.0000  0.00000    0.0  0.000000  0.00000   \n",
       "4      0.000000    0.0  0.000000  0.0000  0.00000    0.0  0.000000  0.00000   \n",
       "...         ...    ...       ...     ...      ...    ...       ...      ...   \n",
       "15295  0.218450    0.0  0.000000  0.0000  0.00000    0.0  0.000000  0.00000   \n",
       "15296  0.000000    0.0  0.194003  0.0000  0.00000    0.0  0.214765  0.48234   \n",
       "15297  0.000000    0.0  0.000000  0.0000  0.00000    0.0  0.000000  0.00000   \n",
       "15298  0.000000    0.0  0.000000  0.0000  0.00000    0.0  0.000000  0.00000   \n",
       "15299  0.000000    0.0  0.000000  0.0000  0.00000    0.0  0.000000  0.00000   \n",
       "\n",
       "       beautiful      best  ...  waitress     wasnt  waste  wine  wonderful  \\\n",
       "0            0.0  0.000000  ...       0.0  0.147920    0.0   0.0        0.0   \n",
       "1            0.0  0.000000  ...       0.0  0.000000    0.0   0.0        0.0   \n",
       "2            0.0  0.000000  ...       0.0  0.000000    0.0   0.0        0.0   \n",
       "3            0.0  0.000000  ...       0.0  0.000000    0.0   0.0        0.0   \n",
       "4            0.0  0.000000  ...       0.0  0.000000    0.0   0.0        0.0   \n",
       "...          ...       ...  ...       ...       ...    ...   ...        ...   \n",
       "15295        0.0  0.000000  ...       0.0  0.000000    0.0   0.0        0.0   \n",
       "15296        0.0  0.119564  ...       0.0  0.141010    0.0   0.0        0.0   \n",
       "15297        0.0  0.412954  ...       0.0  0.000000    0.0   0.0        0.0   \n",
       "15298        0.0  0.000000  ...       0.0  0.188643    0.0   0.0        0.0   \n",
       "15299        0.0  0.000000  ...       0.0  0.000000    0.0   0.0        0.0   \n",
       "\n",
       "       wont     would  wouldnt  yummy  sentiments  \n",
       "0       0.0  0.206475      0.0    0.0          -1  \n",
       "1       0.0  0.000000      0.0    0.0          -1  \n",
       "2       0.0  0.000000      0.0    0.0           1  \n",
       "3       0.0  0.000000      0.0    0.0          -1  \n",
       "4       0.0  0.000000      0.0    0.0          -1  \n",
       "...     ...       ...      ...    ...         ...  \n",
       "15295   0.0  0.000000      0.0    0.0           1  \n",
       "15296   0.0  0.000000      0.0    0.0           1  \n",
       "15297   0.0  0.000000      0.0    0.0          -1  \n",
       "15298   0.0  0.000000      0.0    0.0          -1  \n",
       "15299   0.0  0.438973      0.0    0.0          -1  \n",
       "\n",
       "[15300 rows x 97 columns]"
      ]
     },
     "execution_count": 1539,
     "metadata": {},
     "output_type": "execute_result"
    }
   ],
   "source": [
    "tf_data_frame"
   ]
  },
  {
   "cell_type": "code",
   "execution_count": 1540,
   "metadata": {
    "execution": {
     "iopub.execute_input": "2022-09-07T20:35:03.037783Z",
     "iopub.status.busy": "2022-09-07T20:35:03.036962Z",
     "iopub.status.idle": "2022-09-07T20:35:03.053341Z",
     "shell.execute_reply": "2022-09-07T20:35:03.052383Z",
     "shell.execute_reply.started": "2022-09-07T20:35:03.037745Z"
    }
   },
   "outputs": [
    {
     "data": {
      "text/html": [
       "<div>\n",
       "<style scoped>\n",
       "    .dataframe tbody tr th:only-of-type {\n",
       "        vertical-align: middle;\n",
       "    }\n",
       "\n",
       "    .dataframe tbody tr th {\n",
       "        vertical-align: top;\n",
       "    }\n",
       "\n",
       "    .dataframe thead th {\n",
       "        text-align: right;\n",
       "    }\n",
       "</style>\n",
       "<table border=\"1\" class=\"dataframe\">\n",
       "  <thead>\n",
       "    <tr style=\"text-align: right;\">\n",
       "      <th></th>\n",
       "      <th>features</th>\n",
       "      <th>positive_sentiment</th>\n",
       "      <th>negative_sentiment</th>\n",
       "      <th>total_row_count</th>\n",
       "    </tr>\n",
       "  </thead>\n",
       "  <tbody>\n",
       "    <tr>\n",
       "      <th>0</th>\n",
       "      <td>always</td>\n",
       "      <td>582.923355</td>\n",
       "      <td>207.962651</td>\n",
       "      <td>790.886006</td>\n",
       "    </tr>\n",
       "    <tr>\n",
       "      <th>1</th>\n",
       "      <td>amaze</td>\n",
       "      <td>249.151712</td>\n",
       "      <td>32.806578</td>\n",
       "      <td>281.958290</td>\n",
       "    </tr>\n",
       "    <tr>\n",
       "      <th>2</th>\n",
       "      <td>amazing</td>\n",
       "      <td>122.438897</td>\n",
       "      <td>20.381874</td>\n",
       "      <td>142.820770</td>\n",
       "    </tr>\n",
       "    <tr>\n",
       "      <th>3</th>\n",
       "      <td>ask</td>\n",
       "      <td>166.796012</td>\n",
       "      <td>411.777213</td>\n",
       "      <td>578.573225</td>\n",
       "    </tr>\n",
       "    <tr>\n",
       "      <th>4</th>\n",
       "      <td>awesome</td>\n",
       "      <td>289.426441</td>\n",
       "      <td>56.922014</td>\n",
       "      <td>346.348455</td>\n",
       "    </tr>\n",
       "    <tr>\n",
       "      <th>...</th>\n",
       "      <td>...</td>\n",
       "      <td>...</td>\n",
       "      <td>...</td>\n",
       "      <td>...</td>\n",
       "    </tr>\n",
       "    <tr>\n",
       "      <th>91</th>\n",
       "      <td>wonderful</td>\n",
       "      <td>159.983000</td>\n",
       "      <td>30.622324</td>\n",
       "      <td>190.605324</td>\n",
       "    </tr>\n",
       "    <tr>\n",
       "      <th>92</th>\n",
       "      <td>wont</td>\n",
       "      <td>78.255152</td>\n",
       "      <td>195.282859</td>\n",
       "      <td>273.538010</td>\n",
       "    </tr>\n",
       "    <tr>\n",
       "      <th>93</th>\n",
       "      <td>would</td>\n",
       "      <td>362.343986</td>\n",
       "      <td>638.201879</td>\n",
       "      <td>1000.545865</td>\n",
       "    </tr>\n",
       "    <tr>\n",
       "      <th>94</th>\n",
       "      <td>wouldnt</td>\n",
       "      <td>45.400138</td>\n",
       "      <td>136.037503</td>\n",
       "      <td>181.437640</td>\n",
       "    </tr>\n",
       "    <tr>\n",
       "      <th>95</th>\n",
       "      <td>yummy</td>\n",
       "      <td>104.277149</td>\n",
       "      <td>16.378066</td>\n",
       "      <td>120.655215</td>\n",
       "    </tr>\n",
       "  </tbody>\n",
       "</table>\n",
       "<p>96 rows × 4 columns</p>\n",
       "</div>"
      ],
      "text/plain": [
       "     features  positive_sentiment  negative_sentiment  total_row_count\n",
       "0      always          582.923355          207.962651       790.886006\n",
       "1       amaze          249.151712           32.806578       281.958290\n",
       "2     amazing          122.438897           20.381874       142.820770\n",
       "3         ask          166.796012          411.777213       578.573225\n",
       "4     awesome          289.426441           56.922014       346.348455\n",
       "..        ...                 ...                 ...              ...\n",
       "91  wonderful          159.983000           30.622324       190.605324\n",
       "92       wont           78.255152          195.282859       273.538010\n",
       "93      would          362.343986          638.201879      1000.545865\n",
       "94    wouldnt           45.400138          136.037503       181.437640\n",
       "95      yummy          104.277149           16.378066       120.655215\n",
       "\n",
       "[96 rows x 4 columns]"
      ]
     },
     "execution_count": 1540,
     "metadata": {},
     "output_type": "execute_result"
    }
   ],
   "source": [
    "observed_value_table"
   ]
  },
  {
   "cell_type": "code",
   "execution_count": 1541,
   "metadata": {
    "execution": {
     "iopub.execute_input": "2022-09-07T20:35:03.055753Z",
     "iopub.status.busy": "2022-09-07T20:35:03.054781Z",
     "iopub.status.idle": "2022-09-07T20:35:03.064775Z",
     "shell.execute_reply": "2022-09-07T20:35:03.063483Z",
     "shell.execute_reply.started": "2022-09-07T20:35:03.055709Z"
    }
   },
   "outputs": [],
   "source": [
    "chi_sqare_expected = pd.DataFrame()"
   ]
  },
  {
   "cell_type": "markdown",
   "metadata": {},
   "source": [
    "#### Calculating expected value table for chi-sqare function"
   ]
  },
  {
   "cell_type": "code",
   "execution_count": 1542,
   "metadata": {
    "execution": {
     "iopub.execute_input": "2022-09-07T20:35:03.067592Z",
     "iopub.status.busy": "2022-09-07T20:35:03.066772Z",
     "iopub.status.idle": "2022-09-07T20:35:03.078695Z",
     "shell.execute_reply": "2022-09-07T20:35:03.077372Z",
     "shell.execute_reply.started": "2022-09-07T20:35:03.067551Z"
    }
   },
   "outputs": [],
   "source": [
    "def chi_sqare_value(row_totals, positive_column_total, negative_column_total, total_sum):\n",
    "    positive_chi_value = []\n",
    "    negative_chi_value = []\n",
    "    for i in range(0, len(row_totals)):\n",
    "        positive_chi_value.append((row_totals[i]*positive_column_total)/total_sum)\n",
    "        negative_chi_value.append((row_totals[i]*negative_column_total)/total_sum)\n",
    "    return positive_chi_value, negative_chi_value"
   ]
  },
  {
   "cell_type": "code",
   "execution_count": 1543,
   "metadata": {
    "execution": {
     "iopub.execute_input": "2022-09-07T20:35:03.081176Z",
     "iopub.status.busy": "2022-09-07T20:35:03.080121Z",
     "iopub.status.idle": "2022-09-07T20:35:03.106872Z",
     "shell.execute_reply": "2022-09-07T20:35:03.105842Z",
     "shell.execute_reply.started": "2022-09-07T20:35:03.081136Z"
    }
   },
   "outputs": [],
   "source": [
    "row_totals = np.array(observed_value_table['total_row_count'])\n",
    "positive_column_total = observed_value_table['positive_sentiment'].sum()\n",
    "negative_column_total = observed_value_table['negative_sentiment'].sum()\n",
    "total_sum = observed_value_table['total_row_count'].sum()\n",
    "expected_positive, expected_negative = chi_sqare_value(row_totals, positive_column_total, negative_column_total, total_sum)"
   ]
  },
  {
   "cell_type": "code",
   "execution_count": 1544,
   "metadata": {
    "execution": {
     "iopub.execute_input": "2022-09-07T20:35:03.108781Z",
     "iopub.status.busy": "2022-09-07T20:35:03.108211Z",
     "iopub.status.idle": "2022-09-07T20:35:03.125207Z",
     "shell.execute_reply": "2022-09-07T20:35:03.123949Z",
     "shell.execute_reply.started": "2022-09-07T20:35:03.108747Z"
    }
   },
   "outputs": [],
   "source": [
    "chi_sqare_expected['+1'] = np.array(expected_positive)\n",
    "chi_sqare_expected['-1'] = np.array(expected_negative)"
   ]
  },
  {
   "cell_type": "code",
   "execution_count": 1545,
   "metadata": {
    "execution": {
     "iopub.execute_input": "2022-09-07T20:35:03.129255Z",
     "iopub.status.busy": "2022-09-07T20:35:03.128849Z",
     "iopub.status.idle": "2022-09-07T20:35:03.144918Z",
     "shell.execute_reply": "2022-09-07T20:35:03.143693Z",
     "shell.execute_reply.started": "2022-09-07T20:35:03.129222Z"
    }
   },
   "outputs": [
    {
     "data": {
      "text/html": [
       "<div>\n",
       "<style scoped>\n",
       "    .dataframe tbody tr th:only-of-type {\n",
       "        vertical-align: middle;\n",
       "    }\n",
       "\n",
       "    .dataframe tbody tr th {\n",
       "        vertical-align: top;\n",
       "    }\n",
       "\n",
       "    .dataframe thead th {\n",
       "        text-align: right;\n",
       "    }\n",
       "</style>\n",
       "<table border=\"1\" class=\"dataframe\">\n",
       "  <thead>\n",
       "    <tr style=\"text-align: right;\">\n",
       "      <th></th>\n",
       "      <th>+1</th>\n",
       "      <th>-1</th>\n",
       "    </tr>\n",
       "  </thead>\n",
       "  <tbody>\n",
       "    <tr>\n",
       "      <th>0</th>\n",
       "      <td>385.395267</td>\n",
       "      <td>405.490739</td>\n",
       "    </tr>\n",
       "    <tr>\n",
       "      <th>1</th>\n",
       "      <td>137.397033</td>\n",
       "      <td>144.561257</td>\n",
       "    </tr>\n",
       "    <tr>\n",
       "      <th>2</th>\n",
       "      <td>69.595932</td>\n",
       "      <td>73.224838</td>\n",
       "    </tr>\n",
       "    <tr>\n",
       "      <th>3</th>\n",
       "      <td>281.936184</td>\n",
       "      <td>296.637041</td>\n",
       "    </tr>\n",
       "    <tr>\n",
       "      <th>4</th>\n",
       "      <td>168.774076</td>\n",
       "      <td>177.574379</td>\n",
       "    </tr>\n",
       "    <tr>\n",
       "      <th>...</th>\n",
       "      <td>...</td>\n",
       "      <td>...</td>\n",
       "    </tr>\n",
       "    <tr>\n",
       "      <th>91</th>\n",
       "      <td>92.881135</td>\n",
       "      <td>97.724189</td>\n",
       "    </tr>\n",
       "    <tr>\n",
       "      <th>92</th>\n",
       "      <td>133.293867</td>\n",
       "      <td>140.244143</td>\n",
       "    </tr>\n",
       "    <tr>\n",
       "      <th>93</th>\n",
       "      <td>487.561593</td>\n",
       "      <td>512.984273</td>\n",
       "    </tr>\n",
       "    <tr>\n",
       "      <th>94</th>\n",
       "      <td>88.413763</td>\n",
       "      <td>93.023877</td>\n",
       "    </tr>\n",
       "    <tr>\n",
       "      <th>95</th>\n",
       "      <td>58.794755</td>\n",
       "      <td>61.860460</td>\n",
       "    </tr>\n",
       "  </tbody>\n",
       "</table>\n",
       "<p>96 rows × 2 columns</p>\n",
       "</div>"
      ],
      "text/plain": [
       "            +1          -1\n",
       "0   385.395267  405.490739\n",
       "1   137.397033  144.561257\n",
       "2    69.595932   73.224838\n",
       "3   281.936184  296.637041\n",
       "4   168.774076  177.574379\n",
       "..         ...         ...\n",
       "91   92.881135   97.724189\n",
       "92  133.293867  140.244143\n",
       "93  487.561593  512.984273\n",
       "94   88.413763   93.023877\n",
       "95   58.794755   61.860460\n",
       "\n",
       "[96 rows x 2 columns]"
      ]
     },
     "execution_count": 1545,
     "metadata": {},
     "output_type": "execute_result"
    }
   ],
   "source": [
    "chi_sqare_expected"
   ]
  },
  {
   "cell_type": "code",
   "execution_count": 1546,
   "metadata": {
    "execution": {
     "iopub.execute_input": "2022-09-07T20:35:03.146679Z",
     "iopub.status.busy": "2022-09-07T20:35:03.146315Z",
     "iopub.status.idle": "2022-09-07T20:35:03.156830Z",
     "shell.execute_reply": "2022-09-07T20:35:03.155431Z",
     "shell.execute_reply.started": "2022-09-07T20:35:03.146647Z"
    }
   },
   "outputs": [],
   "source": [
    "chi_sqare_table = pd.DataFrame()"
   ]
  },
  {
   "cell_type": "code",
   "execution_count": 1547,
   "metadata": {
    "execution": {
     "iopub.execute_input": "2022-09-07T20:35:03.159129Z",
     "iopub.status.busy": "2022-09-07T20:35:03.158142Z",
     "iopub.status.idle": "2022-09-07T20:35:03.174208Z",
     "shell.execute_reply": "2022-09-07T20:35:03.173090Z",
     "shell.execute_reply.started": "2022-09-07T20:35:03.159087Z"
    }
   },
   "outputs": [],
   "source": [
    "chi_sqare_table['positiev_sentiments'] = ((observed_value_table['positive_sentiment'] - chi_sqare_expected['+1'])**2)/chi_sqare_expected['+1']\n",
    "chi_sqare_table['negatiev_sentiments'] = ((observed_value_table['negative_sentiment'] - chi_sqare_expected['-1'])**2)/chi_sqare_expected['-1']\n",
    "chi_sqare_table['sum'] = chi_sqare_table['positiev_sentiments'] + chi_sqare_table['negatiev_sentiments']"
   ]
  },
  {
   "cell_type": "code",
   "execution_count": 1548,
   "metadata": {
    "execution": {
     "iopub.execute_input": "2022-09-07T20:35:03.176690Z",
     "iopub.status.busy": "2022-09-07T20:35:03.175670Z",
     "iopub.status.idle": "2022-09-07T20:35:03.192034Z",
     "shell.execute_reply": "2022-09-07T20:35:03.190935Z",
     "shell.execute_reply.started": "2022-09-07T20:35:03.176623Z"
    },
    "scrolled": true
   },
   "outputs": [
    {
     "data": {
      "text/html": [
       "<div>\n",
       "<style scoped>\n",
       "    .dataframe tbody tr th:only-of-type {\n",
       "        vertical-align: middle;\n",
       "    }\n",
       "\n",
       "    .dataframe tbody tr th {\n",
       "        vertical-align: top;\n",
       "    }\n",
       "\n",
       "    .dataframe thead th {\n",
       "        text-align: right;\n",
       "    }\n",
       "</style>\n",
       "<table border=\"1\" class=\"dataframe\">\n",
       "  <thead>\n",
       "    <tr style=\"text-align: right;\">\n",
       "      <th></th>\n",
       "      <th>positiev_sentiments</th>\n",
       "      <th>negatiev_sentiments</th>\n",
       "      <th>sum</th>\n",
       "    </tr>\n",
       "  </thead>\n",
       "  <tbody>\n",
       "    <tr>\n",
       "      <th>0</th>\n",
       "      <td>101.239815</td>\n",
       "      <td>96.222532</td>\n",
       "      <td>197.462347</td>\n",
       "    </tr>\n",
       "    <tr>\n",
       "      <th>1</th>\n",
       "      <td>90.897948</td>\n",
       "      <td>86.393191</td>\n",
       "      <td>177.291139</td>\n",
       "    </tr>\n",
       "    <tr>\n",
       "      <th>2</th>\n",
       "      <td>40.122731</td>\n",
       "      <td>38.134313</td>\n",
       "      <td>78.257044</td>\n",
       "    </tr>\n",
       "    <tr>\n",
       "      <th>3</th>\n",
       "      <td>47.022198</td>\n",
       "      <td>44.691853</td>\n",
       "      <td>91.714051</td>\n",
       "    </tr>\n",
       "    <tr>\n",
       "      <th>4</th>\n",
       "      <td>86.251357</td>\n",
       "      <td>81.976878</td>\n",
       "      <td>168.228235</td>\n",
       "    </tr>\n",
       "    <tr>\n",
       "      <th>...</th>\n",
       "      <td>...</td>\n",
       "      <td>...</td>\n",
       "      <td>...</td>\n",
       "    </tr>\n",
       "    <tr>\n",
       "      <th>91</th>\n",
       "      <td>48.477662</td>\n",
       "      <td>46.075187</td>\n",
       "      <td>94.552849</td>\n",
       "    </tr>\n",
       "    <tr>\n",
       "      <th>92</th>\n",
       "      <td>22.726179</td>\n",
       "      <td>21.599906</td>\n",
       "      <td>44.326084</td>\n",
       "    </tr>\n",
       "    <tr>\n",
       "      <th>93</th>\n",
       "      <td>32.158909</td>\n",
       "      <td>30.565165</td>\n",
       "      <td>62.724074</td>\n",
       "    </tr>\n",
       "    <tr>\n",
       "      <th>94</th>\n",
       "      <td>20.926289</td>\n",
       "      <td>19.889216</td>\n",
       "      <td>40.815504</td>\n",
       "    </tr>\n",
       "    <tr>\n",
       "      <th>95</th>\n",
       "      <td>35.184230</td>\n",
       "      <td>33.440556</td>\n",
       "      <td>68.624787</td>\n",
       "    </tr>\n",
       "  </tbody>\n",
       "</table>\n",
       "<p>96 rows × 3 columns</p>\n",
       "</div>"
      ],
      "text/plain": [
       "    positiev_sentiments  negatiev_sentiments         sum\n",
       "0            101.239815            96.222532  197.462347\n",
       "1             90.897948            86.393191  177.291139\n",
       "2             40.122731            38.134313   78.257044\n",
       "3             47.022198            44.691853   91.714051\n",
       "4             86.251357            81.976878  168.228235\n",
       "..                  ...                  ...         ...\n",
       "91            48.477662            46.075187   94.552849\n",
       "92            22.726179            21.599906   44.326084\n",
       "93            32.158909            30.565165   62.724074\n",
       "94            20.926289            19.889216   40.815504\n",
       "95            35.184230            33.440556   68.624787\n",
       "\n",
       "[96 rows x 3 columns]"
      ]
     },
     "execution_count": 1548,
     "metadata": {},
     "output_type": "execute_result"
    }
   ],
   "source": [
    "chi_sqare_table"
   ]
  },
  {
   "cell_type": "markdown",
   "metadata": {},
   "source": [
    "### Create weighted features"
   ]
  },
  {
   "cell_type": "code",
   "execution_count": 1549,
   "metadata": {
    "execution": {
     "iopub.execute_input": "2022-09-07T20:35:03.196004Z",
     "iopub.status.busy": "2022-09-07T20:35:03.193471Z",
     "iopub.status.idle": "2022-09-07T20:35:03.203449Z",
     "shell.execute_reply": "2022-09-07T20:35:03.202351Z",
     "shell.execute_reply.started": "2022-09-07T20:35:03.195962Z"
    }
   },
   "outputs": [],
   "source": [
    "def generate_chi_sqare_weighted_features(train_feat_array, train_sentiments, chi_weight):\n",
    "    new_weighted_feature= []\n",
    "    sentiments = np.array(train_sentiments)\n",
    "    for i in range(0,len(sentiments)):                \n",
    "            new_weighted_feature.append(np.multiply(train_feat_array[i], chi_weight))\n",
    "    return new_weighted_feature        "
   ]
  },
  {
   "cell_type": "code",
   "execution_count": 1550,
   "metadata": {
    "execution": {
     "iopub.execute_input": "2022-09-07T20:35:03.205810Z",
     "iopub.status.busy": "2022-09-07T20:35:03.205112Z",
     "iopub.status.idle": "2022-09-07T20:35:03.219302Z",
     "shell.execute_reply": "2022-09-07T20:35:03.218022Z",
     "shell.execute_reply.started": "2022-09-07T20:35:03.205763Z"
    }
   },
   "outputs": [],
   "source": [
    "def weight_unlabled_data(features, max_chi_val):\n",
    "    weighted_data = []\n",
    "    for i in range(0,len(features)):\n",
    "        weighted_data.append(np.multiply(features[i], max_chi_val))\n",
    "    return np.array(weighted_data)"
   ]
  },
  {
   "cell_type": "code",
   "execution_count": 1551,
   "metadata": {
    "execution": {
     "iopub.execute_input": "2022-09-07T20:35:03.221853Z",
     "iopub.status.busy": "2022-09-07T20:35:03.220708Z",
     "iopub.status.idle": "2022-09-07T20:35:08.728666Z",
     "shell.execute_reply": "2022-09-07T20:35:08.727290Z",
     "shell.execute_reply.started": "2022-09-07T20:35:03.221803Z"
    }
   },
   "outputs": [],
   "source": [
    "chi_weight = np.array (chi_sqare_table['sum'])\n",
    "weighted_selected_feat = np.array(\n",
    "    generate_chi_sqare_weighted_features(selected_feat_array, train_sentiment,chi_weight))"
   ]
  },
  {
   "cell_type": "code",
   "execution_count": null,
   "metadata": {},
   "outputs": [],
   "source": []
  },
  {
   "cell_type": "code",
   "execution_count": 1552,
   "metadata": {
    "execution": {
     "iopub.execute_input": "2022-09-07T20:35:08.730859Z",
     "iopub.status.busy": "2022-09-07T20:35:08.730451Z",
     "iopub.status.idle": "2022-09-07T20:35:09.146317Z",
     "shell.execute_reply": "2022-09-07T20:35:09.144958Z",
     "shell.execute_reply.started": "2022-09-07T20:35:08.730821Z"
    }
   },
   "outputs": [],
   "source": [
    "test_sentiments_array = np.array(test_sentiment)\n",
    "train_sentiments_array = np.array(train_sentiment)\n",
    "# chi_sqare_table['max_chi_value'] = find_max_chi_val(chi_sqare_table['positiev_sentiments'], chi_sqare_table['negatiev_sentiments'])\n",
    "weighted_test_feat = weight_unlabled_data( selected_test_array, chi_weight)\n",
    "max_neighbour =np.sqrt(int(len(weighted_selected_feat)))\n",
    "max_neighbour = np.ceil(max_neighbour)"
   ]
  },
  {
   "cell_type": "code",
   "execution_count": null,
   "metadata": {
    "execution": {
     "iopub.execute_input": "2022-09-07T19:26:40.510262Z",
     "iopub.status.busy": "2022-09-07T19:26:40.509802Z",
     "iopub.status.idle": "2022-09-07T19:26:59.865850Z",
     "shell.execute_reply": "2022-09-07T19:26:59.864554Z",
     "shell.execute_reply.started": "2022-09-07T19:26:40.510225Z"
    }
   },
   "outputs": [],
   "source": [
    "from sklearn.neighbors import KNeighborsClassifier\n",
    "from sklearn import metrics\n",
    "track_precision=[]\n",
    "error = []\n",
    "for i in range(3,60):\n",
    "    print(i)\n",
    "    classifer = KNeighborsClassifier(n_neighbors=i,n_jobs=3,weights='distance')\n",
    "    classifer.fit(weighted_selected_feat, train_sentiments_array)\n",
    "    sentiments_predict = classifer.predict(weighted_test_feat)\n",
    "    score = metrics.accuracy_score(test_sentiments_array,sentiments_predict)\n",
    "    print(score)\n",
    "    track_precision.append(score)\n",
    "    error.append(1-score)"
   ]
  },
  {
   "cell_type": "code",
   "execution_count": 1554,
   "metadata": {},
   "outputs": [],
   "source": [
    "# from sklearn.metrics.pairwise import euclidean_distances\n",
    "# def calculate_uclidien_distance(train_data, test_data):\n",
    "#     print(\"calculate_uclidien_distance in\")\n",
    "#     uc_distance = euclidean_distances([train_data],[test_data])\n",
    "#     print(\"calculate_uclidien_distance out\")\n",
    "#     return 1/((np.sqrt(uc_distance))**2)        "
   ]
  },
  {
   "cell_type": "code",
   "execution_count": 1555,
   "metadata": {},
   "outputs": [
    {
     "data": {
      "text/plain": [
       "[<matplotlib.lines.Line2D at 0x7f78690772d0>]"
      ]
     },
     "execution_count": 1555,
     "metadata": {},
     "output_type": "execute_result"
    },
    {
     "data": {
      "image/png": "[encoded data removed]",
      "text/plain": [
       "<Figure size 432x288 with 1 Axes>"
      ]
     },
     "metadata": {
      "needs_background": "light"
     },
     "output_type": "display_data"
    }
   ],
   "source": [
    "plt.plot(range(3,60),track_precision)"
   ]
  },
  {
   "cell_type": "code",
   "execution_count": 1556,
   "metadata": {},
   "outputs": [],
   "source": [
    "# df = pd.DataFrame(weighted_selected_feat)"
   ]
  },
  {
   "cell_type": "code",
   "execution_count": 1557,
   "metadata": {},
   "outputs": [],
   "source": [
    "def calculate_neighbour(train_data, test_data, K):\n",
    "    \n",
    "    numpy_distances = np.array(euclidean_distances(train_data,[test_data]).flatten())\n",
    "    inv_distance = []\n",
    "        \n",
    "    indexes_by_shortest_dist = numpy_distances.argsort()   \n",
    "    \n",
    "    return indexes_by_shortest_dist"
   ]
  },
  {
   "cell_type": "code",
   "execution_count": 1558,
   "metadata": {},
   "outputs": [],
   "source": [
    "def find_majority_and_predict(train_data, test_data, train_sentiments, K):\n",
    "    \n",
    "    nearest_neighbors_indexes = calculate_neighbour(train_data, test_data, K)\n",
    "    sentiment_classes = []\n",
    "    \n",
    "    for i in nearest_neighbors_indexes:\n",
    "        sentiment_classes.append(train_sentiments[i])\n",
    "        \n",
    "    return max(sentiment_classes, key=sentiment_classes.count)"
   ]
  },
  {
   "cell_type": "code",
   "execution_count": 1559,
   "metadata": {},
   "outputs": [
    {
     "name": "stdout",
     "output_type": "stream",
     "text": [
      "2700\n",
      "0\n",
      "1\n",
      "2\n",
      "3\n",
      "4\n",
      "5\n",
      "6\n",
      "7\n",
      "8\n",
      "9\n",
      "10\n",
      "11\n",
      "12\n",
      "13\n",
      "14\n",
      "15\n",
      "16\n",
      "17\n",
      "18\n",
      "19\n",
      "20\n",
      "21\n",
      "22\n",
      "23\n",
      "24\n"
     ]
    },
    {
     "ename": "KeyboardInterrupt",
     "evalue": "",
     "output_type": "error",
     "traceback": [
      "\u001b[0;31m---------------------------------------------------------------------------\u001b[0m",
      "\u001b[0;31mKeyboardInterrupt\u001b[0m                         Traceback (most recent call last)",
      "\u001b[0;32m/var/folders/w9/17dx1py559xc12bhjgp9w4_80000gn/T/ipykernel_17259/2128372318.py\u001b[0m in \u001b[0;36m<module>\u001b[0;34m\u001b[0m\n\u001b[1;32m      3\u001b[0m \u001b[0;32mfor\u001b[0m \u001b[0mi\u001b[0m \u001b[0;32min\u001b[0m \u001b[0mrange\u001b[0m\u001b[0;34m(\u001b[0m\u001b[0;36m0\u001b[0m\u001b[0;34m,\u001b[0m\u001b[0mlen\u001b[0m\u001b[0;34m(\u001b[0m\u001b[0mweighted_test_feat\u001b[0m\u001b[0;34m)\u001b[0m\u001b[0;34m)\u001b[0m\u001b[0;34m:\u001b[0m\u001b[0;34m\u001b[0m\u001b[0;34m\u001b[0m\u001b[0m\n\u001b[1;32m      4\u001b[0m     \u001b[0mprint\u001b[0m\u001b[0;34m(\u001b[0m\u001b[0mi\u001b[0m\u001b[0;34m)\u001b[0m\u001b[0;34m\u001b[0m\u001b[0;34m\u001b[0m\u001b[0m\n\u001b[0;32m----> 5\u001b[0;31m     \u001b[0mpredicted_sentiments\u001b[0m\u001b[0;34m.\u001b[0m\u001b[0mappend\u001b[0m\u001b[0;34m(\u001b[0m\u001b[0mfind_majority_and_predict\u001b[0m\u001b[0;34m(\u001b[0m\u001b[0mweighted_selected_feat\u001b[0m\u001b[0;34m,\u001b[0m\u001b[0mweighted_test_feat\u001b[0m\u001b[0;34m[\u001b[0m\u001b[0mi\u001b[0m\u001b[0;34m]\u001b[0m\u001b[0;34m,\u001b[0m \u001b[0mtrain_sentiments_array\u001b[0m\u001b[0;34m,\u001b[0m \u001b[0;36m24\u001b[0m\u001b[0;34m)\u001b[0m\u001b[0;34m)\u001b[0m\u001b[0;34m\u001b[0m\u001b[0;34m\u001b[0m\u001b[0m\n\u001b[0m\u001b[1;32m      6\u001b[0m \u001b[0;34m\u001b[0m\u001b[0m\n",
      "\u001b[0;32m/var/folders/w9/17dx1py559xc12bhjgp9w4_80000gn/T/ipykernel_17259/3194315948.py\u001b[0m in \u001b[0;36mfind_majority_and_predict\u001b[0;34m(train_data, test_data, train_sentiments, K)\u001b[0m\n\u001b[1;32m      7\u001b[0m         \u001b[0msentiment_classes\u001b[0m\u001b[0;34m.\u001b[0m\u001b[0mappend\u001b[0m\u001b[0;34m(\u001b[0m\u001b[0mtrain_sentiments\u001b[0m\u001b[0;34m[\u001b[0m\u001b[0mi\u001b[0m\u001b[0;34m]\u001b[0m\u001b[0;34m)\u001b[0m\u001b[0;34m\u001b[0m\u001b[0;34m\u001b[0m\u001b[0m\n\u001b[1;32m      8\u001b[0m \u001b[0;34m\u001b[0m\u001b[0m\n\u001b[0;32m----> 9\u001b[0;31m     \u001b[0;32mreturn\u001b[0m \u001b[0mmax\u001b[0m\u001b[0;34m(\u001b[0m\u001b[0msentiment_classes\u001b[0m\u001b[0;34m,\u001b[0m \u001b[0mkey\u001b[0m\u001b[0;34m=\u001b[0m\u001b[0msentiment_classes\u001b[0m\u001b[0;34m.\u001b[0m\u001b[0mcount\u001b[0m\u001b[0;34m)\u001b[0m\u001b[0;34m\u001b[0m\u001b[0;34m\u001b[0m\u001b[0m\n\u001b[0m",
      "\u001b[0;31mKeyboardInterrupt\u001b[0m: "
     ]
    }
   ],
   "source": [
    "predicted_sentiments = []\n",
    "print(len(weighted_test_feat))\n",
    "for i in range(0,len(weighted_test_feat)):\n",
    "    print(i)\n",
    "    predicted_sentiments.append(find_majority_and_predict(weighted_selected_feat,weighted_test_feat[i], train_sentiments_array, 24))\n",
    "    "
   ]
  },
  {
   "cell_type": "code",
   "execution_count": 253,
   "metadata": {
    "execution": {
     "iopub.status.busy": "2022-09-07T21:57:54.970066Z",
     "iopub.status.idle": "2022-09-07T21:57:54.971113Z",
     "shell.execute_reply": "2022-09-07T21:57:54.970892Z",
     "shell.execute_reply.started": "2022-09-07T21:57:54.970867Z"
    }
   },
   "outputs": [],
   "source": [
    "def find_accuracy(predicted_sentiment, real_sentiment):\n",
    "    correct_prediction = 0\n",
    "    for i in range(0,len(predicted_sentiments)):\n",
    "        if predicted_sentiment[i] == real_sentiment[i]:\n",
    "            correct_prediction += 1\n",
    "    return np.divide(correct_prediction, len(predicted_sentiment))"
   ]
  },
  {
   "cell_type": "code",
   "execution_count": 254,
   "metadata": {
    "execution": {
     "iopub.status.busy": "2022-09-07T21:57:54.972155Z",
     "iopub.status.idle": "2022-09-07T21:57:54.972788Z",
     "shell.execute_reply": "2022-09-07T21:57:54.972584Z",
     "shell.execute_reply.started": "2022-09-07T21:57:54.972562Z"
    }
   },
   "outputs": [
    {
     "data": {
      "text/plain": [
       "0.7344444444444445"
      ]
     },
     "execution_count": 254,
     "metadata": {},
     "output_type": "execute_result"
    }
   ],
   "source": [
    "find_accuracy(predicted_sentiments,test_sentiments_array)"
   ]
  },
  {
   "cell_type": "code",
   "execution_count": 946,
   "metadata": {
    "execution": {
     "iopub.execute_input": "2022-09-07T19:01:57.203031Z",
     "iopub.status.busy": "2022-09-07T19:01:57.202604Z",
     "iopub.status.idle": "2022-09-07T19:03:55.374238Z",
     "shell.execute_reply": "2022-09-07T19:03:55.373068Z",
     "shell.execute_reply.started": "2022-09-07T19:01:57.202997Z"
    }
   },
   "outputs": [],
   "source": [
    "result_test_df = pd.read_csv('1661892619_9579706_test_file.csv', names=['reviews'])\n",
    "basic_cleaning(result_test_df)\n",
    "tokenize_data(result_test_df)\n",
    "result_test_df['stop_words_cleaned'] = result_test_df.words.apply(lambda word_list: remove_stopwords(word_list))\n",
    "result_test_df['lemma_word'] = result_test_df.stop_words_cleaned.apply(lambda word_list: find_lemma_word(word_list))\n",
    "result_test_df['cleaned_review'] = result_test_df.lemma_word.apply(lambda review_list: \" \".join(review_list))\n",
    "unlabeled_test_feat_matrix = selected_tf_vectorizer.transform(result_test_df['cleaned_review']).toarray()"
   ]
  },
  {
   "cell_type": "code",
   "execution_count": null,
   "metadata": {},
   "outputs": [],
   "source": []
  },
  {
   "cell_type": "code",
   "execution_count": 947,
   "metadata": {
    "execution": {
     "iopub.execute_input": "2022-09-07T19:04:25.997085Z",
     "iopub.status.busy": "2022-09-07T19:04:25.996619Z",
     "iopub.status.idle": "2022-09-07T19:04:26.005479Z",
     "shell.execute_reply": "2022-09-07T19:04:26.004136Z",
     "shell.execute_reply.started": "2022-09-07T19:04:25.997041Z"
    }
   },
   "outputs": [
    {
     "data": {
      "text/plain": [
       "(18000, 97)"
      ]
     },
     "execution_count": 947,
     "metadata": {},
     "output_type": "execute_result"
    }
   ],
   "source": [
    "unlabeled_test_feat_matrix.shape"
   ]
  },
  {
   "cell_type": "code",
   "execution_count": null,
   "metadata": {
    "execution": {
     "iopub.execute_input": "2022-09-07T19:04:28.022167Z",
     "iopub.status.busy": "2022-09-07T19:04:28.021724Z",
     "iopub.status.idle": "2022-09-07T19:04:28.029780Z",
     "shell.execute_reply": "2022-09-07T19:04:28.028622Z",
     "shell.execute_reply.started": "2022-09-07T19:04:28.022131Z"
    }
   },
   "outputs": [],
   "source": [
    "# def find_max_chi_val(a,b):\n",
    "#     max_chi = []\n",
    "#     x = np.array(a)\n",
    "#     y = np.array(b)\n",
    "#     for i in range(0, len(x)):\n",
    "#         max_chi.append(max(x[i],y[i]))\n",
    "#     return np.array(max_chi)"
   ]
  },
  {
   "cell_type": "code",
   "execution_count": 880,
   "metadata": {
    "execution": {
     "iopub.execute_input": "2022-09-07T19:04:30.406942Z",
     "iopub.status.busy": "2022-09-07T19:04:30.406524Z",
     "iopub.status.idle": "2022-09-07T19:04:30.423643Z",
     "shell.execute_reply": "2022-09-07T19:04:30.422467Z",
     "shell.execute_reply.started": "2022-09-07T19:04:30.406904Z"
    }
   },
   "outputs": [
    {
     "data": {
      "text/html": [
       "<div>\n",
       "<style scoped>\n",
       "    .dataframe tbody tr th:only-of-type {\n",
       "        vertical-align: middle;\n",
       "    }\n",
       "\n",
       "    .dataframe tbody tr th {\n",
       "        vertical-align: top;\n",
       "    }\n",
       "\n",
       "    .dataframe thead th {\n",
       "        text-align: right;\n",
       "    }\n",
       "</style>\n",
       "<table border=\"1\" class=\"dataframe\">\n",
       "  <thead>\n",
       "    <tr style=\"text-align: right;\">\n",
       "      <th></th>\n",
       "      <th>positiev_sentiments</th>\n",
       "      <th>negatiev_sentiments</th>\n",
       "      <th>sum</th>\n",
       "    </tr>\n",
       "  </thead>\n",
       "  <tbody>\n",
       "    <tr>\n",
       "      <th>0</th>\n",
       "      <td>114.970991</td>\n",
       "      <td>108.849352</td>\n",
       "      <td>223.820342</td>\n",
       "    </tr>\n",
       "    <tr>\n",
       "      <th>1</th>\n",
       "      <td>102.306231</td>\n",
       "      <td>96.858928</td>\n",
       "      <td>199.165158</td>\n",
       "    </tr>\n",
       "    <tr>\n",
       "      <th>2</th>\n",
       "      <td>47.050478</td>\n",
       "      <td>44.545272</td>\n",
       "      <td>91.595751</td>\n",
       "    </tr>\n",
       "    <tr>\n",
       "      <th>3</th>\n",
       "      <td>54.486678</td>\n",
       "      <td>51.585530</td>\n",
       "      <td>106.072208</td>\n",
       "    </tr>\n",
       "    <tr>\n",
       "      <th>4</th>\n",
       "      <td>103.908838</td>\n",
       "      <td>98.376204</td>\n",
       "      <td>202.285042</td>\n",
       "    </tr>\n",
       "    <tr>\n",
       "      <th>...</th>\n",
       "      <td>...</td>\n",
       "      <td>...</td>\n",
       "      <td>...</td>\n",
       "    </tr>\n",
       "    <tr>\n",
       "      <th>89</th>\n",
       "      <td>53.558604</td>\n",
       "      <td>50.706872</td>\n",
       "      <td>104.265477</td>\n",
       "    </tr>\n",
       "    <tr>\n",
       "      <th>90</th>\n",
       "      <td>24.489814</td>\n",
       "      <td>23.185852</td>\n",
       "      <td>47.675666</td>\n",
       "    </tr>\n",
       "    <tr>\n",
       "      <th>91</th>\n",
       "      <td>37.206026</td>\n",
       "      <td>35.224988</td>\n",
       "      <td>72.431013</td>\n",
       "    </tr>\n",
       "    <tr>\n",
       "      <th>92</th>\n",
       "      <td>23.309002</td>\n",
       "      <td>22.067912</td>\n",
       "      <td>45.376914</td>\n",
       "    </tr>\n",
       "    <tr>\n",
       "      <th>93</th>\n",
       "      <td>41.338688</td>\n",
       "      <td>39.137607</td>\n",
       "      <td>80.476295</td>\n",
       "    </tr>\n",
       "  </tbody>\n",
       "</table>\n",
       "<p>94 rows × 3 columns</p>\n",
       "</div>"
      ],
      "text/plain": [
       "    positiev_sentiments  negatiev_sentiments         sum\n",
       "0            114.970991           108.849352  223.820342\n",
       "1            102.306231            96.858928  199.165158\n",
       "2             47.050478            44.545272   91.595751\n",
       "3             54.486678            51.585530  106.072208\n",
       "4            103.908838            98.376204  202.285042\n",
       "..                  ...                  ...         ...\n",
       "89            53.558604            50.706872  104.265477\n",
       "90            24.489814            23.185852   47.675666\n",
       "91            37.206026            35.224988   72.431013\n",
       "92            23.309002            22.067912   45.376914\n",
       "93            41.338688            39.137607   80.476295\n",
       "\n",
       "[94 rows x 3 columns]"
      ]
     },
     "execution_count": 880,
     "metadata": {},
     "output_type": "execute_result"
    }
   ],
   "source": [
    "# chi_sqare_table['max_chi_value'] = find_max_chi_val(chi_sqare_table['positiev_sentiments'], chi_sqare_table['negatiev_sentiments'])\n",
    "chi_sqare_table"
   ]
  },
  {
   "cell_type": "code",
   "execution_count": 948,
   "metadata": {
    "execution": {
     "iopub.execute_input": "2022-09-07T19:04:33.170388Z",
     "iopub.status.busy": "2022-09-07T19:04:33.169949Z",
     "iopub.status.idle": "2022-09-07T19:04:33.175903Z",
     "shell.execute_reply": "2022-09-07T19:04:33.174902Z",
     "shell.execute_reply.started": "2022-09-07T19:04:33.170337Z"
    }
   },
   "outputs": [],
   "source": [
    "def weight_unlabled_data(features, max_chi_val):\n",
    "    weighted_data = []\n",
    "    for i in range(0,len(features)):\n",
    "        weighted_data.append(np.multiply(features[i], max_chi_val))\n",
    "    return np.array(weighted_data)"
   ]
  },
  {
   "cell_type": "code",
   "execution_count": 949,
   "metadata": {
    "execution": {
     "iopub.execute_input": "2022-09-07T19:04:33.636245Z",
     "iopub.status.busy": "2022-09-07T19:04:33.634928Z",
     "iopub.status.idle": "2022-09-07T19:04:46.405924Z",
     "shell.execute_reply": "2022-09-07T19:04:46.404674Z",
     "shell.execute_reply.started": "2022-09-07T19:04:33.636181Z"
    }
   },
   "outputs": [],
   "source": [
    "unlabled_weighted_data = weight_unlabled_data(unlabeled_test_feat_matrix, chi_sqare_table['sum'])"
   ]
  },
  {
   "cell_type": "code",
   "execution_count": 950,
   "metadata": {
    "execution": {
     "iopub.execute_input": "2022-09-07T19:05:04.064425Z",
     "iopub.status.busy": "2022-09-07T19:05:04.063941Z",
     "iopub.status.idle": "2022-09-07T19:05:04.073816Z",
     "shell.execute_reply": "2022-09-07T19:05:04.072465Z",
     "shell.execute_reply.started": "2022-09-07T19:05:04.064384Z"
    }
   },
   "outputs": [
    {
     "data": {
      "text/plain": [
       "(18000, 97)"
      ]
     },
     "execution_count": 950,
     "metadata": {},
     "output_type": "execute_result"
    }
   ],
   "source": [
    "unlabled_weighted_data.shape"
   ]
  },
  {
   "cell_type": "code",
   "execution_count": null,
   "metadata": {},
   "outputs": [],
   "source": [
    "predicted_sentiments = []\n",
    "print(len(unlabled_weighted_data))\n",
    "for i in range(0,len(unlabled_weighted_data)):\n",
    "    print(i)\n",
    "    predicted_sentiments.append(find_majority_and_predict(weighted_selected_feat,unlabled_weighted_data[i], train_sentiments_array, 24))\n",
    "    "
   ]
  },
  {
   "cell_type": "code",
   "execution_count": 951,
   "metadata": {
    "execution": {
     "iopub.execute_input": "2022-09-07T19:05:09.049923Z",
     "iopub.status.busy": "2022-09-07T19:05:09.049446Z",
     "iopub.status.idle": "2022-09-07T19:08:13.860420Z",
     "shell.execute_reply": "2022-09-07T19:08:13.859136Z",
     "shell.execute_reply.started": "2022-09-07T19:05:09.049820Z"
    }
   },
   "outputs": [],
   "source": [
    "predicted_values = classifer.predict(unlabled_weighted_data)"
   ]
  },
  {
   "cell_type": "code",
   "execution_count": 952,
   "metadata": {},
   "outputs": [
    {
     "data": {
      "text/plain": [
       "(18000,)"
      ]
     },
     "execution_count": 952,
     "metadata": {},
     "output_type": "execute_result"
    }
   ],
   "source": [
    "predicted_values.shape"
   ]
  },
  {
   "cell_type": "code",
   "execution_count": 953,
   "metadata": {
    "execution": {
     "iopub.execute_input": "2022-09-07T19:09:46.720923Z",
     "iopub.status.busy": "2022-09-07T19:09:46.720426Z",
     "iopub.status.idle": "2022-09-07T19:09:46.745897Z",
     "shell.execute_reply": "2022-09-07T19:09:46.744737Z",
     "shell.execute_reply.started": "2022-09-07T19:09:46.720883Z"
    }
   },
   "outputs": [],
   "source": [
    "import csv\n",
    "outfile = open('./results.csv','w')\n",
    "out = csv.writer(outfile)\n",
    "out.writerows(map(lambda x: [x], predicted_values))\n",
    "outfile.close()"
   ]
  },
  {
   "cell_type": "code",
   "execution_count": 954,
   "metadata": {},
   "outputs": [
    {
     "data": {
      "text/plain": [
       "0.01"
      ]
     },
     "execution_count": 954,
     "metadata": {},
     "output_type": "execute_result"
    }
   ],
   "source": [
    "1/(10**2)"
   ]
  },
  {
   "cell_type": "code",
   "execution_count": null,
   "metadata": {},
   "outputs": [],
   "source": []
  }
 ],
 "metadata": {
  "kernelspec": {
   "display_name": "Python 3 (ipykernel)",
   "language": "python",
   "name": "python3"
  },
  "language_info": {
   "codemirror_mode": {
    "name": "ipython",
    "version": 3
   },
   "file_extension": ".py",
   "mimetype": "text/x-python",
   "name": "python",
   "nbconvert_exporter": "python",
   "pygments_lexer": "ipython3",
   "version": "3.7.8"
  }
 },
 "nbformat": 4,
 "nbformat_minor": 4
}
