{
 "cells": [
  {
   "cell_type": "code",
   "execution_count": 46,
   "metadata": {
    "execution": {
     "iopub.execute_input": "2022-09-07T20:29:26.345757Z",
     "iopub.status.busy": "2022-09-07T20:29:26.345342Z",
     "iopub.status.idle": "2022-09-07T20:29:26.351331Z",
     "shell.execute_reply": "2022-09-07T20:29:26.349975Z",
     "shell.execute_reply.started": "2022-09-07T20:29:26.345722Z"
    },
    "pycharm": {
     "name": "#%%\n"
    }
   },
   "outputs": [],
   "source": [
    "import pandas as pd\n",
    "import matplotlib.pyplot as plt\n",
    "import numpy as np\n",
    "import string\n",
    "import re"
   ]
  },
  {
   "cell_type": "code",
   "execution_count": 47,
   "metadata": {
    "execution": {
     "iopub.execute_input": "2022-09-07T20:29:28.319045Z",
     "iopub.status.busy": "2022-09-07T20:29:28.318572Z",
     "iopub.status.idle": "2022-09-07T20:29:28.603267Z",
     "shell.execute_reply": "2022-09-07T20:29:28.602081Z",
     "shell.execute_reply.started": "2022-09-07T20:29:28.319011Z"
    },
    "pycharm": {
     "name": "#%%\n"
    }
   },
   "outputs": [],
   "source": [
    "train_data = pd.read_csv(\"train_data.csv\",names=[\"sentiments\", \"reviews\"])"
   ]
  },
  {
   "cell_type": "code",
   "execution_count": 48,
   "metadata": {
    "execution": {
     "iopub.execute_input": "2022-09-07T20:29:29.703652Z",
     "iopub.status.busy": "2022-09-07T20:29:29.703190Z",
     "iopub.status.idle": "2022-09-07T20:29:30.930710Z",
     "shell.execute_reply": "2022-09-07T20:29:30.929762Z",
     "shell.execute_reply.started": "2022-09-07T20:29:29.703595Z"
    },
    "pycharm": {
     "name": "#%%\n"
    }
   },
   "outputs": [],
   "source": [
    "def basic_cleaning(data_frame):\n",
    "    data_frame['reviews'] = data_frame.reviews.apply(lambda review: review.lower())\n",
    "    data_frame['reviews'] = data_frame.reviews.apply(lambda review: review.translate(str.maketrans('', '', string.punctuation)))\n",
    "    data_frame['reviews'] = data_frame.reviews.apply(lambda review: review.translate(str.maketrans('', '', string.digits)))\n",
    "    data_frame['reviews'] = data_frame.reviews.apply(lambda review: re.sub(\"r[^a-z]\",'',review))\n",
    "\n",
    "    \n",
    "import nltk\n",
    "from nltk.tokenize import word_tokenize, sent_tokenize\n",
    "\n",
    "def tokenize_data(data_frame):\n",
    "    data_frame['words'] = data_frame.reviews.apply(lambda review: nltk.word_tokenize(review))\n",
    "\n",
    "from nltk.corpus import stopwords\n",
    "stopwords = set(stopwords.words('english'))\n",
    "\n",
    "def remove_stopwords(list):\n",
    "    stop_words_removed = []\n",
    "    for i in list:\n",
    "        if i not in stopwords:\n",
    "            stop_words_removed.append(i)\n",
    "    return stop_words_removed"
   ]
  },
  {
   "cell_type": "code",
   "execution_count": 49,
   "metadata": {
    "execution": {
     "iopub.execute_input": "2022-09-07T20:29:39.969816Z",
     "iopub.status.busy": "2022-09-07T20:29:39.969420Z",
     "iopub.status.idle": "2022-09-07T20:30:27.157526Z",
     "shell.execute_reply": "2022-09-07T20:30:27.155569Z",
     "shell.execute_reply.started": "2022-09-07T20:29:39.969778Z"
    },
    "pycharm": {
     "name": "#%%\n"
    }
   },
   "outputs": [],
   "source": [
    "# nltk.download('all')\n",
    "#tag part of speech to get more accurate word during lemmatizaton\n",
    "def tag_pos(list_of_words):\n",
    "    return nltk.pos_tag(list_of_words)\n",
    "\n",
    "#extraction of lemma words after pos taggin \n",
    "from nltk.stem import WordNetLemmatizer\n",
    "lemmatizer= WordNetLemmatizer()\n",
    "\n",
    "def find_lemma_word(word):\n",
    "    lemma_words=[]\n",
    "    words_with_pos = tag_pos(word)\n",
    "    for word in words_with_pos:\n",
    "        if word[1].startswith('NN'):\n",
    "            lemma_words.append(lemmatizer.lemmatize(word[0],pos='n'))\n",
    "        elif word[1].startswith('VB'):\n",
    "            lemma_words.append(lemmatizer.lemmatize(word[0],pos='v'))\n",
    "        elif word[1].startswith('JJ'):\n",
    "            lemma_words.append(lemmatizer.lemmatize(word[0],pos='a'))\n",
    "        elif word[1].startswith('RB'):\n",
    "            lemma_words.append(lemmatizer.lemmatize(word[0],pos='r'))\n",
    "        else:\n",
    "            lemma_words.append(word[0])\n",
    "            \n",
    "    return lemma_words"
   ]
  },
  {
   "cell_type": "code",
   "execution_count": 50,
   "metadata": {
    "execution": {
     "iopub.execute_input": "2022-09-07T20:30:27.161877Z",
     "iopub.status.busy": "2022-09-07T20:30:27.161403Z",
     "iopub.status.idle": "2022-09-07T20:32:05.436075Z",
     "shell.execute_reply": "2022-09-07T20:32:05.434776Z",
     "shell.execute_reply.started": "2022-09-07T20:30:27.161838Z"
    },
    "pycharm": {
     "name": "#%%\n"
    }
   },
   "outputs": [],
   "source": [
    "basic_cleaning(train_data)\n",
    "tokenize_data(train_data)\n",
    "train_data['stop_words_cleaned'] = train_data.words.apply(lambda word_list: remove_stopwords(word_list))\n",
    "train_data['lemma_word'] = train_data.stop_words_cleaned.apply(lambda word_list: find_lemma_word(word_list))\n",
    "train_data['cleaned_review'] = train_data.lemma_word.apply(lambda review_list: \" \".join(review_list))"
   ]
  },
  {
   "cell_type": "code",
   "execution_count": 51,
   "metadata": {
    "execution": {
     "iopub.execute_input": "2022-09-07T20:32:05.439219Z",
     "iopub.status.busy": "2022-09-07T20:32:05.438473Z",
     "iopub.status.idle": "2022-09-07T20:32:05.495295Z",
     "shell.execute_reply": "2022-09-07T20:32:05.494068Z",
     "shell.execute_reply.started": "2022-09-07T20:32:05.439178Z"
    },
    "pycharm": {
     "name": "#%%\n"
    }
   },
   "outputs": [
    {
     "data": {
      "text/plain": "       sentiments                                            reviews  \\\n0              -1  eat at fioris they said  youll like it they sa...   \n1              -1  i just dont understand the appeal  ive tried t...   \n2               1  this is my go to place foa really good beef en...   \n3              -1  not impressed when i ordered the oyako bowl th...   \n4              -1  this is the first time evei wrote a bad review...   \n...           ...                                                ...   \n17995          -1  i was referred to go to this place by a buddy ...   \n17996           1  the food here was really good  we started off ...   \n17997           1  i eat at this place maybe  a week i am die har...   \n17998           1  phoenix airport is getting betteday by day  i ...   \n17999          -1  so when i was much youngei went to christos an...   \n\n                                                   words  \\\n0      [eat, at, fioris, they, said, youll, like, it,...   \n1      [i, just, dont, understand, the, appeal, ive, ...   \n2      [this, is, my, go, to, place, foa, really, goo...   \n3      [not, impressed, when, i, ordered, the, oyako,...   \n4      [this, is, the, first, time, evei, wrote, a, b...   \n...                                                  ...   \n17995  [i, was, referred, to, go, to, this, place, by...   \n17996  [the, food, here, was, really, good, we, start...   \n17997  [i, eat, at, this, place, maybe, a, week, i, a...   \n17998  [phoenix, airport, is, getting, betteday, by, ...   \n17999  [so, when, i, was, much, youngei, went, to, ch...   \n\n                                      stop_words_cleaned  \\\n0      [eat, fioris, said, youll, like, saidnnis, con...   \n1      [dont, understand, appeal, ive, tried, place, ...   \n2      [go, place, foa, really, good, beef, enchilada...   \n3      [impressed, ordered, oyako, bowl, conversation...   \n4      [first, time, evei, wrote, bad, review, frustr...   \n...                                                  ...   \n17995  [referred, go, place, buddy, aftea, conversati...   \n17996  [food, really, good, started, garlic, bread, c...   \n17997  [eat, place, maybe, week, die, hard, wing, fan...   \n17998  [phoenix, airport, getting, betteday, day, pri...   \n17999  [much, youngei, went, christos, first, place, ...   \n\n                                              lemma_word  \\\n0      [eat, fioris, say, youll, like, saidnnis, conv...   \n1      [dont, understand, appeal, ive, tried, place, ...   \n2      [go, place, foa, really, good, beef, enchilada...   \n3      [impressed, order, oyako, bowl, conversation, ...   \n4      [first, time, evei, write, bad, review, frustr...   \n...                                                  ...   \n17995  [refer, go, place, buddy, aftea, conversation,...   \n17996  [food, really, good, start, garlic, bread, cov...   \n17997  [eat, place, maybe, week, die, hard, wing, fan...   \n17998  [phoenix, airport, get, betteday, day, primari...   \n17999  [much, youngei, go, christos, first, place, es...   \n\n                                          cleaned_review  \n0      eat fioris say youll like saidnnis convenientl...  \n1      dont understand appeal ive tried place twice t...  \n2      go place foa really good beef enchilada red sa...  \n3      impressed order oyako bowl conversation go som...  \n4      first time evei write bad review frustrate her...  \n...                                                  ...  \n17995  refer go place buddy aftea conversation get sh...  \n17996  food really good start garlic bread cover toma...  \n17997  eat place maybe week die hard wing fan best ev...  \n17998  phoenix airport get betteday day primarily use...  \n17999  much youngei go christos first place escargot ...  \n\n[18000 rows x 6 columns]",
      "text/html": "<div>\n<style scoped>\n    .dataframe tbody tr th:only-of-type {\n        vertical-align: middle;\n    }\n\n    .dataframe tbody tr th {\n        vertical-align: top;\n    }\n\n    .dataframe thead th {\n        text-align: right;\n    }\n</style>\n<table border=\"1\" class=\"dataframe\">\n  <thead>\n    <tr style=\"text-align: right;\">\n      <th></th>\n      <th>sentiments</th>\n      <th>reviews</th>\n      <th>words</th>\n      <th>stop_words_cleaned</th>\n      <th>lemma_word</th>\n      <th>cleaned_review</th>\n    </tr>\n  </thead>\n  <tbody>\n    <tr>\n      <th>0</th>\n      <td>-1</td>\n      <td>eat at fioris they said  youll like it they sa...</td>\n      <td>[eat, at, fioris, they, said, youll, like, it,...</td>\n      <td>[eat, fioris, said, youll, like, saidnnis, con...</td>\n      <td>[eat, fioris, say, youll, like, saidnnis, conv...</td>\n      <td>eat fioris say youll like saidnnis convenientl...</td>\n    </tr>\n    <tr>\n      <th>1</th>\n      <td>-1</td>\n      <td>i just dont understand the appeal  ive tried t...</td>\n      <td>[i, just, dont, understand, the, appeal, ive, ...</td>\n      <td>[dont, understand, appeal, ive, tried, place, ...</td>\n      <td>[dont, understand, appeal, ive, tried, place, ...</td>\n      <td>dont understand appeal ive tried place twice t...</td>\n    </tr>\n    <tr>\n      <th>2</th>\n      <td>1</td>\n      <td>this is my go to place foa really good beef en...</td>\n      <td>[this, is, my, go, to, place, foa, really, goo...</td>\n      <td>[go, place, foa, really, good, beef, enchilada...</td>\n      <td>[go, place, foa, really, good, beef, enchilada...</td>\n      <td>go place foa really good beef enchilada red sa...</td>\n    </tr>\n    <tr>\n      <th>3</th>\n      <td>-1</td>\n      <td>not impressed when i ordered the oyako bowl th...</td>\n      <td>[not, impressed, when, i, ordered, the, oyako,...</td>\n      <td>[impressed, ordered, oyako, bowl, conversation...</td>\n      <td>[impressed, order, oyako, bowl, conversation, ...</td>\n      <td>impressed order oyako bowl conversation go som...</td>\n    </tr>\n    <tr>\n      <th>4</th>\n      <td>-1</td>\n      <td>this is the first time evei wrote a bad review...</td>\n      <td>[this, is, the, first, time, evei, wrote, a, b...</td>\n      <td>[first, time, evei, wrote, bad, review, frustr...</td>\n      <td>[first, time, evei, write, bad, review, frustr...</td>\n      <td>first time evei write bad review frustrate her...</td>\n    </tr>\n    <tr>\n      <th>...</th>\n      <td>...</td>\n      <td>...</td>\n      <td>...</td>\n      <td>...</td>\n      <td>...</td>\n      <td>...</td>\n    </tr>\n    <tr>\n      <th>17995</th>\n      <td>-1</td>\n      <td>i was referred to go to this place by a buddy ...</td>\n      <td>[i, was, referred, to, go, to, this, place, by...</td>\n      <td>[referred, go, place, buddy, aftea, conversati...</td>\n      <td>[refer, go, place, buddy, aftea, conversation,...</td>\n      <td>refer go place buddy aftea conversation get sh...</td>\n    </tr>\n    <tr>\n      <th>17996</th>\n      <td>1</td>\n      <td>the food here was really good  we started off ...</td>\n      <td>[the, food, here, was, really, good, we, start...</td>\n      <td>[food, really, good, started, garlic, bread, c...</td>\n      <td>[food, really, good, start, garlic, bread, cov...</td>\n      <td>food really good start garlic bread cover toma...</td>\n    </tr>\n    <tr>\n      <th>17997</th>\n      <td>1</td>\n      <td>i eat at this place maybe  a week i am die har...</td>\n      <td>[i, eat, at, this, place, maybe, a, week, i, a...</td>\n      <td>[eat, place, maybe, week, die, hard, wing, fan...</td>\n      <td>[eat, place, maybe, week, die, hard, wing, fan...</td>\n      <td>eat place maybe week die hard wing fan best ev...</td>\n    </tr>\n    <tr>\n      <th>17998</th>\n      <td>1</td>\n      <td>phoenix airport is getting betteday by day  i ...</td>\n      <td>[phoenix, airport, is, getting, betteday, by, ...</td>\n      <td>[phoenix, airport, getting, betteday, day, pri...</td>\n      <td>[phoenix, airport, get, betteday, day, primari...</td>\n      <td>phoenix airport get betteday day primarily use...</td>\n    </tr>\n    <tr>\n      <th>17999</th>\n      <td>-1</td>\n      <td>so when i was much youngei went to christos an...</td>\n      <td>[so, when, i, was, much, youngei, went, to, ch...</td>\n      <td>[much, youngei, went, christos, first, place, ...</td>\n      <td>[much, youngei, go, christos, first, place, es...</td>\n      <td>much youngei go christos first place escargot ...</td>\n    </tr>\n  </tbody>\n</table>\n<p>18000 rows × 6 columns</p>\n</div>"
     },
     "execution_count": 51,
     "metadata": {},
     "output_type": "execute_result"
    }
   ],
   "source": [
    "train_data"
   ]
  },
  {
   "cell_type": "code",
   "execution_count": 138,
   "metadata": {
    "execution": {
     "iopub.execute_input": "2022-09-07T20:32:11.159062Z",
     "iopub.status.busy": "2022-09-07T20:32:11.158649Z",
     "iopub.status.idle": "2022-09-07T20:32:11.178064Z",
     "shell.execute_reply": "2022-09-07T20:32:11.176957Z",
     "shell.execute_reply.started": "2022-09-07T20:32:11.159019Z"
    },
    "pycharm": {
     "name": "#%%\n"
    }
   },
   "outputs": [],
   "source": [
    "from sklearn.model_selection import train_test_split\n",
    "train_review, test_review, train_sentiment, test_sentiment =train_test_split(train_data.cleaned_review,train_data.sentiments,shuffle=True,random_state=0,stratify=train_data.sentiments,train_size=.85)"
   ]
  },
  {
   "cell_type": "code",
   "execution_count": 381,
   "metadata": {
    "execution": {
     "iopub.execute_input": "2022-09-07T20:32:11.924779Z",
     "iopub.status.busy": "2022-09-07T20:32:11.924343Z",
     "iopub.status.idle": "2022-09-07T20:32:17.315920Z",
     "shell.execute_reply": "2022-09-07T20:32:17.314576Z",
     "shell.execute_reply.started": "2022-09-07T20:32:11.924743Z"
    },
    "pycharm": {
     "name": "#%%\n"
    }
   },
   "outputs": [],
   "source": [
    "from sklearn.feature_extraction.text import TfidfVectorizer\n",
    "tf_vectorizer = TfidfVectorizer(min_df=.0080,use_idf=False,ngram_range=(1,2))\n",
    "feature_matrix = tf_vectorizer.fit_transform(train_review)\n",
    "feature_array = feature_matrix.toarray()"
   ]
  },
  {
   "cell_type": "code",
   "execution_count": 382,
   "metadata": {
    "execution": {
     "iopub.execute_input": "2022-09-07T20:32:17.319084Z",
     "iopub.status.busy": "2022-09-07T20:32:17.318121Z",
     "iopub.status.idle": "2022-09-07T20:32:17.418220Z",
     "shell.execute_reply": "2022-09-07T20:32:17.416994Z",
     "shell.execute_reply.started": "2022-09-07T20:32:17.319042Z"
    },
    "pycharm": {
     "name": "#%%\n"
    }
   },
   "outputs": [
    {
     "data": {
      "text/plain": "array(['able', 'absolutely', 'accommodate', ..., 'youve', 'yummy', 'zero'],\n      dtype=object)"
     },
     "execution_count": 382,
     "metadata": {},
     "output_type": "execute_result"
    }
   ],
   "source": [
    "vocab_list = tf_vectorizer.get_feature_names_out()\n",
    "vocab_list"
   ]
  },
  {
   "cell_type": "markdown",
   "metadata": {
    "pycharm": {
     "name": "#%% md\n"
    }
   },
   "source": [
    "### Select K-best features"
   ]
  },
  {
   "cell_type": "code",
   "execution_count": 383,
   "metadata": {
    "execution": {
     "iopub.execute_input": "2022-09-07T20:32:19.111355Z",
     "iopub.status.busy": "2022-09-07T20:32:19.110932Z",
     "iopub.status.idle": "2022-09-07T20:32:27.029442Z",
     "shell.execute_reply": "2022-09-07T20:32:27.028516Z",
     "shell.execute_reply.started": "2022-09-07T20:32:19.111319Z"
    },
    "pycharm": {
     "name": "#%%\n"
    }
   },
   "outputs": [
    {
     "data": {
      "text/plain": "array(['always', 'amaze', 'amazing', 'ask', 'atmosphere', 'average',\n       'avoid', 'awesome', 'awful', 'az', 'bad', 'beautiful', 'best',\n       'bland', 'call', 'charge', 'charlotte', 'cold', 'could',\n       'definitely', 'delicious', 'didnt', 'dirty', 'disappointed',\n       'disgust', 'dont', 'dry', 'easy', 'enjoy', 'even', 'excellent',\n       'family', 'fantastic', 'favorite', 'finally', 'fine', 'food great',\n       'fresh', 'friendly', 'fun', 'give', 'good', 'great', 'great food',\n       'great place', 'great service', 'gross', 'guess', 'happy',\n       'helpful', 'highly', 'highly recommend', 'horrible', 'hotel',\n       'knowledgeable', 'lack', 'leave', 'little', 'love', 'love place',\n       'maybe', 'mediocre', 'meh', 'mexican', 'minute', 'money', 'nevego',\n       'nice', 'nothing', 'ok', 'okay', 'one best', 'order', 'overprice',\n       'pay', 'perfect', 'phoenix', 'phone', 'pittsburgh', 'reasonable',\n       'recommend', 'room', 'rude', 'say', 'seem', 'selection', 'slow',\n       'smell', 'someone', 'sorry', 'spot', 'staff', 'stay', 'suppose',\n       'table', 'taste', 'taste like', 'tasty', 'tell', 'terrible',\n       'think', 'two', 'unfortunately', 'us', 'valley', 'wait',\n       'waitress', 'wasnt', 'waste', 'wine', 'wonderful', 'wont', 'worst',\n       'would', 'wouldnt', 'yummy'], dtype=object)"
     },
     "execution_count": 383,
     "metadata": {},
     "output_type": "execute_result"
    }
   ],
   "source": [
    "from sklearn.feature_selection import SelectKBest, chi2\n",
    "\n",
    "vocab_list = tf_vectorizer.get_feature_names_out()\n",
    "\n",
    "select_k_best = SelectKBest(score_func=chi2, k= int(len(vocab_list)*.104))\n",
    "train_sentiment_np_array = np.array(train_sentiment)\n",
    "select_k_best.fit(feature_array, train_sentiment_np_array)\n",
    "mask = select_k_best.get_support()\n",
    "k_best_feature = vocab_list[mask]\n",
    "k_best_feature"
   ]
  },
  {
   "cell_type": "code",
   "execution_count": 384,
   "metadata": {
    "execution": {
     "iopub.execute_input": "2022-09-07T20:32:28.769965Z",
     "iopub.status.busy": "2022-09-07T20:32:28.769531Z",
     "iopub.status.idle": "2022-09-07T20:32:28.776801Z",
     "shell.execute_reply": "2022-09-07T20:32:28.775579Z",
     "shell.execute_reply.started": "2022-09-07T20:32:28.769928Z"
    },
    "pycharm": {
     "name": "#%%\n"
    }
   },
   "outputs": [
    {
     "data": {
      "text/plain": "(116,)"
     },
     "execution_count": 384,
     "metadata": {},
     "output_type": "execute_result"
    }
   ],
   "source": [
    "k_best_feature.shape"
   ]
  },
  {
   "cell_type": "markdown",
   "metadata": {
    "pycharm": {
     "name": "#%% md\n"
    }
   },
   "source": [
    "### Supervised Chi-Square weight for k-best term by utilising target value"
   ]
  },
  {
   "cell_type": "code",
   "execution_count": 385,
   "metadata": {
    "execution": {
     "iopub.execute_input": "2022-09-07T20:32:32.347348Z",
     "iopub.status.busy": "2022-09-07T20:32:32.346912Z",
     "iopub.status.idle": "2022-09-07T20:32:35.727454Z",
     "shell.execute_reply": "2022-09-07T20:32:35.726405Z",
     "shell.execute_reply.started": "2022-09-07T20:32:32.347313Z"
    },
    "pycharm": {
     "name": "#%%\n"
    }
   },
   "outputs": [],
   "source": [
    "from sklearn.feature_extraction.text import TfidfVectorizer\n",
    "selected_tf_vectorizer = TfidfVectorizer(use_idf=True, vocabulary=k_best_feature, sublinear_tf=True, ngram_range=(1,2))\n",
    "selected_feat_array = selected_tf_vectorizer.fit_transform(train_review).toarray()\n",
    "selected_test_array = selected_tf_vectorizer.transform(test_review).toarray()\n",
    "observed_value_table = pd.DataFrame(selected_tf_vectorizer.get_feature_names_out(), columns=['features'])"
   ]
  },
  {
   "cell_type": "code",
   "execution_count": 386,
   "metadata": {
    "pycharm": {
     "name": "#%%\n"
    }
   },
   "outputs": [
    {
     "data": {
      "text/plain": "array(['always', 'amaze', 'amazing', 'ask', 'atmosphere', 'average',\n       'avoid', 'awesome', 'awful', 'az', 'bad', 'beautiful', 'best',\n       'bland', 'call', 'charge', 'charlotte', 'cold', 'could',\n       'definitely', 'delicious', 'didnt', 'dirty', 'disappointed',\n       'disgust', 'dont', 'dry', 'easy', 'enjoy', 'even', 'excellent',\n       'family', 'fantastic', 'favorite', 'finally', 'fine', 'food great',\n       'fresh', 'friendly', 'fun', 'give', 'good', 'great', 'great food',\n       'great place', 'great service', 'gross', 'guess', 'happy',\n       'helpful', 'highly', 'highly recommend', 'horrible', 'hotel',\n       'knowledgeable', 'lack', 'leave', 'little', 'love', 'love place',\n       'maybe', 'mediocre', 'meh', 'mexican', 'minute', 'money', 'nevego',\n       'nice', 'nothing', 'ok', 'okay', 'one best', 'order', 'overprice',\n       'pay', 'perfect', 'phoenix', 'phone', 'pittsburgh', 'reasonable',\n       'recommend', 'room', 'rude', 'say', 'seem', 'selection', 'slow',\n       'smell', 'someone', 'sorry', 'spot', 'staff', 'stay', 'suppose',\n       'table', 'taste', 'taste like', 'tasty', 'tell', 'terrible',\n       'think', 'two', 'unfortunately', 'us', 'valley', 'wait',\n       'waitress', 'wasnt', 'waste', 'wine', 'wonderful', 'wont', 'worst',\n       'would', 'wouldnt', 'yummy'], dtype=object)"
     },
     "execution_count": 386,
     "metadata": {},
     "output_type": "execute_result"
    }
   ],
   "source": [
    "selected_tf_vectorizer.get_feature_names_out()"
   ]
  },
  {
   "cell_type": "code",
   "execution_count": 387,
   "metadata": {
    "execution": {
     "iopub.execute_input": "2022-09-07T20:34:11.670458Z",
     "iopub.status.busy": "2022-09-07T20:34:11.668121Z",
     "iopub.status.idle": "2022-09-07T20:34:11.706597Z",
     "shell.execute_reply": "2022-09-07T20:34:11.705566Z",
     "shell.execute_reply.started": "2022-09-07T20:34:11.670380Z"
    },
    "pycharm": {
     "name": "#%%\n"
    }
   },
   "outputs": [],
   "source": [
    "tf_data_frame = pd.DataFrame(selected_feat_array,columns = selected_tf_vectorizer.get_feature_names_out())\n",
    "tf_data_frame['sentiments'] = np.array(train_sentiment)"
   ]
  },
  {
   "cell_type": "code",
   "execution_count": 388,
   "metadata": {
    "execution": {
     "iopub.execute_input": "2022-09-07T20:34:14.696840Z",
     "iopub.status.busy": "2022-09-07T20:34:14.696415Z",
     "iopub.status.idle": "2022-09-07T20:34:40.132403Z",
     "shell.execute_reply": "2022-09-07T20:34:40.131197Z",
     "shell.execute_reply.started": "2022-09-07T20:34:14.696802Z"
    },
    "pycharm": {
     "name": "#%%\n"
    }
   },
   "outputs": [],
   "source": [
    "observed_value_table['positive_sentiment'] = observed_value_table.features.apply(lambda feature: tf_data_frame.loc[tf_data_frame['sentiments']==1,feature].sum())"
   ]
  },
  {
   "cell_type": "code",
   "execution_count": 389,
   "metadata": {
    "execution": {
     "iopub.execute_input": "2022-09-07T20:34:40.135006Z",
     "iopub.status.busy": "2022-09-07T20:34:40.134518Z",
     "iopub.status.idle": "2022-09-07T20:35:02.960677Z",
     "shell.execute_reply": "2022-09-07T20:35:02.959429Z",
     "shell.execute_reply.started": "2022-09-07T20:34:40.134957Z"
    },
    "pycharm": {
     "name": "#%%\n"
    }
   },
   "outputs": [],
   "source": [
    "observed_value_table['negative_sentiment'] = observed_value_table.features.apply(lambda feature: tf_data_frame.loc[tf_data_frame['sentiments']==-1,feature].sum())"
   ]
  },
  {
   "cell_type": "code",
   "execution_count": 390,
   "metadata": {
    "execution": {
     "iopub.execute_input": "2022-09-07T20:35:02.962451Z",
     "iopub.status.busy": "2022-09-07T20:35:02.962084Z",
     "iopub.status.idle": "2022-09-07T20:35:02.970071Z",
     "shell.execute_reply": "2022-09-07T20:35:02.968834Z",
     "shell.execute_reply.started": "2022-09-07T20:35:02.962418Z"
    },
    "pycharm": {
     "name": "#%%\n"
    }
   },
   "outputs": [],
   "source": [
    "observed_value_table['total_row_count'] = observed_value_table['positive_sentiment'] + observed_value_table['negative_sentiment']"
   ]
  },
  {
   "cell_type": "code",
   "execution_count": 391,
   "metadata": {
    "execution": {
     "iopub.execute_input": "2022-09-07T20:35:02.973552Z",
     "iopub.status.busy": "2022-09-07T20:35:02.973134Z",
     "iopub.status.idle": "2022-09-07T20:35:03.035423Z",
     "shell.execute_reply": "2022-09-07T20:35:03.034183Z",
     "shell.execute_reply.started": "2022-09-07T20:35:02.973513Z"
    },
    "pycharm": {
     "name": "#%%\n"
    }
   },
   "outputs": [
    {
     "ename": "KeyError",
     "evalue": "'really good'",
     "output_type": "error",
     "traceback": [
      "\u001B[0;31m---------------------------------------------------------------------------\u001B[0m",
      "\u001B[0;31mKeyError\u001B[0m                                  Traceback (most recent call last)",
      "File \u001B[0;32m~/miniforge3/envs/myenv/lib/python3.10/site-packages/pandas/core/indexes/base.py:3629\u001B[0m, in \u001B[0;36mIndex.get_loc\u001B[0;34m(self, key, method, tolerance)\u001B[0m\n\u001B[1;32m   3628\u001B[0m \u001B[38;5;28;01mtry\u001B[39;00m:\n\u001B[0;32m-> 3629\u001B[0m     \u001B[38;5;28;01mreturn\u001B[39;00m \u001B[38;5;28;43mself\u001B[39;49m\u001B[38;5;241;43m.\u001B[39;49m\u001B[43m_engine\u001B[49m\u001B[38;5;241;43m.\u001B[39;49m\u001B[43mget_loc\u001B[49m\u001B[43m(\u001B[49m\u001B[43mcasted_key\u001B[49m\u001B[43m)\u001B[49m\n\u001B[1;32m   3630\u001B[0m \u001B[38;5;28;01mexcept\u001B[39;00m \u001B[38;5;167;01mKeyError\u001B[39;00m \u001B[38;5;28;01mas\u001B[39;00m err:\n",
      "File \u001B[0;32m~/miniforge3/envs/myenv/lib/python3.10/site-packages/pandas/_libs/index.pyx:136\u001B[0m, in \u001B[0;36mpandas._libs.index.IndexEngine.get_loc\u001B[0;34m()\u001B[0m\n",
      "File \u001B[0;32m~/miniforge3/envs/myenv/lib/python3.10/site-packages/pandas/_libs/index.pyx:163\u001B[0m, in \u001B[0;36mpandas._libs.index.IndexEngine.get_loc\u001B[0;34m()\u001B[0m\n",
      "File \u001B[0;32mpandas/_libs/hashtable_class_helper.pxi:5198\u001B[0m, in \u001B[0;36mpandas._libs.hashtable.PyObjectHashTable.get_item\u001B[0;34m()\u001B[0m\n",
      "File \u001B[0;32mpandas/_libs/hashtable_class_helper.pxi:5206\u001B[0m, in \u001B[0;36mpandas._libs.hashtable.PyObjectHashTable.get_item\u001B[0;34m()\u001B[0m\n",
      "\u001B[0;31mKeyError\u001B[0m: 'really good'",
      "\nThe above exception was the direct cause of the following exception:\n",
      "\u001B[0;31mKeyError\u001B[0m                                  Traceback (most recent call last)",
      "Cell \u001B[0;32mIn [391], line 1\u001B[0m\n\u001B[0;32m----> 1\u001B[0m \u001B[43mtf_data_frame\u001B[49m\u001B[43m[\u001B[49m\u001B[38;5;124;43m'\u001B[39;49m\u001B[38;5;124;43mreally good\u001B[39;49m\u001B[38;5;124;43m'\u001B[39;49m\u001B[43m]\u001B[49m\u001B[38;5;241m.\u001B[39msum()\n",
      "File \u001B[0;32m~/miniforge3/envs/myenv/lib/python3.10/site-packages/pandas/core/frame.py:3505\u001B[0m, in \u001B[0;36mDataFrame.__getitem__\u001B[0;34m(self, key)\u001B[0m\n\u001B[1;32m   3503\u001B[0m \u001B[38;5;28;01mif\u001B[39;00m \u001B[38;5;28mself\u001B[39m\u001B[38;5;241m.\u001B[39mcolumns\u001B[38;5;241m.\u001B[39mnlevels \u001B[38;5;241m>\u001B[39m \u001B[38;5;241m1\u001B[39m:\n\u001B[1;32m   3504\u001B[0m     \u001B[38;5;28;01mreturn\u001B[39;00m \u001B[38;5;28mself\u001B[39m\u001B[38;5;241m.\u001B[39m_getitem_multilevel(key)\n\u001B[0;32m-> 3505\u001B[0m indexer \u001B[38;5;241m=\u001B[39m \u001B[38;5;28;43mself\u001B[39;49m\u001B[38;5;241;43m.\u001B[39;49m\u001B[43mcolumns\u001B[49m\u001B[38;5;241;43m.\u001B[39;49m\u001B[43mget_loc\u001B[49m\u001B[43m(\u001B[49m\u001B[43mkey\u001B[49m\u001B[43m)\u001B[49m\n\u001B[1;32m   3506\u001B[0m \u001B[38;5;28;01mif\u001B[39;00m is_integer(indexer):\n\u001B[1;32m   3507\u001B[0m     indexer \u001B[38;5;241m=\u001B[39m [indexer]\n",
      "File \u001B[0;32m~/miniforge3/envs/myenv/lib/python3.10/site-packages/pandas/core/indexes/base.py:3631\u001B[0m, in \u001B[0;36mIndex.get_loc\u001B[0;34m(self, key, method, tolerance)\u001B[0m\n\u001B[1;32m   3629\u001B[0m     \u001B[38;5;28;01mreturn\u001B[39;00m \u001B[38;5;28mself\u001B[39m\u001B[38;5;241m.\u001B[39m_engine\u001B[38;5;241m.\u001B[39mget_loc(casted_key)\n\u001B[1;32m   3630\u001B[0m \u001B[38;5;28;01mexcept\u001B[39;00m \u001B[38;5;167;01mKeyError\u001B[39;00m \u001B[38;5;28;01mas\u001B[39;00m err:\n\u001B[0;32m-> 3631\u001B[0m     \u001B[38;5;28;01mraise\u001B[39;00m \u001B[38;5;167;01mKeyError\u001B[39;00m(key) \u001B[38;5;28;01mfrom\u001B[39;00m \u001B[38;5;21;01merr\u001B[39;00m\n\u001B[1;32m   3632\u001B[0m \u001B[38;5;28;01mexcept\u001B[39;00m \u001B[38;5;167;01mTypeError\u001B[39;00m:\n\u001B[1;32m   3633\u001B[0m     \u001B[38;5;66;03m# If we have a listlike key, _check_indexing_error will raise\u001B[39;00m\n\u001B[1;32m   3634\u001B[0m     \u001B[38;5;66;03m#  InvalidIndexError. Otherwise we fall through and re-raise\u001B[39;00m\n\u001B[1;32m   3635\u001B[0m     \u001B[38;5;66;03m#  the TypeError.\u001B[39;00m\n\u001B[1;32m   3636\u001B[0m     \u001B[38;5;28mself\u001B[39m\u001B[38;5;241m.\u001B[39m_check_indexing_error(key)\n",
      "\u001B[0;31mKeyError\u001B[0m: 'really good'"
     ]
    }
   ],
   "source": [
    "tf_data_frame['really good'].sum()"
   ]
  },
  {
   "cell_type": "code",
   "execution_count": 392,
   "metadata": {
    "execution": {
     "iopub.execute_input": "2022-09-07T20:35:03.037783Z",
     "iopub.status.busy": "2022-09-07T20:35:03.036962Z",
     "iopub.status.idle": "2022-09-07T20:35:03.053341Z",
     "shell.execute_reply": "2022-09-07T20:35:03.052383Z",
     "shell.execute_reply.started": "2022-09-07T20:35:03.037745Z"
    },
    "pycharm": {
     "name": "#%%\n"
    }
   },
   "outputs": [
    {
     "data": {
      "text/plain": "       features  positive_sentiment  negative_sentiment  total_row_count\n0        always          546.427809          200.343565       746.771374\n1         amaze          244.667318           32.953460       277.620778\n2       amazing          122.270951           21.215244       143.486195\n3           ask          163.027405          391.957143       554.984548\n4    atmosphere          170.733786           83.729103       254.462889\n..          ...                 ...                 ...              ...\n111        wont           77.995441          192.496646       270.492087\n112       worst            1.772463           57.796503        59.568966\n113       would          341.956118          584.362201       926.318318\n114     wouldnt           44.969157          137.012794       181.981950\n115       yummy          104.752107           15.581131       120.333238\n\n[116 rows x 4 columns]",
      "text/html": "<div>\n<style scoped>\n    .dataframe tbody tr th:only-of-type {\n        vertical-align: middle;\n    }\n\n    .dataframe tbody tr th {\n        vertical-align: top;\n    }\n\n    .dataframe thead th {\n        text-align: right;\n    }\n</style>\n<table border=\"1\" class=\"dataframe\">\n  <thead>\n    <tr style=\"text-align: right;\">\n      <th></th>\n      <th>features</th>\n      <th>positive_sentiment</th>\n      <th>negative_sentiment</th>\n      <th>total_row_count</th>\n    </tr>\n  </thead>\n  <tbody>\n    <tr>\n      <th>0</th>\n      <td>always</td>\n      <td>546.427809</td>\n      <td>200.343565</td>\n      <td>746.771374</td>\n    </tr>\n    <tr>\n      <th>1</th>\n      <td>amaze</td>\n      <td>244.667318</td>\n      <td>32.953460</td>\n      <td>277.620778</td>\n    </tr>\n    <tr>\n      <th>2</th>\n      <td>amazing</td>\n      <td>122.270951</td>\n      <td>21.215244</td>\n      <td>143.486195</td>\n    </tr>\n    <tr>\n      <th>3</th>\n      <td>ask</td>\n      <td>163.027405</td>\n      <td>391.957143</td>\n      <td>554.984548</td>\n    </tr>\n    <tr>\n      <th>4</th>\n      <td>atmosphere</td>\n      <td>170.733786</td>\n      <td>83.729103</td>\n      <td>254.462889</td>\n    </tr>\n    <tr>\n      <th>...</th>\n      <td>...</td>\n      <td>...</td>\n      <td>...</td>\n      <td>...</td>\n    </tr>\n    <tr>\n      <th>111</th>\n      <td>wont</td>\n      <td>77.995441</td>\n      <td>192.496646</td>\n      <td>270.492087</td>\n    </tr>\n    <tr>\n      <th>112</th>\n      <td>worst</td>\n      <td>1.772463</td>\n      <td>57.796503</td>\n      <td>59.568966</td>\n    </tr>\n    <tr>\n      <th>113</th>\n      <td>would</td>\n      <td>341.956118</td>\n      <td>584.362201</td>\n      <td>926.318318</td>\n    </tr>\n    <tr>\n      <th>114</th>\n      <td>wouldnt</td>\n      <td>44.969157</td>\n      <td>137.012794</td>\n      <td>181.981950</td>\n    </tr>\n    <tr>\n      <th>115</th>\n      <td>yummy</td>\n      <td>104.752107</td>\n      <td>15.581131</td>\n      <td>120.333238</td>\n    </tr>\n  </tbody>\n</table>\n<p>116 rows × 4 columns</p>\n</div>"
     },
     "execution_count": 392,
     "metadata": {},
     "output_type": "execute_result"
    }
   ],
   "source": [
    "observed_value_table"
   ]
  },
  {
   "cell_type": "code",
   "execution_count": 393,
   "metadata": {
    "execution": {
     "iopub.execute_input": "2022-09-07T20:35:03.055753Z",
     "iopub.status.busy": "2022-09-07T20:35:03.054781Z",
     "iopub.status.idle": "2022-09-07T20:35:03.064775Z",
     "shell.execute_reply": "2022-09-07T20:35:03.063483Z",
     "shell.execute_reply.started": "2022-09-07T20:35:03.055709Z"
    },
    "pycharm": {
     "name": "#%%\n"
    }
   },
   "outputs": [],
   "source": [
    "chi_sqare_expected = pd.DataFrame()"
   ]
  },
  {
   "cell_type": "markdown",
   "metadata": {
    "pycharm": {
     "name": "#%% md\n"
    }
   },
   "source": [
    "#### Calculating expected value table for chi-sqare function"
   ]
  },
  {
   "cell_type": "code",
   "execution_count": 394,
   "metadata": {
    "execution": {
     "iopub.execute_input": "2022-09-07T20:35:03.067592Z",
     "iopub.status.busy": "2022-09-07T20:35:03.066772Z",
     "iopub.status.idle": "2022-09-07T20:35:03.078695Z",
     "shell.execute_reply": "2022-09-07T20:35:03.077372Z",
     "shell.execute_reply.started": "2022-09-07T20:35:03.067551Z"
    },
    "pycharm": {
     "name": "#%%\n"
    }
   },
   "outputs": [],
   "source": [
    "def chi_sqare_value(row_totals, positive_column_total, negative_column_total, total_sum):\n",
    "    positive_chi_value = []\n",
    "    negative_chi_value = []\n",
    "    for i in range(0, len(row_totals)):\n",
    "        positive_chi_value.append((row_totals[i]*positive_column_total)/total_sum)\n",
    "        negative_chi_value.append((row_totals[i]*negative_column_total)/total_sum)\n",
    "    return positive_chi_value, negative_chi_value"
   ]
  },
  {
   "cell_type": "code",
   "execution_count": 395,
   "metadata": {
    "execution": {
     "iopub.execute_input": "2022-09-07T20:35:03.081176Z",
     "iopub.status.busy": "2022-09-07T20:35:03.080121Z",
     "iopub.status.idle": "2022-09-07T20:35:03.106872Z",
     "shell.execute_reply": "2022-09-07T20:35:03.105842Z",
     "shell.execute_reply.started": "2022-09-07T20:35:03.081136Z"
    },
    "pycharm": {
     "name": "#%%\n"
    }
   },
   "outputs": [],
   "source": [
    "row_totals = np.array(observed_value_table['total_row_count'])\n",
    "positive_column_total = observed_value_table['positive_sentiment'].sum()\n",
    "negative_column_total = observed_value_table['negative_sentiment'].sum()\n",
    "total_sum = observed_value_table['total_row_count'].sum()\n",
    "expected_positive, expected_negative = chi_sqare_value(row_totals, positive_column_total, negative_column_total, total_sum)"
   ]
  },
  {
   "cell_type": "code",
   "execution_count": 396,
   "metadata": {
    "execution": {
     "iopub.execute_input": "2022-09-07T20:35:03.108781Z",
     "iopub.status.busy": "2022-09-07T20:35:03.108211Z",
     "iopub.status.idle": "2022-09-07T20:35:03.125207Z",
     "shell.execute_reply": "2022-09-07T20:35:03.123949Z",
     "shell.execute_reply.started": "2022-09-07T20:35:03.108747Z"
    },
    "pycharm": {
     "name": "#%%\n"
    }
   },
   "outputs": [],
   "source": [
    "chi_sqare_expected['+1'] = np.array(expected_positive)\n",
    "chi_sqare_expected['-1'] = np.array(expected_negative)"
   ]
  },
  {
   "cell_type": "code",
   "execution_count": 397,
   "metadata": {
    "execution": {
     "iopub.execute_input": "2022-09-07T20:35:03.129255Z",
     "iopub.status.busy": "2022-09-07T20:35:03.128849Z",
     "iopub.status.idle": "2022-09-07T20:35:03.144918Z",
     "shell.execute_reply": "2022-09-07T20:35:03.143693Z",
     "shell.execute_reply.started": "2022-09-07T20:35:03.129222Z"
    },
    "pycharm": {
     "name": "#%%\n"
    }
   },
   "outputs": [
    {
     "data": {
      "text/plain": "             +1          -1\n0    358.543107  388.228267\n1    133.292491  144.328287\n2     68.891213   74.594981\n3    266.461586  288.522963\n4    122.173825  132.289064\n..          ...         ...\n111  129.869833  140.622254\n112   28.600510   30.968456\n113  444.747964  481.570354\n114   87.373962   94.607988\n115   57.774916   62.558322\n\n[116 rows x 2 columns]",
      "text/html": "<div>\n<style scoped>\n    .dataframe tbody tr th:only-of-type {\n        vertical-align: middle;\n    }\n\n    .dataframe tbody tr th {\n        vertical-align: top;\n    }\n\n    .dataframe thead th {\n        text-align: right;\n    }\n</style>\n<table border=\"1\" class=\"dataframe\">\n  <thead>\n    <tr style=\"text-align: right;\">\n      <th></th>\n      <th>+1</th>\n      <th>-1</th>\n    </tr>\n  </thead>\n  <tbody>\n    <tr>\n      <th>0</th>\n      <td>358.543107</td>\n      <td>388.228267</td>\n    </tr>\n    <tr>\n      <th>1</th>\n      <td>133.292491</td>\n      <td>144.328287</td>\n    </tr>\n    <tr>\n      <th>2</th>\n      <td>68.891213</td>\n      <td>74.594981</td>\n    </tr>\n    <tr>\n      <th>3</th>\n      <td>266.461586</td>\n      <td>288.522963</td>\n    </tr>\n    <tr>\n      <th>4</th>\n      <td>122.173825</td>\n      <td>132.289064</td>\n    </tr>\n    <tr>\n      <th>...</th>\n      <td>...</td>\n      <td>...</td>\n    </tr>\n    <tr>\n      <th>111</th>\n      <td>129.869833</td>\n      <td>140.622254</td>\n    </tr>\n    <tr>\n      <th>112</th>\n      <td>28.600510</td>\n      <td>30.968456</td>\n    </tr>\n    <tr>\n      <th>113</th>\n      <td>444.747964</td>\n      <td>481.570354</td>\n    </tr>\n    <tr>\n      <th>114</th>\n      <td>87.373962</td>\n      <td>94.607988</td>\n    </tr>\n    <tr>\n      <th>115</th>\n      <td>57.774916</td>\n      <td>62.558322</td>\n    </tr>\n  </tbody>\n</table>\n<p>116 rows × 2 columns</p>\n</div>"
     },
     "execution_count": 397,
     "metadata": {},
     "output_type": "execute_result"
    }
   ],
   "source": [
    "chi_sqare_expected"
   ]
  },
  {
   "cell_type": "code",
   "execution_count": 398,
   "metadata": {
    "execution": {
     "iopub.execute_input": "2022-09-07T20:35:03.146679Z",
     "iopub.status.busy": "2022-09-07T20:35:03.146315Z",
     "iopub.status.idle": "2022-09-07T20:35:03.156830Z",
     "shell.execute_reply": "2022-09-07T20:35:03.155431Z",
     "shell.execute_reply.started": "2022-09-07T20:35:03.146647Z"
    },
    "pycharm": {
     "name": "#%%\n"
    }
   },
   "outputs": [],
   "source": [
    "chi_sqare_table = pd.DataFrame()"
   ]
  },
  {
   "cell_type": "code",
   "execution_count": 399,
   "metadata": {
    "execution": {
     "iopub.execute_input": "2022-09-07T20:35:03.159129Z",
     "iopub.status.busy": "2022-09-07T20:35:03.158142Z",
     "iopub.status.idle": "2022-09-07T20:35:03.174208Z",
     "shell.execute_reply": "2022-09-07T20:35:03.173090Z",
     "shell.execute_reply.started": "2022-09-07T20:35:03.159087Z"
    },
    "pycharm": {
     "name": "#%%\n"
    }
   },
   "outputs": [],
   "source": [
    "chi_sqare_table['positiev_sentiments'] = ((observed_value_table['positive_sentiment'] - chi_sqare_expected['+1'])**2)/chi_sqare_expected['+1']\n",
    "chi_sqare_table['negatiev_sentiments'] = ((observed_value_table['negative_sentiment'] - chi_sqare_expected['-1'])**2)/chi_sqare_expected['-1']\n",
    "chi_sqare_table['sum'] = chi_sqare_table['positiev_sentiments'] + chi_sqare_table['negatiev_sentiments']"
   ]
  },
  {
   "cell_type": "code",
   "execution_count": 400,
   "metadata": {
    "execution": {
     "iopub.execute_input": "2022-09-07T20:35:03.176690Z",
     "iopub.status.busy": "2022-09-07T20:35:03.175670Z",
     "iopub.status.idle": "2022-09-07T20:35:03.192034Z",
     "shell.execute_reply": "2022-09-07T20:35:03.190935Z",
     "shell.execute_reply.started": "2022-09-07T20:35:03.176623Z"
    },
    "pycharm": {
     "name": "#%%\n"
    },
    "scrolled": true
   },
   "outputs": [
    {
     "data": {
      "text/plain": "     positiev_sentiments  negatiev_sentiments         sum\n0              98.455835            90.927591  189.383426\n1              93.061148            85.945398  179.006546\n2              41.360810            38.198232   79.559042\n3              40.150739            37.080687   77.231426\n4              19.300942            17.825131   37.126072\n..                   ...                  ...         ...\n111            20.720382            19.136036   39.856418\n112            25.165428            23.241200   48.406628\n113            23.757644            21.941059   45.698703\n114            20.580131            19.006509   39.586639\n115            38.197486            35.276786   73.474272\n\n[116 rows x 3 columns]",
      "text/html": "<div>\n<style scoped>\n    .dataframe tbody tr th:only-of-type {\n        vertical-align: middle;\n    }\n\n    .dataframe tbody tr th {\n        vertical-align: top;\n    }\n\n    .dataframe thead th {\n        text-align: right;\n    }\n</style>\n<table border=\"1\" class=\"dataframe\">\n  <thead>\n    <tr style=\"text-align: right;\">\n      <th></th>\n      <th>positiev_sentiments</th>\n      <th>negatiev_sentiments</th>\n      <th>sum</th>\n    </tr>\n  </thead>\n  <tbody>\n    <tr>\n      <th>0</th>\n      <td>98.455835</td>\n      <td>90.927591</td>\n      <td>189.383426</td>\n    </tr>\n    <tr>\n      <th>1</th>\n      <td>93.061148</td>\n      <td>85.945398</td>\n      <td>179.006546</td>\n    </tr>\n    <tr>\n      <th>2</th>\n      <td>41.360810</td>\n      <td>38.198232</td>\n      <td>79.559042</td>\n    </tr>\n    <tr>\n      <th>3</th>\n      <td>40.150739</td>\n      <td>37.080687</td>\n      <td>77.231426</td>\n    </tr>\n    <tr>\n      <th>4</th>\n      <td>19.300942</td>\n      <td>17.825131</td>\n      <td>37.126072</td>\n    </tr>\n    <tr>\n      <th>...</th>\n      <td>...</td>\n      <td>...</td>\n      <td>...</td>\n    </tr>\n    <tr>\n      <th>111</th>\n      <td>20.720382</td>\n      <td>19.136036</td>\n      <td>39.856418</td>\n    </tr>\n    <tr>\n      <th>112</th>\n      <td>25.165428</td>\n      <td>23.241200</td>\n      <td>48.406628</td>\n    </tr>\n    <tr>\n      <th>113</th>\n      <td>23.757644</td>\n      <td>21.941059</td>\n      <td>45.698703</td>\n    </tr>\n    <tr>\n      <th>114</th>\n      <td>20.580131</td>\n      <td>19.006509</td>\n      <td>39.586639</td>\n    </tr>\n    <tr>\n      <th>115</th>\n      <td>38.197486</td>\n      <td>35.276786</td>\n      <td>73.474272</td>\n    </tr>\n  </tbody>\n</table>\n<p>116 rows × 3 columns</p>\n</div>"
     },
     "execution_count": 400,
     "metadata": {},
     "output_type": "execute_result"
    }
   ],
   "source": [
    "chi_sqare_table"
   ]
  },
  {
   "cell_type": "markdown",
   "metadata": {
    "pycharm": {
     "name": "#%% md\n"
    }
   },
   "source": [
    "### Create weighted features"
   ]
  },
  {
   "cell_type": "code",
   "execution_count": 401,
   "metadata": {
    "execution": {
     "iopub.execute_input": "2022-09-07T20:35:03.196004Z",
     "iopub.status.busy": "2022-09-07T20:35:03.193471Z",
     "iopub.status.idle": "2022-09-07T20:35:03.203449Z",
     "shell.execute_reply": "2022-09-07T20:35:03.202351Z",
     "shell.execute_reply.started": "2022-09-07T20:35:03.195962Z"
    },
    "pycharm": {
     "name": "#%%\n"
    }
   },
   "outputs": [],
   "source": [
    "def generate_chi_sqare_weighted_features(train_feat_array, chi_weight):\n",
    "    new_weighted_feature= []\n",
    "    sentiments = np.array(train_feat_array)\n",
    "    for i in range(0,len(sentiments)):\n",
    "            new_weighted_feature.append(np.multiply(train_feat_array[i], chi_weight))\n",
    "    return new_weighted_feature        "
   ]
  },
  {
   "cell_type": "code",
   "execution_count": 402,
   "metadata": {
    "execution": {
     "iopub.execute_input": "2022-09-07T20:35:03.205810Z",
     "iopub.status.busy": "2022-09-07T20:35:03.205112Z",
     "iopub.status.idle": "2022-09-07T20:35:03.219302Z",
     "shell.execute_reply": "2022-09-07T20:35:03.218022Z",
     "shell.execute_reply.started": "2022-09-07T20:35:03.205763Z"
    },
    "pycharm": {
     "name": "#%%\n"
    }
   },
   "outputs": [],
   "source": [
    "def weight_unlabled_data(features, max_chi_val):\n",
    "    weighted_data = []\n",
    "    for i in range(0,len(features)):\n",
    "        weighted_data.append(np.multiply(features[i], max_chi_val))\n",
    "    return np.array(weighted_data)"
   ]
  },
  {
   "cell_type": "code",
   "execution_count": 403,
   "metadata": {
    "execution": {
     "iopub.execute_input": "2022-09-07T20:35:03.221853Z",
     "iopub.status.busy": "2022-09-07T20:35:03.220708Z",
     "iopub.status.idle": "2022-09-07T20:35:08.728666Z",
     "shell.execute_reply": "2022-09-07T20:35:08.727290Z",
     "shell.execute_reply.started": "2022-09-07T20:35:03.221803Z"
    },
    "pycharm": {
     "name": "#%%\n"
    }
   },
   "outputs": [],
   "source": [
    "chi_weight = np.array (chi_sqare_table['sum'])\n",
    "weighted_selected_feat = np.array(\n",
    "    generate_chi_sqare_weighted_features(selected_feat_array, chi_weight))"
   ]
  },
  {
   "cell_type": "code",
   "execution_count": 404,
   "metadata": {
    "pycharm": {
     "name": "#%%\n"
    }
   },
   "outputs": [
    {
     "data": {
      "text/plain": "     positiev_sentiments  negatiev_sentiments         sum\n0              98.455835            90.927591  189.383426\n1              93.061148            85.945398  179.006546\n2              41.360810            38.198232   79.559042\n3              40.150739            37.080687   77.231426\n4              19.300942            17.825131   37.126072\n..                   ...                  ...         ...\n111            20.720382            19.136036   39.856418\n112            25.165428            23.241200   48.406628\n113            23.757644            21.941059   45.698703\n114            20.580131            19.006509   39.586639\n115            38.197486            35.276786   73.474272\n\n[116 rows x 3 columns]",
      "text/html": "<div>\n<style scoped>\n    .dataframe tbody tr th:only-of-type {\n        vertical-align: middle;\n    }\n\n    .dataframe tbody tr th {\n        vertical-align: top;\n    }\n\n    .dataframe thead th {\n        text-align: right;\n    }\n</style>\n<table border=\"1\" class=\"dataframe\">\n  <thead>\n    <tr style=\"text-align: right;\">\n      <th></th>\n      <th>positiev_sentiments</th>\n      <th>negatiev_sentiments</th>\n      <th>sum</th>\n    </tr>\n  </thead>\n  <tbody>\n    <tr>\n      <th>0</th>\n      <td>98.455835</td>\n      <td>90.927591</td>\n      <td>189.383426</td>\n    </tr>\n    <tr>\n      <th>1</th>\n      <td>93.061148</td>\n      <td>85.945398</td>\n      <td>179.006546</td>\n    </tr>\n    <tr>\n      <th>2</th>\n      <td>41.360810</td>\n      <td>38.198232</td>\n      <td>79.559042</td>\n    </tr>\n    <tr>\n      <th>3</th>\n      <td>40.150739</td>\n      <td>37.080687</td>\n      <td>77.231426</td>\n    </tr>\n    <tr>\n      <th>4</th>\n      <td>19.300942</td>\n      <td>17.825131</td>\n      <td>37.126072</td>\n    </tr>\n    <tr>\n      <th>...</th>\n      <td>...</td>\n      <td>...</td>\n      <td>...</td>\n    </tr>\n    <tr>\n      <th>111</th>\n      <td>20.720382</td>\n      <td>19.136036</td>\n      <td>39.856418</td>\n    </tr>\n    <tr>\n      <th>112</th>\n      <td>25.165428</td>\n      <td>23.241200</td>\n      <td>48.406628</td>\n    </tr>\n    <tr>\n      <th>113</th>\n      <td>23.757644</td>\n      <td>21.941059</td>\n      <td>45.698703</td>\n    </tr>\n    <tr>\n      <th>114</th>\n      <td>20.580131</td>\n      <td>19.006509</td>\n      <td>39.586639</td>\n    </tr>\n    <tr>\n      <th>115</th>\n      <td>38.197486</td>\n      <td>35.276786</td>\n      <td>73.474272</td>\n    </tr>\n  </tbody>\n</table>\n<p>116 rows × 3 columns</p>\n</div>"
     },
     "execution_count": 404,
     "metadata": {},
     "output_type": "execute_result"
    }
   ],
   "source": [
    "chi_sqare_table"
   ]
  },
  {
   "cell_type": "code",
   "execution_count": 405,
   "metadata": {
    "execution": {
     "iopub.execute_input": "2022-09-07T20:35:08.730859Z",
     "iopub.status.busy": "2022-09-07T20:35:08.730451Z",
     "iopub.status.idle": "2022-09-07T20:35:09.146317Z",
     "shell.execute_reply": "2022-09-07T20:35:09.144958Z",
     "shell.execute_reply.started": "2022-09-07T20:35:08.730821Z"
    },
    "pycharm": {
     "name": "#%%\n"
    }
   },
   "outputs": [],
   "source": [
    "test_sentiments_array = np.array(test_sentiment)\n",
    "train_sentiments_array = np.array(train_sentiment)\n",
    "# chi_sqare_table['max_chi_value'] = find_max_chi_val(chi_sqare_table['positiev_sentiments'], chi_sqare_table['negatiev_sentiments'])\n",
    "weighted_test_feat = weight_unlabled_data( selected_test_array, chi_weight)\n",
    "max_neighbour =np.sqrt(int(len(weighted_selected_feat)))\n",
    "max_neighbour = np.ceil(max_neighbour)"
   ]
  },
  {
   "cell_type": "code",
   "execution_count": 406,
   "metadata": {
    "execution": {
     "iopub.execute_input": "2022-09-07T19:26:40.510262Z",
     "iopub.status.busy": "2022-09-07T19:26:40.509802Z",
     "iopub.status.idle": "2022-09-07T19:26:59.865850Z",
     "shell.execute_reply": "2022-09-07T19:26:59.864554Z",
     "shell.execute_reply.started": "2022-09-07T19:26:40.510225Z"
    },
    "pycharm": {
     "name": "#%%\n"
    }
   },
   "outputs": [
    {
     "name": "stdout",
     "output_type": "stream",
     "text": [
      "3\n",
      "0.7951851851851852\n",
      "4\n",
      "0.797037037037037\n",
      "5\n",
      "0.8022222222222222\n",
      "6\n",
      "0.8085185185185185\n",
      "7\n",
      "0.8033333333333333\n",
      "8\n",
      "0.8066666666666666\n",
      "9\n",
      "0.8077777777777778\n",
      "10\n",
      "0.8074074074074075\n",
      "11\n",
      "0.8103703703703704\n",
      "12\n",
      "0.8207407407407408\n",
      "13\n",
      "0.8203703703703704\n",
      "14\n",
      "0.8203703703703704\n",
      "15\n",
      "0.8185185185185185\n",
      "16\n",
      "0.8196296296296296\n",
      "17\n",
      "0.8174074074074074\n",
      "18\n",
      "0.8185185185185185\n",
      "19\n",
      "0.8196296296296296\n",
      "20\n",
      "0.8192592592592592\n",
      "21\n",
      "0.8151851851851852\n",
      "22\n",
      "0.8192592592592592\n",
      "23\n",
      "0.8188888888888889\n",
      "24\n",
      "0.8207407407407408\n",
      "25\n",
      "0.8181481481481482\n",
      "26\n",
      "0.8185185185185185\n",
      "27\n",
      "0.8096296296296296\n",
      "28\n",
      "0.8214814814814815\n",
      "29\n",
      "0.812962962962963\n",
      "30\n",
      "0.8222222222222222\n",
      "31\n",
      "0.8114814814814815\n",
      "32\n",
      "0.812962962962963\n",
      "33\n",
      "0.8107407407407408\n",
      "34\n",
      "0.822962962962963\n",
      "35\n",
      "0.8211111111111111\n",
      "36\n",
      "0.8222222222222222\n",
      "37\n",
      "0.8218518518518518\n",
      "38\n",
      "0.8237037037037037\n",
      "39\n",
      "0.8225925925925925\n",
      "40\n",
      "0.8240740740740741\n",
      "41\n",
      "0.822962962962963\n",
      "42\n",
      "0.8207407407407408\n",
      "43\n",
      "0.8192592592592592\n",
      "44\n",
      "0.8185185185185185\n",
      "45\n",
      "0.8166666666666667\n",
      "46\n",
      "0.8166666666666667\n",
      "47\n",
      "0.8144444444444444\n",
      "48\n",
      "0.8174074074074074\n",
      "49\n",
      "0.8177777777777778\n",
      "50\n",
      "0.8185185185185185\n",
      "51\n",
      "0.8159259259259259\n",
      "52\n",
      "0.8151851851851852\n",
      "53\n",
      "0.8166666666666667\n",
      "54\n",
      "0.8166666666666667\n",
      "55\n",
      "0.8137037037037037\n",
      "56\n",
      "0.8144444444444444\n",
      "57\n",
      "0.8133333333333334\n",
      "58\n",
      "0.8144444444444444\n",
      "59\n",
      "0.8137037037037037\n"
     ]
    }
   ],
   "source": [
    "from sklearn.neighbors import KNeighborsClassifier\n",
    "from sklearn import metrics\n",
    "track_precision=[]\n",
    "error = []\n",
    "maxi_k = -1\n",
    "curr_socre=0\n",
    "classifer_saved = KNeighborsClassifier()\n",
    "for i in range(3,60):\n",
    "    print(i)\n",
    "    classifer = KNeighborsClassifier(n_neighbors=i,n_jobs=3,weights='distance')\n",
    "    classifer.fit(weighted_selected_feat, train_sentiments_array)\n",
    "    sentiments_predict = classifer.predict(weighted_test_feat)\n",
    "    score = metrics.accuracy_score(test_sentiments_array,sentiments_predict)\n",
    "    print(score)\n",
    "    track_precision.append(score)\n",
    "    error.append(1-score)\n",
    "    if score>curr_socre:\n",
    "        curr_socre = score\n",
    "        maxi_k = i\n",
    "        classifer_saved = classifer"
   ]
  },
  {
   "cell_type": "code",
   "execution_count": 407,
   "metadata": {
    "pycharm": {
     "name": "#%%\n"
    }
   },
   "outputs": [
    {
     "data": {
      "text/plain": "(0.8240740740740741, 40)"
     },
     "execution_count": 407,
     "metadata": {},
     "output_type": "execute_result"
    }
   ],
   "source": [
    "curr_socre, maxi_k"
   ]
  },
  {
   "cell_type": "code",
   "execution_count": 408,
   "metadata": {
    "pycharm": {
     "name": "#%%\n"
    }
   },
   "outputs": [],
   "source": [
    "# from sklearn.metrics.pairwise import euclidean_distances\n",
    "# def calculate_uclidien_distance(train_data, test_data):\n",
    "#     print(\"calculate_uclidien_distance in\")\n",
    "#     uc_distance = euclidean_distances([train_data],[test_data])\n",
    "#     print(\"calculate_uclidien_distance out\")\n",
    "#     return 1/((np.sqrt(uc_distance))**2)        "
   ]
  },
  {
   "cell_type": "code",
   "execution_count": 110,
   "metadata": {
    "pycharm": {
     "name": "#%%\n"
    }
   },
   "outputs": [
    {
     "data": {
      "text/plain": "[<matplotlib.lines.Line2D at 0x2937faa70>]"
     },
     "execution_count": 110,
     "metadata": {},
     "output_type": "execute_result"
    },
    {
     "data": {
      "text/plain": "<Figure size 640x480 with 1 Axes>",
      "image/png": "[encoded data removed]"
     },
     "metadata": {},
     "output_type": "display_data"
    }
   ],
   "source": [
    "plt.plot(range(3,60),track_precision)"
   ]
  },
  {
   "cell_type": "code",
   "execution_count": null,
   "metadata": {
    "pycharm": {
     "name": "#%%\n"
    }
   },
   "outputs": [],
   "source": [
    "# df = pd.DataFrame(weighted_selected_feat)"
   ]
  },
  {
   "cell_type": "code",
   "execution_count": null,
   "metadata": {
    "pycharm": {
     "name": "#%%\n"
    }
   },
   "outputs": [],
   "source": [
    "def calculate_neighbour(train_data, test_data, K):\n",
    "    \n",
    "    numpy_distances = np.array(euclidean_distances(train_data,[test_data]).flatten())\n",
    "    inv_distance = []\n",
    "        \n",
    "    indexes_by_shortest_dist = numpy_distances.argsort()   \n",
    "    \n",
    "    return indexes_by_shortest_dist"
   ]
  },
  {
   "cell_type": "code",
   "execution_count": null,
   "metadata": {
    "pycharm": {
     "name": "#%%\n"
    }
   },
   "outputs": [],
   "source": [
    "def find_majority_and_predict(train_data, test_data, train_sentiments, K):\n",
    "    \n",
    "    nearest_neighbors_indexes = calculate_neighbour(train_data, test_data, K)\n",
    "    sentiment_classes = []\n",
    "    \n",
    "    for i in nearest_neighbors_indexes:\n",
    "        sentiment_classes.append(train_sentiments[i])\n",
    "        \n",
    "    return max(sentiment_classes, key=sentiment_classes.count)"
   ]
  },
  {
   "cell_type": "code",
   "execution_count": null,
   "metadata": {
    "pycharm": {
     "name": "#%%\n"
    }
   },
   "outputs": [],
   "source": [
    "predicted_sentiments = []\n",
    "print(len(weighted_test_feat))\n",
    "for i in range(0,len(weighted_test_feat)):\n",
    "    print(i)\n",
    "    predicted_sentiments.append(find_majority_and_predict(weighted_selected_feat,weighted_test_feat[i], train_sentiments_array, 24))\n",
    "    "
   ]
  },
  {
   "cell_type": "code",
   "execution_count": null,
   "metadata": {
    "execution": {
     "iopub.status.busy": "2022-09-07T21:57:54.970066Z",
     "iopub.status.idle": "2022-09-07T21:57:54.971113Z",
     "shell.execute_reply": "2022-09-07T21:57:54.970892Z",
     "shell.execute_reply.started": "2022-09-07T21:57:54.970867Z"
    },
    "pycharm": {
     "name": "#%%\n"
    }
   },
   "outputs": [],
   "source": [
    "def find_accuracy(predicted_sentiment, real_sentiment):\n",
    "    correct_prediction = 0\n",
    "    for i in range(0,len(predicted_sentiments)):\n",
    "        if predicted_sentiment[i] == real_sentiment[i]:\n",
    "            correct_prediction += 1\n",
    "    return np.divide(correct_prediction, len(predicted_sentiment))"
   ]
  },
  {
   "cell_type": "code",
   "execution_count": null,
   "metadata": {
    "execution": {
     "iopub.status.busy": "2022-09-07T21:57:54.972155Z",
     "iopub.status.idle": "2022-09-07T21:57:54.972788Z",
     "shell.execute_reply": "2022-09-07T21:57:54.972584Z",
     "shell.execute_reply.started": "2022-09-07T21:57:54.972562Z"
    },
    "pycharm": {
     "name": "#%%\n"
    }
   },
   "outputs": [],
   "source": [
    "find_accuracy(predicted_sentiments,test_sentiments_array)"
   ]
  },
  {
   "cell_type": "code",
   "execution_count": 290,
   "metadata": {
    "execution": {
     "iopub.execute_input": "2022-09-07T19:01:57.203031Z",
     "iopub.status.busy": "2022-09-07T19:01:57.202604Z",
     "iopub.status.idle": "2022-09-07T19:03:55.374238Z",
     "shell.execute_reply": "2022-09-07T19:03:55.373068Z",
     "shell.execute_reply.started": "2022-09-07T19:01:57.202997Z"
    },
    "pycharm": {
     "name": "#%%\n"
    }
   },
   "outputs": [],
   "source": [
    "result_test_df = pd.read_csv('1661892619_9579706_test_file.csv', names=['reviews'])\n",
    "basic_cleaning(result_test_df)\n",
    "tokenize_data(result_test_df)\n",
    "result_test_df['stop_words_cleaned'] = result_test_df.words.apply(lambda word_list: remove_stopwords(word_list))\n",
    "result_test_df['lemma_word'] = result_test_df.stop_words_cleaned.apply(lambda word_list: find_lemma_word(word_list))\n",
    "result_test_df['cleaned_review'] = result_test_df.lemma_word.apply(lambda review_list: \" \".join(review_list))\n",
    "unlabeled_test_feat_matrix = selected_tf_vectorizer.transform(result_test_df['cleaned_review']).toarray()"
   ]
  },
  {
   "cell_type": "code",
   "execution_count": null,
   "metadata": {
    "pycharm": {
     "name": "#%%\n"
    }
   },
   "outputs": [],
   "source": []
  },
  {
   "cell_type": "code",
   "execution_count": null,
   "metadata": {
    "execution": {
     "iopub.execute_input": "2022-09-07T19:04:25.997085Z",
     "iopub.status.busy": "2022-09-07T19:04:25.996619Z",
     "iopub.status.idle": "2022-09-07T19:04:26.005479Z",
     "shell.execute_reply": "2022-09-07T19:04:26.004136Z",
     "shell.execute_reply.started": "2022-09-07T19:04:25.997041Z"
    },
    "pycharm": {
     "name": "#%%\n"
    }
   },
   "outputs": [],
   "source": [
    "unlabeled_test_feat_matrix.shape"
   ]
  },
  {
   "cell_type": "code",
   "execution_count": null,
   "metadata": {
    "execution": {
     "iopub.execute_input": "2022-09-07T19:04:28.022167Z",
     "iopub.status.busy": "2022-09-07T19:04:28.021724Z",
     "iopub.status.idle": "2022-09-07T19:04:28.029780Z",
     "shell.execute_reply": "2022-09-07T19:04:28.028622Z",
     "shell.execute_reply.started": "2022-09-07T19:04:28.022131Z"
    },
    "pycharm": {
     "name": "#%%\n"
    }
   },
   "outputs": [],
   "source": [
    "# def find_max_chi_val(a,b):\n",
    "#     max_chi = []\n",
    "#     x = np.array(a)\n",
    "#     y = np.array(b)\n",
    "#     for i in range(0, len(x)):\n",
    "#         max_chi.append(max(x[i],y[i]))\n",
    "#     return np.array(max_chi)"
   ]
  },
  {
   "cell_type": "code",
   "execution_count": 291,
   "metadata": {
    "execution": {
     "iopub.execute_input": "2022-09-07T19:04:30.406942Z",
     "iopub.status.busy": "2022-09-07T19:04:30.406524Z",
     "iopub.status.idle": "2022-09-07T19:04:30.423643Z",
     "shell.execute_reply": "2022-09-07T19:04:30.422467Z",
     "shell.execute_reply.started": "2022-09-07T19:04:30.406904Z"
    },
    "pycharm": {
     "name": "#%%\n"
    }
   },
   "outputs": [
    {
     "data": {
      "text/plain": "     positiev_sentiments  negatiev_sentiments         sum\n0             100.987511            93.001330  193.988842\n1              94.951223            87.442397  182.393620\n2              42.049707            38.724379   80.774086\n3              40.112482            36.940352   77.052834\n4              15.777274            14.529594   30.306868\n..                   ...                  ...         ...\n105            52.167794            48.042319  100.210113\n106            20.704853            19.067495   39.772348\n107            23.487752            21.630320   45.118072\n108            20.752573            19.111442   39.864015\n109            38.821926            35.751854   74.573780\n\n[110 rows x 3 columns]",
      "text/html": "<div>\n<style scoped>\n    .dataframe tbody tr th:only-of-type {\n        vertical-align: middle;\n    }\n\n    .dataframe tbody tr th {\n        vertical-align: top;\n    }\n\n    .dataframe thead th {\n        text-align: right;\n    }\n</style>\n<table border=\"1\" class=\"dataframe\">\n  <thead>\n    <tr style=\"text-align: right;\">\n      <th></th>\n      <th>positiev_sentiments</th>\n      <th>negatiev_sentiments</th>\n      <th>sum</th>\n    </tr>\n  </thead>\n  <tbody>\n    <tr>\n      <th>0</th>\n      <td>100.987511</td>\n      <td>93.001330</td>\n      <td>193.988842</td>\n    </tr>\n    <tr>\n      <th>1</th>\n      <td>94.951223</td>\n      <td>87.442397</td>\n      <td>182.393620</td>\n    </tr>\n    <tr>\n      <th>2</th>\n      <td>42.049707</td>\n      <td>38.724379</td>\n      <td>80.774086</td>\n    </tr>\n    <tr>\n      <th>3</th>\n      <td>40.112482</td>\n      <td>36.940352</td>\n      <td>77.052834</td>\n    </tr>\n    <tr>\n      <th>4</th>\n      <td>15.777274</td>\n      <td>14.529594</td>\n      <td>30.306868</td>\n    </tr>\n    <tr>\n      <th>...</th>\n      <td>...</td>\n      <td>...</td>\n      <td>...</td>\n    </tr>\n    <tr>\n      <th>105</th>\n      <td>52.167794</td>\n      <td>48.042319</td>\n      <td>100.210113</td>\n    </tr>\n    <tr>\n      <th>106</th>\n      <td>20.704853</td>\n      <td>19.067495</td>\n      <td>39.772348</td>\n    </tr>\n    <tr>\n      <th>107</th>\n      <td>23.487752</td>\n      <td>21.630320</td>\n      <td>45.118072</td>\n    </tr>\n    <tr>\n      <th>108</th>\n      <td>20.752573</td>\n      <td>19.111442</td>\n      <td>39.864015</td>\n    </tr>\n    <tr>\n      <th>109</th>\n      <td>38.821926</td>\n      <td>35.751854</td>\n      <td>74.573780</td>\n    </tr>\n  </tbody>\n</table>\n<p>110 rows × 3 columns</p>\n</div>"
     },
     "execution_count": 291,
     "metadata": {},
     "output_type": "execute_result"
    }
   ],
   "source": [
    "# chi_sqare_table['max_chi_value'] = find_max_chi_val(chi_sqare_table['positiev_sentiments'], chi_sqare_table['negatiev_sentiments'])\n",
    "chi_sqare_table"
   ]
  },
  {
   "cell_type": "code",
   "execution_count": 292,
   "metadata": {
    "execution": {
     "iopub.execute_input": "2022-09-07T19:04:33.170388Z",
     "iopub.status.busy": "2022-09-07T19:04:33.169949Z",
     "iopub.status.idle": "2022-09-07T19:04:33.175903Z",
     "shell.execute_reply": "2022-09-07T19:04:33.174902Z",
     "shell.execute_reply.started": "2022-09-07T19:04:33.170337Z"
    },
    "pycharm": {
     "name": "#%%\n"
    }
   },
   "outputs": [],
   "source": [
    "def weight_unlabled_data(features, max_chi_val):\n",
    "    weighted_data = []\n",
    "    for i in range(0,len(features)):\n",
    "        weighted_data.append(np.multiply(features[i], max_chi_val))\n",
    "    return np.array(weighted_data)"
   ]
  },
  {
   "cell_type": "code",
   "execution_count": 293,
   "metadata": {
    "execution": {
     "iopub.execute_input": "2022-09-07T19:04:33.636245Z",
     "iopub.status.busy": "2022-09-07T19:04:33.634928Z",
     "iopub.status.idle": "2022-09-07T19:04:46.405924Z",
     "shell.execute_reply": "2022-09-07T19:04:46.404674Z",
     "shell.execute_reply.started": "2022-09-07T19:04:33.636181Z"
    },
    "pycharm": {
     "name": "#%%\n"
    }
   },
   "outputs": [],
   "source": [
    "unlabled_weighted_data = weight_unlabled_data(unlabeled_test_feat_matrix, chi_sqare_table['sum'])"
   ]
  },
  {
   "cell_type": "code",
   "execution_count": 294,
   "metadata": {
    "execution": {
     "iopub.execute_input": "2022-09-07T19:05:04.064425Z",
     "iopub.status.busy": "2022-09-07T19:05:04.063941Z",
     "iopub.status.idle": "2022-09-07T19:05:04.073816Z",
     "shell.execute_reply": "2022-09-07T19:05:04.072465Z",
     "shell.execute_reply.started": "2022-09-07T19:05:04.064384Z"
    },
    "pycharm": {
     "name": "#%%\n"
    }
   },
   "outputs": [
    {
     "data": {
      "text/plain": "(18000, 110)"
     },
     "execution_count": 294,
     "metadata": {},
     "output_type": "execute_result"
    }
   ],
   "source": [
    "unlabled_weighted_data.shape"
   ]
  },
  {
   "cell_type": "code",
   "execution_count": 295,
   "metadata": {
    "pycharm": {
     "name": "#%%\n"
    }
   },
   "outputs": [
    {
     "name": "stdout",
     "output_type": "stream",
     "text": [
      "18000\n",
      "0\n"
     ]
    },
    {
     "ename": "NameError",
     "evalue": "name 'find_majority_and_predict' is not defined",
     "output_type": "error",
     "traceback": [
      "\u001B[0;31m---------------------------------------------------------------------------\u001B[0m",
      "\u001B[0;31mNameError\u001B[0m                                 Traceback (most recent call last)",
      "Cell \u001B[0;32mIn [295], line 5\u001B[0m\n\u001B[1;32m      3\u001B[0m \u001B[38;5;28;01mfor\u001B[39;00m i \u001B[38;5;129;01min\u001B[39;00m \u001B[38;5;28mrange\u001B[39m(\u001B[38;5;241m0\u001B[39m,\u001B[38;5;28mlen\u001B[39m(unlabled_weighted_data)):\n\u001B[1;32m      4\u001B[0m     \u001B[38;5;28mprint\u001B[39m(i)\n\u001B[0;32m----> 5\u001B[0m     predicted_sentiments\u001B[38;5;241m.\u001B[39mappend(\u001B[43mfind_majority_and_predict\u001B[49m(weighted_selected_feat,unlabled_weighted_data[i], train_sentiments_array, \u001B[38;5;241m24\u001B[39m))\n",
      "\u001B[0;31mNameError\u001B[0m: name 'find_majority_and_predict' is not defined"
     ]
    }
   ],
   "source": [
    "predicted_sentiments = []\n",
    "print(len(unlabled_weighted_data))\n",
    "for i in range(0,len(unlabled_weighted_data)):\n",
    "    print(i)\n",
    "    predicted_sentiments.append(find_majority_and_predict(weighted_selected_feat,unlabled_weighted_data[i], train_sentiments_array, 24))\n",
    "    "
   ]
  },
  {
   "cell_type": "code",
   "execution_count": 296,
   "metadata": {
    "execution": {
     "iopub.execute_input": "2022-09-07T19:05:09.049923Z",
     "iopub.status.busy": "2022-09-07T19:05:09.049446Z",
     "iopub.status.idle": "2022-09-07T19:08:13.860420Z",
     "shell.execute_reply": "2022-09-07T19:08:13.859136Z",
     "shell.execute_reply.started": "2022-09-07T19:05:09.049820Z"
    },
    "pycharm": {
     "name": "#%%\n"
    }
   },
   "outputs": [],
   "source": [
    "predicted_values = classifer_saved.predict(unlabled_weighted_data)"
   ]
  },
  {
   "cell_type": "code",
   "execution_count": 297,
   "metadata": {
    "pycharm": {
     "name": "#%%\n"
    }
   },
   "outputs": [
    {
     "data": {
      "text/plain": "(18000,)"
     },
     "execution_count": 297,
     "metadata": {},
     "output_type": "execute_result"
    }
   ],
   "source": [
    "predicted_values.shape"
   ]
  },
  {
   "cell_type": "code",
   "execution_count": 298,
   "metadata": {
    "execution": {
     "iopub.execute_input": "2022-09-07T19:09:46.720923Z",
     "iopub.status.busy": "2022-09-07T19:09:46.720426Z",
     "iopub.status.idle": "2022-09-07T19:09:46.745897Z",
     "shell.execute_reply": "2022-09-07T19:09:46.744737Z",
     "shell.execute_reply.started": "2022-09-07T19:09:46.720883Z"
    },
    "pycharm": {
     "name": "#%%\n"
    }
   },
   "outputs": [],
   "source": [
    "import csv\n",
    "outfile = open('./results.csv','w')\n",
    "out = csv.writer(outfile)\n",
    "out.writerows(map(lambda x: [x], predicted_values))\n",
    "outfile.close()"
   ]
  },
  {
   "cell_type": "code",
   "execution_count": 299,
   "metadata": {
    "pycharm": {
     "name": "#%%\n"
    }
   },
   "outputs": [
    {
     "data": {
      "text/plain": "0.01"
     },
     "execution_count": 299,
     "metadata": {},
     "output_type": "execute_result"
    }
   ],
   "source": [
    "1/(10**2)"
   ]
  },
  {
   "cell_type": "code",
   "execution_count": null,
   "metadata": {
    "pycharm": {
     "name": "#%%\n"
    }
   },
   "outputs": [],
   "source": []
  }
 ],
 "metadata": {
  "kernelspec": {
   "display_name": "Python 3 (ipykernel)",
   "language": "python",
   "name": "python3"
  },
  "language_info": {
   "codemirror_mode": {
    "name": "ipython",
    "version": 3
   },
   "file_extension": ".py",
   "mimetype": "text/x-python",
   "name": "python",
   "nbconvert_exporter": "python",
   "pygments_lexer": "ipython3",
   "version": "3.10.6"
  }
 },
 "nbformat": 4,
 "nbformat_minor": 4
}