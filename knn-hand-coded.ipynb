{
 "cells": [
  {
   "cell_type": "code",
   "execution_count": 619,
   "outputs": [],
   "source": [
    "import pandas as pd\n",
    "import matplotlib.pyplot as plt\n",
    "import numpy as np\n",
    "import string\n",
    "import re\n",
    "import os"
   ],
   "metadata": {
    "collapsed": false,
    "pycharm": {
     "name": "#%%\n"
    }
   }
  },
  {
   "cell_type": "code",
   "execution_count": 620,
   "metadata": {
    "execution": {
     "iopub.execute_input": "2022-09-07T20:29:28.319045Z",
     "iopub.status.busy": "2022-09-07T20:29:28.318572Z",
     "iopub.status.idle": "2022-09-07T20:29:28.603267Z",
     "shell.execute_reply": "2022-09-07T20:29:28.602081Z",
     "shell.execute_reply.started": "2022-09-07T20:29:28.319011Z"
    },
    "pycharm": {
     "name": "#%%\n"
    }
   },
   "outputs": [],
   "source": [
    "train_data = pd.read_csv(os.path.join(os.getcwd(), 'train_data.csv'),names=[\"sentiments\", \"reviews\"])"
   ]
  },
  {
   "cell_type": "code",
   "execution_count": 621,
   "metadata": {
    "execution": {
     "iopub.execute_input": "2022-09-07T20:29:29.703652Z",
     "iopub.status.busy": "2022-09-07T20:29:29.703190Z",
     "iopub.status.idle": "2022-09-07T20:29:30.930710Z",
     "shell.execute_reply": "2022-09-07T20:29:30.929762Z",
     "shell.execute_reply.started": "2022-09-07T20:29:29.703595Z"
    },
    "pycharm": {
     "name": "#%%\n"
    }
   },
   "outputs": [],
   "source": [
    "def basic_cleaning(data_frame):\n",
    "    data_frame['reviews'] = data_frame.reviews.apply(lambda review: review.lower())\n",
    "    data_frame['reviews'] = data_frame.reviews.apply(lambda review: review.translate(str.maketrans('', '', string.punctuation)))\n",
    "    data_frame['reviews'] = data_frame.reviews.apply(lambda review: review.translate(str.maketrans('', '', string.digits)))\n",
    "    data_frame['reviews'] = data_frame.reviews.apply(lambda review: re.sub(\"r[^a-z]\",'',review))\n",
    "\n",
    "    \n",
    "import nltk\n",
    "from nltk.tokenize import word_tokenize, sent_tokenize\n",
    "\n",
    "def tokenize_data(data_frame):\n",
    "    data_frame['words'] = data_frame.reviews.apply(lambda review: nltk.word_tokenize(review))\n",
    "\n",
    "from nltk.corpus import stopwords\n",
    "stopwords = set(stopwords.words('english'))\n",
    "\n",
    "def remove_stopwords(list):\n",
    "    stop_words_removed = []\n",
    "    for i in list:\n",
    "        if i not in stopwords:\n",
    "            stop_words_removed.append(i)\n",
    "    return stop_words_removed"
   ]
  },
  {
   "cell_type": "code",
   "execution_count": 622,
   "metadata": {
    "execution": {
     "iopub.execute_input": "2022-09-07T20:29:39.969816Z",
     "iopub.status.busy": "2022-09-07T20:29:39.969420Z",
     "iopub.status.idle": "2022-09-07T20:30:27.157526Z",
     "shell.execute_reply": "2022-09-07T20:30:27.155569Z",
     "shell.execute_reply.started": "2022-09-07T20:29:39.969778Z"
    },
    "pycharm": {
     "name": "#%%\n"
    }
   },
   "outputs": [],
   "source": [
    "# nltk.download('all')\n",
    "#tag part of speech to get more accurate word during lemmatizaton\n",
    "def tag_pos(list_of_words):\n",
    "    return nltk.pos_tag(list_of_words)\n",
    "\n",
    "#extraction of lemma words after pos taggin \n",
    "from nltk.stem import WordNetLemmatizer\n",
    "lemmatizer= WordNetLemmatizer()\n",
    "\n",
    "def find_lemma_word(word):\n",
    "    lemma_words=[]\n",
    "    words_with_pos = tag_pos(word)\n",
    "    for word in words_with_pos:\n",
    "        if word[1].startswith('NN'):\n",
    "            lemma_words.append(lemmatizer.lemmatize(word[0],pos='n'))\n",
    "        elif word[1].startswith('VB'):\n",
    "            lemma_words.append(lemmatizer.lemmatize(word[0],pos='v'))\n",
    "        elif word[1].startswith('JJ'):\n",
    "            lemma_words.append(lemmatizer.lemmatize(word[0],pos='a'))\n",
    "        elif word[1].startswith('RB'):\n",
    "            lemma_words.append(lemmatizer.lemmatize(word[0],pos='r'))\n",
    "        else:\n",
    "            lemma_words.append(word[0])\n",
    "            \n",
    "    return lemma_words"
   ]
  },
  {
   "cell_type": "code",
   "execution_count": 623,
   "metadata": {
    "execution": {
     "iopub.execute_input": "2022-09-07T20:30:27.161877Z",
     "iopub.status.busy": "2022-09-07T20:30:27.161403Z",
     "iopub.status.idle": "2022-09-07T20:32:05.436075Z",
     "shell.execute_reply": "2022-09-07T20:32:05.434776Z",
     "shell.execute_reply.started": "2022-09-07T20:30:27.161838Z"
    },
    "pycharm": {
     "name": "#%%\n"
    }
   },
   "outputs": [],
   "source": [
    "basic_cleaning(train_data)\n",
    "tokenize_data(train_data)\n",
    "train_data['stop_words_cleaned'] = train_data.words.apply(lambda word_list: remove_stopwords(word_list))\n",
    "train_data['lemma_word'] = train_data.stop_words_cleaned.apply(lambda word_list: find_lemma_word(word_list))\n",
    "train_data['cleaned_review'] = train_data.lemma_word.apply(lambda review_list: \" \".join(review_list))"
   ]
  },
  {
   "cell_type": "code",
   "execution_count": 624,
   "metadata": {
    "execution": {
     "iopub.execute_input": "2022-09-07T20:32:05.439219Z",
     "iopub.status.busy": "2022-09-07T20:32:05.438473Z",
     "iopub.status.idle": "2022-09-07T20:32:05.495295Z",
     "shell.execute_reply": "2022-09-07T20:32:05.494068Z",
     "shell.execute_reply.started": "2022-09-07T20:32:05.439178Z"
    },
    "pycharm": {
     "name": "#%%\n"
    }
   },
   "outputs": [
    {
     "data": {
      "text/plain": "       sentiments                                            reviews  \\\n0              -1  eat at fioris they said  youll like it they sa...   \n1              -1  i just dont understand the appeal  ive tried t...   \n2               1  this is my go to place foa really good beef en...   \n3              -1  not impressed when i ordered the oyako bowl th...   \n4              -1  this is the first time evei wrote a bad review...   \n...           ...                                                ...   \n17995          -1  i was referred to go to this place by a buddy ...   \n17996           1  the food here was really good  we started off ...   \n17997           1  i eat at this place maybe  a week i am die har...   \n17998           1  phoenix airport is getting betteday by day  i ...   \n17999          -1  so when i was much youngei went to christos an...   \n\n                                                   words  \\\n0      [eat, at, fioris, they, said, youll, like, it,...   \n1      [i, just, dont, understand, the, appeal, ive, ...   \n2      [this, is, my, go, to, place, foa, really, goo...   \n3      [not, impressed, when, i, ordered, the, oyako,...   \n4      [this, is, the, first, time, evei, wrote, a, b...   \n...                                                  ...   \n17995  [i, was, referred, to, go, to, this, place, by...   \n17996  [the, food, here, was, really, good, we, start...   \n17997  [i, eat, at, this, place, maybe, a, week, i, a...   \n17998  [phoenix, airport, is, getting, betteday, by, ...   \n17999  [so, when, i, was, much, youngei, went, to, ch...   \n\n                                      stop_words_cleaned  \\\n0      [eat, fioris, said, youll, like, saidnnis, con...   \n1      [dont, understand, appeal, ive, tried, place, ...   \n2      [go, place, foa, really, good, beef, enchilada...   \n3      [impressed, ordered, oyako, bowl, conversation...   \n4      [first, time, evei, wrote, bad, review, frustr...   \n...                                                  ...   \n17995  [referred, go, place, buddy, aftea, conversati...   \n17996  [food, really, good, started, garlic, bread, c...   \n17997  [eat, place, maybe, week, die, hard, wing, fan...   \n17998  [phoenix, airport, getting, betteday, day, pri...   \n17999  [much, youngei, went, christos, first, place, ...   \n\n                                              lemma_word  \\\n0      [eat, fioris, say, youll, like, saidnnis, conv...   \n1      [dont, understand, appeal, ive, tried, place, ...   \n2      [go, place, foa, really, good, beef, enchilada...   \n3      [impressed, order, oyako, bowl, conversation, ...   \n4      [first, time, evei, write, bad, review, frustr...   \n...                                                  ...   \n17995  [refer, go, place, buddy, aftea, conversation,...   \n17996  [food, really, good, start, garlic, bread, cov...   \n17997  [eat, place, maybe, week, die, hard, wing, fan...   \n17998  [phoenix, airport, get, betteday, day, primari...   \n17999  [much, youngei, go, christos, first, place, es...   \n\n                                          cleaned_review  \n0      eat fioris say youll like saidnnis convenientl...  \n1      dont understand appeal ive tried place twice t...  \n2      go place foa really good beef enchilada red sa...  \n3      impressed order oyako bowl conversation go som...  \n4      first time evei write bad review frustrate her...  \n...                                                  ...  \n17995  refer go place buddy aftea conversation get sh...  \n17996  food really good start garlic bread cover toma...  \n17997  eat place maybe week die hard wing fan best ev...  \n17998  phoenix airport get betteday day primarily use...  \n17999  much youngei go christos first place escargot ...  \n\n[18000 rows x 6 columns]",
      "text/html": "<div>\n<style scoped>\n    .dataframe tbody tr th:only-of-type {\n        vertical-align: middle;\n    }\n\n    .dataframe tbody tr th {\n        vertical-align: top;\n    }\n\n    .dataframe thead th {\n        text-align: right;\n    }\n</style>\n<table border=\"1\" class=\"dataframe\">\n  <thead>\n    <tr style=\"text-align: right;\">\n      <th></th>\n      <th>sentiments</th>\n      <th>reviews</th>\n      <th>words</th>\n      <th>stop_words_cleaned</th>\n      <th>lemma_word</th>\n      <th>cleaned_review</th>\n    </tr>\n  </thead>\n  <tbody>\n    <tr>\n      <th>0</th>\n      <td>-1</td>\n      <td>eat at fioris they said  youll like it they sa...</td>\n      <td>[eat, at, fioris, they, said, youll, like, it,...</td>\n      <td>[eat, fioris, said, youll, like, saidnnis, con...</td>\n      <td>[eat, fioris, say, youll, like, saidnnis, conv...</td>\n      <td>eat fioris say youll like saidnnis convenientl...</td>\n    </tr>\n    <tr>\n      <th>1</th>\n      <td>-1</td>\n      <td>i just dont understand the appeal  ive tried t...</td>\n      <td>[i, just, dont, understand, the, appeal, ive, ...</td>\n      <td>[dont, understand, appeal, ive, tried, place, ...</td>\n      <td>[dont, understand, appeal, ive, tried, place, ...</td>\n      <td>dont understand appeal ive tried place twice t...</td>\n    </tr>\n    <tr>\n      <th>2</th>\n      <td>1</td>\n      <td>this is my go to place foa really good beef en...</td>\n      <td>[this, is, my, go, to, place, foa, really, goo...</td>\n      <td>[go, place, foa, really, good, beef, enchilada...</td>\n      <td>[go, place, foa, really, good, beef, enchilada...</td>\n      <td>go place foa really good beef enchilada red sa...</td>\n    </tr>\n    <tr>\n      <th>3</th>\n      <td>-1</td>\n      <td>not impressed when i ordered the oyako bowl th...</td>\n      <td>[not, impressed, when, i, ordered, the, oyako,...</td>\n      <td>[impressed, ordered, oyako, bowl, conversation...</td>\n      <td>[impressed, order, oyako, bowl, conversation, ...</td>\n      <td>impressed order oyako bowl conversation go som...</td>\n    </tr>\n    <tr>\n      <th>4</th>\n      <td>-1</td>\n      <td>this is the first time evei wrote a bad review...</td>\n      <td>[this, is, the, first, time, evei, wrote, a, b...</td>\n      <td>[first, time, evei, wrote, bad, review, frustr...</td>\n      <td>[first, time, evei, write, bad, review, frustr...</td>\n      <td>first time evei write bad review frustrate her...</td>\n    </tr>\n    <tr>\n      <th>...</th>\n      <td>...</td>\n      <td>...</td>\n      <td>...</td>\n      <td>...</td>\n      <td>...</td>\n      <td>...</td>\n    </tr>\n    <tr>\n      <th>17995</th>\n      <td>-1</td>\n      <td>i was referred to go to this place by a buddy ...</td>\n      <td>[i, was, referred, to, go, to, this, place, by...</td>\n      <td>[referred, go, place, buddy, aftea, conversati...</td>\n      <td>[refer, go, place, buddy, aftea, conversation,...</td>\n      <td>refer go place buddy aftea conversation get sh...</td>\n    </tr>\n    <tr>\n      <th>17996</th>\n      <td>1</td>\n      <td>the food here was really good  we started off ...</td>\n      <td>[the, food, here, was, really, good, we, start...</td>\n      <td>[food, really, good, started, garlic, bread, c...</td>\n      <td>[food, really, good, start, garlic, bread, cov...</td>\n      <td>food really good start garlic bread cover toma...</td>\n    </tr>\n    <tr>\n      <th>17997</th>\n      <td>1</td>\n      <td>i eat at this place maybe  a week i am die har...</td>\n      <td>[i, eat, at, this, place, maybe, a, week, i, a...</td>\n      <td>[eat, place, maybe, week, die, hard, wing, fan...</td>\n      <td>[eat, place, maybe, week, die, hard, wing, fan...</td>\n      <td>eat place maybe week die hard wing fan best ev...</td>\n    </tr>\n    <tr>\n      <th>17998</th>\n      <td>1</td>\n      <td>phoenix airport is getting betteday by day  i ...</td>\n      <td>[phoenix, airport, is, getting, betteday, by, ...</td>\n      <td>[phoenix, airport, getting, betteday, day, pri...</td>\n      <td>[phoenix, airport, get, betteday, day, primari...</td>\n      <td>phoenix airport get betteday day primarily use...</td>\n    </tr>\n    <tr>\n      <th>17999</th>\n      <td>-1</td>\n      <td>so when i was much youngei went to christos an...</td>\n      <td>[so, when, i, was, much, youngei, went, to, ch...</td>\n      <td>[much, youngei, went, christos, first, place, ...</td>\n      <td>[much, youngei, go, christos, first, place, es...</td>\n      <td>much youngei go christos first place escargot ...</td>\n    </tr>\n  </tbody>\n</table>\n<p>18000 rows × 6 columns</p>\n</div>"
     },
     "execution_count": 624,
     "metadata": {},
     "output_type": "execute_result"
    }
   ],
   "source": [
    "train_data"
   ]
  },
  {
   "cell_type": "code",
   "execution_count": 888,
   "metadata": {
    "execution": {
     "iopub.execute_input": "2022-09-07T20:32:11.159062Z",
     "iopub.status.busy": "2022-09-07T20:32:11.158649Z",
     "iopub.status.idle": "2022-09-07T20:32:11.178064Z",
     "shell.execute_reply": "2022-09-07T20:32:11.176957Z",
     "shell.execute_reply.started": "2022-09-07T20:32:11.159019Z"
    },
    "pycharm": {
     "name": "#%%\n"
    }
   },
   "outputs": [],
   "source": [
    "from sklearn.model_selection import train_test_split\n",
    "train_review, test_review, train_sentiment, test_sentiment =train_test_split(train_data.cleaned_review,train_data.sentiments,shuffle=True,random_state=0,stratify=train_data.sentiments,train_size=.87)"
   ]
  },
  {
   "cell_type": "code",
   "execution_count": 889,
   "metadata": {
    "execution": {
     "iopub.execute_input": "2022-09-07T20:32:11.924779Z",
     "iopub.status.busy": "2022-09-07T20:32:11.924343Z",
     "iopub.status.idle": "2022-09-07T20:32:17.315920Z",
     "shell.execute_reply": "2022-09-07T20:32:17.314576Z",
     "shell.execute_reply.started": "2022-09-07T20:32:11.924743Z"
    },
    "pycharm": {
     "name": "#%%\n"
    }
   },
   "outputs": [],
   "source": [
    "from sklearn.feature_extraction.text import TfidfVectorizer\n",
    "tf_vectorizer = TfidfVectorizer(min_df=.011,use_idf=False,ngram_range=(1,2))\n",
    "feature_matrix = tf_vectorizer.fit_transform(train_review)\n",
    "feature_array = feature_matrix.toarray()"
   ]
  },
  {
   "cell_type": "code",
   "execution_count": 890,
   "metadata": {
    "execution": {
     "iopub.execute_input": "2022-09-07T20:32:17.319084Z",
     "iopub.status.busy": "2022-09-07T20:32:17.318121Z",
     "iopub.status.idle": "2022-09-07T20:32:17.418220Z",
     "shell.execute_reply": "2022-09-07T20:32:17.416994Z",
     "shell.execute_reply.started": "2022-09-07T20:32:17.319042Z"
    },
    "pycharm": {
     "name": "#%%\n"
    }
   },
   "outputs": [
    {
     "data": {
      "text/plain": "array(['able', 'absolutely', 'across', 'act', 'actually', 'add', 'aftea',\n       'aftei', 'afternoon', 'aftethe', 'ago', 'agree', 'airport',\n       'allow', 'almost', 'along', 'already', 'also', 'although',\n       'always', 'amaze', 'amazing', 'ambiance', 'amount', 'anyone',\n       'anything', 'anyway', 'anywhere', 'apparently', 'appointment',\n       'appreciate', 'area', 'arent', 'arizona', 'around', 'arrive',\n       'ask', 'ate', 'atmosphere', 'attention', 'attentive', 'attitude',\n       'authentic', 'available', 'average', 'avoid', 'away', 'awesome',\n       'awful', 'az', 'back', 'bacon', 'bad', 'bag', 'barely', 'base',\n       'basic', 'basically', 'bathroom', 'bbq', 'bean', 'beat',\n       'beautiful', 'become', 'bed', 'beef', 'beer', 'begin', 'behind',\n       'believe', 'best', 'bettethan', 'big', 'bill', 'birthday', 'bit',\n       'bite', 'black', 'bland', 'book', 'bottle', 'bowl', 'box',\n       'boyfriend', 'bread', 'break', 'breakfast', 'bring', 'brown',\n       'buck', 'buffet', 'build', 'burger', 'burrito', 'business', 'busy',\n       'buy', 'cafe', 'cake', 'call', 'cant', 'card', 'care', 'case',\n       'cash', 'certainly', 'chain', 'chance', 'change', 'charge',\n       'charlotte', 'cheap', 'check', 'cheese', 'chef', 'chicken',\n       'child', 'chili', 'chinese', 'chip', 'chocolate', 'choice',\n       'choose', 'city', 'class', 'clean', 'clearly', 'close', 'club',\n       'coffee', 'cold', 'come', 'come back', 'comfortable', 'company',\n       'compare', 'complain', 'complaint', 'complete', 'completely',\n       'consider', 'continue', 'cook', 'cool', 'corn', 'cost', 'could',\n       'couldnt', 'couple', 'course', 'cover', 'crave', 'crazy', 'cream',\n       'credit', 'crispy', 'crowd', 'crust', 'cup', 'customer',\n       'customeservice', 'cut', 'cute', 'dark', 'date', 'day', 'deal',\n       'decent', 'decide', 'definitely', 'delicious', 'desert', 'desk',\n       'despite', 'dessert', 'didnt', 'didnt even', 'die', 'different',\n       'din', 'dip', 'dirty', 'disappoint', 'disappointed', 'discount',\n       'disgust', 'dish', 'do', 'doesnt', 'dog', 'dollar', 'dont',\n       'dont get', 'dont know', 'dont think', 'downtown', 'dress',\n       'drink', 'drive', 'drop', 'dry', 'due', 'early', 'easily', 'easy',\n       'eat', 'eaten', 'egg', 'else', 'elsewhere', 'employee', 'empty',\n       'end', 'enjoy', 'enough', 'entire', 'entree', 'especially',\n       'establishment', 'etc', 'evehad', 'even', 'even though', 'event',\n       'every', 'every time', 'everyone', 'everything', 'exactly',\n       'excellent', 'except', 'excite', 'expect', 'expensive',\n       'experience', 'explain', 'extra', 'extremely', 'eye', 'face',\n       'fact', 'fairly', 'fall', 'family', 'fan', 'fantastic', 'fast',\n       'favorite', 'fee', 'feel', 'feel like', 'felt', 'figure', 'fill',\n       'finally', 'find', 'fine', 'finish', 'first', 'first time', 'fish',\n       'fit', 'five', 'fix', 'flavor', 'flavorful', 'fo', 'foa', 'foan',\n       'foit', 'follow', 'folunch', 'fome', 'fomy', 'food', 'food good',\n       'food great', 'foot', 'forget', 'forward', 'fosome', 'fothat',\n       'fothe', 'fothem', 'fothis', 'foyears', 'foyou', 'free', 'french',\n       'fresh', 'friday', 'fried', 'friend', 'friendly', 'front',\n       'frozen', 'fry', 'full', 'fun', 'game', 'garden', 'garlic', 'get',\n       'girl', 'give', 'give place', 'give us', 'glad', 'glass', 'go',\n       'go back', 'go get', 'good', 'good food', 'good service',\n       'good thing', 'grab', 'greasy', 'great', 'great food',\n       'great place', 'great service', 'green', 'greet', 'grill', 'gross',\n       'group', 'guess', 'guy', 'hadnt', 'half', 'hand', 'hang', 'happen',\n       'happy', 'hard', 'hate', 'havent', 'head', 'heard', 'hell', 'help',\n       'helpful', 'high', 'highly', 'highly recommend', 'hit', 'hold',\n       'home', 'honestly', 'hop', 'hope', 'horrible', 'hostess', 'hot',\n       'hotel', 'hour', 'house', 'huge', 'hungry', 'husband', 'ice', 'id',\n       'idea', 'ill', 'im', 'im sure', 'imagine', 'immediately',\n       'impress', 'impressed', 'include', 'ingredient', 'inside',\n       'instead', 'isnt', 'issue', 'italian', 'item', 'ive', 'ive evehad',\n       'job', 'joint', 'keep', 'kid', 'kind', 'kinda', 'kitchen', 'know',\n       'lack', 'lady', 'large', 'last', 'last night', 'last time', 'late',\n       'learn', 'least', 'leave', 'less', 'let', 'lettuce', 'level',\n       'life', 'light', 'like', 'line', 'list', 'literally', 'little',\n       'live', 'local', 'locate', 'location', 'long', 'long time', 'look',\n       'look foa', 'look like', 'lose', 'lot', 'loud', 'love',\n       'love place', 'low', 'lunch', 'main', 'make', 'make feel',\n       'make sure', 'mall', 'man', 'manage', 'management', 'many',\n       'market', 'may', 'maybe', 'meal', 'mean', 'meat', 'mediocre',\n       'meet', 'mention', 'menu', 'mess', 'mexican', 'mexican food',\n       'middle', 'might', 'mile', 'min', 'mind', 'mine', 'minute', 'miss',\n       'mistake', 'mix', 'mixed', 'mom', 'money', 'month', 'morning',\n       'mostly', 'move', 'much', 'mushroom', 'music', 'must', 'name',\n       'nearly', 'need', 'neighborhood', 'nevebeen', 'nevehad', 'new',\n       'next', 'next time', 'ni', 'nice', 'night', 'nni', 'nnmy', 'nnthe',\n       'nnwe', 'none', 'noodle', 'normally', 'note', 'nothing', 'notice',\n       'obviously', 'offer', 'office', 'often', 'oh', 'oil', 'ok', 'okay',\n       'old', 'one', 'one best', 'onion', 'online', 'open', 'opinion',\n       'option', 'order', 'ordered', 'othe', 'others', 'othethan',\n       'oufood', 'outable', 'outside', 'ove', 'overall', 'overprice',\n       'ovethe', 'oveto', 'owner', 'pack', 'park', 'parking', 'part',\n       'party', 'pass', 'past', 'pasta', 'patio', 'pay', 'people',\n       'perfect', 'perfectly', 'perhaps', 'person', 'phoenix', 'phone',\n       'pick', 'picture', 'piece', 'pittsburgh', 'pizza', 'place',\n       'place get', 'place go', 'plan', 'plate', 'play', 'pleasant',\n       'please', 'plenty', 'plus', 'pm', 'point', 'pork', 'portion',\n       'positive', 'possible', 'potato', 'prepare', 'pretty',\n       'pretty good', 'pretty much', 'price', 'pricey', 'probably',\n       'problem', 'product', 'professional', 'provide', 'pull',\n       'purchase', 'put', 'quality', 'question', 'quick', 'quickly',\n       'quite', 'rate', 'read', 'ready', 'real', 'realize', 'really',\n       'really good', 'reason', 'reasonable', 'receive', 'recently',\n       'recommend', 'red', 'refill', 'request', 'reservation', 'rest',\n       'restaurant', 'return', 'review', 'rib', 'rice', 'right', 'rock',\n       'roll', 'room', 'rude', 'run', 'rush', 'sad', 'salad', 'sale',\n       'salmon', 'salsa', 'salt', 'sandwich', 'saturday', 'sauce',\n       'sausage', 'save', 'saw', 'say', 'school', 'seafood', 'season',\n       'seat', 'second', 'section', 'see', 'seem', 'seem like',\n       'selection', 'sell', 'send', 'seriously', 'serve', 'server',\n       'service', 'service good', 'service great', 'set', 'several',\n       'share', 'shop', 'short', 'show', 'shrimp', 'side', 'sign',\n       'simple', 'simply', 'since', 'single', 'sit', 'size', 'slice',\n       'slow', 'small', 'smell', 'smile', 'smoke', 'someone', 'something',\n       'sometimes', 'somewhere', 'soon', 'sorry', 'sort', 'sound', 'soup',\n       'space', 'speak', 'special', 'spend', 'spicy', 'sport', 'spot',\n       'st', 'staff', 'staff friendly', 'stand', 'standard', 'star',\n       'start', 'state', 'stay', 'steak', 'step', 'stick', 'still',\n       'stop', 'store', 'street', 'strip', 'stuff', 'style', 'suck',\n       'suggest', 'sunday', 'suppose', 'sure', 'surprise', 'sushi',\n       'sweet', 'table', 'taco', 'take', 'take care', 'talk', 'taste',\n       'taste like', 'tasty', 'tea', 'tell', 'tell us', 'terrible', 'th',\n       'thank', 'thanks', 'thats', 'theifood', 'there', 'theyre', 'thick',\n       'thin', 'thing', 'think', 'though', 'thought', 'three', 'throw',\n       'time', 'time go', 'tiny', 'tip', 'tire', 'toast', 'today', 'told',\n       'tomato', 'ton', 'top', 'tortilla', 'total', 'totally', 'touch',\n       'town', 'travel', 'treat', 'tried', 'trip', 'true', 'truly', 'try',\n       'turn', 'tv', 'twice', 'two', 'type', 'understand',\n       'unfortunately', 'unique', 'unless', 'upon', 'us', 'use',\n       'usually', 'valley', 'value', 'variety', 'vegetable', 'veggie',\n       'view', 'visit', 'wait', 'waitress', 'walk', 'wall', 'want',\n       'warm', 'wash', 'wasnt', 'waste', 'watch', 'way', 'wed', 'week',\n       'weekend', 'weird', 'welcome', 'well', 'werent', 'weve', 'white',\n       'whole', 'wife', 'window', 'wine', 'wing', 'wish', 'within',\n       'without', 'woman', 'wonderful', 'wont', 'word', 'work', 'world',\n       'worth', 'would', 'would recommend', 'wouldnt', 'wow', 'write',\n       'wrong', 'yeah', 'year', 'year ago', 'yelp', 'yes', 'yet', 'youll',\n       'young', 'youre', 'yummy'], dtype=object)"
     },
     "execution_count": 890,
     "metadata": {},
     "output_type": "execute_result"
    }
   ],
   "source": [
    "vocab_list = tf_vectorizer.get_feature_names_out()\n",
    "vocab_list"
   ]
  },
  {
   "cell_type": "markdown",
   "metadata": {
    "pycharm": {
     "name": "#%% md\n"
    }
   },
   "source": [
    "### Select K-best features"
   ]
  },
  {
   "cell_type": "code",
   "execution_count": 917,
   "metadata": {
    "execution": {
     "iopub.execute_input": "2022-09-07T20:32:19.111355Z",
     "iopub.status.busy": "2022-09-07T20:32:19.110932Z",
     "iopub.status.idle": "2022-09-07T20:32:27.029442Z",
     "shell.execute_reply": "2022-09-07T20:32:27.028516Z",
     "shell.execute_reply.started": "2022-09-07T20:32:19.111319Z"
    },
    "pycharm": {
     "name": "#%%\n"
    }
   },
   "outputs": [
    {
     "data": {
      "text/plain": "array(['always', 'amaze', 'amazing', 'ask', 'avoid', 'awesome', 'awful',\n       'az', 'bad', 'beautiful', 'best', 'bland', 'call', 'charge',\n       'charlotte', 'cold', 'could', 'definitely', 'delicious', 'didnt',\n       'dirty', 'disappointed', 'disgust', 'dont', 'dry', 'easy', 'enjoy',\n       'excellent', 'family', 'fantastic', 'favorite', 'food great',\n       'fresh', 'friendly', 'fun', 'give', 'good', 'great', 'great food',\n       'great place', 'great service', 'gross', 'guess', 'happy',\n       'helpful', 'highly', 'highly recommend', 'horrible', 'hotel',\n       'lack', 'leave', 'little', 'love', 'love place', 'maybe',\n       'mediocre', 'mexican', 'minute', 'money', 'nothing', 'ok', 'okay',\n       'one best', 'order', 'overprice', 'pay', 'perfect', 'phoenix',\n       'pittsburgh', 'recommend', 'rude', 'say', 'seem', 'selection',\n       'slow', 'someone', 'sorry', 'spot', 'staff', 'table', 'taste',\n       'taste like', 'tell', 'terrible', 'think', 'two', 'unfortunately',\n       'us', 'valley', 'wait', 'waitress', 'wasnt', 'waste', 'wonderful',\n       'wont', 'would', 'wouldnt', 'yummy'], dtype=object)"
     },
     "execution_count": 917,
     "metadata": {},
     "output_type": "execute_result"
    }
   ],
   "source": [
    "from sklearn.feature_selection import SelectKBest, chi2\n",
    "\n",
    "vocab_list = tf_vectorizer.get_feature_names_out()\n",
    "\n",
    "select_k_best = SelectKBest(score_func=chi2, k= int(len(vocab_list)*.12))\n",
    "train_sentiment_np_array = np.array(train_sentiment)\n",
    "select_k_best.fit(feature_array, train_sentiment_np_array)\n",
    "mask = select_k_best.get_support()\n",
    "k_best_feature = vocab_list[mask]\n",
    "k_best_feature"
   ]
  },
  {
   "cell_type": "code",
   "execution_count": 949,
   "metadata": {
    "execution": {
     "iopub.execute_input": "2022-09-07T20:32:28.769965Z",
     "iopub.status.busy": "2022-09-07T20:32:28.769531Z",
     "iopub.status.idle": "2022-09-07T20:32:28.776801Z",
     "shell.execute_reply": "2022-09-07T20:32:28.775579Z",
     "shell.execute_reply.started": "2022-09-07T20:32:28.769928Z"
    },
    "pycharm": {
     "name": "#%%\n"
    }
   },
   "outputs": [
    {
     "data": {
      "text/plain": "(98,)"
     },
     "execution_count": 949,
     "metadata": {},
     "output_type": "execute_result"
    }
   ],
   "source": [
    "k_best_feature.shape"
   ]
  },
  {
   "cell_type": "markdown",
   "metadata": {
    "pycharm": {
     "name": "#%% md\n"
    }
   },
   "source": [
    "### Supervised Chi-Square weight for k-best term by utilising target value"
   ]
  },
  {
   "cell_type": "code",
   "execution_count": 950,
   "metadata": {
    "execution": {
     "iopub.execute_input": "2022-09-07T20:32:32.347348Z",
     "iopub.status.busy": "2022-09-07T20:32:32.346912Z",
     "iopub.status.idle": "2022-09-07T20:32:35.727454Z",
     "shell.execute_reply": "2022-09-07T20:32:35.726405Z",
     "shell.execute_reply.started": "2022-09-07T20:32:32.347313Z"
    },
    "pycharm": {
     "name": "#%%\n"
    }
   },
   "outputs": [],
   "source": [
    "from sklearn.feature_extraction.text import TfidfVectorizer\n",
    "selected_tf_vectorizer = TfidfVectorizer(use_idf=True, vocabulary=k_best_feature, sublinear_tf=True, ngram_range=(1,2))\n",
    "selected_feat_array = selected_tf_vectorizer.fit_transform(train_review).toarray()\n",
    "selected_test_array = selected_tf_vectorizer.transform(test_review).toarray()\n",
    "observed_value_table = pd.DataFrame(selected_tf_vectorizer.get_feature_names_out(), columns=['features'])"
   ]
  },
  {
   "cell_type": "code",
   "execution_count": 951,
   "metadata": {
    "pycharm": {
     "name": "#%%\n"
    }
   },
   "outputs": [
    {
     "data": {
      "text/plain": "array(['always', 'amaze', 'amazing', 'ask', 'avoid', 'awesome', 'awful',\n       'az', 'bad', 'beautiful', 'best', 'bland', 'call', 'charge',\n       'charlotte', 'cold', 'could', 'definitely', 'delicious', 'didnt',\n       'dirty', 'disappointed', 'disgust', 'dont', 'dry', 'easy', 'enjoy',\n       'excellent', 'family', 'fantastic', 'favorite', 'food great',\n       'fresh', 'friendly', 'fun', 'give', 'good', 'great', 'great food',\n       'great place', 'great service', 'gross', 'guess', 'happy',\n       'helpful', 'highly', 'highly recommend', 'horrible', 'hotel',\n       'lack', 'leave', 'little', 'love', 'love place', 'maybe',\n       'mediocre', 'mexican', 'minute', 'money', 'nothing', 'ok', 'okay',\n       'one best', 'order', 'overprice', 'pay', 'perfect', 'phoenix',\n       'pittsburgh', 'recommend', 'rude', 'say', 'seem', 'selection',\n       'slow', 'someone', 'sorry', 'spot', 'staff', 'table', 'taste',\n       'taste like', 'tell', 'terrible', 'think', 'two', 'unfortunately',\n       'us', 'valley', 'wait', 'waitress', 'wasnt', 'waste', 'wonderful',\n       'wont', 'would', 'wouldnt', 'yummy'], dtype=object)"
     },
     "execution_count": 951,
     "metadata": {},
     "output_type": "execute_result"
    }
   ],
   "source": [
    "selected_tf_vectorizer.get_feature_names_out()"
   ]
  },
  {
   "cell_type": "code",
   "execution_count": 952,
   "metadata": {
    "execution": {
     "iopub.execute_input": "2022-09-07T20:34:11.670458Z",
     "iopub.status.busy": "2022-09-07T20:34:11.668121Z",
     "iopub.status.idle": "2022-09-07T20:34:11.706597Z",
     "shell.execute_reply": "2022-09-07T20:34:11.705566Z",
     "shell.execute_reply.started": "2022-09-07T20:34:11.670380Z"
    },
    "pycharm": {
     "name": "#%%\n"
    }
   },
   "outputs": [],
   "source": [
    "tf_data_frame = pd.DataFrame(selected_feat_array,columns = selected_tf_vectorizer.get_feature_names_out())\n",
    "tf_data_frame['sentiments'] = np.array(train_sentiment)"
   ]
  },
  {
   "cell_type": "code",
   "execution_count": 953,
   "metadata": {
    "execution": {
     "iopub.execute_input": "2022-09-07T20:34:14.696840Z",
     "iopub.status.busy": "2022-09-07T20:34:14.696415Z",
     "iopub.status.idle": "2022-09-07T20:34:40.132403Z",
     "shell.execute_reply": "2022-09-07T20:34:40.131197Z",
     "shell.execute_reply.started": "2022-09-07T20:34:14.696802Z"
    },
    "pycharm": {
     "name": "#%%\n"
    }
   },
   "outputs": [],
   "source": [
    "observed_value_table['positive_sentiment'] = observed_value_table.features.apply(lambda feature: tf_data_frame.loc[tf_data_frame['sentiments']==1,feature].sum())"
   ]
  },
  {
   "cell_type": "code",
   "execution_count": 954,
   "metadata": {
    "execution": {
     "iopub.execute_input": "2022-09-07T20:34:40.135006Z",
     "iopub.status.busy": "2022-09-07T20:34:40.134518Z",
     "iopub.status.idle": "2022-09-07T20:35:02.960677Z",
     "shell.execute_reply": "2022-09-07T20:35:02.959429Z",
     "shell.execute_reply.started": "2022-09-07T20:34:40.134957Z"
    },
    "pycharm": {
     "name": "#%%\n"
    }
   },
   "outputs": [],
   "source": [
    "observed_value_table['negative_sentiment'] = observed_value_table.features.apply(lambda feature: tf_data_frame.loc[tf_data_frame['sentiments']==-1,feature].sum())"
   ]
  },
  {
   "cell_type": "code",
   "execution_count": 955,
   "metadata": {
    "execution": {
     "iopub.execute_input": "2022-09-07T20:35:02.962451Z",
     "iopub.status.busy": "2022-09-07T20:35:02.962084Z",
     "iopub.status.idle": "2022-09-07T20:35:02.970071Z",
     "shell.execute_reply": "2022-09-07T20:35:02.968834Z",
     "shell.execute_reply.started": "2022-09-07T20:35:02.962418Z"
    },
    "pycharm": {
     "name": "#%%\n"
    }
   },
   "outputs": [],
   "source": [
    "observed_value_table['total_row_count'] = observed_value_table['positive_sentiment'] + observed_value_table['negative_sentiment']"
   ]
  },
  {
   "cell_type": "code",
   "execution_count": 956,
   "metadata": {
    "execution": {
     "iopub.execute_input": "2022-09-07T20:35:02.973552Z",
     "iopub.status.busy": "2022-09-07T20:35:02.973134Z",
     "iopub.status.idle": "2022-09-07T20:35:03.035423Z",
     "shell.execute_reply": "2022-09-07T20:35:03.034183Z",
     "shell.execute_reply.started": "2022-09-07T20:35:02.973513Z"
    },
    "pycharm": {
     "name": "#%%\n"
    }
   },
   "outputs": [
    {
     "ename": "KeyError",
     "evalue": "'really good'",
     "output_type": "error",
     "traceback": [
      "\u001B[0;31m---------------------------------------------------------------------------\u001B[0m",
      "\u001B[0;31mKeyError\u001B[0m                                  Traceback (most recent call last)",
      "File \u001B[0;32m~/miniforge3/envs/myenv/lib/python3.10/site-packages/pandas/core/indexes/base.py:3629\u001B[0m, in \u001B[0;36mIndex.get_loc\u001B[0;34m(self, key, method, tolerance)\u001B[0m\n\u001B[1;32m   3628\u001B[0m \u001B[38;5;28;01mtry\u001B[39;00m:\n\u001B[0;32m-> 3629\u001B[0m     \u001B[38;5;28;01mreturn\u001B[39;00m \u001B[38;5;28;43mself\u001B[39;49m\u001B[38;5;241;43m.\u001B[39;49m\u001B[43m_engine\u001B[49m\u001B[38;5;241;43m.\u001B[39;49m\u001B[43mget_loc\u001B[49m\u001B[43m(\u001B[49m\u001B[43mcasted_key\u001B[49m\u001B[43m)\u001B[49m\n\u001B[1;32m   3630\u001B[0m \u001B[38;5;28;01mexcept\u001B[39;00m \u001B[38;5;167;01mKeyError\u001B[39;00m \u001B[38;5;28;01mas\u001B[39;00m err:\n",
      "File \u001B[0;32m~/miniforge3/envs/myenv/lib/python3.10/site-packages/pandas/_libs/index.pyx:136\u001B[0m, in \u001B[0;36mpandas._libs.index.IndexEngine.get_loc\u001B[0;34m()\u001B[0m\n",
      "File \u001B[0;32m~/miniforge3/envs/myenv/lib/python3.10/site-packages/pandas/_libs/index.pyx:163\u001B[0m, in \u001B[0;36mpandas._libs.index.IndexEngine.get_loc\u001B[0;34m()\u001B[0m\n",
      "File \u001B[0;32mpandas/_libs/hashtable_class_helper.pxi:5198\u001B[0m, in \u001B[0;36mpandas._libs.hashtable.PyObjectHashTable.get_item\u001B[0;34m()\u001B[0m\n",
      "File \u001B[0;32mpandas/_libs/hashtable_class_helper.pxi:5206\u001B[0m, in \u001B[0;36mpandas._libs.hashtable.PyObjectHashTable.get_item\u001B[0;34m()\u001B[0m\n",
      "\u001B[0;31mKeyError\u001B[0m: 'really good'",
      "\nThe above exception was the direct cause of the following exception:\n",
      "\u001B[0;31mKeyError\u001B[0m                                  Traceback (most recent call last)",
      "Cell \u001B[0;32mIn [956], line 1\u001B[0m\n\u001B[0;32m----> 1\u001B[0m \u001B[43mtf_data_frame\u001B[49m\u001B[43m[\u001B[49m\u001B[38;5;124;43m'\u001B[39;49m\u001B[38;5;124;43mreally good\u001B[39;49m\u001B[38;5;124;43m'\u001B[39;49m\u001B[43m]\u001B[49m\u001B[38;5;241m.\u001B[39msum()\n",
      "File \u001B[0;32m~/miniforge3/envs/myenv/lib/python3.10/site-packages/pandas/core/frame.py:3505\u001B[0m, in \u001B[0;36mDataFrame.__getitem__\u001B[0;34m(self, key)\u001B[0m\n\u001B[1;32m   3503\u001B[0m \u001B[38;5;28;01mif\u001B[39;00m \u001B[38;5;28mself\u001B[39m\u001B[38;5;241m.\u001B[39mcolumns\u001B[38;5;241m.\u001B[39mnlevels \u001B[38;5;241m>\u001B[39m \u001B[38;5;241m1\u001B[39m:\n\u001B[1;32m   3504\u001B[0m     \u001B[38;5;28;01mreturn\u001B[39;00m \u001B[38;5;28mself\u001B[39m\u001B[38;5;241m.\u001B[39m_getitem_multilevel(key)\n\u001B[0;32m-> 3505\u001B[0m indexer \u001B[38;5;241m=\u001B[39m \u001B[38;5;28;43mself\u001B[39;49m\u001B[38;5;241;43m.\u001B[39;49m\u001B[43mcolumns\u001B[49m\u001B[38;5;241;43m.\u001B[39;49m\u001B[43mget_loc\u001B[49m\u001B[43m(\u001B[49m\u001B[43mkey\u001B[49m\u001B[43m)\u001B[49m\n\u001B[1;32m   3506\u001B[0m \u001B[38;5;28;01mif\u001B[39;00m is_integer(indexer):\n\u001B[1;32m   3507\u001B[0m     indexer \u001B[38;5;241m=\u001B[39m [indexer]\n",
      "File \u001B[0;32m~/miniforge3/envs/myenv/lib/python3.10/site-packages/pandas/core/indexes/base.py:3631\u001B[0m, in \u001B[0;36mIndex.get_loc\u001B[0;34m(self, key, method, tolerance)\u001B[0m\n\u001B[1;32m   3629\u001B[0m     \u001B[38;5;28;01mreturn\u001B[39;00m \u001B[38;5;28mself\u001B[39m\u001B[38;5;241m.\u001B[39m_engine\u001B[38;5;241m.\u001B[39mget_loc(casted_key)\n\u001B[1;32m   3630\u001B[0m \u001B[38;5;28;01mexcept\u001B[39;00m \u001B[38;5;167;01mKeyError\u001B[39;00m \u001B[38;5;28;01mas\u001B[39;00m err:\n\u001B[0;32m-> 3631\u001B[0m     \u001B[38;5;28;01mraise\u001B[39;00m \u001B[38;5;167;01mKeyError\u001B[39;00m(key) \u001B[38;5;28;01mfrom\u001B[39;00m \u001B[38;5;21;01merr\u001B[39;00m\n\u001B[1;32m   3632\u001B[0m \u001B[38;5;28;01mexcept\u001B[39;00m \u001B[38;5;167;01mTypeError\u001B[39;00m:\n\u001B[1;32m   3633\u001B[0m     \u001B[38;5;66;03m# If we have a listlike key, _check_indexing_error will raise\u001B[39;00m\n\u001B[1;32m   3634\u001B[0m     \u001B[38;5;66;03m#  InvalidIndexError. Otherwise we fall through and re-raise\u001B[39;00m\n\u001B[1;32m   3635\u001B[0m     \u001B[38;5;66;03m#  the TypeError.\u001B[39;00m\n\u001B[1;32m   3636\u001B[0m     \u001B[38;5;28mself\u001B[39m\u001B[38;5;241m.\u001B[39m_check_indexing_error(key)\n",
      "\u001B[0;31mKeyError\u001B[0m: 'really good'"
     ]
    }
   ],
   "source": [
    "tf_data_frame['really good'].sum()"
   ]
  },
  {
   "cell_type": "code",
   "execution_count": 957,
   "metadata": {
    "execution": {
     "iopub.execute_input": "2022-09-07T20:35:03.037783Z",
     "iopub.status.busy": "2022-09-07T20:35:03.036962Z",
     "iopub.status.idle": "2022-09-07T20:35:03.053341Z",
     "shell.execute_reply": "2022-09-07T20:35:03.052383Z",
     "shell.execute_reply.started": "2022-09-07T20:35:03.037745Z"
    },
    "pycharm": {
     "name": "#%%\n"
    }
   },
   "outputs": [
    {
     "data": {
      "text/plain": "     features  positive_sentiment  negative_sentiment  total_row_count\n0      always          584.577327          217.072158       801.649485\n1       amaze          263.295057           35.870207       299.165264\n2     amazing          130.148354           23.460664       153.609018\n3         ask          177.826703          429.552392       607.379095\n4       avoid           24.363321           96.895981       121.259302\n..        ...                 ...                 ...              ...\n93  wonderful          169.587852           33.637798       203.225650\n94       wont           83.475261          208.764546       292.239806\n95      would          374.242498          641.923482      1016.165980\n96    wouldnt           49.226533          147.120997       196.347530\n97      yummy          111.599064           17.792750       129.391814\n\n[98 rows x 4 columns]",
      "text/html": "<div>\n<style scoped>\n    .dataframe tbody tr th:only-of-type {\n        vertical-align: middle;\n    }\n\n    .dataframe tbody tr th {\n        vertical-align: top;\n    }\n\n    .dataframe thead th {\n        text-align: right;\n    }\n</style>\n<table border=\"1\" class=\"dataframe\">\n  <thead>\n    <tr style=\"text-align: right;\">\n      <th></th>\n      <th>features</th>\n      <th>positive_sentiment</th>\n      <th>negative_sentiment</th>\n      <th>total_row_count</th>\n    </tr>\n  </thead>\n  <tbody>\n    <tr>\n      <th>0</th>\n      <td>always</td>\n      <td>584.577327</td>\n      <td>217.072158</td>\n      <td>801.649485</td>\n    </tr>\n    <tr>\n      <th>1</th>\n      <td>amaze</td>\n      <td>263.295057</td>\n      <td>35.870207</td>\n      <td>299.165264</td>\n    </tr>\n    <tr>\n      <th>2</th>\n      <td>amazing</td>\n      <td>130.148354</td>\n      <td>23.460664</td>\n      <td>153.609018</td>\n    </tr>\n    <tr>\n      <th>3</th>\n      <td>ask</td>\n      <td>177.826703</td>\n      <td>429.552392</td>\n      <td>607.379095</td>\n    </tr>\n    <tr>\n      <th>4</th>\n      <td>avoid</td>\n      <td>24.363321</td>\n      <td>96.895981</td>\n      <td>121.259302</td>\n    </tr>\n    <tr>\n      <th>...</th>\n      <td>...</td>\n      <td>...</td>\n      <td>...</td>\n      <td>...</td>\n    </tr>\n    <tr>\n      <th>93</th>\n      <td>wonderful</td>\n      <td>169.587852</td>\n      <td>33.637798</td>\n      <td>203.225650</td>\n    </tr>\n    <tr>\n      <th>94</th>\n      <td>wont</td>\n      <td>83.475261</td>\n      <td>208.764546</td>\n      <td>292.239806</td>\n    </tr>\n    <tr>\n      <th>95</th>\n      <td>would</td>\n      <td>374.242498</td>\n      <td>641.923482</td>\n      <td>1016.165980</td>\n    </tr>\n    <tr>\n      <th>96</th>\n      <td>wouldnt</td>\n      <td>49.226533</td>\n      <td>147.120997</td>\n      <td>196.347530</td>\n    </tr>\n    <tr>\n      <th>97</th>\n      <td>yummy</td>\n      <td>111.599064</td>\n      <td>17.792750</td>\n      <td>129.391814</td>\n    </tr>\n  </tbody>\n</table>\n<p>98 rows × 4 columns</p>\n</div>"
     },
     "execution_count": 957,
     "metadata": {},
     "output_type": "execute_result"
    }
   ],
   "source": [
    "observed_value_table"
   ]
  },
  {
   "cell_type": "code",
   "execution_count": 958,
   "metadata": {
    "execution": {
     "iopub.execute_input": "2022-09-07T20:35:03.055753Z",
     "iopub.status.busy": "2022-09-07T20:35:03.054781Z",
     "iopub.status.idle": "2022-09-07T20:35:03.064775Z",
     "shell.execute_reply": "2022-09-07T20:35:03.063483Z",
     "shell.execute_reply.started": "2022-09-07T20:35:03.055709Z"
    },
    "pycharm": {
     "name": "#%%\n"
    }
   },
   "outputs": [],
   "source": [
    "chi_sqare_expected = pd.DataFrame()"
   ]
  },
  {
   "cell_type": "markdown",
   "metadata": {
    "pycharm": {
     "name": "#%% md\n"
    }
   },
   "source": [
    "#### Calculating expected value table for chi-sqare function"
   ]
  },
  {
   "cell_type": "code",
   "execution_count": 959,
   "metadata": {
    "execution": {
     "iopub.execute_input": "2022-09-07T20:35:03.067592Z",
     "iopub.status.busy": "2022-09-07T20:35:03.066772Z",
     "iopub.status.idle": "2022-09-07T20:35:03.078695Z",
     "shell.execute_reply": "2022-09-07T20:35:03.077372Z",
     "shell.execute_reply.started": "2022-09-07T20:35:03.067551Z"
    },
    "pycharm": {
     "name": "#%%\n"
    }
   },
   "outputs": [],
   "source": [
    "def chi_sqare_value(row_totals, positive_column_total, negative_column_total, total_sum):\n",
    "    positive_chi_value = []\n",
    "    negative_chi_value = []\n",
    "    for i in range(0, len(row_totals)):\n",
    "        positive_chi_value.append((row_totals[i]*positive_column_total)/total_sum)\n",
    "        negative_chi_value.append((row_totals[i]*negative_column_total)/total_sum)\n",
    "    return positive_chi_value, negative_chi_value"
   ]
  },
  {
   "cell_type": "code",
   "execution_count": 960,
   "metadata": {
    "execution": {
     "iopub.execute_input": "2022-09-07T20:35:03.081176Z",
     "iopub.status.busy": "2022-09-07T20:35:03.080121Z",
     "iopub.status.idle": "2022-09-07T20:35:03.106872Z",
     "shell.execute_reply": "2022-09-07T20:35:03.105842Z",
     "shell.execute_reply.started": "2022-09-07T20:35:03.081136Z"
    },
    "pycharm": {
     "name": "#%%\n"
    }
   },
   "outputs": [],
   "source": [
    "row_totals = np.array(observed_value_table['total_row_count'])\n",
    "positive_column_total = observed_value_table['positive_sentiment'].sum()\n",
    "negative_column_total = observed_value_table['negative_sentiment'].sum()\n",
    "total_sum = observed_value_table['total_row_count'].sum()\n",
    "expected_positive, expected_negative = chi_sqare_value(row_totals, positive_column_total, negative_column_total, total_sum)"
   ]
  },
  {
   "cell_type": "code",
   "execution_count": 961,
   "metadata": {
    "execution": {
     "iopub.execute_input": "2022-09-07T20:35:03.108781Z",
     "iopub.status.busy": "2022-09-07T20:35:03.108211Z",
     "iopub.status.idle": "2022-09-07T20:35:03.125207Z",
     "shell.execute_reply": "2022-09-07T20:35:03.123949Z",
     "shell.execute_reply.started": "2022-09-07T20:35:03.108747Z"
    },
    "pycharm": {
     "name": "#%%\n"
    }
   },
   "outputs": [],
   "source": [
    "chi_sqare_expected['+1'] = np.array(expected_positive)\n",
    "chi_sqare_expected['-1'] = np.array(expected_negative)"
   ]
  },
  {
   "cell_type": "code",
   "execution_count": 962,
   "metadata": {
    "execution": {
     "iopub.execute_input": "2022-09-07T20:35:03.129255Z",
     "iopub.status.busy": "2022-09-07T20:35:03.128849Z",
     "iopub.status.idle": "2022-09-07T20:35:03.144918Z",
     "shell.execute_reply": "2022-09-07T20:35:03.143693Z",
     "shell.execute_reply.started": "2022-09-07T20:35:03.129222Z"
    },
    "pycharm": {
     "name": "#%%\n"
    }
   },
   "outputs": [
    {
     "data": {
      "text/plain": "            +1          -1\n0   386.274192  415.375293\n1   144.152554  155.012710\n2    74.016388   79.592630\n3   292.665153  314.713942\n4    58.428702   62.830600\n..         ...         ...\n93   97.924124  105.301526\n94  140.815527  151.424279\n95  489.638801  526.527179\n96   94.609907  101.737623\n97   62.347347   67.044467\n\n[98 rows x 2 columns]",
      "text/html": "<div>\n<style scoped>\n    .dataframe tbody tr th:only-of-type {\n        vertical-align: middle;\n    }\n\n    .dataframe tbody tr th {\n        vertical-align: top;\n    }\n\n    .dataframe thead th {\n        text-align: right;\n    }\n</style>\n<table border=\"1\" class=\"dataframe\">\n  <thead>\n    <tr style=\"text-align: right;\">\n      <th></th>\n      <th>+1</th>\n      <th>-1</th>\n    </tr>\n  </thead>\n  <tbody>\n    <tr>\n      <th>0</th>\n      <td>386.274192</td>\n      <td>415.375293</td>\n    </tr>\n    <tr>\n      <th>1</th>\n      <td>144.152554</td>\n      <td>155.012710</td>\n    </tr>\n    <tr>\n      <th>2</th>\n      <td>74.016388</td>\n      <td>79.592630</td>\n    </tr>\n    <tr>\n      <th>3</th>\n      <td>292.665153</td>\n      <td>314.713942</td>\n    </tr>\n    <tr>\n      <th>4</th>\n      <td>58.428702</td>\n      <td>62.830600</td>\n    </tr>\n    <tr>\n      <th>...</th>\n      <td>...</td>\n      <td>...</td>\n    </tr>\n    <tr>\n      <th>93</th>\n      <td>97.924124</td>\n      <td>105.301526</td>\n    </tr>\n    <tr>\n      <th>94</th>\n      <td>140.815527</td>\n      <td>151.424279</td>\n    </tr>\n    <tr>\n      <th>95</th>\n      <td>489.638801</td>\n      <td>526.527179</td>\n    </tr>\n    <tr>\n      <th>96</th>\n      <td>94.609907</td>\n      <td>101.737623</td>\n    </tr>\n    <tr>\n      <th>97</th>\n      <td>62.347347</td>\n      <td>67.044467</td>\n    </tr>\n  </tbody>\n</table>\n<p>98 rows × 2 columns</p>\n</div>"
     },
     "execution_count": 962,
     "metadata": {},
     "output_type": "execute_result"
    }
   ],
   "source": [
    "chi_sqare_expected"
   ]
  },
  {
   "cell_type": "code",
   "execution_count": 963,
   "metadata": {
    "execution": {
     "iopub.execute_input": "2022-09-07T20:35:03.146679Z",
     "iopub.status.busy": "2022-09-07T20:35:03.146315Z",
     "iopub.status.idle": "2022-09-07T20:35:03.156830Z",
     "shell.execute_reply": "2022-09-07T20:35:03.155431Z",
     "shell.execute_reply.started": "2022-09-07T20:35:03.146647Z"
    },
    "pycharm": {
     "name": "#%%\n"
    }
   },
   "outputs": [],
   "source": [
    "chi_sqare_table = pd.DataFrame()"
   ]
  },
  {
   "cell_type": "code",
   "execution_count": 964,
   "metadata": {
    "execution": {
     "iopub.execute_input": "2022-09-07T20:35:03.159129Z",
     "iopub.status.busy": "2022-09-07T20:35:03.158142Z",
     "iopub.status.idle": "2022-09-07T20:35:03.174208Z",
     "shell.execute_reply": "2022-09-07T20:35:03.173090Z",
     "shell.execute_reply.started": "2022-09-07T20:35:03.159087Z"
    },
    "pycharm": {
     "name": "#%%\n"
    }
   },
   "outputs": [],
   "source": [
    "chi_sqare_table['positiev_sentiments'] = ((observed_value_table['positive_sentiment'] - chi_sqare_expected['+1'])**2)/chi_sqare_expected['+1']\n",
    "chi_sqare_table['negatiev_sentiments'] = ((observed_value_table['negative_sentiment'] - chi_sqare_expected['-1'])**2)/chi_sqare_expected['-1']\n",
    "chi_sqare_table['sum'] = chi_sqare_table['positiev_sentiments'] + chi_sqare_table['negatiev_sentiments']"
   ]
  },
  {
   "cell_type": "code",
   "execution_count": 965,
   "metadata": {
    "execution": {
     "iopub.execute_input": "2022-09-07T20:35:03.176690Z",
     "iopub.status.busy": "2022-09-07T20:35:03.175670Z",
     "iopub.status.idle": "2022-09-07T20:35:03.192034Z",
     "shell.execute_reply": "2022-09-07T20:35:03.190935Z",
     "shell.execute_reply.started": "2022-09-07T20:35:03.176623Z"
    },
    "pycharm": {
     "name": "#%%\n"
    },
    "scrolled": true
   },
   "outputs": [
    {
     "data": {
      "text/plain": "    positiev_sentiments  negatiev_sentiments         sum\n0            101.803678            94.671335  196.475013\n1             98.471624            91.572723  190.044347\n2             42.568919            39.586550   82.155468\n3             45.061291            41.904307   86.965597\n4             19.860961            18.469507   38.330468\n..                  ...                  ...         ...\n93            52.445605            48.771277  101.216882\n94            23.349032            21.713204   45.062235\n95            27.196184            25.290825   52.487009\n96            21.769926            20.244730   42.014656\n97            38.906735            36.180938   75.087673\n\n[98 rows x 3 columns]",
      "text/html": "<div>\n<style scoped>\n    .dataframe tbody tr th:only-of-type {\n        vertical-align: middle;\n    }\n\n    .dataframe tbody tr th {\n        vertical-align: top;\n    }\n\n    .dataframe thead th {\n        text-align: right;\n    }\n</style>\n<table border=\"1\" class=\"dataframe\">\n  <thead>\n    <tr style=\"text-align: right;\">\n      <th></th>\n      <th>positiev_sentiments</th>\n      <th>negatiev_sentiments</th>\n      <th>sum</th>\n    </tr>\n  </thead>\n  <tbody>\n    <tr>\n      <th>0</th>\n      <td>101.803678</td>\n      <td>94.671335</td>\n      <td>196.475013</td>\n    </tr>\n    <tr>\n      <th>1</th>\n      <td>98.471624</td>\n      <td>91.572723</td>\n      <td>190.044347</td>\n    </tr>\n    <tr>\n      <th>2</th>\n      <td>42.568919</td>\n      <td>39.586550</td>\n      <td>82.155468</td>\n    </tr>\n    <tr>\n      <th>3</th>\n      <td>45.061291</td>\n      <td>41.904307</td>\n      <td>86.965597</td>\n    </tr>\n    <tr>\n      <th>4</th>\n      <td>19.860961</td>\n      <td>18.469507</td>\n      <td>38.330468</td>\n    </tr>\n    <tr>\n      <th>...</th>\n      <td>...</td>\n      <td>...</td>\n      <td>...</td>\n    </tr>\n    <tr>\n      <th>93</th>\n      <td>52.445605</td>\n      <td>48.771277</td>\n      <td>101.216882</td>\n    </tr>\n    <tr>\n      <th>94</th>\n      <td>23.349032</td>\n      <td>21.713204</td>\n      <td>45.062235</td>\n    </tr>\n    <tr>\n      <th>95</th>\n      <td>27.196184</td>\n      <td>25.290825</td>\n      <td>52.487009</td>\n    </tr>\n    <tr>\n      <th>96</th>\n      <td>21.769926</td>\n      <td>20.244730</td>\n      <td>42.014656</td>\n    </tr>\n    <tr>\n      <th>97</th>\n      <td>38.906735</td>\n      <td>36.180938</td>\n      <td>75.087673</td>\n    </tr>\n  </tbody>\n</table>\n<p>98 rows × 3 columns</p>\n</div>"
     },
     "execution_count": 965,
     "metadata": {},
     "output_type": "execute_result"
    }
   ],
   "source": [
    "chi_sqare_table"
   ]
  },
  {
   "cell_type": "markdown",
   "metadata": {
    "pycharm": {
     "name": "#%% md\n"
    }
   },
   "source": [
    "### Create weighted features"
   ]
  },
  {
   "cell_type": "code",
   "execution_count": 966,
   "metadata": {
    "execution": {
     "iopub.execute_input": "2022-09-07T20:35:03.196004Z",
     "iopub.status.busy": "2022-09-07T20:35:03.193471Z",
     "iopub.status.idle": "2022-09-07T20:35:03.203449Z",
     "shell.execute_reply": "2022-09-07T20:35:03.202351Z",
     "shell.execute_reply.started": "2022-09-07T20:35:03.195962Z"
    },
    "pycharm": {
     "name": "#%%\n"
    }
   },
   "outputs": [],
   "source": [
    "def generate_chi_sqare_weighted_features(train_feat_array, chi_weight):\n",
    "    new_weighted_feature= []\n",
    "    sentiments = np.array(train_feat_array)\n",
    "    for i in range(0,len(sentiments)):\n",
    "            new_weighted_feature.append(np.multiply(train_feat_array[i], chi_weight))\n",
    "    return new_weighted_feature        "
   ]
  },
  {
   "cell_type": "code",
   "execution_count": 967,
   "metadata": {
    "execution": {
     "iopub.execute_input": "2022-09-07T20:35:03.205810Z",
     "iopub.status.busy": "2022-09-07T20:35:03.205112Z",
     "iopub.status.idle": "2022-09-07T20:35:03.219302Z",
     "shell.execute_reply": "2022-09-07T20:35:03.218022Z",
     "shell.execute_reply.started": "2022-09-07T20:35:03.205763Z"
    },
    "pycharm": {
     "name": "#%%\n"
    }
   },
   "outputs": [],
   "source": [
    "def weight_unlabled_data(features, max_chi_val):\n",
    "    weighted_data = []\n",
    "    for i in range(0,len(features)):\n",
    "        weighted_data.append(np.multiply(features[i], max_chi_val))\n",
    "    return np.array(weighted_data)"
   ]
  },
  {
   "cell_type": "code",
   "execution_count": 968,
   "metadata": {
    "execution": {
     "iopub.execute_input": "2022-09-07T20:35:03.221853Z",
     "iopub.status.busy": "2022-09-07T20:35:03.220708Z",
     "iopub.status.idle": "2022-09-07T20:35:08.728666Z",
     "shell.execute_reply": "2022-09-07T20:35:08.727290Z",
     "shell.execute_reply.started": "2022-09-07T20:35:03.221803Z"
    },
    "pycharm": {
     "name": "#%%\n"
    }
   },
   "outputs": [],
   "source": [
    "chi_weight = np.array (chi_sqare_table['sum'])\n",
    "weighted_selected_feat = np.array(\n",
    "    generate_chi_sqare_weighted_features(selected_feat_array, chi_weight))"
   ]
  },
  {
   "cell_type": "code",
   "execution_count": 969,
   "metadata": {
    "pycharm": {
     "name": "#%%\n"
    }
   },
   "outputs": [
    {
     "data": {
      "text/plain": "    positiev_sentiments  negatiev_sentiments         sum\n0            101.803678            94.671335  196.475013\n1             98.471624            91.572723  190.044347\n2             42.568919            39.586550   82.155468\n3             45.061291            41.904307   86.965597\n4             19.860961            18.469507   38.330468\n..                  ...                  ...         ...\n93            52.445605            48.771277  101.216882\n94            23.349032            21.713204   45.062235\n95            27.196184            25.290825   52.487009\n96            21.769926            20.244730   42.014656\n97            38.906735            36.180938   75.087673\n\n[98 rows x 3 columns]",
      "text/html": "<div>\n<style scoped>\n    .dataframe tbody tr th:only-of-type {\n        vertical-align: middle;\n    }\n\n    .dataframe tbody tr th {\n        vertical-align: top;\n    }\n\n    .dataframe thead th {\n        text-align: right;\n    }\n</style>\n<table border=\"1\" class=\"dataframe\">\n  <thead>\n    <tr style=\"text-align: right;\">\n      <th></th>\n      <th>positiev_sentiments</th>\n      <th>negatiev_sentiments</th>\n      <th>sum</th>\n    </tr>\n  </thead>\n  <tbody>\n    <tr>\n      <th>0</th>\n      <td>101.803678</td>\n      <td>94.671335</td>\n      <td>196.475013</td>\n    </tr>\n    <tr>\n      <th>1</th>\n      <td>98.471624</td>\n      <td>91.572723</td>\n      <td>190.044347</td>\n    </tr>\n    <tr>\n      <th>2</th>\n      <td>42.568919</td>\n      <td>39.586550</td>\n      <td>82.155468</td>\n    </tr>\n    <tr>\n      <th>3</th>\n      <td>45.061291</td>\n      <td>41.904307</td>\n      <td>86.965597</td>\n    </tr>\n    <tr>\n      <th>4</th>\n      <td>19.860961</td>\n      <td>18.469507</td>\n      <td>38.330468</td>\n    </tr>\n    <tr>\n      <th>...</th>\n      <td>...</td>\n      <td>...</td>\n      <td>...</td>\n    </tr>\n    <tr>\n      <th>93</th>\n      <td>52.445605</td>\n      <td>48.771277</td>\n      <td>101.216882</td>\n    </tr>\n    <tr>\n      <th>94</th>\n      <td>23.349032</td>\n      <td>21.713204</td>\n      <td>45.062235</td>\n    </tr>\n    <tr>\n      <th>95</th>\n      <td>27.196184</td>\n      <td>25.290825</td>\n      <td>52.487009</td>\n    </tr>\n    <tr>\n      <th>96</th>\n      <td>21.769926</td>\n      <td>20.244730</td>\n      <td>42.014656</td>\n    </tr>\n    <tr>\n      <th>97</th>\n      <td>38.906735</td>\n      <td>36.180938</td>\n      <td>75.087673</td>\n    </tr>\n  </tbody>\n</table>\n<p>98 rows × 3 columns</p>\n</div>"
     },
     "execution_count": 969,
     "metadata": {},
     "output_type": "execute_result"
    }
   ],
   "source": [
    "chi_sqare_table"
   ]
  },
  {
   "cell_type": "code",
   "execution_count": 970,
   "metadata": {
    "execution": {
     "iopub.execute_input": "2022-09-07T20:35:08.730859Z",
     "iopub.status.busy": "2022-09-07T20:35:08.730451Z",
     "iopub.status.idle": "2022-09-07T20:35:09.146317Z",
     "shell.execute_reply": "2022-09-07T20:35:09.144958Z",
     "shell.execute_reply.started": "2022-09-07T20:35:08.730821Z"
    },
    "pycharm": {
     "name": "#%%\n"
    }
   },
   "outputs": [],
   "source": [
    "test_sentiments_array = np.array(test_sentiment)\n",
    "train_sentiments_array = np.array(train_sentiment)\n",
    "# chi_sqare_table['max_chi_value'] = find_max_chi_val(chi_sqare_table['positiev_sentiments'], chi_sqare_table['negatiev_sentiments'])\n",
    "weighted_test_feat = weight_unlabled_data( selected_test_array, chi_weight)\n",
    "max_neighbour =np.sqrt(int(len(weighted_selected_feat)))\n",
    "max_neighbour = np.ceil(max_neighbour)"
   ]
  },
  {
   "cell_type": "code",
   "execution_count": 971,
   "outputs": [
    {
     "name": "stdout",
     "output_type": "stream",
     "text": [
      "3\n",
      "0.8055555555555556\n",
      "4\n",
      "0.8068376068376069\n",
      "5\n",
      "0.8183760683760684\n",
      "6\n",
      "0.8209401709401709\n",
      "7\n",
      "0.8252136752136752\n",
      "8\n",
      "0.8243589743589743\n",
      "9\n",
      "0.8252136752136752\n",
      "10\n",
      "0.826068376068376\n",
      "11\n",
      "0.8311965811965812\n",
      "12\n",
      "0.8320512820512821\n",
      "13\n",
      "0.832905982905983\n",
      "14\n",
      "0.8320512820512821\n",
      "15\n",
      "0.8290598290598291\n",
      "16\n",
      "0.8311965811965812\n",
      "17\n",
      "0.8235042735042735\n",
      "18\n",
      "0.8264957264957264\n",
      "19\n",
      "0.8264957264957264\n",
      "20\n",
      "0.826068376068376\n",
      "21\n",
      "0.8243589743589743\n",
      "22\n",
      "0.826068376068376\n",
      "23\n",
      "0.8247863247863247\n",
      "24\n",
      "0.8269230769230769\n",
      "25\n",
      "0.8239316239316239\n",
      "26\n",
      "0.8256410256410256\n",
      "27\n",
      "0.8256410256410256\n",
      "28\n",
      "0.8264957264957264\n",
      "29\n",
      "0.8247863247863247\n",
      "30\n",
      "0.8277777777777777\n",
      "31\n",
      "0.8269230769230769\n",
      "32\n",
      "0.8277777777777777\n",
      "33\n",
      "0.8264957264957264\n",
      "34\n",
      "0.8264957264957264\n",
      "35\n",
      "0.8269230769230769\n",
      "36\n",
      "0.826068376068376\n",
      "37\n",
      "0.823076923076923\n",
      "38\n",
      "0.8277777777777777\n",
      "39\n",
      "0.8243589743589743\n",
      "40\n",
      "0.8277777777777777\n",
      "41\n",
      "0.8239316239316239\n",
      "42\n",
      "0.8273504273504273\n",
      "43\n",
      "0.826068376068376\n",
      "44\n",
      "0.8290598290598291\n",
      "45\n",
      "0.826068376068376\n",
      "46\n",
      "0.8252136752136752\n",
      "47\n",
      "0.8222222222222222\n",
      "48\n",
      "0.823076923076923\n",
      "49\n",
      "0.8217948717948718\n",
      "50\n",
      "0.823076923076923\n",
      "51\n",
      "0.8222222222222222\n",
      "52\n",
      "0.8213675213675213\n",
      "53\n",
      "0.8217948717948718\n",
      "54\n",
      "0.8205128205128205\n",
      "55\n",
      "0.8200854700854701\n",
      "56\n",
      "0.8222222222222222\n",
      "57\n",
      "0.8226495726495726\n",
      "58\n",
      "0.8196581196581196\n",
      "59\n",
      "0.8217948717948718\n"
     ]
    }
   ],
   "source": [
    "from sklearn.decomposition import TruncatedSVD\n",
    "from sklearn.neighbors import KNeighborsClassifier\n",
    "from sklearn import metrics\n",
    "\n",
    "track_precision=[]\n",
    "error = []\n",
    "maxi_k = -1\n",
    "curr_socre=0\n",
    "classifer_saved = KNeighborsClassifier()\n",
    "best_c=0\n",
    "# for c in range(10,93):\n",
    "#     tsdv = TruncatedSVD(n_components= c)\n",
    "#     tsdv_train = tsdv.fit_transform(weighted_selected_feat, train_sentiments_array)\n",
    "#     tsdv_test = tsdv.transform(weighted_test_feat)\n",
    "for i in range(3,60):\n",
    "    print(i)\n",
    "    classifer = KNeighborsClassifier(n_neighbors=i,n_jobs=3,weights='distance')\n",
    "    classifer.fit(selected_feat_array, train_sentiments_array)\n",
    "    sentiments_predict = classifer.predict(selected_test_array)\n",
    "    score = metrics.accuracy_score(test_sentiments_array,sentiments_predict)\n",
    "    print(score)\n",
    "    track_precision.append(score)\n",
    "    error.append(1-score)\n",
    "    if score>curr_socre:\n",
    "        curr_socre = score\n",
    "        maxi_k = i\n",
    "        classifer_saved = classifer"
   ],
   "metadata": {
    "collapsed": false,
    "pycharm": {
     "name": "#%%\n"
    }
   }
  },
  {
   "cell_type": "code",
   "execution_count": 972,
   "metadata": {
    "pycharm": {
     "name": "#%%\n"
    }
   },
   "outputs": [
    {
     "data": {
      "text/plain": "(0.832905982905983, 13)"
     },
     "execution_count": 972,
     "metadata": {},
     "output_type": "execute_result"
    }
   ],
   "source": [
    "curr_socre, maxi_k"
   ]
  },
  {
   "cell_type": "code",
   "execution_count": 857,
   "metadata": {
    "pycharm": {
     "name": "#%%\n"
    }
   },
   "outputs": [],
   "source": [
    "# from sklearn.metrics.pairwise import euclidean_distances\n",
    "# def calculate_uclidien_distance(train_data, test_data):\n",
    "#     print(\"calculate_uclidien_distance in\")\n",
    "#     uc_distance = euclidean_distances([train_data],[test_data])\n",
    "#     print(\"calculate_uclidien_distance out\")\n",
    "#     return 1/((np.sqrt(uc_distance))**2)        "
   ]
  },
  {
   "cell_type": "code",
   "execution_count": 916,
   "metadata": {
    "pycharm": {
     "name": "#%%\n"
    }
   },
   "outputs": [
    {
     "data": {
      "text/plain": "[<matplotlib.lines.Line2D at 0x2c8cc4e80>]"
     },
     "execution_count": 916,
     "metadata": {},
     "output_type": "execute_result"
    },
    {
     "data": {
      "text/plain": "<Figure size 640x480 with 1 Axes>",
      "image/png": "[encoded data removed]"
     },
     "metadata": {},
     "output_type": "display_data"
    }
   ],
   "source": [
    "plt.plot(range(3,60),track_precision)"
   ]
  },
  {
   "cell_type": "code",
   "execution_count": null,
   "metadata": {
    "pycharm": {
     "name": "#%%\n"
    }
   },
   "outputs": [],
   "source": [
    "# df = pd.DataFrame(weighted_selected_feat)"
   ]
  },
  {
   "cell_type": "code",
   "execution_count": null,
   "metadata": {
    "pycharm": {
     "name": "#%%\n"
    }
   },
   "outputs": [],
   "source": [
    "def calculate_neighbour(train_data, test_data, K):\n",
    "    \n",
    "    numpy_distances = np.array(euclidean_distances(train_data,[test_data]).flatten())\n",
    "    inv_distance = []\n",
    "        \n",
    "    indexes_by_shortest_dist = numpy_distances.argsort()   \n",
    "    \n",
    "    return indexes_by_shortest_dist"
   ]
  },
  {
   "cell_type": "code",
   "execution_count": null,
   "metadata": {
    "pycharm": {
     "name": "#%%\n"
    }
   },
   "outputs": [],
   "source": [
    "def find_majority_and_predict(train_data, test_data, train_sentiments, K):\n",
    "    \n",
    "    nearest_neighbors_indexes = calculate_neighbour(train_data, test_data, K)\n",
    "    sentiment_classes = []\n",
    "    \n",
    "    for i in nearest_neighbors_indexes:\n",
    "        sentiment_classes.append(train_sentiments[i])\n",
    "        \n",
    "    return max(sentiment_classes, key=sentiment_classes.count)"
   ]
  },
  {
   "cell_type": "code",
   "execution_count": null,
   "metadata": {
    "pycharm": {
     "name": "#%%\n"
    }
   },
   "outputs": [],
   "source": [
    "predicted_sentiments = []\n",
    "print(len(weighted_test_feat))\n",
    "for i in range(0,len(weighted_test_feat)):\n",
    "    print(i)\n",
    "    predicted_sentiments.append(find_majority_and_predict(weighted_selected_feat,weighted_test_feat[i], train_sentiments_array, 24))\n",
    "    "
   ]
  },
  {
   "cell_type": "code",
   "execution_count": null,
   "metadata": {
    "execution": {
     "iopub.status.busy": "2022-09-07T21:57:54.970066Z",
     "iopub.status.idle": "2022-09-07T21:57:54.971113Z",
     "shell.execute_reply": "2022-09-07T21:57:54.970892Z",
     "shell.execute_reply.started": "2022-09-07T21:57:54.970867Z"
    },
    "pycharm": {
     "name": "#%%\n"
    }
   },
   "outputs": [],
   "source": [
    "def find_accuracy(predicted_sentiment, real_sentiment):\n",
    "    correct_prediction = 0\n",
    "    for i in range(0,len(predicted_sentiments)):\n",
    "        if predicted_sentiment[i] == real_sentiment[i]:\n",
    "            correct_prediction += 1\n",
    "    return np.divide(correct_prediction, len(predicted_sentiment))"
   ]
  },
  {
   "cell_type": "code",
   "execution_count": null,
   "metadata": {
    "execution": {
     "iopub.status.busy": "2022-09-07T21:57:54.972155Z",
     "iopub.status.idle": "2022-09-07T21:57:54.972788Z",
     "shell.execute_reply": "2022-09-07T21:57:54.972584Z",
     "shell.execute_reply.started": "2022-09-07T21:57:54.972562Z"
    },
    "pycharm": {
     "name": "#%%\n"
    }
   },
   "outputs": [],
   "source": [
    "find_accuracy(predicted_sentiments,test_sentiments_array)"
   ]
  },
  {
   "cell_type": "code",
   "execution_count": 943,
   "metadata": {
    "execution": {
     "iopub.execute_input": "2022-09-07T19:01:57.203031Z",
     "iopub.status.busy": "2022-09-07T19:01:57.202604Z",
     "iopub.status.idle": "2022-09-07T19:03:55.374238Z",
     "shell.execute_reply": "2022-09-07T19:03:55.373068Z",
     "shell.execute_reply.started": "2022-09-07T19:01:57.202997Z"
    },
    "pycharm": {
     "name": "#%%\n"
    }
   },
   "outputs": [],
   "source": [
    "result_test_df = pd.read_csv('1661892619_9579706_test_file.csv', names=['reviews'])\n",
    "basic_cleaning(result_test_df)\n",
    "tokenize_data(result_test_df)\n",
    "result_test_df['stop_words_cleaned'] = result_test_df.words.apply(lambda word_list: remove_stopwords(word_list))\n",
    "result_test_df['lemma_word'] = result_test_df.stop_words_cleaned.apply(lambda word_list: find_lemma_word(word_list))\n",
    "result_test_df['cleaned_review'] = result_test_df.lemma_word.apply(lambda review_list: \" \".join(review_list))\n",
    "unlabeled_test_feat_matrix = selected_tf_vectorizer.transform(result_test_df['cleaned_review']).toarray()"
   ]
  },
  {
   "cell_type": "code",
   "execution_count": null,
   "metadata": {
    "pycharm": {
     "name": "#%%\n"
    }
   },
   "outputs": [],
   "source": []
  },
  {
   "cell_type": "code",
   "execution_count": 944,
   "metadata": {
    "execution": {
     "iopub.execute_input": "2022-09-07T19:04:25.997085Z",
     "iopub.status.busy": "2022-09-07T19:04:25.996619Z",
     "iopub.status.idle": "2022-09-07T19:04:26.005479Z",
     "shell.execute_reply": "2022-09-07T19:04:26.004136Z",
     "shell.execute_reply.started": "2022-09-07T19:04:25.997041Z"
    },
    "pycharm": {
     "name": "#%%\n"
    }
   },
   "outputs": [
    {
     "data": {
      "text/plain": "(18000, 98)"
     },
     "execution_count": 944,
     "metadata": {},
     "output_type": "execute_result"
    }
   ],
   "source": [
    "unlabeled_test_feat_matrix.shape"
   ]
  },
  {
   "cell_type": "code",
   "execution_count": null,
   "metadata": {
    "execution": {
     "iopub.execute_input": "2022-09-07T19:04:28.022167Z",
     "iopub.status.busy": "2022-09-07T19:04:28.021724Z",
     "iopub.status.idle": "2022-09-07T19:04:28.029780Z",
     "shell.execute_reply": "2022-09-07T19:04:28.028622Z",
     "shell.execute_reply.started": "2022-09-07T19:04:28.022131Z"
    },
    "pycharm": {
     "name": "#%%\n"
    }
   },
   "outputs": [],
   "source": [
    "# def find_max_chi_val(a,b):\n",
    "#     max_chi = []\n",
    "#     x = np.array(a)\n",
    "#     y = np.array(b)\n",
    "#     for i in range(0, len(x)):\n",
    "#         max_chi.append(max(x[i],y[i]))\n",
    "#     return np.array(max_chi)"
   ]
  },
  {
   "cell_type": "code",
   "execution_count": 291,
   "metadata": {
    "execution": {
     "iopub.execute_input": "2022-09-07T19:04:30.406942Z",
     "iopub.status.busy": "2022-09-07T19:04:30.406524Z",
     "iopub.status.idle": "2022-09-07T19:04:30.423643Z",
     "shell.execute_reply": "2022-09-07T19:04:30.422467Z",
     "shell.execute_reply.started": "2022-09-07T19:04:30.406904Z"
    },
    "pycharm": {
     "name": "#%%\n"
    }
   },
   "outputs": [
    {
     "data": {
      "text/plain": "     positiev_sentiments  negatiev_sentiments         sum\n0             100.987511            93.001330  193.988842\n1              94.951223            87.442397  182.393620\n2              42.049707            38.724379   80.774086\n3              40.112482            36.940352   77.052834\n4              15.777274            14.529594   30.306868\n..                   ...                  ...         ...\n105            52.167794            48.042319  100.210113\n106            20.704853            19.067495   39.772348\n107            23.487752            21.630320   45.118072\n108            20.752573            19.111442   39.864015\n109            38.821926            35.751854   74.573780\n\n[110 rows x 3 columns]",
      "text/html": "<div>\n<style scoped>\n    .dataframe tbody tr th:only-of-type {\n        vertical-align: middle;\n    }\n\n    .dataframe tbody tr th {\n        vertical-align: top;\n    }\n\n    .dataframe thead th {\n        text-align: right;\n    }\n</style>\n<table border=\"1\" class=\"dataframe\">\n  <thead>\n    <tr style=\"text-align: right;\">\n      <th></th>\n      <th>positiev_sentiments</th>\n      <th>negatiev_sentiments</th>\n      <th>sum</th>\n    </tr>\n  </thead>\n  <tbody>\n    <tr>\n      <th>0</th>\n      <td>100.987511</td>\n      <td>93.001330</td>\n      <td>193.988842</td>\n    </tr>\n    <tr>\n      <th>1</th>\n      <td>94.951223</td>\n      <td>87.442397</td>\n      <td>182.393620</td>\n    </tr>\n    <tr>\n      <th>2</th>\n      <td>42.049707</td>\n      <td>38.724379</td>\n      <td>80.774086</td>\n    </tr>\n    <tr>\n      <th>3</th>\n      <td>40.112482</td>\n      <td>36.940352</td>\n      <td>77.052834</td>\n    </tr>\n    <tr>\n      <th>4</th>\n      <td>15.777274</td>\n      <td>14.529594</td>\n      <td>30.306868</td>\n    </tr>\n    <tr>\n      <th>...</th>\n      <td>...</td>\n      <td>...</td>\n      <td>...</td>\n    </tr>\n    <tr>\n      <th>105</th>\n      <td>52.167794</td>\n      <td>48.042319</td>\n      <td>100.210113</td>\n    </tr>\n    <tr>\n      <th>106</th>\n      <td>20.704853</td>\n      <td>19.067495</td>\n      <td>39.772348</td>\n    </tr>\n    <tr>\n      <th>107</th>\n      <td>23.487752</td>\n      <td>21.630320</td>\n      <td>45.118072</td>\n    </tr>\n    <tr>\n      <th>108</th>\n      <td>20.752573</td>\n      <td>19.111442</td>\n      <td>39.864015</td>\n    </tr>\n    <tr>\n      <th>109</th>\n      <td>38.821926</td>\n      <td>35.751854</td>\n      <td>74.573780</td>\n    </tr>\n  </tbody>\n</table>\n<p>110 rows × 3 columns</p>\n</div>"
     },
     "execution_count": 291,
     "metadata": {},
     "output_type": "execute_result"
    }
   ],
   "source": [
    "# chi_sqare_table['max_chi_value'] = find_max_chi_val(chi_sqare_table['positiev_sentiments'], chi_sqare_table['negatiev_sentiments'])\n",
    "chi_sqare_table"
   ]
  },
  {
   "cell_type": "code",
   "execution_count": 292,
   "metadata": {
    "execution": {
     "iopub.execute_input": "2022-09-07T19:04:33.170388Z",
     "iopub.status.busy": "2022-09-07T19:04:33.169949Z",
     "iopub.status.idle": "2022-09-07T19:04:33.175903Z",
     "shell.execute_reply": "2022-09-07T19:04:33.174902Z",
     "shell.execute_reply.started": "2022-09-07T19:04:33.170337Z"
    },
    "pycharm": {
     "name": "#%%\n"
    }
   },
   "outputs": [],
   "source": [
    "def weight_unlabled_data(features, max_chi_val):\n",
    "    weighted_data = []\n",
    "    for i in range(0,len(features)):\n",
    "        weighted_data.append(np.multiply(features[i], max_chi_val))\n",
    "    return np.array(weighted_data)"
   ]
  },
  {
   "cell_type": "code",
   "execution_count": 293,
   "metadata": {
    "execution": {
     "iopub.execute_input": "2022-09-07T19:04:33.636245Z",
     "iopub.status.busy": "2022-09-07T19:04:33.634928Z",
     "iopub.status.idle": "2022-09-07T19:04:46.405924Z",
     "shell.execute_reply": "2022-09-07T19:04:46.404674Z",
     "shell.execute_reply.started": "2022-09-07T19:04:33.636181Z"
    },
    "pycharm": {
     "name": "#%%\n"
    }
   },
   "outputs": [],
   "source": [
    "unlabled_weighted_data = weight_unlabled_data(unlabeled_test_feat_matrix, chi_sqare_table['sum'])"
   ]
  },
  {
   "cell_type": "code",
   "execution_count": 294,
   "metadata": {
    "execution": {
     "iopub.execute_input": "2022-09-07T19:05:04.064425Z",
     "iopub.status.busy": "2022-09-07T19:05:04.063941Z",
     "iopub.status.idle": "2022-09-07T19:05:04.073816Z",
     "shell.execute_reply": "2022-09-07T19:05:04.072465Z",
     "shell.execute_reply.started": "2022-09-07T19:05:04.064384Z"
    },
    "pycharm": {
     "name": "#%%\n"
    }
   },
   "outputs": [
    {
     "data": {
      "text/plain": "(18000, 110)"
     },
     "execution_count": 294,
     "metadata": {},
     "output_type": "execute_result"
    }
   ],
   "source": [
    "unlabled_weighted_data.shape"
   ]
  },
  {
   "cell_type": "code",
   "execution_count": 295,
   "metadata": {
    "pycharm": {
     "name": "#%%\n"
    }
   },
   "outputs": [
    {
     "name": "stdout",
     "output_type": "stream",
     "text": [
      "18000\n",
      "0\n"
     ]
    },
    {
     "ename": "NameError",
     "evalue": "name 'find_majority_and_predict' is not defined",
     "output_type": "error",
     "traceback": [
      "\u001B[0;31m---------------------------------------------------------------------------\u001B[0m",
      "\u001B[0;31mNameError\u001B[0m                                 Traceback (most recent call last)",
      "Cell \u001B[0;32mIn [295], line 5\u001B[0m\n\u001B[1;32m      3\u001B[0m \u001B[38;5;28;01mfor\u001B[39;00m i \u001B[38;5;129;01min\u001B[39;00m \u001B[38;5;28mrange\u001B[39m(\u001B[38;5;241m0\u001B[39m,\u001B[38;5;28mlen\u001B[39m(unlabled_weighted_data)):\n\u001B[1;32m      4\u001B[0m     \u001B[38;5;28mprint\u001B[39m(i)\n\u001B[0;32m----> 5\u001B[0m     predicted_sentiments\u001B[38;5;241m.\u001B[39mappend(\u001B[43mfind_majority_and_predict\u001B[49m(weighted_selected_feat,unlabled_weighted_data[i], train_sentiments_array, \u001B[38;5;241m24\u001B[39m))\n",
      "\u001B[0;31mNameError\u001B[0m: name 'find_majority_and_predict' is not defined"
     ]
    }
   ],
   "source": [
    "predicted_sentiments = []\n",
    "print(len(unlabled_weighted_data))\n",
    "for i in range(0,len(unlabled_weighted_data)):\n",
    "    print(i)\n",
    "    predicted_sentiments.append(find_majority_and_predict(weighted_selected_feat,unlabled_weighted_data[i], train_sentiments_array, 24))\n",
    "    "
   ]
  },
  {
   "cell_type": "code",
   "execution_count": 945,
   "metadata": {
    "execution": {
     "iopub.execute_input": "2022-09-07T19:05:09.049923Z",
     "iopub.status.busy": "2022-09-07T19:05:09.049446Z",
     "iopub.status.idle": "2022-09-07T19:08:13.860420Z",
     "shell.execute_reply": "2022-09-07T19:08:13.859136Z",
     "shell.execute_reply.started": "2022-09-07T19:05:09.049820Z"
    },
    "pycharm": {
     "name": "#%%\n"
    }
   },
   "outputs": [],
   "source": [
    "predicted_values = classifer_saved.predict(unlabeled_test_feat_matrix)"
   ]
  },
  {
   "cell_type": "code",
   "execution_count": 946,
   "metadata": {
    "pycharm": {
     "name": "#%%\n"
    }
   },
   "outputs": [
    {
     "data": {
      "text/plain": "(18000,)"
     },
     "execution_count": 946,
     "metadata": {},
     "output_type": "execute_result"
    }
   ],
   "source": [
    "predicted_values.shape"
   ]
  },
  {
   "cell_type": "code",
   "execution_count": 947,
   "metadata": {
    "execution": {
     "iopub.execute_input": "2022-09-07T19:09:46.720923Z",
     "iopub.status.busy": "2022-09-07T19:09:46.720426Z",
     "iopub.status.idle": "2022-09-07T19:09:46.745897Z",
     "shell.execute_reply": "2022-09-07T19:09:46.744737Z",
     "shell.execute_reply.started": "2022-09-07T19:09:46.720883Z"
    },
    "pycharm": {
     "name": "#%%\n"
    }
   },
   "outputs": [],
   "source": [
    "import csv\n",
    "outfile = open('./results.csv','w')\n",
    "out = csv.writer(outfile)\n",
    "out.writerows(map(lambda x: [x], predicted_values))\n",
    "outfile.close()"
   ]
  },
  {
   "cell_type": "code",
   "execution_count": 948,
   "metadata": {
    "pycharm": {
     "name": "#%%\n"
    }
   },
   "outputs": [
    {
     "data": {
      "text/plain": "0.01"
     },
     "execution_count": 948,
     "metadata": {},
     "output_type": "execute_result"
    }
   ],
   "source": [
    "1/(10**2)"
   ]
  },
  {
   "cell_type": "code",
   "execution_count": null,
   "metadata": {
    "pycharm": {
     "name": "#%%\n"
    }
   },
   "outputs": [],
   "source": []
  }
 ],
 "metadata": {
  "kernelspec": {
   "display_name": "Python 3 (ipykernel)",
   "language": "python",
   "name": "python3"
  },
  "language_info": {
   "codemirror_mode": {
    "name": "ipython",
    "version": 3
   },
   "file_extension": ".py",
   "mimetype": "text/x-python",
   "name": "python",
   "nbconvert_exporter": "python",
   "pygments_lexer": "ipython3",
   "version": "3.10.6"
  }
 },
 "nbformat": 4,
 "nbformat_minor": 4
}