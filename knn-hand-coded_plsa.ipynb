{
 "cells": [
  {
   "cell_type": "code",
   "execution_count": 32,
   "outputs": [],
   "source": [
    "import pandas as pd\n",
    "import matplotlib.pyplot as plt\n",
    "import numpy as np\n",
    "import string\n",
    "import re"
   ],
   "metadata": {
    "collapsed": false,
    "pycharm": {
     "name": "#%%\n"
    }
   }
  },
  {
   "cell_type": "code",
   "execution_count": 2,
   "metadata": {
    "execution": {
     "iopub.execute_input": "2022-09-07T20:29:28.319045Z",
     "iopub.status.busy": "2022-09-07T20:29:28.318572Z",
     "iopub.status.idle": "2022-09-07T20:29:28.603267Z",
     "shell.execute_reply": "2022-09-07T20:29:28.602081Z",
     "shell.execute_reply.started": "2022-09-07T20:29:28.319011Z"
    },
    "pycharm": {
     "name": "#%%\n"
    }
   },
   "outputs": [
    {
     "ename": "FileNotFoundError",
     "evalue": "[Errno 2] No such file or directory: 'train_data.csv'",
     "output_type": "error",
     "traceback": [
      "\u001B[0;31m---------------------------------------------------------------------------\u001B[0m",
      "\u001B[0;31mFileNotFoundError\u001B[0m                         Traceback (most recent call last)",
      "Cell \u001B[0;32mIn [2], line 1\u001B[0m\n\u001B[0;32m----> 1\u001B[0m train_data \u001B[38;5;241m=\u001B[39m \u001B[43mpd\u001B[49m\u001B[38;5;241;43m.\u001B[39;49m\u001B[43mread_csv\u001B[49m\u001B[43m(\u001B[49m\u001B[38;5;124;43m\"\u001B[39;49m\u001B[38;5;124;43mtrain_data.csv\u001B[39;49m\u001B[38;5;124;43m\"\u001B[39;49m\u001B[43m,\u001B[49m\u001B[43mnames\u001B[49m\u001B[38;5;241;43m=\u001B[39;49m\u001B[43m[\u001B[49m\u001B[38;5;124;43m\"\u001B[39;49m\u001B[38;5;124;43msentiments\u001B[39;49m\u001B[38;5;124;43m\"\u001B[39;49m\u001B[43m,\u001B[49m\u001B[43m \u001B[49m\u001B[38;5;124;43m\"\u001B[39;49m\u001B[38;5;124;43mreviews\u001B[39;49m\u001B[38;5;124;43m\"\u001B[39;49m\u001B[43m]\u001B[49m\u001B[43m)\u001B[49m\n",
      "File \u001B[0;32m~/miniforge3/envs/myenv/lib/python3.10/site-packages/pandas/util/_decorators.py:311\u001B[0m, in \u001B[0;36mdeprecate_nonkeyword_arguments.<locals>.decorate.<locals>.wrapper\u001B[0;34m(*args, **kwargs)\u001B[0m\n\u001B[1;32m    305\u001B[0m \u001B[38;5;28;01mif\u001B[39;00m \u001B[38;5;28mlen\u001B[39m(args) \u001B[38;5;241m>\u001B[39m num_allow_args:\n\u001B[1;32m    306\u001B[0m     warnings\u001B[38;5;241m.\u001B[39mwarn(\n\u001B[1;32m    307\u001B[0m         msg\u001B[38;5;241m.\u001B[39mformat(arguments\u001B[38;5;241m=\u001B[39marguments),\n\u001B[1;32m    308\u001B[0m         \u001B[38;5;167;01mFutureWarning\u001B[39;00m,\n\u001B[1;32m    309\u001B[0m         stacklevel\u001B[38;5;241m=\u001B[39mstacklevel,\n\u001B[1;32m    310\u001B[0m     )\n\u001B[0;32m--> 311\u001B[0m \u001B[38;5;28;01mreturn\u001B[39;00m \u001B[43mfunc\u001B[49m\u001B[43m(\u001B[49m\u001B[38;5;241;43m*\u001B[39;49m\u001B[43margs\u001B[49m\u001B[43m,\u001B[49m\u001B[43m \u001B[49m\u001B[38;5;241;43m*\u001B[39;49m\u001B[38;5;241;43m*\u001B[39;49m\u001B[43mkwargs\u001B[49m\u001B[43m)\u001B[49m\n",
      "File \u001B[0;32m~/miniforge3/envs/myenv/lib/python3.10/site-packages/pandas/io/parsers/readers.py:678\u001B[0m, in \u001B[0;36mread_csv\u001B[0;34m(filepath_or_buffer, sep, delimiter, header, names, index_col, usecols, squeeze, prefix, mangle_dupe_cols, dtype, engine, converters, true_values, false_values, skipinitialspace, skiprows, skipfooter, nrows, na_values, keep_default_na, na_filter, verbose, skip_blank_lines, parse_dates, infer_datetime_format, keep_date_col, date_parser, dayfirst, cache_dates, iterator, chunksize, compression, thousands, decimal, lineterminator, quotechar, quoting, doublequote, escapechar, comment, encoding, encoding_errors, dialect, error_bad_lines, warn_bad_lines, on_bad_lines, delim_whitespace, low_memory, memory_map, float_precision, storage_options)\u001B[0m\n\u001B[1;32m    663\u001B[0m kwds_defaults \u001B[38;5;241m=\u001B[39m _refine_defaults_read(\n\u001B[1;32m    664\u001B[0m     dialect,\n\u001B[1;32m    665\u001B[0m     delimiter,\n\u001B[0;32m   (...)\u001B[0m\n\u001B[1;32m    674\u001B[0m     defaults\u001B[38;5;241m=\u001B[39m{\u001B[38;5;124m\"\u001B[39m\u001B[38;5;124mdelimiter\u001B[39m\u001B[38;5;124m\"\u001B[39m: \u001B[38;5;124m\"\u001B[39m\u001B[38;5;124m,\u001B[39m\u001B[38;5;124m\"\u001B[39m},\n\u001B[1;32m    675\u001B[0m )\n\u001B[1;32m    676\u001B[0m kwds\u001B[38;5;241m.\u001B[39mupdate(kwds_defaults)\n\u001B[0;32m--> 678\u001B[0m \u001B[38;5;28;01mreturn\u001B[39;00m \u001B[43m_read\u001B[49m\u001B[43m(\u001B[49m\u001B[43mfilepath_or_buffer\u001B[49m\u001B[43m,\u001B[49m\u001B[43m \u001B[49m\u001B[43mkwds\u001B[49m\u001B[43m)\u001B[49m\n",
      "File \u001B[0;32m~/miniforge3/envs/myenv/lib/python3.10/site-packages/pandas/io/parsers/readers.py:575\u001B[0m, in \u001B[0;36m_read\u001B[0;34m(filepath_or_buffer, kwds)\u001B[0m\n\u001B[1;32m    572\u001B[0m _validate_names(kwds\u001B[38;5;241m.\u001B[39mget(\u001B[38;5;124m\"\u001B[39m\u001B[38;5;124mnames\u001B[39m\u001B[38;5;124m\"\u001B[39m, \u001B[38;5;28;01mNone\u001B[39;00m))\n\u001B[1;32m    574\u001B[0m \u001B[38;5;66;03m# Create the parser.\u001B[39;00m\n\u001B[0;32m--> 575\u001B[0m parser \u001B[38;5;241m=\u001B[39m \u001B[43mTextFileReader\u001B[49m\u001B[43m(\u001B[49m\u001B[43mfilepath_or_buffer\u001B[49m\u001B[43m,\u001B[49m\u001B[43m \u001B[49m\u001B[38;5;241;43m*\u001B[39;49m\u001B[38;5;241;43m*\u001B[39;49m\u001B[43mkwds\u001B[49m\u001B[43m)\u001B[49m\n\u001B[1;32m    577\u001B[0m \u001B[38;5;28;01mif\u001B[39;00m chunksize \u001B[38;5;129;01mor\u001B[39;00m iterator:\n\u001B[1;32m    578\u001B[0m     \u001B[38;5;28;01mreturn\u001B[39;00m parser\n",
      "File \u001B[0;32m~/miniforge3/envs/myenv/lib/python3.10/site-packages/pandas/io/parsers/readers.py:932\u001B[0m, in \u001B[0;36mTextFileReader.__init__\u001B[0;34m(self, f, engine, **kwds)\u001B[0m\n\u001B[1;32m    929\u001B[0m     \u001B[38;5;28mself\u001B[39m\u001B[38;5;241m.\u001B[39moptions[\u001B[38;5;124m\"\u001B[39m\u001B[38;5;124mhas_index_names\u001B[39m\u001B[38;5;124m\"\u001B[39m] \u001B[38;5;241m=\u001B[39m kwds[\u001B[38;5;124m\"\u001B[39m\u001B[38;5;124mhas_index_names\u001B[39m\u001B[38;5;124m\"\u001B[39m]\n\u001B[1;32m    931\u001B[0m \u001B[38;5;28mself\u001B[39m\u001B[38;5;241m.\u001B[39mhandles: IOHandles \u001B[38;5;241m|\u001B[39m \u001B[38;5;28;01mNone\u001B[39;00m \u001B[38;5;241m=\u001B[39m \u001B[38;5;28;01mNone\u001B[39;00m\n\u001B[0;32m--> 932\u001B[0m \u001B[38;5;28mself\u001B[39m\u001B[38;5;241m.\u001B[39m_engine \u001B[38;5;241m=\u001B[39m \u001B[38;5;28;43mself\u001B[39;49m\u001B[38;5;241;43m.\u001B[39;49m\u001B[43m_make_engine\u001B[49m\u001B[43m(\u001B[49m\u001B[43mf\u001B[49m\u001B[43m,\u001B[49m\u001B[43m \u001B[49m\u001B[38;5;28;43mself\u001B[39;49m\u001B[38;5;241;43m.\u001B[39;49m\u001B[43mengine\u001B[49m\u001B[43m)\u001B[49m\n",
      "File \u001B[0;32m~/miniforge3/envs/myenv/lib/python3.10/site-packages/pandas/io/parsers/readers.py:1216\u001B[0m, in \u001B[0;36mTextFileReader._make_engine\u001B[0;34m(self, f, engine)\u001B[0m\n\u001B[1;32m   1212\u001B[0m     mode \u001B[38;5;241m=\u001B[39m \u001B[38;5;124m\"\u001B[39m\u001B[38;5;124mrb\u001B[39m\u001B[38;5;124m\"\u001B[39m\n\u001B[1;32m   1213\u001B[0m \u001B[38;5;66;03m# error: No overload variant of \"get_handle\" matches argument types\u001B[39;00m\n\u001B[1;32m   1214\u001B[0m \u001B[38;5;66;03m# \"Union[str, PathLike[str], ReadCsvBuffer[bytes], ReadCsvBuffer[str]]\"\u001B[39;00m\n\u001B[1;32m   1215\u001B[0m \u001B[38;5;66;03m# , \"str\", \"bool\", \"Any\", \"Any\", \"Any\", \"Any\", \"Any\"\u001B[39;00m\n\u001B[0;32m-> 1216\u001B[0m \u001B[38;5;28mself\u001B[39m\u001B[38;5;241m.\u001B[39mhandles \u001B[38;5;241m=\u001B[39m \u001B[43mget_handle\u001B[49m\u001B[43m(\u001B[49m\u001B[43m  \u001B[49m\u001B[38;5;66;43;03m# type: ignore[call-overload]\u001B[39;49;00m\n\u001B[1;32m   1217\u001B[0m \u001B[43m    \u001B[49m\u001B[43mf\u001B[49m\u001B[43m,\u001B[49m\n\u001B[1;32m   1218\u001B[0m \u001B[43m    \u001B[49m\u001B[43mmode\u001B[49m\u001B[43m,\u001B[49m\n\u001B[1;32m   1219\u001B[0m \u001B[43m    \u001B[49m\u001B[43mencoding\u001B[49m\u001B[38;5;241;43m=\u001B[39;49m\u001B[38;5;28;43mself\u001B[39;49m\u001B[38;5;241;43m.\u001B[39;49m\u001B[43moptions\u001B[49m\u001B[38;5;241;43m.\u001B[39;49m\u001B[43mget\u001B[49m\u001B[43m(\u001B[49m\u001B[38;5;124;43m\"\u001B[39;49m\u001B[38;5;124;43mencoding\u001B[39;49m\u001B[38;5;124;43m\"\u001B[39;49m\u001B[43m,\u001B[49m\u001B[43m \u001B[49m\u001B[38;5;28;43;01mNone\u001B[39;49;00m\u001B[43m)\u001B[49m\u001B[43m,\u001B[49m\n\u001B[1;32m   1220\u001B[0m \u001B[43m    \u001B[49m\u001B[43mcompression\u001B[49m\u001B[38;5;241;43m=\u001B[39;49m\u001B[38;5;28;43mself\u001B[39;49m\u001B[38;5;241;43m.\u001B[39;49m\u001B[43moptions\u001B[49m\u001B[38;5;241;43m.\u001B[39;49m\u001B[43mget\u001B[49m\u001B[43m(\u001B[49m\u001B[38;5;124;43m\"\u001B[39;49m\u001B[38;5;124;43mcompression\u001B[39;49m\u001B[38;5;124;43m\"\u001B[39;49m\u001B[43m,\u001B[49m\u001B[43m \u001B[49m\u001B[38;5;28;43;01mNone\u001B[39;49;00m\u001B[43m)\u001B[49m\u001B[43m,\u001B[49m\n\u001B[1;32m   1221\u001B[0m \u001B[43m    \u001B[49m\u001B[43mmemory_map\u001B[49m\u001B[38;5;241;43m=\u001B[39;49m\u001B[38;5;28;43mself\u001B[39;49m\u001B[38;5;241;43m.\u001B[39;49m\u001B[43moptions\u001B[49m\u001B[38;5;241;43m.\u001B[39;49m\u001B[43mget\u001B[49m\u001B[43m(\u001B[49m\u001B[38;5;124;43m\"\u001B[39;49m\u001B[38;5;124;43mmemory_map\u001B[39;49m\u001B[38;5;124;43m\"\u001B[39;49m\u001B[43m,\u001B[49m\u001B[43m \u001B[49m\u001B[38;5;28;43;01mFalse\u001B[39;49;00m\u001B[43m)\u001B[49m\u001B[43m,\u001B[49m\n\u001B[1;32m   1222\u001B[0m \u001B[43m    \u001B[49m\u001B[43mis_text\u001B[49m\u001B[38;5;241;43m=\u001B[39;49m\u001B[43mis_text\u001B[49m\u001B[43m,\u001B[49m\n\u001B[1;32m   1223\u001B[0m \u001B[43m    \u001B[49m\u001B[43merrors\u001B[49m\u001B[38;5;241;43m=\u001B[39;49m\u001B[38;5;28;43mself\u001B[39;49m\u001B[38;5;241;43m.\u001B[39;49m\u001B[43moptions\u001B[49m\u001B[38;5;241;43m.\u001B[39;49m\u001B[43mget\u001B[49m\u001B[43m(\u001B[49m\u001B[38;5;124;43m\"\u001B[39;49m\u001B[38;5;124;43mencoding_errors\u001B[39;49m\u001B[38;5;124;43m\"\u001B[39;49m\u001B[43m,\u001B[49m\u001B[43m \u001B[49m\u001B[38;5;124;43m\"\u001B[39;49m\u001B[38;5;124;43mstrict\u001B[39;49m\u001B[38;5;124;43m\"\u001B[39;49m\u001B[43m)\u001B[49m\u001B[43m,\u001B[49m\n\u001B[1;32m   1224\u001B[0m \u001B[43m    \u001B[49m\u001B[43mstorage_options\u001B[49m\u001B[38;5;241;43m=\u001B[39;49m\u001B[38;5;28;43mself\u001B[39;49m\u001B[38;5;241;43m.\u001B[39;49m\u001B[43moptions\u001B[49m\u001B[38;5;241;43m.\u001B[39;49m\u001B[43mget\u001B[49m\u001B[43m(\u001B[49m\u001B[38;5;124;43m\"\u001B[39;49m\u001B[38;5;124;43mstorage_options\u001B[39;49m\u001B[38;5;124;43m\"\u001B[39;49m\u001B[43m,\u001B[49m\u001B[43m \u001B[49m\u001B[38;5;28;43;01mNone\u001B[39;49;00m\u001B[43m)\u001B[49m\u001B[43m,\u001B[49m\n\u001B[1;32m   1225\u001B[0m \u001B[43m\u001B[49m\u001B[43m)\u001B[49m\n\u001B[1;32m   1226\u001B[0m \u001B[38;5;28;01massert\u001B[39;00m \u001B[38;5;28mself\u001B[39m\u001B[38;5;241m.\u001B[39mhandles \u001B[38;5;129;01mis\u001B[39;00m \u001B[38;5;129;01mnot\u001B[39;00m \u001B[38;5;28;01mNone\u001B[39;00m\n\u001B[1;32m   1227\u001B[0m f \u001B[38;5;241m=\u001B[39m \u001B[38;5;28mself\u001B[39m\u001B[38;5;241m.\u001B[39mhandles\u001B[38;5;241m.\u001B[39mhandle\n",
      "File \u001B[0;32m~/miniforge3/envs/myenv/lib/python3.10/site-packages/pandas/io/common.py:786\u001B[0m, in \u001B[0;36mget_handle\u001B[0;34m(path_or_buf, mode, encoding, compression, memory_map, is_text, errors, storage_options)\u001B[0m\n\u001B[1;32m    781\u001B[0m \u001B[38;5;28;01melif\u001B[39;00m \u001B[38;5;28misinstance\u001B[39m(handle, \u001B[38;5;28mstr\u001B[39m):\n\u001B[1;32m    782\u001B[0m     \u001B[38;5;66;03m# Check whether the filename is to be opened in binary mode.\u001B[39;00m\n\u001B[1;32m    783\u001B[0m     \u001B[38;5;66;03m# Binary mode does not support 'encoding' and 'newline'.\u001B[39;00m\n\u001B[1;32m    784\u001B[0m     \u001B[38;5;28;01mif\u001B[39;00m ioargs\u001B[38;5;241m.\u001B[39mencoding \u001B[38;5;129;01mand\u001B[39;00m \u001B[38;5;124m\"\u001B[39m\u001B[38;5;124mb\u001B[39m\u001B[38;5;124m\"\u001B[39m \u001B[38;5;129;01mnot\u001B[39;00m \u001B[38;5;129;01min\u001B[39;00m ioargs\u001B[38;5;241m.\u001B[39mmode:\n\u001B[1;32m    785\u001B[0m         \u001B[38;5;66;03m# Encoding\u001B[39;00m\n\u001B[0;32m--> 786\u001B[0m         handle \u001B[38;5;241m=\u001B[39m \u001B[38;5;28;43mopen\u001B[39;49m\u001B[43m(\u001B[49m\n\u001B[1;32m    787\u001B[0m \u001B[43m            \u001B[49m\u001B[43mhandle\u001B[49m\u001B[43m,\u001B[49m\n\u001B[1;32m    788\u001B[0m \u001B[43m            \u001B[49m\u001B[43mioargs\u001B[49m\u001B[38;5;241;43m.\u001B[39;49m\u001B[43mmode\u001B[49m\u001B[43m,\u001B[49m\n\u001B[1;32m    789\u001B[0m \u001B[43m            \u001B[49m\u001B[43mencoding\u001B[49m\u001B[38;5;241;43m=\u001B[39;49m\u001B[43mioargs\u001B[49m\u001B[38;5;241;43m.\u001B[39;49m\u001B[43mencoding\u001B[49m\u001B[43m,\u001B[49m\n\u001B[1;32m    790\u001B[0m \u001B[43m            \u001B[49m\u001B[43merrors\u001B[49m\u001B[38;5;241;43m=\u001B[39;49m\u001B[43merrors\u001B[49m\u001B[43m,\u001B[49m\n\u001B[1;32m    791\u001B[0m \u001B[43m            \u001B[49m\u001B[43mnewline\u001B[49m\u001B[38;5;241;43m=\u001B[39;49m\u001B[38;5;124;43m\"\u001B[39;49m\u001B[38;5;124;43m\"\u001B[39;49m\u001B[43m,\u001B[49m\n\u001B[1;32m    792\u001B[0m \u001B[43m        \u001B[49m\u001B[43m)\u001B[49m\n\u001B[1;32m    793\u001B[0m     \u001B[38;5;28;01melse\u001B[39;00m:\n\u001B[1;32m    794\u001B[0m         \u001B[38;5;66;03m# Binary mode\u001B[39;00m\n\u001B[1;32m    795\u001B[0m         handle \u001B[38;5;241m=\u001B[39m \u001B[38;5;28mopen\u001B[39m(handle, ioargs\u001B[38;5;241m.\u001B[39mmode)\n",
      "\u001B[0;31mFileNotFoundError\u001B[0m: [Errno 2] No such file or directory: 'train_data.csv'"
     ]
    }
   ],
   "source": [
    "train_data = pd.read_csv(\"train_data.csv\",names=[\"sentiments\", \"reviews\"])"
   ]
  },
  {
   "cell_type": "code",
   "execution_count": null,
   "metadata": {
    "execution": {
     "iopub.execute_input": "2022-09-07T20:29:29.703652Z",
     "iopub.status.busy": "2022-09-07T20:29:29.703190Z",
     "iopub.status.idle": "2022-09-07T20:29:30.930710Z",
     "shell.execute_reply": "2022-09-07T20:29:30.929762Z",
     "shell.execute_reply.started": "2022-09-07T20:29:29.703595Z"
    },
    "pycharm": {
     "name": "#%%\n"
    }
   },
   "outputs": [],
   "source": [
    "def basic_cleaning(data_frame):\n",
    "    data_frame['reviews'] = data_frame.reviews.apply(lambda review: review.lower())\n",
    "    data_frame['reviews'] = data_frame.reviews.apply(lambda review: review.translate(str.maketrans('', '', string.punctuation)))\n",
    "    data_frame['reviews'] = data_frame.reviews.apply(lambda review: review.translate(str.maketrans('', '', string.digits)))\n",
    "    data_frame['reviews'] = data_frame.reviews.apply(lambda review: re.sub(\"r[^a-z]\",'',review))\n",
    "\n",
    "    \n",
    "import nltk\n",
    "from nltk.tokenize import word_tokenize, sent_tokenize\n",
    "\n",
    "def tokenize_data(data_frame):\n",
    "    data_frame['words'] = data_frame.reviews.apply(lambda review: nltk.word_tokenize(review))\n",
    "\n",
    "from nltk.corpus import stopwords\n",
    "stopwords = set(stopwords.words('english'))\n",
    "\n",
    "def remove_stopwords(list):\n",
    "    stop_words_removed = []\n",
    "    for i in list:\n",
    "        if i not in stopwords:\n",
    "            stop_words_removed.append(i)\n",
    "    return stop_words_removed"
   ]
  },
  {
   "cell_type": "code",
   "execution_count": null,
   "metadata": {
    "execution": {
     "iopub.execute_input": "2022-09-07T20:29:39.969816Z",
     "iopub.status.busy": "2022-09-07T20:29:39.969420Z",
     "iopub.status.idle": "2022-09-07T20:30:27.157526Z",
     "shell.execute_reply": "2022-09-07T20:30:27.155569Z",
     "shell.execute_reply.started": "2022-09-07T20:29:39.969778Z"
    },
    "pycharm": {
     "name": "#%%\n"
    }
   },
   "outputs": [],
   "source": [
    "# nltk.download('all')\n",
    "#tag part of speech to get more accurate word during lemmatizaton\n",
    "def tag_pos(list_of_words):\n",
    "    return nltk.pos_tag(list_of_words)\n",
    "\n",
    "#extraction of lemma words after pos taggin \n",
    "from nltk.stem import WordNetLemmatizer\n",
    "lemmatizer= WordNetLemmatizer()\n",
    "\n",
    "def find_lemma_word(word):\n",
    "    lemma_words=[]\n",
    "    words_with_pos = tag_pos(word)\n",
    "    for word in words_with_pos:\n",
    "        if word[1].startswith('NN'):\n",
    "            lemma_words.append(lemmatizer.lemmatize(word[0],pos='n'))\n",
    "        elif word[1].startswith('VB'):\n",
    "            lemma_words.append(lemmatizer.lemmatize(word[0],pos='v'))\n",
    "        elif word[1].startswith('JJ'):\n",
    "            lemma_words.append(lemmatizer.lemmatize(word[0],pos='a'))\n",
    "        elif word[1].startswith('RB'):\n",
    "            lemma_words.append(lemmatizer.lemmatize(word[0],pos='r'))\n",
    "        else:\n",
    "            lemma_words.append(word[0])\n",
    "            \n",
    "    return lemma_words"
   ]
  },
  {
   "cell_type": "code",
   "execution_count": 3,
   "metadata": {
    "execution": {
     "iopub.execute_input": "2022-09-07T20:30:27.161877Z",
     "iopub.status.busy": "2022-09-07T20:30:27.161403Z",
     "iopub.status.idle": "2022-09-07T20:32:05.436075Z",
     "shell.execute_reply": "2022-09-07T20:32:05.434776Z",
     "shell.execute_reply.started": "2022-09-07T20:30:27.161838Z"
    },
    "pycharm": {
     "name": "#%%\n"
    }
   },
   "outputs": [
    {
     "ename": "NameError",
     "evalue": "name 'basic_cleaning' is not defined",
     "output_type": "error",
     "traceback": [
      "\u001B[0;31m---------------------------------------------------------------------------\u001B[0m",
      "\u001B[0;31mNameError\u001B[0m                                 Traceback (most recent call last)",
      "Cell \u001B[0;32mIn [3], line 1\u001B[0m\n\u001B[0;32m----> 1\u001B[0m \u001B[43mbasic_cleaning\u001B[49m(train_data)\n\u001B[1;32m      2\u001B[0m tokenize_data(train_data)\n\u001B[1;32m      3\u001B[0m train_data[\u001B[38;5;124m'\u001B[39m\u001B[38;5;124mstop_words_cleaned\u001B[39m\u001B[38;5;124m'\u001B[39m] \u001B[38;5;241m=\u001B[39m train_data\u001B[38;5;241m.\u001B[39mwords\u001B[38;5;241m.\u001B[39mapply(\u001B[38;5;28;01mlambda\u001B[39;00m word_list: remove_stopwords(word_list))\n",
      "\u001B[0;31mNameError\u001B[0m: name 'basic_cleaning' is not defined"
     ]
    }
   ],
   "source": [
    "basic_cleaning(train_data)\n",
    "tokenize_data(train_data)\n",
    "train_data['stop_words_cleaned'] = train_data.words.apply(lambda word_list: remove_stopwords(word_list))\n",
    "train_data['lemma_word'] = train_data.stop_words_cleaned.apply(lambda word_list: find_lemma_word(word_list))\n",
    "train_data['cleaned_review'] = train_data.lemma_word.apply(lambda review_list: \" \".join(review_list))"
   ]
  },
  {
   "cell_type": "code",
   "execution_count": 4,
   "metadata": {
    "execution": {
     "iopub.execute_input": "2022-09-07T20:32:05.439219Z",
     "iopub.status.busy": "2022-09-07T20:32:05.438473Z",
     "iopub.status.idle": "2022-09-07T20:32:05.495295Z",
     "shell.execute_reply": "2022-09-07T20:32:05.494068Z",
     "shell.execute_reply.started": "2022-09-07T20:32:05.439178Z"
    },
    "pycharm": {
     "name": "#%%\n"
    }
   },
   "outputs": [
    {
     "ename": "NameError",
     "evalue": "name 'train_data' is not defined",
     "output_type": "error",
     "traceback": [
      "\u001B[0;31m---------------------------------------------------------------------------\u001B[0m",
      "\u001B[0;31mNameError\u001B[0m                                 Traceback (most recent call last)",
      "Cell \u001B[0;32mIn [4], line 1\u001B[0m\n\u001B[0;32m----> 1\u001B[0m \u001B[43mtrain_data\u001B[49m\n",
      "\u001B[0;31mNameError\u001B[0m: name 'train_data' is not defined"
     ]
    }
   ],
   "source": [
    "train_data"
   ]
  },
  {
   "cell_type": "code",
   "execution_count": 5,
   "metadata": {
    "execution": {
     "iopub.execute_input": "2022-09-07T20:32:11.159062Z",
     "iopub.status.busy": "2022-09-07T20:32:11.158649Z",
     "iopub.status.idle": "2022-09-07T20:32:11.178064Z",
     "shell.execute_reply": "2022-09-07T20:32:11.176957Z",
     "shell.execute_reply.started": "2022-09-07T20:32:11.159019Z"
    },
    "pycharm": {
     "name": "#%%\n"
    }
   },
   "outputs": [
    {
     "ename": "NameError",
     "evalue": "name 'train_data' is not defined",
     "output_type": "error",
     "traceback": [
      "\u001B[0;31m---------------------------------------------------------------------------\u001B[0m",
      "\u001B[0;31mNameError\u001B[0m                                 Traceback (most recent call last)",
      "Cell \u001B[0;32mIn [5], line 2\u001B[0m\n\u001B[1;32m      1\u001B[0m \u001B[38;5;28;01mfrom\u001B[39;00m \u001B[38;5;21;01msklearn\u001B[39;00m\u001B[38;5;21;01m.\u001B[39;00m\u001B[38;5;21;01mmodel_selection\u001B[39;00m \u001B[38;5;28;01mimport\u001B[39;00m train_test_split\n\u001B[0;32m----> 2\u001B[0m train_review, test_review, train_sentiment, test_sentiment \u001B[38;5;241m=\u001B[39mtrain_test_split(\u001B[43mtrain_data\u001B[49m\u001B[38;5;241m.\u001B[39mcleaned_review,train_data\u001B[38;5;241m.\u001B[39msentiments,shuffle\u001B[38;5;241m=\u001B[39m\u001B[38;5;28;01mTrue\u001B[39;00m,random_state\u001B[38;5;241m=\u001B[39m\u001B[38;5;241m0\u001B[39m,stratify\u001B[38;5;241m=\u001B[39mtrain_data\u001B[38;5;241m.\u001B[39msentiments,train_size\u001B[38;5;241m=\u001B[39m\u001B[38;5;241m.85\u001B[39m)\n",
      "\u001B[0;31mNameError\u001B[0m: name 'train_data' is not defined"
     ]
    }
   ],
   "source": [
    "from sklearn.model_selection import train_test_split\n",
    "train_review, test_review, train_sentiment, test_sentiment =train_test_split(train_data.cleaned_review,train_data.sentiments,shuffle=True,random_state=0,stratify=train_data.sentiments,train_size=.85)"
   ]
  },
  {
   "cell_type": "code",
   "execution_count": 6,
   "metadata": {
    "execution": {
     "iopub.execute_input": "2022-09-07T20:32:11.924779Z",
     "iopub.status.busy": "2022-09-07T20:32:11.924343Z",
     "iopub.status.idle": "2022-09-07T20:32:17.315920Z",
     "shell.execute_reply": "2022-09-07T20:32:17.314576Z",
     "shell.execute_reply.started": "2022-09-07T20:32:11.924743Z"
    },
    "pycharm": {
     "name": "#%%\n"
    }
   },
   "outputs": [
    {
     "ename": "NameError",
     "evalue": "name 'train_review' is not defined",
     "output_type": "error",
     "traceback": [
      "\u001B[0;31m---------------------------------------------------------------------------\u001B[0m",
      "\u001B[0;31mNameError\u001B[0m                                 Traceback (most recent call last)",
      "Cell \u001B[0;32mIn [6], line 3\u001B[0m\n\u001B[1;32m      1\u001B[0m \u001B[38;5;28;01mfrom\u001B[39;00m \u001B[38;5;21;01msklearn\u001B[39;00m\u001B[38;5;21;01m.\u001B[39;00m\u001B[38;5;21;01mfeature_extraction\u001B[39;00m\u001B[38;5;21;01m.\u001B[39;00m\u001B[38;5;21;01mtext\u001B[39;00m \u001B[38;5;28;01mimport\u001B[39;00m TfidfVectorizer\n\u001B[1;32m      2\u001B[0m tf_vectorizer \u001B[38;5;241m=\u001B[39m TfidfVectorizer(min_df\u001B[38;5;241m=\u001B[39m\u001B[38;5;241m.01\u001B[39m,use_idf\u001B[38;5;241m=\u001B[39m\u001B[38;5;28;01mFalse\u001B[39;00m,ngram_range\u001B[38;5;241m=\u001B[39m(\u001B[38;5;241m1\u001B[39m,\u001B[38;5;241m2\u001B[39m))\n\u001B[0;32m----> 3\u001B[0m feature_matrix \u001B[38;5;241m=\u001B[39m tf_vectorizer\u001B[38;5;241m.\u001B[39mfit_transform(\u001B[43mtrain_review\u001B[49m)\n\u001B[1;32m      4\u001B[0m feature_array \u001B[38;5;241m=\u001B[39m feature_matrix\u001B[38;5;241m.\u001B[39mtoarray()\n",
      "\u001B[0;31mNameError\u001B[0m: name 'train_review' is not defined"
     ]
    }
   ],
   "source": [
    "from sklearn.feature_extraction.text import TfidfVectorizer\n",
    "tf_vectorizer = TfidfVectorizer(min_df=.01,use_idf=False,ngram_range=(1,2))\n",
    "feature_matrix = tf_vectorizer.fit_transform(train_review)\n",
    "feature_array = feature_matrix.toarray()"
   ]
  },
  {
   "cell_type": "code",
   "execution_count": 7,
   "metadata": {
    "execution": {
     "iopub.execute_input": "2022-09-07T20:32:17.319084Z",
     "iopub.status.busy": "2022-09-07T20:32:17.318121Z",
     "iopub.status.idle": "2022-09-07T20:32:17.418220Z",
     "shell.execute_reply": "2022-09-07T20:32:17.416994Z",
     "shell.execute_reply.started": "2022-09-07T20:32:17.319042Z"
    },
    "pycharm": {
     "name": "#%%\n"
    }
   },
   "outputs": [
    {
     "ename": "NotFittedError",
     "evalue": "Vocabulary not fitted or provided",
     "output_type": "error",
     "traceback": [
      "\u001B[0;31m---------------------------------------------------------------------------\u001B[0m",
      "\u001B[0;31mNotFittedError\u001B[0m                            Traceback (most recent call last)",
      "Cell \u001B[0;32mIn [7], line 1\u001B[0m\n\u001B[0;32m----> 1\u001B[0m vocab_list \u001B[38;5;241m=\u001B[39m \u001B[43mtf_vectorizer\u001B[49m\u001B[38;5;241;43m.\u001B[39;49m\u001B[43mget_feature_names_out\u001B[49m\u001B[43m(\u001B[49m\u001B[43m)\u001B[49m\n\u001B[1;32m      2\u001B[0m vocab_list\n",
      "File \u001B[0;32m~/miniforge3/envs/myenv/lib/python3.10/site-packages/sklearn/feature_extraction/text.py:1454\u001B[0m, in \u001B[0;36mCountVectorizer.get_feature_names_out\u001B[0;34m(self, input_features)\u001B[0m\n\u001B[1;32m   1441\u001B[0m \u001B[38;5;28;01mdef\u001B[39;00m \u001B[38;5;21mget_feature_names_out\u001B[39m(\u001B[38;5;28mself\u001B[39m, input_features\u001B[38;5;241m=\u001B[39m\u001B[38;5;28;01mNone\u001B[39;00m):\n\u001B[1;32m   1442\u001B[0m     \u001B[38;5;124;03m\"\"\"Get output feature names for transformation.\u001B[39;00m\n\u001B[1;32m   1443\u001B[0m \n\u001B[1;32m   1444\u001B[0m \u001B[38;5;124;03m    Parameters\u001B[39;00m\n\u001B[0;32m   (...)\u001B[0m\n\u001B[1;32m   1452\u001B[0m \u001B[38;5;124;03m        Transformed feature names.\u001B[39;00m\n\u001B[1;32m   1453\u001B[0m \u001B[38;5;124;03m    \"\"\"\u001B[39;00m\n\u001B[0;32m-> 1454\u001B[0m     \u001B[38;5;28;43mself\u001B[39;49m\u001B[38;5;241;43m.\u001B[39;49m\u001B[43m_check_vocabulary\u001B[49m\u001B[43m(\u001B[49m\u001B[43m)\u001B[49m\n\u001B[1;32m   1455\u001B[0m     \u001B[38;5;28;01mreturn\u001B[39;00m np\u001B[38;5;241m.\u001B[39masarray(\n\u001B[1;32m   1456\u001B[0m         [t \u001B[38;5;28;01mfor\u001B[39;00m t, i \u001B[38;5;129;01min\u001B[39;00m \u001B[38;5;28msorted\u001B[39m(\u001B[38;5;28mself\u001B[39m\u001B[38;5;241m.\u001B[39mvocabulary_\u001B[38;5;241m.\u001B[39mitems(), key\u001B[38;5;241m=\u001B[39mitemgetter(\u001B[38;5;241m1\u001B[39m))],\n\u001B[1;32m   1457\u001B[0m         dtype\u001B[38;5;241m=\u001B[39m\u001B[38;5;28mobject\u001B[39m,\n\u001B[1;32m   1458\u001B[0m     )\n",
      "File \u001B[0;32m~/miniforge3/envs/myenv/lib/python3.10/site-packages/sklearn/feature_extraction/text.py:506\u001B[0m, in \u001B[0;36m_VectorizerMixin._check_vocabulary\u001B[0;34m(self)\u001B[0m\n\u001B[1;32m    504\u001B[0m     \u001B[38;5;28mself\u001B[39m\u001B[38;5;241m.\u001B[39m_validate_vocabulary()\n\u001B[1;32m    505\u001B[0m     \u001B[38;5;28;01mif\u001B[39;00m \u001B[38;5;129;01mnot\u001B[39;00m \u001B[38;5;28mself\u001B[39m\u001B[38;5;241m.\u001B[39mfixed_vocabulary_:\n\u001B[0;32m--> 506\u001B[0m         \u001B[38;5;28;01mraise\u001B[39;00m NotFittedError(\u001B[38;5;124m\"\u001B[39m\u001B[38;5;124mVocabulary not fitted or provided\u001B[39m\u001B[38;5;124m\"\u001B[39m)\n\u001B[1;32m    508\u001B[0m \u001B[38;5;28;01mif\u001B[39;00m \u001B[38;5;28mlen\u001B[39m(\u001B[38;5;28mself\u001B[39m\u001B[38;5;241m.\u001B[39mvocabulary_) \u001B[38;5;241m==\u001B[39m \u001B[38;5;241m0\u001B[39m:\n\u001B[1;32m    509\u001B[0m     \u001B[38;5;28;01mraise\u001B[39;00m \u001B[38;5;167;01mValueError\u001B[39;00m(\u001B[38;5;124m\"\u001B[39m\u001B[38;5;124mVocabulary is empty\u001B[39m\u001B[38;5;124m\"\u001B[39m)\n",
      "\u001B[0;31mNotFittedError\u001B[0m: Vocabulary not fitted or provided"
     ]
    }
   ],
   "source": [
    "vocab_list = tf_vectorizer.get_feature_names_out()\n",
    "vocab_list"
   ]
  },
  {
   "cell_type": "markdown",
   "metadata": {
    "pycharm": {
     "name": "#%% md\n"
    }
   },
   "source": [
    "### Select K-best features"
   ]
  },
  {
   "cell_type": "code",
   "execution_count": 8,
   "metadata": {
    "execution": {
     "iopub.execute_input": "2022-09-07T20:32:19.111355Z",
     "iopub.status.busy": "2022-09-07T20:32:19.110932Z",
     "iopub.status.idle": "2022-09-07T20:32:27.029442Z",
     "shell.execute_reply": "2022-09-07T20:32:27.028516Z",
     "shell.execute_reply.started": "2022-09-07T20:32:19.111319Z"
    },
    "pycharm": {
     "name": "#%%\n"
    }
   },
   "outputs": [
    {
     "ename": "NotFittedError",
     "evalue": "Vocabulary not fitted or provided",
     "output_type": "error",
     "traceback": [
      "\u001B[0;31m---------------------------------------------------------------------------\u001B[0m",
      "\u001B[0;31mNotFittedError\u001B[0m                            Traceback (most recent call last)",
      "Cell \u001B[0;32mIn [8], line 3\u001B[0m\n\u001B[1;32m      1\u001B[0m \u001B[38;5;28;01mfrom\u001B[39;00m \u001B[38;5;21;01msklearn\u001B[39;00m\u001B[38;5;21;01m.\u001B[39;00m\u001B[38;5;21;01mfeature_selection\u001B[39;00m \u001B[38;5;28;01mimport\u001B[39;00m SelectKBest, chi2\n\u001B[0;32m----> 3\u001B[0m vocab_list \u001B[38;5;241m=\u001B[39m \u001B[43mtf_vectorizer\u001B[49m\u001B[38;5;241;43m.\u001B[39;49m\u001B[43mget_feature_names_out\u001B[49m\u001B[43m(\u001B[49m\u001B[43m)\u001B[49m\n\u001B[1;32m      5\u001B[0m select_k_best \u001B[38;5;241m=\u001B[39m SelectKBest(score_func\u001B[38;5;241m=\u001B[39mchi2, k\u001B[38;5;241m=\u001B[39m \u001B[38;5;28mint\u001B[39m(\u001B[38;5;28mlen\u001B[39m(vocab_list)\u001B[38;5;241m*\u001B[39m\u001B[38;5;241m.10\u001B[39m))\n\u001B[1;32m      6\u001B[0m train_sentiment_np_array \u001B[38;5;241m=\u001B[39m np\u001B[38;5;241m.\u001B[39marray(train_sentiment)\n",
      "File \u001B[0;32m~/miniforge3/envs/myenv/lib/python3.10/site-packages/sklearn/feature_extraction/text.py:1454\u001B[0m, in \u001B[0;36mCountVectorizer.get_feature_names_out\u001B[0;34m(self, input_features)\u001B[0m\n\u001B[1;32m   1441\u001B[0m \u001B[38;5;28;01mdef\u001B[39;00m \u001B[38;5;21mget_feature_names_out\u001B[39m(\u001B[38;5;28mself\u001B[39m, input_features\u001B[38;5;241m=\u001B[39m\u001B[38;5;28;01mNone\u001B[39;00m):\n\u001B[1;32m   1442\u001B[0m     \u001B[38;5;124;03m\"\"\"Get output feature names for transformation.\u001B[39;00m\n\u001B[1;32m   1443\u001B[0m \n\u001B[1;32m   1444\u001B[0m \u001B[38;5;124;03m    Parameters\u001B[39;00m\n\u001B[0;32m   (...)\u001B[0m\n\u001B[1;32m   1452\u001B[0m \u001B[38;5;124;03m        Transformed feature names.\u001B[39;00m\n\u001B[1;32m   1453\u001B[0m \u001B[38;5;124;03m    \"\"\"\u001B[39;00m\n\u001B[0;32m-> 1454\u001B[0m     \u001B[38;5;28;43mself\u001B[39;49m\u001B[38;5;241;43m.\u001B[39;49m\u001B[43m_check_vocabulary\u001B[49m\u001B[43m(\u001B[49m\u001B[43m)\u001B[49m\n\u001B[1;32m   1455\u001B[0m     \u001B[38;5;28;01mreturn\u001B[39;00m np\u001B[38;5;241m.\u001B[39masarray(\n\u001B[1;32m   1456\u001B[0m         [t \u001B[38;5;28;01mfor\u001B[39;00m t, i \u001B[38;5;129;01min\u001B[39;00m \u001B[38;5;28msorted\u001B[39m(\u001B[38;5;28mself\u001B[39m\u001B[38;5;241m.\u001B[39mvocabulary_\u001B[38;5;241m.\u001B[39mitems(), key\u001B[38;5;241m=\u001B[39mitemgetter(\u001B[38;5;241m1\u001B[39m))],\n\u001B[1;32m   1457\u001B[0m         dtype\u001B[38;5;241m=\u001B[39m\u001B[38;5;28mobject\u001B[39m,\n\u001B[1;32m   1458\u001B[0m     )\n",
      "File \u001B[0;32m~/miniforge3/envs/myenv/lib/python3.10/site-packages/sklearn/feature_extraction/text.py:506\u001B[0m, in \u001B[0;36m_VectorizerMixin._check_vocabulary\u001B[0;34m(self)\u001B[0m\n\u001B[1;32m    504\u001B[0m     \u001B[38;5;28mself\u001B[39m\u001B[38;5;241m.\u001B[39m_validate_vocabulary()\n\u001B[1;32m    505\u001B[0m     \u001B[38;5;28;01mif\u001B[39;00m \u001B[38;5;129;01mnot\u001B[39;00m \u001B[38;5;28mself\u001B[39m\u001B[38;5;241m.\u001B[39mfixed_vocabulary_:\n\u001B[0;32m--> 506\u001B[0m         \u001B[38;5;28;01mraise\u001B[39;00m NotFittedError(\u001B[38;5;124m\"\u001B[39m\u001B[38;5;124mVocabulary not fitted or provided\u001B[39m\u001B[38;5;124m\"\u001B[39m)\n\u001B[1;32m    508\u001B[0m \u001B[38;5;28;01mif\u001B[39;00m \u001B[38;5;28mlen\u001B[39m(\u001B[38;5;28mself\u001B[39m\u001B[38;5;241m.\u001B[39mvocabulary_) \u001B[38;5;241m==\u001B[39m \u001B[38;5;241m0\u001B[39m:\n\u001B[1;32m    509\u001B[0m     \u001B[38;5;28;01mraise\u001B[39;00m \u001B[38;5;167;01mValueError\u001B[39;00m(\u001B[38;5;124m\"\u001B[39m\u001B[38;5;124mVocabulary is empty\u001B[39m\u001B[38;5;124m\"\u001B[39m)\n",
      "\u001B[0;31mNotFittedError\u001B[0m: Vocabulary not fitted or provided"
     ]
    }
   ],
   "source": [
    "from sklearn.feature_selection import SelectKBest, chi2\n",
    "\n",
    "vocab_list = tf_vectorizer.get_feature_names_out()\n",
    "\n",
    "select_k_best = SelectKBest(score_func=chi2, k= int(len(vocab_list)*.10))\n",
    "train_sentiment_np_array = np.array(train_sentiment)\n",
    "select_k_best.fit(feature_array, train_sentiment_np_array)\n",
    "mask = select_k_best.get_support()\n",
    "k_best_feature = vocab_list[mask]\n",
    "k_best_feature"
   ]
  },
  {
   "cell_type": "code",
   "execution_count": 9,
   "metadata": {
    "execution": {
     "iopub.execute_input": "2022-09-07T20:32:28.769965Z",
     "iopub.status.busy": "2022-09-07T20:32:28.769531Z",
     "iopub.status.idle": "2022-09-07T20:32:28.776801Z",
     "shell.execute_reply": "2022-09-07T20:32:28.775579Z",
     "shell.execute_reply.started": "2022-09-07T20:32:28.769928Z"
    },
    "pycharm": {
     "name": "#%%\n"
    }
   },
   "outputs": [
    {
     "ename": "NameError",
     "evalue": "name 'k_best_feature' is not defined",
     "output_type": "error",
     "traceback": [
      "\u001B[0;31m---------------------------------------------------------------------------\u001B[0m",
      "\u001B[0;31mNameError\u001B[0m                                 Traceback (most recent call last)",
      "Cell \u001B[0;32mIn [9], line 1\u001B[0m\n\u001B[0;32m----> 1\u001B[0m \u001B[43mk_best_feature\u001B[49m\u001B[38;5;241m.\u001B[39mshape\n",
      "\u001B[0;31mNameError\u001B[0m: name 'k_best_feature' is not defined"
     ]
    }
   ],
   "source": [
    "k_best_feature.shape"
   ]
  },
  {
   "cell_type": "markdown",
   "metadata": {
    "pycharm": {
     "name": "#%% md\n"
    }
   },
   "source": [
    "### Supervised Chi-Square weight for k-best term by utilising target value"
   ]
  },
  {
   "cell_type": "code",
   "execution_count": 10,
   "metadata": {
    "execution": {
     "iopub.execute_input": "2022-09-07T20:32:32.347348Z",
     "iopub.status.busy": "2022-09-07T20:32:32.346912Z",
     "iopub.status.idle": "2022-09-07T20:32:35.727454Z",
     "shell.execute_reply": "2022-09-07T20:32:35.726405Z",
     "shell.execute_reply.started": "2022-09-07T20:32:32.347313Z"
    },
    "pycharm": {
     "name": "#%%\n"
    }
   },
   "outputs": [
    {
     "ename": "NameError",
     "evalue": "name 'k_best_feature' is not defined",
     "output_type": "error",
     "traceback": [
      "\u001B[0;31m---------------------------------------------------------------------------\u001B[0m",
      "\u001B[0;31mNameError\u001B[0m                                 Traceback (most recent call last)",
      "Cell \u001B[0;32mIn [10], line 2\u001B[0m\n\u001B[1;32m      1\u001B[0m \u001B[38;5;28;01mfrom\u001B[39;00m \u001B[38;5;21;01msklearn\u001B[39;00m\u001B[38;5;21;01m.\u001B[39;00m\u001B[38;5;21;01mfeature_extraction\u001B[39;00m\u001B[38;5;21;01m.\u001B[39;00m\u001B[38;5;21;01mtext\u001B[39;00m \u001B[38;5;28;01mimport\u001B[39;00m TfidfVectorizer\n\u001B[0;32m----> 2\u001B[0m selected_tf_vectorizer \u001B[38;5;241m=\u001B[39m TfidfVectorizer(use_idf\u001B[38;5;241m=\u001B[39m\u001B[38;5;28;01mTrue\u001B[39;00m, vocabulary\u001B[38;5;241m=\u001B[39m\u001B[43mk_best_feature\u001B[49m, sublinear_tf\u001B[38;5;241m=\u001B[39m\u001B[38;5;28;01mTrue\u001B[39;00m, ngram_range\u001B[38;5;241m=\u001B[39m(\u001B[38;5;241m1\u001B[39m,\u001B[38;5;241m2\u001B[39m))\n\u001B[1;32m      3\u001B[0m selected_feat_array \u001B[38;5;241m=\u001B[39m selected_tf_vectorizer\u001B[38;5;241m.\u001B[39mfit_transform(train_review)\u001B[38;5;241m.\u001B[39mtoarray()\n\u001B[1;32m      4\u001B[0m selected_test_array \u001B[38;5;241m=\u001B[39m selected_tf_vectorizer\u001B[38;5;241m.\u001B[39mtransform(test_review)\u001B[38;5;241m.\u001B[39mtoarray()\n",
      "\u001B[0;31mNameError\u001B[0m: name 'k_best_feature' is not defined"
     ]
    }
   ],
   "source": [
    "from sklearn.feature_extraction.text import TfidfVectorizer\n",
    "selected_tf_vectorizer = TfidfVectorizer(use_idf=True, vocabulary=k_best_feature, sublinear_tf=True, ngram_range=(1,2))\n",
    "selected_feat_array = selected_tf_vectorizer.fit_transform(train_review).toarray()\n",
    "selected_test_array = selected_tf_vectorizer.transform(test_review).toarray()\n",
    "observed_value_table = pd.DataFrame(selected_tf_vectorizer.get_feature_names_out(), columns=['features'])"
   ]
  },
  {
   "cell_type": "code",
   "execution_count": 11,
   "metadata": {
    "pycharm": {
     "name": "#%%\n"
    }
   },
   "outputs": [
    {
     "ename": "NameError",
     "evalue": "name 'selected_tf_vectorizer' is not defined",
     "output_type": "error",
     "traceback": [
      "\u001B[0;31m---------------------------------------------------------------------------\u001B[0m",
      "\u001B[0;31mNameError\u001B[0m                                 Traceback (most recent call last)",
      "Cell \u001B[0;32mIn [11], line 1\u001B[0m\n\u001B[0;32m----> 1\u001B[0m \u001B[43mselected_tf_vectorizer\u001B[49m\u001B[38;5;241m.\u001B[39mget_feature_names_out()\n",
      "\u001B[0;31mNameError\u001B[0m: name 'selected_tf_vectorizer' is not defined"
     ]
    }
   ],
   "source": [
    "selected_tf_vectorizer.get_feature_names_out()"
   ]
  },
  {
   "cell_type": "code",
   "execution_count": 12,
   "metadata": {
    "execution": {
     "iopub.execute_input": "2022-09-07T20:34:11.670458Z",
     "iopub.status.busy": "2022-09-07T20:34:11.668121Z",
     "iopub.status.idle": "2022-09-07T20:34:11.706597Z",
     "shell.execute_reply": "2022-09-07T20:34:11.705566Z",
     "shell.execute_reply.started": "2022-09-07T20:34:11.670380Z"
    },
    "pycharm": {
     "name": "#%%\n"
    }
   },
   "outputs": [
    {
     "ename": "NameError",
     "evalue": "name 'selected_feat_array' is not defined",
     "output_type": "error",
     "traceback": [
      "\u001B[0;31m---------------------------------------------------------------------------\u001B[0m",
      "\u001B[0;31mNameError\u001B[0m                                 Traceback (most recent call last)",
      "Cell \u001B[0;32mIn [12], line 1\u001B[0m\n\u001B[0;32m----> 1\u001B[0m tf_data_frame \u001B[38;5;241m=\u001B[39m pd\u001B[38;5;241m.\u001B[39mDataFrame(\u001B[43mselected_feat_array\u001B[49m,columns \u001B[38;5;241m=\u001B[39m selected_tf_vectorizer\u001B[38;5;241m.\u001B[39mget_feature_names_out())\n\u001B[1;32m      2\u001B[0m tf_data_frame[\u001B[38;5;124m'\u001B[39m\u001B[38;5;124msentiments\u001B[39m\u001B[38;5;124m'\u001B[39m] \u001B[38;5;241m=\u001B[39m np\u001B[38;5;241m.\u001B[39marray(train_sentiment)\n",
      "\u001B[0;31mNameError\u001B[0m: name 'selected_feat_array' is not defined"
     ]
    }
   ],
   "source": [
    "tf_data_frame = pd.DataFrame(selected_feat_array,columns = selected_tf_vectorizer.get_feature_names_out())\n",
    "tf_data_frame['sentiments'] = np.array(train_sentiment)"
   ]
  },
  {
   "cell_type": "code",
   "execution_count": 13,
   "metadata": {
    "execution": {
     "iopub.execute_input": "2022-09-07T20:34:14.696840Z",
     "iopub.status.busy": "2022-09-07T20:34:14.696415Z",
     "iopub.status.idle": "2022-09-07T20:34:40.132403Z",
     "shell.execute_reply": "2022-09-07T20:34:40.131197Z",
     "shell.execute_reply.started": "2022-09-07T20:34:14.696802Z"
    },
    "pycharm": {
     "name": "#%%\n"
    }
   },
   "outputs": [
    {
     "ename": "NameError",
     "evalue": "name 'observed_value_table' is not defined",
     "output_type": "error",
     "traceback": [
      "\u001B[0;31m---------------------------------------------------------------------------\u001B[0m",
      "\u001B[0;31mNameError\u001B[0m                                 Traceback (most recent call last)",
      "Cell \u001B[0;32mIn [13], line 1\u001B[0m\n\u001B[0;32m----> 1\u001B[0m observed_value_table[\u001B[38;5;124m'\u001B[39m\u001B[38;5;124mpositive_sentiment\u001B[39m\u001B[38;5;124m'\u001B[39m] \u001B[38;5;241m=\u001B[39m \u001B[43mobserved_value_table\u001B[49m\u001B[38;5;241m.\u001B[39mfeatures\u001B[38;5;241m.\u001B[39mapply(\u001B[38;5;28;01mlambda\u001B[39;00m feature: tf_data_frame\u001B[38;5;241m.\u001B[39mloc[tf_data_frame[\u001B[38;5;124m'\u001B[39m\u001B[38;5;124msentiments\u001B[39m\u001B[38;5;124m'\u001B[39m]\u001B[38;5;241m==\u001B[39m\u001B[38;5;241m1\u001B[39m,feature]\u001B[38;5;241m.\u001B[39msum())\n",
      "\u001B[0;31mNameError\u001B[0m: name 'observed_value_table' is not defined"
     ]
    }
   ],
   "source": [
    "observed_value_table['positive_sentiment'] = observed_value_table.features.apply(lambda feature: tf_data_frame.loc[tf_data_frame['sentiments']==1,feature].sum())"
   ]
  },
  {
   "cell_type": "code",
   "execution_count": 14,
   "metadata": {
    "execution": {
     "iopub.execute_input": "2022-09-07T20:34:40.135006Z",
     "iopub.status.busy": "2022-09-07T20:34:40.134518Z",
     "iopub.status.idle": "2022-09-07T20:35:02.960677Z",
     "shell.execute_reply": "2022-09-07T20:35:02.959429Z",
     "shell.execute_reply.started": "2022-09-07T20:34:40.134957Z"
    },
    "pycharm": {
     "name": "#%%\n"
    }
   },
   "outputs": [
    {
     "ename": "NameError",
     "evalue": "name 'observed_value_table' is not defined",
     "output_type": "error",
     "traceback": [
      "\u001B[0;31m---------------------------------------------------------------------------\u001B[0m",
      "\u001B[0;31mNameError\u001B[0m                                 Traceback (most recent call last)",
      "Cell \u001B[0;32mIn [14], line 1\u001B[0m\n\u001B[0;32m----> 1\u001B[0m observed_value_table[\u001B[38;5;124m'\u001B[39m\u001B[38;5;124mnegative_sentiment\u001B[39m\u001B[38;5;124m'\u001B[39m] \u001B[38;5;241m=\u001B[39m \u001B[43mobserved_value_table\u001B[49m\u001B[38;5;241m.\u001B[39mfeatures\u001B[38;5;241m.\u001B[39mapply(\u001B[38;5;28;01mlambda\u001B[39;00m feature: tf_data_frame\u001B[38;5;241m.\u001B[39mloc[tf_data_frame[\u001B[38;5;124m'\u001B[39m\u001B[38;5;124msentiments\u001B[39m\u001B[38;5;124m'\u001B[39m]\u001B[38;5;241m==\u001B[39m\u001B[38;5;241m-\u001B[39m\u001B[38;5;241m1\u001B[39m,feature]\u001B[38;5;241m.\u001B[39msum())\n",
      "\u001B[0;31mNameError\u001B[0m: name 'observed_value_table' is not defined"
     ]
    }
   ],
   "source": [
    "observed_value_table['negative_sentiment'] = observed_value_table.features.apply(lambda feature: tf_data_frame.loc[tf_data_frame['sentiments']==-1,feature].sum())"
   ]
  },
  {
   "cell_type": "code",
   "execution_count": 15,
   "metadata": {
    "execution": {
     "iopub.execute_input": "2022-09-07T20:35:02.962451Z",
     "iopub.status.busy": "2022-09-07T20:35:02.962084Z",
     "iopub.status.idle": "2022-09-07T20:35:02.970071Z",
     "shell.execute_reply": "2022-09-07T20:35:02.968834Z",
     "shell.execute_reply.started": "2022-09-07T20:35:02.962418Z"
    },
    "pycharm": {
     "name": "#%%\n"
    }
   },
   "outputs": [
    {
     "ename": "NameError",
     "evalue": "name 'observed_value_table' is not defined",
     "output_type": "error",
     "traceback": [
      "\u001B[0;31m---------------------------------------------------------------------------\u001B[0m",
      "\u001B[0;31mNameError\u001B[0m                                 Traceback (most recent call last)",
      "Cell \u001B[0;32mIn [15], line 1\u001B[0m\n\u001B[0;32m----> 1\u001B[0m observed_value_table[\u001B[38;5;124m'\u001B[39m\u001B[38;5;124mtotal_row_count\u001B[39m\u001B[38;5;124m'\u001B[39m] \u001B[38;5;241m=\u001B[39m \u001B[43mobserved_value_table\u001B[49m[\u001B[38;5;124m'\u001B[39m\u001B[38;5;124mpositive_sentiment\u001B[39m\u001B[38;5;124m'\u001B[39m] \u001B[38;5;241m+\u001B[39m observed_value_table[\u001B[38;5;124m'\u001B[39m\u001B[38;5;124mnegative_sentiment\u001B[39m\u001B[38;5;124m'\u001B[39m]\n",
      "\u001B[0;31mNameError\u001B[0m: name 'observed_value_table' is not defined"
     ]
    }
   ],
   "source": [
    "observed_value_table['total_row_count'] = observed_value_table['positive_sentiment'] + observed_value_table['negative_sentiment']"
   ]
  },
  {
   "cell_type": "code",
   "execution_count": 16,
   "metadata": {
    "execution": {
     "iopub.execute_input": "2022-09-07T20:35:02.973552Z",
     "iopub.status.busy": "2022-09-07T20:35:02.973134Z",
     "iopub.status.idle": "2022-09-07T20:35:03.035423Z",
     "shell.execute_reply": "2022-09-07T20:35:03.034183Z",
     "shell.execute_reply.started": "2022-09-07T20:35:02.973513Z"
    },
    "pycharm": {
     "name": "#%%\n"
    }
   },
   "outputs": [
    {
     "ename": "NameError",
     "evalue": "name 'tf_data_frame' is not defined",
     "output_type": "error",
     "traceback": [
      "\u001B[0;31m---------------------------------------------------------------------------\u001B[0m",
      "\u001B[0;31mNameError\u001B[0m                                 Traceback (most recent call last)",
      "Cell \u001B[0;32mIn [16], line 1\u001B[0m\n\u001B[0;32m----> 1\u001B[0m \u001B[43mtf_data_frame\u001B[49m[\u001B[38;5;124m'\u001B[39m\u001B[38;5;124mreally good\u001B[39m\u001B[38;5;124m'\u001B[39m]\u001B[38;5;241m.\u001B[39msum()\n",
      "\u001B[0;31mNameError\u001B[0m: name 'tf_data_frame' is not defined"
     ]
    }
   ],
   "source": [
    "tf_data_frame['really good'].sum()"
   ]
  },
  {
   "cell_type": "code",
   "execution_count": 17,
   "metadata": {
    "execution": {
     "iopub.execute_input": "2022-09-07T20:35:03.037783Z",
     "iopub.status.busy": "2022-09-07T20:35:03.036962Z",
     "iopub.status.idle": "2022-09-07T20:35:03.053341Z",
     "shell.execute_reply": "2022-09-07T20:35:03.052383Z",
     "shell.execute_reply.started": "2022-09-07T20:35:03.037745Z"
    },
    "pycharm": {
     "name": "#%%\n"
    }
   },
   "outputs": [
    {
     "ename": "NameError",
     "evalue": "name 'observed_value_table' is not defined",
     "output_type": "error",
     "traceback": [
      "\u001B[0;31m---------------------------------------------------------------------------\u001B[0m",
      "\u001B[0;31mNameError\u001B[0m                                 Traceback (most recent call last)",
      "Cell \u001B[0;32mIn [17], line 1\u001B[0m\n\u001B[0;32m----> 1\u001B[0m \u001B[43mobserved_value_table\u001B[49m\n",
      "\u001B[0;31mNameError\u001B[0m: name 'observed_value_table' is not defined"
     ]
    }
   ],
   "source": [
    "observed_value_table"
   ]
  },
  {
   "cell_type": "code",
   "execution_count": 18,
   "metadata": {
    "execution": {
     "iopub.execute_input": "2022-09-07T20:35:03.055753Z",
     "iopub.status.busy": "2022-09-07T20:35:03.054781Z",
     "iopub.status.idle": "2022-09-07T20:35:03.064775Z",
     "shell.execute_reply": "2022-09-07T20:35:03.063483Z",
     "shell.execute_reply.started": "2022-09-07T20:35:03.055709Z"
    },
    "pycharm": {
     "name": "#%%\n"
    }
   },
   "outputs": [],
   "source": [
    "chi_sqare_expected = pd.DataFrame()"
   ]
  },
  {
   "cell_type": "markdown",
   "metadata": {
    "pycharm": {
     "name": "#%% md\n"
    }
   },
   "source": [
    "#### Calculating expected value table for chi-sqare function"
   ]
  },
  {
   "cell_type": "code",
   "execution_count": 19,
   "metadata": {
    "execution": {
     "iopub.execute_input": "2022-09-07T20:35:03.067592Z",
     "iopub.status.busy": "2022-09-07T20:35:03.066772Z",
     "iopub.status.idle": "2022-09-07T20:35:03.078695Z",
     "shell.execute_reply": "2022-09-07T20:35:03.077372Z",
     "shell.execute_reply.started": "2022-09-07T20:35:03.067551Z"
    },
    "pycharm": {
     "name": "#%%\n"
    }
   },
   "outputs": [],
   "source": [
    "def chi_sqare_value(row_totals, positive_column_total, negative_column_total, total_sum):\n",
    "    positive_chi_value = []\n",
    "    negative_chi_value = []\n",
    "    for i in range(0, len(row_totals)):\n",
    "        positive_chi_value.append((row_totals[i]*positive_column_total)/total_sum)\n",
    "        negative_chi_value.append((row_totals[i]*negative_column_total)/total_sum)\n",
    "    return positive_chi_value, negative_chi_value"
   ]
  },
  {
   "cell_type": "code",
   "execution_count": 20,
   "metadata": {
    "execution": {
     "iopub.execute_input": "2022-09-07T20:35:03.081176Z",
     "iopub.status.busy": "2022-09-07T20:35:03.080121Z",
     "iopub.status.idle": "2022-09-07T20:35:03.106872Z",
     "shell.execute_reply": "2022-09-07T20:35:03.105842Z",
     "shell.execute_reply.started": "2022-09-07T20:35:03.081136Z"
    },
    "pycharm": {
     "name": "#%%\n"
    }
   },
   "outputs": [
    {
     "ename": "NameError",
     "evalue": "name 'observed_value_table' is not defined",
     "output_type": "error",
     "traceback": [
      "\u001B[0;31m---------------------------------------------------------------------------\u001B[0m",
      "\u001B[0;31mNameError\u001B[0m                                 Traceback (most recent call last)",
      "Cell \u001B[0;32mIn [20], line 1\u001B[0m\n\u001B[0;32m----> 1\u001B[0m row_totals \u001B[38;5;241m=\u001B[39m np\u001B[38;5;241m.\u001B[39marray(\u001B[43mobserved_value_table\u001B[49m[\u001B[38;5;124m'\u001B[39m\u001B[38;5;124mtotal_row_count\u001B[39m\u001B[38;5;124m'\u001B[39m])\n\u001B[1;32m      2\u001B[0m positive_column_total \u001B[38;5;241m=\u001B[39m observed_value_table[\u001B[38;5;124m'\u001B[39m\u001B[38;5;124mpositive_sentiment\u001B[39m\u001B[38;5;124m'\u001B[39m]\u001B[38;5;241m.\u001B[39msum()\n\u001B[1;32m      3\u001B[0m negative_column_total \u001B[38;5;241m=\u001B[39m observed_value_table[\u001B[38;5;124m'\u001B[39m\u001B[38;5;124mnegative_sentiment\u001B[39m\u001B[38;5;124m'\u001B[39m]\u001B[38;5;241m.\u001B[39msum()\n",
      "\u001B[0;31mNameError\u001B[0m: name 'observed_value_table' is not defined"
     ]
    }
   ],
   "source": [
    "row_totals = np.array(observed_value_table['total_row_count'])\n",
    "positive_column_total = observed_value_table['positive_sentiment'].sum()\n",
    "negative_column_total = observed_value_table['negative_sentiment'].sum()\n",
    "total_sum = observed_value_table['total_row_count'].sum()\n",
    "expected_positive, expected_negative = chi_sqare_value(row_totals, positive_column_total, negative_column_total, total_sum)"
   ]
  },
  {
   "cell_type": "code",
   "execution_count": 21,
   "metadata": {
    "execution": {
     "iopub.execute_input": "2022-09-07T20:35:03.108781Z",
     "iopub.status.busy": "2022-09-07T20:35:03.108211Z",
     "iopub.status.idle": "2022-09-07T20:35:03.125207Z",
     "shell.execute_reply": "2022-09-07T20:35:03.123949Z",
     "shell.execute_reply.started": "2022-09-07T20:35:03.108747Z"
    },
    "pycharm": {
     "name": "#%%\n"
    }
   },
   "outputs": [
    {
     "ename": "NameError",
     "evalue": "name 'expected_positive' is not defined",
     "output_type": "error",
     "traceback": [
      "\u001B[0;31m---------------------------------------------------------------------------\u001B[0m",
      "\u001B[0;31mNameError\u001B[0m                                 Traceback (most recent call last)",
      "Cell \u001B[0;32mIn [21], line 1\u001B[0m\n\u001B[0;32m----> 1\u001B[0m chi_sqare_expected[\u001B[38;5;124m'\u001B[39m\u001B[38;5;124m+1\u001B[39m\u001B[38;5;124m'\u001B[39m] \u001B[38;5;241m=\u001B[39m np\u001B[38;5;241m.\u001B[39marray(\u001B[43mexpected_positive\u001B[49m)\n\u001B[1;32m      2\u001B[0m chi_sqare_expected[\u001B[38;5;124m'\u001B[39m\u001B[38;5;124m-1\u001B[39m\u001B[38;5;124m'\u001B[39m] \u001B[38;5;241m=\u001B[39m np\u001B[38;5;241m.\u001B[39marray(expected_negative)\n",
      "\u001B[0;31mNameError\u001B[0m: name 'expected_positive' is not defined"
     ]
    }
   ],
   "source": [
    "chi_sqare_expected['+1'] = np.array(expected_positive)\n",
    "chi_sqare_expected['-1'] = np.array(expected_negative)"
   ]
  },
  {
   "cell_type": "code",
   "execution_count": 22,
   "metadata": {
    "execution": {
     "iopub.execute_input": "2022-09-07T20:35:03.129255Z",
     "iopub.status.busy": "2022-09-07T20:35:03.128849Z",
     "iopub.status.idle": "2022-09-07T20:35:03.144918Z",
     "shell.execute_reply": "2022-09-07T20:35:03.143693Z",
     "shell.execute_reply.started": "2022-09-07T20:35:03.129222Z"
    },
    "pycharm": {
     "name": "#%%\n"
    }
   },
   "outputs": [
    {
     "data": {
      "text/plain": "Empty DataFrame\nColumns: []\nIndex: []",
      "text/html": "<div>\n<style scoped>\n    .dataframe tbody tr th:only-of-type {\n        vertical-align: middle;\n    }\n\n    .dataframe tbody tr th {\n        vertical-align: top;\n    }\n\n    .dataframe thead th {\n        text-align: right;\n    }\n</style>\n<table border=\"1\" class=\"dataframe\">\n  <thead>\n    <tr style=\"text-align: right;\">\n      <th></th>\n    </tr>\n  </thead>\n  <tbody>\n  </tbody>\n</table>\n</div>"
     },
     "execution_count": 22,
     "metadata": {},
     "output_type": "execute_result"
    }
   ],
   "source": [
    "chi_sqare_expected"
   ]
  },
  {
   "cell_type": "code",
   "execution_count": 23,
   "metadata": {
    "execution": {
     "iopub.execute_input": "2022-09-07T20:35:03.146679Z",
     "iopub.status.busy": "2022-09-07T20:35:03.146315Z",
     "iopub.status.idle": "2022-09-07T20:35:03.156830Z",
     "shell.execute_reply": "2022-09-07T20:35:03.155431Z",
     "shell.execute_reply.started": "2022-09-07T20:35:03.146647Z"
    },
    "pycharm": {
     "name": "#%%\n"
    }
   },
   "outputs": [],
   "source": [
    "chi_sqare_table = pd.DataFrame()"
   ]
  },
  {
   "cell_type": "code",
   "execution_count": 24,
   "metadata": {
    "execution": {
     "iopub.execute_input": "2022-09-07T20:35:03.159129Z",
     "iopub.status.busy": "2022-09-07T20:35:03.158142Z",
     "iopub.status.idle": "2022-09-07T20:35:03.174208Z",
     "shell.execute_reply": "2022-09-07T20:35:03.173090Z",
     "shell.execute_reply.started": "2022-09-07T20:35:03.159087Z"
    },
    "pycharm": {
     "name": "#%%\n"
    }
   },
   "outputs": [
    {
     "ename": "NameError",
     "evalue": "name 'observed_value_table' is not defined",
     "output_type": "error",
     "traceback": [
      "\u001B[0;31m---------------------------------------------------------------------------\u001B[0m",
      "\u001B[0;31mNameError\u001B[0m                                 Traceback (most recent call last)",
      "Cell \u001B[0;32mIn [24], line 1\u001B[0m\n\u001B[0;32m----> 1\u001B[0m chi_sqare_table[\u001B[38;5;124m'\u001B[39m\u001B[38;5;124mpositiev_sentiments\u001B[39m\u001B[38;5;124m'\u001B[39m] \u001B[38;5;241m=\u001B[39m ((\u001B[43mobserved_value_table\u001B[49m[\u001B[38;5;124m'\u001B[39m\u001B[38;5;124mpositive_sentiment\u001B[39m\u001B[38;5;124m'\u001B[39m] \u001B[38;5;241m-\u001B[39m chi_sqare_expected[\u001B[38;5;124m'\u001B[39m\u001B[38;5;124m+1\u001B[39m\u001B[38;5;124m'\u001B[39m])\u001B[38;5;241m*\u001B[39m\u001B[38;5;241m*\u001B[39m\u001B[38;5;241m2\u001B[39m)\u001B[38;5;241m/\u001B[39mchi_sqare_expected[\u001B[38;5;124m'\u001B[39m\u001B[38;5;124m+1\u001B[39m\u001B[38;5;124m'\u001B[39m]\n\u001B[1;32m      2\u001B[0m chi_sqare_table[\u001B[38;5;124m'\u001B[39m\u001B[38;5;124mnegatiev_sentiments\u001B[39m\u001B[38;5;124m'\u001B[39m] \u001B[38;5;241m=\u001B[39m ((observed_value_table[\u001B[38;5;124m'\u001B[39m\u001B[38;5;124mnegative_sentiment\u001B[39m\u001B[38;5;124m'\u001B[39m] \u001B[38;5;241m-\u001B[39m chi_sqare_expected[\u001B[38;5;124m'\u001B[39m\u001B[38;5;124m-1\u001B[39m\u001B[38;5;124m'\u001B[39m])\u001B[38;5;241m*\u001B[39m\u001B[38;5;241m*\u001B[39m\u001B[38;5;241m2\u001B[39m)\u001B[38;5;241m/\u001B[39mchi_sqare_expected[\u001B[38;5;124m'\u001B[39m\u001B[38;5;124m-1\u001B[39m\u001B[38;5;124m'\u001B[39m]\n\u001B[1;32m      3\u001B[0m chi_sqare_table[\u001B[38;5;124m'\u001B[39m\u001B[38;5;124msum\u001B[39m\u001B[38;5;124m'\u001B[39m] \u001B[38;5;241m=\u001B[39m chi_sqare_table[\u001B[38;5;124m'\u001B[39m\u001B[38;5;124mpositiev_sentiments\u001B[39m\u001B[38;5;124m'\u001B[39m] \u001B[38;5;241m+\u001B[39m chi_sqare_table[\u001B[38;5;124m'\u001B[39m\u001B[38;5;124mnegatiev_sentiments\u001B[39m\u001B[38;5;124m'\u001B[39m]\n",
      "\u001B[0;31mNameError\u001B[0m: name 'observed_value_table' is not defined"
     ]
    }
   ],
   "source": [
    "chi_sqare_table['positiev_sentiments'] = ((observed_value_table['positive_sentiment'] - chi_sqare_expected['+1'])**2)/chi_sqare_expected['+1']\n",
    "chi_sqare_table['negatiev_sentiments'] = ((observed_value_table['negative_sentiment'] - chi_sqare_expected['-1'])**2)/chi_sqare_expected['-1']\n",
    "chi_sqare_table['sum'] = chi_sqare_table['positiev_sentiments'] + chi_sqare_table['negatiev_sentiments']"
   ]
  },
  {
   "cell_type": "code",
   "execution_count": 25,
   "metadata": {
    "execution": {
     "iopub.execute_input": "2022-09-07T20:35:03.176690Z",
     "iopub.status.busy": "2022-09-07T20:35:03.175670Z",
     "iopub.status.idle": "2022-09-07T20:35:03.192034Z",
     "shell.execute_reply": "2022-09-07T20:35:03.190935Z",
     "shell.execute_reply.started": "2022-09-07T20:35:03.176623Z"
    },
    "pycharm": {
     "name": "#%%\n"
    },
    "scrolled": true
   },
   "outputs": [
    {
     "data": {
      "text/plain": "Empty DataFrame\nColumns: []\nIndex: []",
      "text/html": "<div>\n<style scoped>\n    .dataframe tbody tr th:only-of-type {\n        vertical-align: middle;\n    }\n\n    .dataframe tbody tr th {\n        vertical-align: top;\n    }\n\n    .dataframe thead th {\n        text-align: right;\n    }\n</style>\n<table border=\"1\" class=\"dataframe\">\n  <thead>\n    <tr style=\"text-align: right;\">\n      <th></th>\n    </tr>\n  </thead>\n  <tbody>\n  </tbody>\n</table>\n</div>"
     },
     "execution_count": 25,
     "metadata": {},
     "output_type": "execute_result"
    }
   ],
   "source": [
    "chi_sqare_table"
   ]
  },
  {
   "cell_type": "markdown",
   "metadata": {
    "pycharm": {
     "name": "#%% md\n"
    }
   },
   "source": [
    "### Create weighted features"
   ]
  },
  {
   "cell_type": "code",
   "execution_count": 26,
   "metadata": {
    "execution": {
     "iopub.execute_input": "2022-09-07T20:35:03.196004Z",
     "iopub.status.busy": "2022-09-07T20:35:03.193471Z",
     "iopub.status.idle": "2022-09-07T20:35:03.203449Z",
     "shell.execute_reply": "2022-09-07T20:35:03.202351Z",
     "shell.execute_reply.started": "2022-09-07T20:35:03.195962Z"
    },
    "pycharm": {
     "name": "#%%\n"
    }
   },
   "outputs": [],
   "source": [
    "def generate_chi_sqare_weighted_features(train_feat_array, chi_weight):\n",
    "    new_weighted_feature= []\n",
    "    sentiments = np.array(train_feat_array)\n",
    "    for i in range(0,len(sentiments)):\n",
    "            new_weighted_feature.append(np.multiply(train_feat_array[i], chi_weight))\n",
    "    return new_weighted_feature        "
   ]
  },
  {
   "cell_type": "code",
   "execution_count": 27,
   "metadata": {
    "execution": {
     "iopub.execute_input": "2022-09-07T20:35:03.205810Z",
     "iopub.status.busy": "2022-09-07T20:35:03.205112Z",
     "iopub.status.idle": "2022-09-07T20:35:03.219302Z",
     "shell.execute_reply": "2022-09-07T20:35:03.218022Z",
     "shell.execute_reply.started": "2022-09-07T20:35:03.205763Z"
    },
    "pycharm": {
     "name": "#%%\n"
    }
   },
   "outputs": [],
   "source": [
    "def weight_unlabled_data(features, max_chi_val):\n",
    "    weighted_data = []\n",
    "    for i in range(0,len(features)):\n",
    "        weighted_data.append(np.multiply(features[i], max_chi_val))\n",
    "    return np.array(weighted_data)"
   ]
  },
  {
   "cell_type": "code",
   "execution_count": 28,
   "metadata": {
    "execution": {
     "iopub.execute_input": "2022-09-07T20:35:03.221853Z",
     "iopub.status.busy": "2022-09-07T20:35:03.220708Z",
     "iopub.status.idle": "2022-09-07T20:35:08.728666Z",
     "shell.execute_reply": "2022-09-07T20:35:08.727290Z",
     "shell.execute_reply.started": "2022-09-07T20:35:03.221803Z"
    },
    "pycharm": {
     "name": "#%%\n"
    }
   },
   "outputs": [
    {
     "ename": "KeyError",
     "evalue": "'sum'",
     "output_type": "error",
     "traceback": [
      "\u001B[0;31m---------------------------------------------------------------------------\u001B[0m",
      "\u001B[0;31mKeyError\u001B[0m                                  Traceback (most recent call last)",
      "File \u001B[0;32m~/miniforge3/envs/myenv/lib/python3.10/site-packages/pandas/core/indexes/base.py:3629\u001B[0m, in \u001B[0;36mIndex.get_loc\u001B[0;34m(self, key, method, tolerance)\u001B[0m\n\u001B[1;32m   3628\u001B[0m \u001B[38;5;28;01mtry\u001B[39;00m:\n\u001B[0;32m-> 3629\u001B[0m     \u001B[38;5;28;01mreturn\u001B[39;00m \u001B[38;5;28;43mself\u001B[39;49m\u001B[38;5;241;43m.\u001B[39;49m\u001B[43m_engine\u001B[49m\u001B[38;5;241;43m.\u001B[39;49m\u001B[43mget_loc\u001B[49m\u001B[43m(\u001B[49m\u001B[43mcasted_key\u001B[49m\u001B[43m)\u001B[49m\n\u001B[1;32m   3630\u001B[0m \u001B[38;5;28;01mexcept\u001B[39;00m \u001B[38;5;167;01mKeyError\u001B[39;00m \u001B[38;5;28;01mas\u001B[39;00m err:\n",
      "File \u001B[0;32m~/miniforge3/envs/myenv/lib/python3.10/site-packages/pandas/_libs/index.pyx:136\u001B[0m, in \u001B[0;36mpandas._libs.index.IndexEngine.get_loc\u001B[0;34m()\u001B[0m\n",
      "File \u001B[0;32m~/miniforge3/envs/myenv/lib/python3.10/site-packages/pandas/_libs/index.pyx:163\u001B[0m, in \u001B[0;36mpandas._libs.index.IndexEngine.get_loc\u001B[0;34m()\u001B[0m\n",
      "File \u001B[0;32mpandas/_libs/hashtable_class_helper.pxi:5198\u001B[0m, in \u001B[0;36mpandas._libs.hashtable.PyObjectHashTable.get_item\u001B[0;34m()\u001B[0m\n",
      "File \u001B[0;32mpandas/_libs/hashtable_class_helper.pxi:5206\u001B[0m, in \u001B[0;36mpandas._libs.hashtable.PyObjectHashTable.get_item\u001B[0;34m()\u001B[0m\n",
      "\u001B[0;31mKeyError\u001B[0m: 'sum'",
      "\nThe above exception was the direct cause of the following exception:\n",
      "\u001B[0;31mKeyError\u001B[0m                                  Traceback (most recent call last)",
      "Cell \u001B[0;32mIn [28], line 1\u001B[0m\n\u001B[0;32m----> 1\u001B[0m chi_weight \u001B[38;5;241m=\u001B[39m np\u001B[38;5;241m.\u001B[39marray (\u001B[43mchi_sqare_table\u001B[49m\u001B[43m[\u001B[49m\u001B[38;5;124;43m'\u001B[39;49m\u001B[38;5;124;43msum\u001B[39;49m\u001B[38;5;124;43m'\u001B[39;49m\u001B[43m]\u001B[49m)\n\u001B[1;32m      2\u001B[0m weighted_selected_feat \u001B[38;5;241m=\u001B[39m np\u001B[38;5;241m.\u001B[39marray(\n\u001B[1;32m      3\u001B[0m     generate_chi_sqare_weighted_features(selected_feat_array, chi_weight))\n",
      "File \u001B[0;32m~/miniforge3/envs/myenv/lib/python3.10/site-packages/pandas/core/frame.py:3505\u001B[0m, in \u001B[0;36mDataFrame.__getitem__\u001B[0;34m(self, key)\u001B[0m\n\u001B[1;32m   3503\u001B[0m \u001B[38;5;28;01mif\u001B[39;00m \u001B[38;5;28mself\u001B[39m\u001B[38;5;241m.\u001B[39mcolumns\u001B[38;5;241m.\u001B[39mnlevels \u001B[38;5;241m>\u001B[39m \u001B[38;5;241m1\u001B[39m:\n\u001B[1;32m   3504\u001B[0m     \u001B[38;5;28;01mreturn\u001B[39;00m \u001B[38;5;28mself\u001B[39m\u001B[38;5;241m.\u001B[39m_getitem_multilevel(key)\n\u001B[0;32m-> 3505\u001B[0m indexer \u001B[38;5;241m=\u001B[39m \u001B[38;5;28;43mself\u001B[39;49m\u001B[38;5;241;43m.\u001B[39;49m\u001B[43mcolumns\u001B[49m\u001B[38;5;241;43m.\u001B[39;49m\u001B[43mget_loc\u001B[49m\u001B[43m(\u001B[49m\u001B[43mkey\u001B[49m\u001B[43m)\u001B[49m\n\u001B[1;32m   3506\u001B[0m \u001B[38;5;28;01mif\u001B[39;00m is_integer(indexer):\n\u001B[1;32m   3507\u001B[0m     indexer \u001B[38;5;241m=\u001B[39m [indexer]\n",
      "File \u001B[0;32m~/miniforge3/envs/myenv/lib/python3.10/site-packages/pandas/core/indexes/base.py:3631\u001B[0m, in \u001B[0;36mIndex.get_loc\u001B[0;34m(self, key, method, tolerance)\u001B[0m\n\u001B[1;32m   3629\u001B[0m     \u001B[38;5;28;01mreturn\u001B[39;00m \u001B[38;5;28mself\u001B[39m\u001B[38;5;241m.\u001B[39m_engine\u001B[38;5;241m.\u001B[39mget_loc(casted_key)\n\u001B[1;32m   3630\u001B[0m \u001B[38;5;28;01mexcept\u001B[39;00m \u001B[38;5;167;01mKeyError\u001B[39;00m \u001B[38;5;28;01mas\u001B[39;00m err:\n\u001B[0;32m-> 3631\u001B[0m     \u001B[38;5;28;01mraise\u001B[39;00m \u001B[38;5;167;01mKeyError\u001B[39;00m(key) \u001B[38;5;28;01mfrom\u001B[39;00m \u001B[38;5;21;01merr\u001B[39;00m\n\u001B[1;32m   3632\u001B[0m \u001B[38;5;28;01mexcept\u001B[39;00m \u001B[38;5;167;01mTypeError\u001B[39;00m:\n\u001B[1;32m   3633\u001B[0m     \u001B[38;5;66;03m# If we have a listlike key, _check_indexing_error will raise\u001B[39;00m\n\u001B[1;32m   3634\u001B[0m     \u001B[38;5;66;03m#  InvalidIndexError. Otherwise we fall through and re-raise\u001B[39;00m\n\u001B[1;32m   3635\u001B[0m     \u001B[38;5;66;03m#  the TypeError.\u001B[39;00m\n\u001B[1;32m   3636\u001B[0m     \u001B[38;5;28mself\u001B[39m\u001B[38;5;241m.\u001B[39m_check_indexing_error(key)\n",
      "\u001B[0;31mKeyError\u001B[0m: 'sum'"
     ]
    }
   ],
   "source": [
    "chi_weight = np.array (chi_sqare_table['sum'])\n",
    "weighted_selected_feat = np.array(\n",
    "    generate_chi_sqare_weighted_features(selected_feat_array, chi_weight))"
   ]
  },
  {
   "cell_type": "code",
   "execution_count": 29,
   "metadata": {
    "pycharm": {
     "name": "#%%\n"
    }
   },
   "outputs": [
    {
     "data": {
      "text/plain": "Empty DataFrame\nColumns: []\nIndex: []",
      "text/html": "<div>\n<style scoped>\n    .dataframe tbody tr th:only-of-type {\n        vertical-align: middle;\n    }\n\n    .dataframe tbody tr th {\n        vertical-align: top;\n    }\n\n    .dataframe thead th {\n        text-align: right;\n    }\n</style>\n<table border=\"1\" class=\"dataframe\">\n  <thead>\n    <tr style=\"text-align: right;\">\n      <th></th>\n    </tr>\n  </thead>\n  <tbody>\n  </tbody>\n</table>\n</div>"
     },
     "execution_count": 29,
     "metadata": {},
     "output_type": "execute_result"
    }
   ],
   "source": [
    "chi_sqare_table"
   ]
  },
  {
   "cell_type": "code",
   "execution_count": 30,
   "metadata": {
    "execution": {
     "iopub.execute_input": "2022-09-07T20:35:08.730859Z",
     "iopub.status.busy": "2022-09-07T20:35:08.730451Z",
     "iopub.status.idle": "2022-09-07T20:35:09.146317Z",
     "shell.execute_reply": "2022-09-07T20:35:09.144958Z",
     "shell.execute_reply.started": "2022-09-07T20:35:08.730821Z"
    },
    "pycharm": {
     "name": "#%%\n"
    }
   },
   "outputs": [
    {
     "ename": "NameError",
     "evalue": "name 'test_sentiment' is not defined",
     "output_type": "error",
     "traceback": [
      "\u001B[0;31m---------------------------------------------------------------------------\u001B[0m",
      "\u001B[0;31mNameError\u001B[0m                                 Traceback (most recent call last)",
      "Cell \u001B[0;32mIn [30], line 1\u001B[0m\n\u001B[0;32m----> 1\u001B[0m test_sentiments_array \u001B[38;5;241m=\u001B[39m np\u001B[38;5;241m.\u001B[39marray(\u001B[43mtest_sentiment\u001B[49m)\n\u001B[1;32m      2\u001B[0m train_sentiments_array \u001B[38;5;241m=\u001B[39m np\u001B[38;5;241m.\u001B[39marray(train_sentiment)\n\u001B[1;32m      3\u001B[0m \u001B[38;5;66;03m# chi_sqare_table['max_chi_value'] = find_max_chi_val(chi_sqare_table['positiev_sentiments'], chi_sqare_table['negatiev_sentiments'])\u001B[39;00m\n",
      "\u001B[0;31mNameError\u001B[0m: name 'test_sentiment' is not defined"
     ]
    }
   ],
   "source": [
    "test_sentiments_array = np.array(test_sentiment)\n",
    "train_sentiments_array = np.array(train_sentiment)\n",
    "# chi_sqare_table['max_chi_value'] = find_max_chi_val(chi_sqare_table['positiev_sentiments'], chi_sqare_table['negatiev_sentiments'])\n",
    "weighted_test_feat = weight_unlabled_data( selected_test_array, chi_weight)\n",
    "max_neighbour =np.sqrt(int(len(weighted_selected_feat)))\n",
    "max_neighbour = np.ceil(max_neighbour)"
   ]
  },
  {
   "cell_type": "code",
   "execution_count": 31,
   "outputs": [],
   "source": [
    "from sklearn.decomposition import TruncatedSVD\n",
    "truncated_svd = TruncatedSVD(n_components=2)\n",
    "new_feat_train = truncated_svd.fit_transform(weighted_test_feat, train_sentiments_array)\n",
    "feat_test = truncated_svd.transform(weighted_test_feat)"
   ],
   "metadata": {
    "collapsed": false,
    "pycharm": {
     "name": "#%%\n"
    }
   }
  },
  {
   "cell_type": "code",
   "execution_count": 613,
   "metadata": {
    "execution": {
     "iopub.execute_input": "2022-09-07T19:26:40.510262Z",
     "iopub.status.busy": "2022-09-07T19:26:40.509802Z",
     "iopub.status.idle": "2022-09-07T19:26:59.865850Z",
     "shell.execute_reply": "2022-09-07T19:26:59.864554Z",
     "shell.execute_reply.started": "2022-09-07T19:26:40.510225Z"
    },
    "pycharm": {
     "name": "#%%\n"
    }
   },
   "outputs": [
    {
     "name": "stdout",
     "output_type": "stream",
     "text": [
      "3\n",
      "0.794074074074074\n",
      "4\n",
      "0.8051851851851852\n",
      "5\n",
      "0.807037037037037\n",
      "6\n",
      "0.8085185185185185\n",
      "7\n",
      "0.8107407407407408\n",
      "8\n",
      "0.81\n",
      "9\n",
      "0.8122222222222222\n",
      "10\n",
      "0.8144444444444444\n",
      "11\n",
      "0.8196296296296296\n",
      "12\n",
      "0.8203703703703704\n",
      "13\n",
      "0.8222222222222222\n",
      "14\n",
      "0.8214814814814815\n",
      "15\n",
      "0.8225925925925925\n",
      "16\n",
      "0.8218518518518518\n",
      "17\n",
      "0.8211111111111111\n",
      "18\n",
      "0.8218518518518518\n",
      "19\n",
      "0.8192592592592592\n",
      "20\n",
      "0.8225925925925925\n",
      "21\n",
      "0.8177777777777778\n",
      "22\n",
      "0.8188888888888889\n",
      "23\n",
      "0.817037037037037\n",
      "24\n",
      "0.8185185185185185\n",
      "25\n",
      "0.8185185185185185\n",
      "26\n",
      "0.817037037037037\n",
      "27\n",
      "0.8166666666666667\n",
      "28\n",
      "0.8192592592592592\n",
      "29\n",
      "0.8162962962962963\n",
      "30\n",
      "0.8181481481481482\n",
      "31\n",
      "0.817037037037037\n",
      "32\n",
      "0.8181481481481482\n",
      "33\n",
      "0.8159259259259259\n",
      "34\n",
      "0.8166666666666667\n",
      "35\n",
      "0.8177777777777778\n",
      "36\n",
      "0.8188888888888889\n",
      "37\n",
      "0.8203703703703704\n",
      "38\n",
      "0.8174074074074074\n",
      "39\n",
      "0.82\n",
      "40\n",
      "0.8174074074074074\n",
      "41\n",
      "0.8166666666666667\n",
      "42\n",
      "0.8162962962962963\n",
      "43\n",
      "0.8155555555555556\n",
      "44\n",
      "0.8155555555555556\n",
      "45\n",
      "0.8155555555555556\n",
      "46\n",
      "0.8144444444444444\n",
      "47\n",
      "0.8155555555555556\n",
      "48\n",
      "0.8148148148148148\n",
      "49\n",
      "0.8140740740740741\n",
      "50\n",
      "0.8140740740740741\n",
      "51\n",
      "0.8125925925925926\n",
      "52\n",
      "0.8144444444444444\n",
      "53\n",
      "0.8133333333333334\n",
      "54\n",
      "0.8133333333333334\n",
      "55\n",
      "0.812962962962963\n",
      "56\n",
      "0.8137037037037037\n",
      "57\n",
      "0.8125925925925926\n",
      "58\n",
      "0.8137037037037037\n",
      "59\n",
      "0.8140740740740741\n"
     ]
    }
   ],
   "source": [
    "from sklearn.neighbors import KNeighborsClassifier\n",
    "from sklearn import metrics\n",
    "track_precision=[]\n",
    "error = []\n",
    "maxi_k = -1\n",
    "curr_socre=0\n",
    "classifer_saved = KNeighborsClassifier()\n",
    "for i in range(3,60):\n",
    "    print(i)\n",
    "    classifer = KNeighborsClassifier(n_neighbors=i,n_jobs=3,weights='distance')\n",
    "    classifer.fit(weighted_selected_feat, train_sentiments_array)\n",
    "    sentiments_predict = classifer.predict(weighted_test_feat)\n",
    "    score = metrics.accuracy_score(test_sentiments_array,sentiments_predict)\n",
    "    print(score)\n",
    "    track_precision.append(score)\n",
    "    error.append(1-score)\n",
    "    if score>curr_socre:\n",
    "        curr_socre = score\n",
    "        maxi_k = i\n",
    "        classifer_saved = classifer"
   ]
  },
  {
   "cell_type": "code",
   "execution_count": 614,
   "metadata": {
    "pycharm": {
     "name": "#%%\n"
    }
   },
   "outputs": [
    {
     "data": {
      "text/plain": "(0.8225925925925925, 15)"
     },
     "execution_count": 614,
     "metadata": {},
     "output_type": "execute_result"
    }
   ],
   "source": [
    "curr_socre, maxi_k"
   ]
  },
  {
   "cell_type": "code",
   "execution_count": 615,
   "metadata": {
    "pycharm": {
     "name": "#%%\n"
    }
   },
   "outputs": [],
   "source": [
    "# from sklearn.metrics.pairwise import euclidean_distances\n",
    "# def calculate_uclidien_distance(train_data, test_data):\n",
    "#     print(\"calculate_uclidien_distance in\")\n",
    "#     uc_distance = euclidean_distances([train_data],[test_data])\n",
    "#     print(\"calculate_uclidien_distance out\")\n",
    "#     return 1/((np.sqrt(uc_distance))**2)        "
   ]
  },
  {
   "cell_type": "code",
   "execution_count": 498,
   "metadata": {
    "pycharm": {
     "name": "#%%\n"
    }
   },
   "outputs": [
    {
     "data": {
      "text/plain": "[<matplotlib.lines.Line2D at 0x2fbd800a0>]"
     },
     "execution_count": 498,
     "metadata": {},
     "output_type": "execute_result"
    },
    {
     "data": {
      "text/plain": "<Figure size 640x480 with 1 Axes>",
      "image/png": "[encoded data removed]"
     },
     "metadata": {},
     "output_type": "display_data"
    }
   ],
   "source": [
    "plt.plot(range(3,60),track_precision)"
   ]
  },
  {
   "cell_type": "code",
   "execution_count": null,
   "metadata": {
    "pycharm": {
     "name": "#%%\n"
    }
   },
   "outputs": [],
   "source": [
    "# df = pd.DataFrame(weighted_selected_feat)"
   ]
  },
  {
   "cell_type": "code",
   "execution_count": null,
   "metadata": {
    "pycharm": {
     "name": "#%%\n"
    }
   },
   "outputs": [],
   "source": [
    "def calculate_neighbour(train_data, test_data, K):\n",
    "    \n",
    "    numpy_distances = np.array(euclidean_distances(train_data,[test_data]).flatten())\n",
    "    inv_distance = []\n",
    "        \n",
    "    indexes_by_shortest_dist = numpy_distances.argsort()   \n",
    "    \n",
    "    return indexes_by_shortest_dist"
   ]
  },
  {
   "cell_type": "code",
   "execution_count": null,
   "metadata": {
    "pycharm": {
     "name": "#%%\n"
    }
   },
   "outputs": [],
   "source": [
    "def find_majority_and_predict(train_data, test_data, train_sentiments, K):\n",
    "    \n",
    "    nearest_neighbors_indexes = calculate_neighbour(train_data, test_data, K)\n",
    "    sentiment_classes = []\n",
    "    \n",
    "    for i in nearest_neighbors_indexes:\n",
    "        sentiment_classes.append(train_sentiments[i])\n",
    "        \n",
    "    return max(sentiment_classes, key=sentiment_classes.count)"
   ]
  },
  {
   "cell_type": "code",
   "execution_count": null,
   "metadata": {
    "pycharm": {
     "name": "#%%\n"
    }
   },
   "outputs": [],
   "source": [
    "predicted_sentiments = []\n",
    "print(len(weighted_test_feat))\n",
    "for i in range(0,len(weighted_test_feat)):\n",
    "    print(i)\n",
    "    predicted_sentiments.append(find_majority_and_predict(weighted_selected_feat,weighted_test_feat[i], train_sentiments_array, 24))\n",
    "    "
   ]
  },
  {
   "cell_type": "code",
   "execution_count": null,
   "metadata": {
    "execution": {
     "iopub.status.busy": "2022-09-07T21:57:54.970066Z",
     "iopub.status.idle": "2022-09-07T21:57:54.971113Z",
     "shell.execute_reply": "2022-09-07T21:57:54.970892Z",
     "shell.execute_reply.started": "2022-09-07T21:57:54.970867Z"
    },
    "pycharm": {
     "name": "#%%\n"
    }
   },
   "outputs": [],
   "source": [
    "def find_accuracy(predicted_sentiment, real_sentiment):\n",
    "    correct_prediction = 0\n",
    "    for i in range(0,len(predicted_sentiments)):\n",
    "        if predicted_sentiment[i] == real_sentiment[i]:\n",
    "            correct_prediction += 1\n",
    "    return np.divide(correct_prediction, len(predicted_sentiment))"
   ]
  },
  {
   "cell_type": "code",
   "execution_count": null,
   "metadata": {
    "execution": {
     "iopub.status.busy": "2022-09-07T21:57:54.972155Z",
     "iopub.status.idle": "2022-09-07T21:57:54.972788Z",
     "shell.execute_reply": "2022-09-07T21:57:54.972584Z",
     "shell.execute_reply.started": "2022-09-07T21:57:54.972562Z"
    },
    "pycharm": {
     "name": "#%%\n"
    }
   },
   "outputs": [],
   "source": [
    "find_accuracy(predicted_sentiments,test_sentiments_array)"
   ]
  },
  {
   "cell_type": "code",
   "execution_count": 290,
   "metadata": {
    "execution": {
     "iopub.execute_input": "2022-09-07T19:01:57.203031Z",
     "iopub.status.busy": "2022-09-07T19:01:57.202604Z",
     "iopub.status.idle": "2022-09-07T19:03:55.374238Z",
     "shell.execute_reply": "2022-09-07T19:03:55.373068Z",
     "shell.execute_reply.started": "2022-09-07T19:01:57.202997Z"
    },
    "pycharm": {
     "name": "#%%\n"
    }
   },
   "outputs": [],
   "source": [
    "result_test_df = pd.read_csv('1661892619_9579706_test_file.csv', names=['reviews'])\n",
    "basic_cleaning(result_test_df)\n",
    "tokenize_data(result_test_df)\n",
    "result_test_df['stop_words_cleaned'] = result_test_df.words.apply(lambda word_list: remove_stopwords(word_list))\n",
    "result_test_df['lemma_word'] = result_test_df.stop_words_cleaned.apply(lambda word_list: find_lemma_word(word_list))\n",
    "result_test_df['cleaned_review'] = result_test_df.lemma_word.apply(lambda review_list: \" \".join(review_list))\n",
    "unlabeled_test_feat_matrix = selected_tf_vectorizer.transform(result_test_df['cleaned_review']).toarray()"
   ]
  },
  {
   "cell_type": "code",
   "execution_count": null,
   "metadata": {
    "pycharm": {
     "name": "#%%\n"
    }
   },
   "outputs": [],
   "source": []
  },
  {
   "cell_type": "code",
   "execution_count": null,
   "metadata": {
    "execution": {
     "iopub.execute_input": "2022-09-07T19:04:25.997085Z",
     "iopub.status.busy": "2022-09-07T19:04:25.996619Z",
     "iopub.status.idle": "2022-09-07T19:04:26.005479Z",
     "shell.execute_reply": "2022-09-07T19:04:26.004136Z",
     "shell.execute_reply.started": "2022-09-07T19:04:25.997041Z"
    },
    "pycharm": {
     "name": "#%%\n"
    }
   },
   "outputs": [],
   "source": [
    "unlabeled_test_feat_matrix.shape"
   ]
  },
  {
   "cell_type": "code",
   "execution_count": null,
   "metadata": {
    "execution": {
     "iopub.execute_input": "2022-09-07T19:04:28.022167Z",
     "iopub.status.busy": "2022-09-07T19:04:28.021724Z",
     "iopub.status.idle": "2022-09-07T19:04:28.029780Z",
     "shell.execute_reply": "2022-09-07T19:04:28.028622Z",
     "shell.execute_reply.started": "2022-09-07T19:04:28.022131Z"
    },
    "pycharm": {
     "name": "#%%\n"
    }
   },
   "outputs": [],
   "source": [
    "# def find_max_chi_val(a,b):\n",
    "#     max_chi = []\n",
    "#     x = np.array(a)\n",
    "#     y = np.array(b)\n",
    "#     for i in range(0, len(x)):\n",
    "#         max_chi.append(max(x[i],y[i]))\n",
    "#     return np.array(max_chi)"
   ]
  },
  {
   "cell_type": "code",
   "execution_count": 291,
   "metadata": {
    "execution": {
     "iopub.execute_input": "2022-09-07T19:04:30.406942Z",
     "iopub.status.busy": "2022-09-07T19:04:30.406524Z",
     "iopub.status.idle": "2022-09-07T19:04:30.423643Z",
     "shell.execute_reply": "2022-09-07T19:04:30.422467Z",
     "shell.execute_reply.started": "2022-09-07T19:04:30.406904Z"
    },
    "pycharm": {
     "name": "#%%\n"
    }
   },
   "outputs": [
    {
     "data": {
      "text/plain": "     positiev_sentiments  negatiev_sentiments         sum\n0             100.987511            93.001330  193.988842\n1              94.951223            87.442397  182.393620\n2              42.049707            38.724379   80.774086\n3              40.112482            36.940352   77.052834\n4              15.777274            14.529594   30.306868\n..                   ...                  ...         ...\n105            52.167794            48.042319  100.210113\n106            20.704853            19.067495   39.772348\n107            23.487752            21.630320   45.118072\n108            20.752573            19.111442   39.864015\n109            38.821926            35.751854   74.573780\n\n[110 rows x 3 columns]",
      "text/html": "<div>\n<style scoped>\n    .dataframe tbody tr th:only-of-type {\n        vertical-align: middle;\n    }\n\n    .dataframe tbody tr th {\n        vertical-align: top;\n    }\n\n    .dataframe thead th {\n        text-align: right;\n    }\n</style>\n<table border=\"1\" class=\"dataframe\">\n  <thead>\n    <tr style=\"text-align: right;\">\n      <th></th>\n      <th>positiev_sentiments</th>\n      <th>negatiev_sentiments</th>\n      <th>sum</th>\n    </tr>\n  </thead>\n  <tbody>\n    <tr>\n      <th>0</th>\n      <td>100.987511</td>\n      <td>93.001330</td>\n      <td>193.988842</td>\n    </tr>\n    <tr>\n      <th>1</th>\n      <td>94.951223</td>\n      <td>87.442397</td>\n      <td>182.393620</td>\n    </tr>\n    <tr>\n      <th>2</th>\n      <td>42.049707</td>\n      <td>38.724379</td>\n      <td>80.774086</td>\n    </tr>\n    <tr>\n      <th>3</th>\n      <td>40.112482</td>\n      <td>36.940352</td>\n      <td>77.052834</td>\n    </tr>\n    <tr>\n      <th>4</th>\n      <td>15.777274</td>\n      <td>14.529594</td>\n      <td>30.306868</td>\n    </tr>\n    <tr>\n      <th>...</th>\n      <td>...</td>\n      <td>...</td>\n      <td>...</td>\n    </tr>\n    <tr>\n      <th>105</th>\n      <td>52.167794</td>\n      <td>48.042319</td>\n      <td>100.210113</td>\n    </tr>\n    <tr>\n      <th>106</th>\n      <td>20.704853</td>\n      <td>19.067495</td>\n      <td>39.772348</td>\n    </tr>\n    <tr>\n      <th>107</th>\n      <td>23.487752</td>\n      <td>21.630320</td>\n      <td>45.118072</td>\n    </tr>\n    <tr>\n      <th>108</th>\n      <td>20.752573</td>\n      <td>19.111442</td>\n      <td>39.864015</td>\n    </tr>\n    <tr>\n      <th>109</th>\n      <td>38.821926</td>\n      <td>35.751854</td>\n      <td>74.573780</td>\n    </tr>\n  </tbody>\n</table>\n<p>110 rows × 3 columns</p>\n</div>"
     },
     "execution_count": 291,
     "metadata": {},
     "output_type": "execute_result"
    }
   ],
   "source": [
    "# chi_sqare_table['max_chi_value'] = find_max_chi_val(chi_sqare_table['positiev_sentiments'], chi_sqare_table['negatiev_sentiments'])\n",
    "chi_sqare_table"
   ]
  },
  {
   "cell_type": "code",
   "execution_count": 292,
   "metadata": {
    "execution": {
     "iopub.execute_input": "2022-09-07T19:04:33.170388Z",
     "iopub.status.busy": "2022-09-07T19:04:33.169949Z",
     "iopub.status.idle": "2022-09-07T19:04:33.175903Z",
     "shell.execute_reply": "2022-09-07T19:04:33.174902Z",
     "shell.execute_reply.started": "2022-09-07T19:04:33.170337Z"
    },
    "pycharm": {
     "name": "#%%\n"
    }
   },
   "outputs": [],
   "source": [
    "def weight_unlabled_data(features, max_chi_val):\n",
    "    weighted_data = []\n",
    "    for i in range(0,len(features)):\n",
    "        weighted_data.append(np.multiply(features[i], max_chi_val))\n",
    "    return np.array(weighted_data)"
   ]
  },
  {
   "cell_type": "code",
   "execution_count": 293,
   "metadata": {
    "execution": {
     "iopub.execute_input": "2022-09-07T19:04:33.636245Z",
     "iopub.status.busy": "2022-09-07T19:04:33.634928Z",
     "iopub.status.idle": "2022-09-07T19:04:46.405924Z",
     "shell.execute_reply": "2022-09-07T19:04:46.404674Z",
     "shell.execute_reply.started": "2022-09-07T19:04:33.636181Z"
    },
    "pycharm": {
     "name": "#%%\n"
    }
   },
   "outputs": [],
   "source": [
    "unlabled_weighted_data = weight_unlabled_data(unlabeled_test_feat_matrix, chi_sqare_table['sum'])"
   ]
  },
  {
   "cell_type": "code",
   "execution_count": 294,
   "metadata": {
    "execution": {
     "iopub.execute_input": "2022-09-07T19:05:04.064425Z",
     "iopub.status.busy": "2022-09-07T19:05:04.063941Z",
     "iopub.status.idle": "2022-09-07T19:05:04.073816Z",
     "shell.execute_reply": "2022-09-07T19:05:04.072465Z",
     "shell.execute_reply.started": "2022-09-07T19:05:04.064384Z"
    },
    "pycharm": {
     "name": "#%%\n"
    }
   },
   "outputs": [
    {
     "data": {
      "text/plain": "(18000, 110)"
     },
     "execution_count": 294,
     "metadata": {},
     "output_type": "execute_result"
    }
   ],
   "source": [
    "unlabled_weighted_data.shape"
   ]
  },
  {
   "cell_type": "code",
   "execution_count": 295,
   "metadata": {
    "pycharm": {
     "name": "#%%\n"
    }
   },
   "outputs": [
    {
     "name": "stdout",
     "output_type": "stream",
     "text": [
      "18000\n",
      "0\n"
     ]
    },
    {
     "ename": "NameError",
     "evalue": "name 'find_majority_and_predict' is not defined",
     "output_type": "error",
     "traceback": [
      "\u001B[0;31m---------------------------------------------------------------------------\u001B[0m",
      "\u001B[0;31mNameError\u001B[0m                                 Traceback (most recent call last)",
      "Cell \u001B[0;32mIn [295], line 5\u001B[0m\n\u001B[1;32m      3\u001B[0m \u001B[38;5;28;01mfor\u001B[39;00m i \u001B[38;5;129;01min\u001B[39;00m \u001B[38;5;28mrange\u001B[39m(\u001B[38;5;241m0\u001B[39m,\u001B[38;5;28mlen\u001B[39m(unlabled_weighted_data)):\n\u001B[1;32m      4\u001B[0m     \u001B[38;5;28mprint\u001B[39m(i)\n\u001B[0;32m----> 5\u001B[0m     predicted_sentiments\u001B[38;5;241m.\u001B[39mappend(\u001B[43mfind_majority_and_predict\u001B[49m(weighted_selected_feat,unlabled_weighted_data[i], train_sentiments_array, \u001B[38;5;241m24\u001B[39m))\n",
      "\u001B[0;31mNameError\u001B[0m: name 'find_majority_and_predict' is not defined"
     ]
    }
   ],
   "source": [
    "predicted_sentiments = []\n",
    "print(len(unlabled_weighted_data))\n",
    "for i in range(0,len(unlabled_weighted_data)):\n",
    "    print(i)\n",
    "    predicted_sentiments.append(find_majority_and_predict(weighted_selected_feat,unlabled_weighted_data[i], train_sentiments_array, 24))\n",
    "    "
   ]
  },
  {
   "cell_type": "code",
   "execution_count": 296,
   "metadata": {
    "execution": {
     "iopub.execute_input": "2022-09-07T19:05:09.049923Z",
     "iopub.status.busy": "2022-09-07T19:05:09.049446Z",
     "iopub.status.idle": "2022-09-07T19:08:13.860420Z",
     "shell.execute_reply": "2022-09-07T19:08:13.859136Z",
     "shell.execute_reply.started": "2022-09-07T19:05:09.049820Z"
    },
    "pycharm": {
     "name": "#%%\n"
    }
   },
   "outputs": [],
   "source": [
    "predicted_values = classifer_saved.predict(unlabled_weighted_data)"
   ]
  },
  {
   "cell_type": "code",
   "execution_count": 297,
   "metadata": {
    "pycharm": {
     "name": "#%%\n"
    }
   },
   "outputs": [
    {
     "data": {
      "text/plain": "(18000,)"
     },
     "execution_count": 297,
     "metadata": {},
     "output_type": "execute_result"
    }
   ],
   "source": [
    "predicted_values.shape"
   ]
  },
  {
   "cell_type": "code",
   "execution_count": 298,
   "metadata": {
    "execution": {
     "iopub.execute_input": "2022-09-07T19:09:46.720923Z",
     "iopub.status.busy": "2022-09-07T19:09:46.720426Z",
     "iopub.status.idle": "2022-09-07T19:09:46.745897Z",
     "shell.execute_reply": "2022-09-07T19:09:46.744737Z",
     "shell.execute_reply.started": "2022-09-07T19:09:46.720883Z"
    },
    "pycharm": {
     "name": "#%%\n"
    }
   },
   "outputs": [],
   "source": [
    "import csv\n",
    "outfile = open('./results.csv','w')\n",
    "out = csv.writer(outfile)\n",
    "out.writerows(map(lambda x: [x], predicted_values))\n",
    "outfile.close()"
   ]
  },
  {
   "cell_type": "code",
   "execution_count": 299,
   "metadata": {
    "pycharm": {
     "name": "#%%\n"
    }
   },
   "outputs": [
    {
     "data": {
      "text/plain": "0.01"
     },
     "execution_count": 299,
     "metadata": {},
     "output_type": "execute_result"
    }
   ],
   "source": [
    "1/(10**2)"
   ]
  },
  {
   "cell_type": "code",
   "execution_count": null,
   "metadata": {
    "pycharm": {
     "name": "#%%\n"
    }
   },
   "outputs": [],
   "source": []
  }
 ],
 "metadata": {
  "kernelspec": {
   "display_name": "Python 3 (ipykernel)",
   "language": "python",
   "name": "python3"
  },
  "language_info": {
   "codemirror_mode": {
    "name": "ipython",
    "version": 3
   },
   "file_extension": ".py",
   "mimetype": "text/x-python",
   "name": "python",
   "nbconvert_exporter": "python",
   "pygments_lexer": "ipython3",
   "version": "3.10.6"
  }
 },
 "nbformat": 4,
 "nbformat_minor": 4
}